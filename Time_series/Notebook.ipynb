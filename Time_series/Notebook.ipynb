{
 "cells": [
  {
   "cell_type": "markdown",
   "metadata": {},
   "source": [
    "## Описание проекта"
   ]
  },
  {
   "cell_type": "markdown",
   "metadata": {},
   "source": [
    "### 🎯 Задача\n",
    "\n",
    "Построить модель, способную прогнозировать количество заказов такси на следующий час.\n",
    "\n",
    "> 📌 Целевая метрика: **RMSE**  \n",
    "> 🎯 Требование: значение **RMSE** на тестовой выборке должно быть **не больше 48**.\n",
    "\n",
    "Исходные данные находятся в файле `taxi.csv`.  \n",
    "Целевой признак — `num_orders` (*number of orders*, «число заказов»).\n",
    "\n",
    "---\n",
    "\n",
    "### 📚 Содержание\n",
    "\n",
    "#### Подготовка\n",
    "- 1.1 Чтение данных\n",
    "- 1.2 Выводы по разделу\n",
    "\n",
    "#### Анализ\n",
    "- 2.1 Обзор данных\n",
    "- 2.2 Выводы по разделу\n",
    "\n",
    "#### Обучение\n",
    "- 3.1 Создание новых признаков\n",
    "- 3.2 Подготовка данных\n",
    "- 3.3 Обучение моделей\n",
    "  - 3.3.1 Дамми-модель\n",
    "  - 3.3.2 Линейные модели\n",
    "  - 3.3.3 Бустинговые модели\n",
    "  - 3.3.4 Нейронная сеть\n",
    "  - 3.3.5 Анализ остатков лучшей модели\n",
    "  - 3.3.6 Обучение модели на данных с лагами\n",
    "- 3.4 Выводы по разделу\n",
    "\n",
    "#### Тестирование\n",
    "- 4.1 Инференс\n",
    "- 4.2 Выводы по разделу\n",
    "\n",
    "---\n",
    "\n",
    "### 🧾 Итоговый вывод\n",
    "\n",
    "В ходе проекта была успешно решена задача прогнозирования количества заказов такси на следующий час.\n",
    "\n",
    "---\n",
    "\n",
    "#### 📌 Ключевые итоги:\n",
    "\n",
    "- Проведен **анализ временного ряда**, выявлены:\n",
    "  - Явный **тренд** (рост количества заказов со временем)\n",
    "  - Четкая **суточная и недельная сезонность**\n",
    "  - Признаки **нестационарности** и **автокорреляции**\n",
    "\n",
    "- Проведено **обучение моделей** в два этапа:\n",
    "  1. На данных с календарными признаками  \n",
    "  2. С добавлением **лаговых признаков**, обоснованных анализом автокорреляции\n",
    "\n",
    "- Использованы и сравнены различные модели:\n",
    "  - 📉 **Линейные модели** (Linear, Ridge, Lasso, ElasticNet)\n",
    "  - 🌳 **Бустинг** (LightGBM)\n",
    "  - 🧠 **Нейронная сеть**\n",
    "  - 🎲 **Дамми модель** — как отправная точка\n",
    "\n",
    "- **ElasticNet** на лаговых признаках показала наилучшее качество:\n",
    "  - ✅ **RMSE на валидации: ~21.35**\n",
    "  - ✅ **RMSE на тесте: 35**\n",
    "  - Обе метрики значительно лучше порогового значения **48**\n",
    "\n",
    "---\n",
    "\n",
    "#### ✅ Цель проекта достигнута:\n",
    "\n",
    "Модель успешно предсказывает спрос на такси с ошибкой **RMSE < 48**.  \n",
    "Лучшая модель — **ElasticNet с лаговыми признаками** — не только точна, но и интерпретируема.\n",
    "\n",
    "---\n",
    "\n",
    "#### 📌 Возможные улучшения:\n",
    "\n",
    "- Учёт погодных условий, праздников и мероприятий\n",
    "- Учет внешних факторов (например, пробки, стоимость поездки)\n",
    "- Более глубокий анализ выбросов и гетероскедастичности\n",
    "- Расширение и регулярное обновление данных"
   ]
  },
  {
   "cell_type": "markdown",
   "metadata": {},
   "source": [
    "##  Импорт бибилиотек"
   ]
  },
  {
   "cell_type": "code",
   "execution_count": 1,
   "metadata": {},
   "outputs": [],
   "source": [
    "#!pip install -U scikit-learn -q"
   ]
  },
  {
   "cell_type": "code",
   "execution_count": 2,
   "metadata": {
    "scrolled": true
   },
   "outputs": [],
   "source": [
    "import pandas as pd\n",
    "import numpy as np\n",
    "import time\n",
    "import random\n",
    "import matplotlib.pyplot as plt\n",
    "import seaborn as sns\n",
    "import statsmodels.api as sm\n",
    "\n",
    "from statsmodels.tsa.seasonal import seasonal_decompose\n",
    "from statsmodels.graphics.tsaplots import plot_acf, plot_pacf\n",
    "\n",
    "from sklearn.pipeline import Pipeline\n",
    "from sklearn.compose import ColumnTransformer\n",
    "\n",
    "from sklearn.model_selection import (\n",
    "    train_test_split,\n",
    "    RandomizedSearchCV\n",
    ")\n",
    "from sklearn.model_selection import TimeSeriesSplit\n",
    "\n",
    "from sklearn.preprocessing import (\n",
    "    OneHotEncoder,\n",
    "    OrdinalEncoder,\n",
    "    StandardScaler,\n",
    "    MinMaxScaler,\n",
    "    RobustScaler\n",
    ")\n",
    "\n",
    "from sklearn.dummy import DummyRegressor\n",
    "from sklearn.linear_model import (\n",
    "    LinearRegression, \n",
    "    Ridge, \n",
    "    Lasso,\n",
    "    ElasticNet\n",
    ")\n",
    "from catboost import CatBoostClassifier\n",
    "from lightgbm import LGBMClassifier\n",
    "import torch \n",
    "import torch.nn as nn\n",
    "\n",
    "\n",
    "from math import ceil\n",
    "\n",
    "from sklearn.model_selection import ParameterSampler\n",
    "from scipy.stats import uniform, loguniform\n",
    "\n",
    "from sklearn.metrics import mean_squared_error\n",
    "\n",
    "seed = 42\n",
    "torch.manual_seed(seed)\n",
    "np.random.seed(seed)\n",
    "random.seed(seed)\n",
    "seed = 42"
   ]
  },
  {
   "cell_type": "markdown",
   "metadata": {},
   "source": [
    "## Подготовка"
   ]
  },
  {
   "cell_type": "markdown",
   "metadata": {},
   "source": [
    "### Чтение даных"
   ]
  },
  {
   "cell_type": "code",
   "execution_count": 3,
   "metadata": {
    "scrolled": true
   },
   "outputs": [
    {
     "name": "stderr",
     "output_type": "stream",
     "text": [
      "C:\\Users\\Vladimir\\AppData\\Local\\Temp\\ipykernel_17164\\975567216.py:3: FutureWarning: 'H' is deprecated and will be removed in a future version, please use 'h' instead.\n",
      "  df_hour = df.resample('1H').sum()\n"
     ]
    },
    {
     "data": {
      "text/plain": [
       "(                     num_orders\n",
       " datetime                       \n",
       " 2018-03-01 00:00:00         124\n",
       " 2018-03-01 01:00:00          85\n",
       " 2018-03-01 02:00:00          71\n",
       " 2018-03-01 03:00:00          66\n",
       " 2018-03-01 04:00:00          43\n",
       " ...                         ...\n",
       " 2018-08-31 19:00:00         136\n",
       " 2018-08-31 20:00:00         154\n",
       " 2018-08-31 21:00:00         159\n",
       " 2018-08-31 22:00:00         223\n",
       " 2018-08-31 23:00:00         205\n",
       " \n",
       " [4416 rows x 1 columns],\n",
       "             num_orders\n",
       " datetime              \n",
       " 2018-03-01        1364\n",
       " 2018-03-02        1506\n",
       " 2018-03-03        1290\n",
       " 2018-03-04        1141\n",
       " 2018-03-05        1259\n",
       " ...                ...\n",
       " 2018-08-27        3936\n",
       " 2018-08-28        3357\n",
       " 2018-08-29        3762\n",
       " 2018-08-30        4090\n",
       " 2018-08-31        4018\n",
       " \n",
       " [184 rows x 1 columns])"
      ]
     },
     "execution_count": 3,
     "metadata": {},
     "output_type": "execute_result"
    }
   ],
   "source": [
    "df = pd.read_csv('https://code.s3.yandex.net/datasets/taxi.csv', parse_dates=[0], index_col=[0])\n",
    "df.sort_index(inplace=True)\n",
    "df_hour = df.resample('1H').sum()\n",
    "df_day = df.resample('1D').sum()\n",
    "df_hour, df_day"
   ]
  },
  {
   "cell_type": "markdown",
   "metadata": {},
   "source": [
    "### Выводы по разделу"
   ]
  },
  {
   "cell_type": "markdown",
   "metadata": {},
   "source": [
    "Данные соответствуют описанию: информация о количестве поездок представленны за период с 01.03 по 31.08.2018 года 10-и минутным интервалом.\n",
    "\n",
    "В соответствии с заданием длина интеравала преобразована в 1 час, аггрегирующая функция - сумма."
   ]
  },
  {
   "cell_type": "markdown",
   "metadata": {},
   "source": [
    "## Анализ"
   ]
  },
  {
   "cell_type": "markdown",
   "metadata": {},
   "source": [
    "### Обзор данных"
   ]
  },
  {
   "cell_type": "code",
   "execution_count": 4,
   "metadata": {},
   "outputs": [
    {
     "data": {
      "image/png": "[encoded data removed]",
      "text/plain": [
       "<Figure size 640x480 with 1 Axes>"
      ]
     },
     "metadata": {},
     "output_type": "display_data"
    }
   ],
   "source": [
    "df.plot()\n",
    "plt.title('Number of orders per hour, the entire observation period')\n",
    "plt.ylabel('Orders')\n",
    "plt.xlabel('Hour');"
   ]
  },
  {
   "cell_type": "markdown",
   "metadata": {},
   "source": [
    "Из графика можно выделить то, что количество заказов в летний период больше чем в весенний что, вероятно, связано с сезоном отпусков. По мере роста среднего количества заказов также растет дисперсия, что говорит нам о том, что ряд нестационарен."
   ]
  },
  {
   "cell_type": "markdown",
   "metadata": {},
   "source": [
    "**Анализ тренда, сезонности и остатков**"
   ]
  },
  {
   "cell_type": "code",
   "execution_count": 5,
   "metadata": {},
   "outputs": [
    {
     "data": {
      "image/png": "[encoded data removed]",
      "text/plain": [
       "<Figure size 1000x1400 with 5 Axes>"
      ]
     },
     "metadata": {},
     "output_type": "display_data"
    }
   ],
   "source": [
    "# тренд, сезонность, остатки\n",
    "decomposed_hour = seasonal_decompose(df_hour)\n",
    "decomposed_day = seasonal_decompose(df_day)\n",
    "\n",
    "# строим графики\n",
    "plt.figure(figsize=(10, 14))\n",
    "\n",
    "plt.subplot(511)\n",
    "decomposed_day.trend.plot(ax=plt.gca())\n",
    "plt.title('Trend_day')\n",
    "plt.ylabel('Number of orders')\n",
    "plt.xlabel('Day')\n",
    "\n",
    "plt.subplot(512)\n",
    "decomposed_hour.trend.plot(ax=plt.gca())\n",
    "plt.title('Trend_hour')\n",
    "plt.ylabel('Number of orders')\n",
    "plt.xlabel('Hour')\n",
    "\n",
    "plt.subplot(513)\n",
    "decomposed_day.seasonal[3:10].plot(ax=plt.gca())\n",
    "plt.title('Seasonality week')\n",
    "plt.ylabel('Number of orders')\n",
    "plt.xlabel('Day')\n",
    "\n",
    "plt.subplot(514)\n",
    "decomposed_hour.seasonal[1:25].plot(ax=plt.gca())\n",
    "plt.title('Seasonality day')\n",
    "plt.ylabel('Number of orders')\n",
    "plt.xlabel('Hour')\n",
    "\n",
    "plt.subplot(515)\n",
    "decomposed_hour.resid.plot(ax=plt.gca())\n",
    "plt.title('Residuals')\n",
    "plt.ylabel('Number of orders')\n",
    "plt.xlabel('Hour')\n",
    "\n",
    "plt.tight_layout()"
   ]
  },
  {
   "cell_type": "markdown",
   "metadata": {},
   "source": [
    "В данных наблюдается восходящий **тренд** на протяжении всего периода. \n",
    "\n",
    "В данным можно выделить суточную и недельную **сезонности**, которые подозрительно одинаковые на протяжении всего периода наблюдений. Для суточной сезонности, еСли брать за точку отсчета 6 часов утра, то вплоть до 2 часов ночи следующего дня наблюдается восходящий тренд с парой просадок в 12 и в 18 часов. В период с 2 до 6 утра наблюдается сильное снижение количества поездок. Для недельной сезонности свойсвенны всплески спроса по вторникам и субботам, а среда день с самым низким количеством заказов.\n",
    "\n",
    "В общем остатки выглядят как белый шум (т.е. хорошо), однако в конце периода наблюдаются выбросы и увеличение дисперсии."
   ]
  },
  {
   "cell_type": "markdown",
   "metadata": {},
   "source": [
    "### Выводы по разделу"
   ]
  },
  {
   "cell_type": "markdown",
   "metadata": {},
   "source": [
    "Ряд не стационарен с выраженным восходящим трендом и суточной сезонностью."
   ]
  },
  {
   "cell_type": "markdown",
   "metadata": {},
   "source": [
    "## Обучение"
   ]
  },
  {
   "cell_type": "markdown",
   "metadata": {},
   "source": [
    "К обучению подойдем итеративно: обучим модели на данных с календарными признаками, после чего проанализируем остатки и, по необходимости, добавим лаговые признаки.\n",
    "Исследуем модели линейной регрессии, бустинговые модели и нейронную сеть. В качестве отправной точки возьмем результаты Дамми модели."
   ]
  },
  {
   "cell_type": "markdown",
   "metadata": {},
   "source": [
    "### Создание новых признаков"
   ]
  },
  {
   "cell_type": "markdown",
   "metadata": {},
   "source": [
    "**Генерирование новых признаков**"
   ]
  },
  {
   "cell_type": "code",
   "execution_count": 6,
   "metadata": {},
   "outputs": [],
   "source": [
    "def feature_maker(data, lags=None, windows=None):\n",
    "    # календарные признаки\n",
    "    data['hour'] = data.index.hour\n",
    "    data['day'] = data.index.day\n",
    "    data['day_of_week'] = data.index.dayofweek\n",
    "    data['is_weekend'] = data['day_of_week'].isin([5, 6]).astype(int)\n",
    "\n",
    "    # тренд\n",
    "    data[f'trend_24h'] = data['num_orders'].shift().rolling(24).mean()\n",
    "\n",
    "    # сезонность\n",
    "    data['hour_sin'] = np.sin(2 * np.pi * data['hour'] / 24)\n",
    "    data['hour_cos'] = np.cos(2 * np.pi * data['hour'] / 24)\n",
    "    \n",
    "    data['dow_sin'] = np.sin(2 * np.pi * data['day_of_week'] / 7)\n",
    "    data['dow_cos'] = np.cos(2 * np.pi * data['day_of_week'] / 7)\n",
    "\n",
    "    # лаги\n",
    "    if lags:\n",
    "        for lag in lags:\n",
    "            data[f'lag_{lag}'] = data['num_orders'].shift(lag)"
   ]
  },
  {
   "cell_type": "code",
   "execution_count": 7,
   "metadata": {
    "scrolled": true
   },
   "outputs": [
    {
     "data": {
      "text/html": [
       "<div>\n",
       "<style scoped>\n",
       "    .dataframe tbody tr th:only-of-type {\n",
       "        vertical-align: middle;\n",
       "    }\n",
       "\n",
       "    .dataframe tbody tr th {\n",
       "        vertical-align: top;\n",
       "    }\n",
       "\n",
       "    .dataframe thead th {\n",
       "        text-align: right;\n",
       "    }\n",
       "</style>\n",
       "<table border=\"1\" class=\"dataframe\">\n",
       "  <thead>\n",
       "    <tr style=\"text-align: right;\">\n",
       "      <th></th>\n",
       "      <th>num_orders</th>\n",
       "      <th>hour</th>\n",
       "      <th>day</th>\n",
       "      <th>day_of_week</th>\n",
       "      <th>is_weekend</th>\n",
       "      <th>trend_24h</th>\n",
       "      <th>hour_sin</th>\n",
       "      <th>hour_cos</th>\n",
       "      <th>dow_sin</th>\n",
       "      <th>dow_cos</th>\n",
       "    </tr>\n",
       "    <tr>\n",
       "      <th>datetime</th>\n",
       "      <th></th>\n",
       "      <th></th>\n",
       "      <th></th>\n",
       "      <th></th>\n",
       "      <th></th>\n",
       "      <th></th>\n",
       "      <th></th>\n",
       "      <th></th>\n",
       "      <th></th>\n",
       "      <th></th>\n",
       "    </tr>\n",
       "  </thead>\n",
       "  <tbody>\n",
       "    <tr>\n",
       "      <th>2018-03-01 00:00:00</th>\n",
       "      <td>124</td>\n",
       "      <td>0</td>\n",
       "      <td>1</td>\n",
       "      <td>3</td>\n",
       "      <td>0</td>\n",
       "      <td>NaN</td>\n",
       "      <td>0.000000</td>\n",
       "      <td>1.000000</td>\n",
       "      <td>0.433884</td>\n",
       "      <td>-0.900969</td>\n",
       "    </tr>\n",
       "    <tr>\n",
       "      <th>2018-03-01 01:00:00</th>\n",
       "      <td>85</td>\n",
       "      <td>1</td>\n",
       "      <td>1</td>\n",
       "      <td>3</td>\n",
       "      <td>0</td>\n",
       "      <td>NaN</td>\n",
       "      <td>0.258819</td>\n",
       "      <td>0.965926</td>\n",
       "      <td>0.433884</td>\n",
       "      <td>-0.900969</td>\n",
       "    </tr>\n",
       "    <tr>\n",
       "      <th>2018-03-01 02:00:00</th>\n",
       "      <td>71</td>\n",
       "      <td>2</td>\n",
       "      <td>1</td>\n",
       "      <td>3</td>\n",
       "      <td>0</td>\n",
       "      <td>NaN</td>\n",
       "      <td>0.500000</td>\n",
       "      <td>0.866025</td>\n",
       "      <td>0.433884</td>\n",
       "      <td>-0.900969</td>\n",
       "    </tr>\n",
       "    <tr>\n",
       "      <th>2018-03-01 03:00:00</th>\n",
       "      <td>66</td>\n",
       "      <td>3</td>\n",
       "      <td>1</td>\n",
       "      <td>3</td>\n",
       "      <td>0</td>\n",
       "      <td>NaN</td>\n",
       "      <td>0.707107</td>\n",
       "      <td>0.707107</td>\n",
       "      <td>0.433884</td>\n",
       "      <td>-0.900969</td>\n",
       "    </tr>\n",
       "    <tr>\n",
       "      <th>2018-03-01 04:00:00</th>\n",
       "      <td>43</td>\n",
       "      <td>4</td>\n",
       "      <td>1</td>\n",
       "      <td>3</td>\n",
       "      <td>0</td>\n",
       "      <td>NaN</td>\n",
       "      <td>0.866025</td>\n",
       "      <td>0.500000</td>\n",
       "      <td>0.433884</td>\n",
       "      <td>-0.900969</td>\n",
       "    </tr>\n",
       "    <tr>\n",
       "      <th>...</th>\n",
       "      <td>...</td>\n",
       "      <td>...</td>\n",
       "      <td>...</td>\n",
       "      <td>...</td>\n",
       "      <td>...</td>\n",
       "      <td>...</td>\n",
       "      <td>...</td>\n",
       "      <td>...</td>\n",
       "      <td>...</td>\n",
       "      <td>...</td>\n",
       "    </tr>\n",
       "    <tr>\n",
       "      <th>2018-08-31 19:00:00</th>\n",
       "      <td>136</td>\n",
       "      <td>19</td>\n",
       "      <td>31</td>\n",
       "      <td>4</td>\n",
       "      <td>0</td>\n",
       "      <td>164.875000</td>\n",
       "      <td>-0.965926</td>\n",
       "      <td>0.258819</td>\n",
       "      <td>-0.433884</td>\n",
       "      <td>-0.900969</td>\n",
       "    </tr>\n",
       "    <tr>\n",
       "      <th>2018-08-31 20:00:00</th>\n",
       "      <td>154</td>\n",
       "      <td>20</td>\n",
       "      <td>31</td>\n",
       "      <td>4</td>\n",
       "      <td>0</td>\n",
       "      <td>167.541667</td>\n",
       "      <td>-0.866025</td>\n",
       "      <td>0.500000</td>\n",
       "      <td>-0.433884</td>\n",
       "      <td>-0.900969</td>\n",
       "    </tr>\n",
       "    <tr>\n",
       "      <th>2018-08-31 21:00:00</th>\n",
       "      <td>159</td>\n",
       "      <td>21</td>\n",
       "      <td>31</td>\n",
       "      <td>4</td>\n",
       "      <td>0</td>\n",
       "      <td>168.041667</td>\n",
       "      <td>-0.707107</td>\n",
       "      <td>0.707107</td>\n",
       "      <td>-0.433884</td>\n",
       "      <td>-0.900969</td>\n",
       "    </tr>\n",
       "    <tr>\n",
       "      <th>2018-08-31 22:00:00</th>\n",
       "      <td>223</td>\n",
       "      <td>22</td>\n",
       "      <td>31</td>\n",
       "      <td>4</td>\n",
       "      <td>0</td>\n",
       "      <td>166.416667</td>\n",
       "      <td>-0.500000</td>\n",
       "      <td>0.866025</td>\n",
       "      <td>-0.433884</td>\n",
       "      <td>-0.900969</td>\n",
       "    </tr>\n",
       "    <tr>\n",
       "      <th>2018-08-31 23:00:00</th>\n",
       "      <td>205</td>\n",
       "      <td>23</td>\n",
       "      <td>31</td>\n",
       "      <td>4</td>\n",
       "      <td>0</td>\n",
       "      <td>169.125000</td>\n",
       "      <td>-0.258819</td>\n",
       "      <td>0.965926</td>\n",
       "      <td>-0.433884</td>\n",
       "      <td>-0.900969</td>\n",
       "    </tr>\n",
       "  </tbody>\n",
       "</table>\n",
       "<p>4416 rows × 10 columns</p>\n",
       "</div>"
      ],
      "text/plain": [
       "                     num_orders  hour  day  day_of_week  is_weekend  \\\n",
       "datetime                                                              \n",
       "2018-03-01 00:00:00         124     0    1            3           0   \n",
       "2018-03-01 01:00:00          85     1    1            3           0   \n",
       "2018-03-01 02:00:00          71     2    1            3           0   \n",
       "2018-03-01 03:00:00          66     3    1            3           0   \n",
       "2018-03-01 04:00:00          43     4    1            3           0   \n",
       "...                         ...   ...  ...          ...         ...   \n",
       "2018-08-31 19:00:00         136    19   31            4           0   \n",
       "2018-08-31 20:00:00         154    20   31            4           0   \n",
       "2018-08-31 21:00:00         159    21   31            4           0   \n",
       "2018-08-31 22:00:00         223    22   31            4           0   \n",
       "2018-08-31 23:00:00         205    23   31            4           0   \n",
       "\n",
       "                      trend_24h  hour_sin  hour_cos   dow_sin   dow_cos  \n",
       "datetime                                                                 \n",
       "2018-03-01 00:00:00         NaN  0.000000  1.000000  0.433884 -0.900969  \n",
       "2018-03-01 01:00:00         NaN  0.258819  0.965926  0.433884 -0.900969  \n",
       "2018-03-01 02:00:00         NaN  0.500000  0.866025  0.433884 -0.900969  \n",
       "2018-03-01 03:00:00         NaN  0.707107  0.707107  0.433884 -0.900969  \n",
       "2018-03-01 04:00:00         NaN  0.866025  0.500000  0.433884 -0.900969  \n",
       "...                         ...       ...       ...       ...       ...  \n",
       "2018-08-31 19:00:00  164.875000 -0.965926  0.258819 -0.433884 -0.900969  \n",
       "2018-08-31 20:00:00  167.541667 -0.866025  0.500000 -0.433884 -0.900969  \n",
       "2018-08-31 21:00:00  168.041667 -0.707107  0.707107 -0.433884 -0.900969  \n",
       "2018-08-31 22:00:00  166.416667 -0.500000  0.866025 -0.433884 -0.900969  \n",
       "2018-08-31 23:00:00  169.125000 -0.258819  0.965926 -0.433884 -0.900969  \n",
       "\n",
       "[4416 rows x 10 columns]"
      ]
     },
     "execution_count": 7,
     "metadata": {},
     "output_type": "execute_result"
    }
   ],
   "source": [
    "feature_maker(df_hour)\n",
    "df_hour"
   ]
  },
  {
   "cell_type": "markdown",
   "metadata": {},
   "source": [
    "### Подготовка данных"
   ]
  },
  {
   "cell_type": "code",
   "execution_count": 8,
   "metadata": {},
   "outputs": [
    {
     "data": {
      "text/plain": [
       "((3552, 9), (398, 9), (442, 9))"
      ]
     },
     "execution_count": 8,
     "metadata": {},
     "output_type": "execute_result"
    }
   ],
   "source": [
    "train, test = train_test_split(df_hour, shuffle=False, test_size=0.1)\n",
    "train, val = train_test_split(train, shuffle=False, test_size=0.1)\n",
    "train = train.dropna()\n",
    "\n",
    "X_train = train.drop([\n",
    "    'num_orders'\n",
    "], axis=1).reset_index(drop=True)\n",
    "\n",
    "X_val = val.drop([\n",
    "    'num_orders'\n",
    "], axis=1).reset_index(drop=True)\n",
    "\n",
    "\n",
    "X_test = test.drop([\n",
    "    'num_orders'\n",
    "], axis=1).reset_index(drop=True)\n",
    "\n",
    "\n",
    "y_train = train['num_orders']\n",
    "y_val = val['num_orders']\n",
    "y_test = test['num_orders']\n",
    "\n",
    "num_cols = X_train.select_dtypes(include='number').columns\n",
    "\n",
    "\n",
    "# кроссвалидация\n",
    "tscv = TimeSeriesSplit(n_splits=3)\n",
    "\n",
    "X_train.shape, X_val.shape, X_test.shape"
   ]
  },
  {
   "cell_type": "code",
   "execution_count": 9,
   "metadata": {},
   "outputs": [],
   "source": [
    "best_models = {}\n",
    "total_results = pd.DataFrame(columns=[\n",
    "    'Model', \n",
    "    'RMSE_train',\n",
    "    'Train_time'\n",
    "])"
   ]
  },
  {
   "cell_type": "markdown",
   "metadata": {},
   "source": [
    "### Обучение моделей"
   ]
  },
  {
   "cell_type": "markdown",
   "metadata": {},
   "source": [
    "#### Дамми модель"
   ]
  },
  {
   "cell_type": "code",
   "execution_count": 10,
   "metadata": {},
   "outputs": [],
   "source": [
    "def train_dummy(X_train, y_train, X_test, y_test, model_num, strategy='mean', name='Dummy'):\n",
    "    global total_results\n",
    "\n",
    "    # Масштабирование\n",
    "    scaler = StandardScaler()\n",
    "    X_train_scaled = scaler.fit_transform(X_train)\n",
    "    X_test_scaled = scaler.transform(X_test)\n",
    "\n",
    "    # Инициализация и обучение\n",
    "    dummy = DummyRegressor(strategy=strategy)\n",
    "    start_time = time.time()\n",
    "    dummy.fit(X_train, y_train)\n",
    "    train_time = time.time() - start_time\n",
    "\n",
    "    # Предсказание\n",
    "    start_pred = time.time()\n",
    "    preds = dummy.predict(X_test)\n",
    "    inf_time = time.time() - start_pred\n",
    "\n",
    "    # Метрики\n",
    "    rmse_tr = np.sqrt(mean_squared_error(y_train, dummy.predict(X_train)))\n",
    "    rmse_te = np.sqrt(mean_squared_error(y_test, dummy.predict(X_test)))\n",
    "\n",
    "    # Сохраняем\n",
    "    new_row = pd.DataFrame([{\n",
    "        'Model': f'{name}_{model_num}',\n",
    "        'RMSE_train': round(rmse_tr, 2),\n",
    "        'Train_time': round(train_time, 3)\n",
    "    }])\n",
    "\n",
    "    total_results = pd.concat([total_results, new_row], ignore_index=True)"
   ]
  },
  {
   "cell_type": "code",
   "execution_count": 11,
   "metadata": {},
   "outputs": [
    {
     "name": "stderr",
     "output_type": "stream",
     "text": [
      "C:\\Users\\Vladimir\\AppData\\Local\\Temp\\ipykernel_17164\\3624133899.py:31: FutureWarning: The behavior of DataFrame concatenation with empty or all-NA entries is deprecated. In a future version, this will no longer exclude empty or all-NA columns when determining the result dtypes. To retain the old behavior, exclude the relevant entries before the concat operation.\n",
      "  total_results = pd.concat([total_results, new_row], ignore_index=True)\n"
     ]
    },
    {
     "data": {
      "text/html": [
       "<div>\n",
       "<style scoped>\n",
       "    .dataframe tbody tr th:only-of-type {\n",
       "        vertical-align: middle;\n",
       "    }\n",
       "\n",
       "    .dataframe tbody tr th {\n",
       "        vertical-align: top;\n",
       "    }\n",
       "\n",
       "    .dataframe thead th {\n",
       "        text-align: right;\n",
       "    }\n",
       "</style>\n",
       "<table border=\"1\" class=\"dataframe\">\n",
       "  <thead>\n",
       "    <tr style=\"text-align: right;\">\n",
       "      <th></th>\n",
       "      <th>Model</th>\n",
       "      <th>RMSE_train</th>\n",
       "      <th>Train_time</th>\n",
       "    </tr>\n",
       "  </thead>\n",
       "  <tbody>\n",
       "    <tr>\n",
       "      <th>0</th>\n",
       "      <td>Dummy_mean_1</td>\n",
       "      <td>36.0</td>\n",
       "      <td>0.002</td>\n",
       "    </tr>\n",
       "  </tbody>\n",
       "</table>\n",
       "</div>"
      ],
      "text/plain": [
       "          Model  RMSE_train  Train_time\n",
       "0  Dummy_mean_1        36.0       0.002"
      ]
     },
     "execution_count": 11,
     "metadata": {},
     "output_type": "execute_result"
    }
   ],
   "source": [
    "model_num = 1\n",
    "\n",
    "train_dummy(\n",
    "    X_train,\n",
    "    y_train,\n",
    "    X_test,\n",
    "    y_test,\n",
    "    model_num,\n",
    "    strategy='mean',\n",
    "    name='Dummy_mean'\n",
    ")\n",
    "\n",
    "total_results"
   ]
  },
  {
   "cell_type": "markdown",
   "metadata": {},
   "source": [
    "#### Линейные модели"
   ]
  },
  {
   "cell_type": "code",
   "execution_count": 12,
   "metadata": {},
   "outputs": [],
   "source": [
    "# Пайплайн\n",
    "# Пайплайн для числовых признаков\n",
    "lr_num_pipeline = Pipeline([\n",
    "    ('scaler', StandardScaler())\n",
    "])\n",
    "\n",
    "# Общий препроцессор\n",
    "lr_preprocessor = ColumnTransformer([\n",
    "    ('num', lr_num_pipeline, num_cols)\n",
    "], remainder='passthrough')\n",
    "\n",
    "# Финальный pipeline\n",
    "lr_pipe_final = Pipeline([\n",
    "    ('preprocessor', lr_preprocessor),\n",
    "    ('models', 'passthrough')\n",
    "])"
   ]
  },
  {
   "cell_type": "code",
   "execution_count": 13,
   "metadata": {},
   "outputs": [],
   "source": [
    "# Сетка гиперпараметров\n",
    "lr_rs_grid = {\n",
    "    'Linear': {\n",
    "        'models': [LinearRegression()]\n",
    "    },\n",
    "    'Ridge': {\n",
    "        'models': [Ridge(max_iter=3000, random_state=seed)],\n",
    "        'models__alpha': np.logspace(-3, 2, 10), \n",
    "    },\n",
    "    'Lasso': {\n",
    "        'models': [Lasso(max_iter=3000, random_state=seed)],\n",
    "        'models__alpha': np.logspace(-3, 2, 10),\n",
    "    },\n",
    "    'ElasticNet': {\n",
    "        'models': [ElasticNet(max_iter=3000, random_state=seed)],\n",
    "        'models__alpha': np.logspace(-3, 2, 10),\n",
    "        'models__l1_ratio': np.linspace(0.1, 0.9, 5),\n",
    "    },\n",
    "}"
   ]
  },
  {
   "cell_type": "code",
   "execution_count": 14,
   "metadata": {
    "scrolled": true
   },
   "outputs": [],
   "source": [
    "# Обучение моделей\n",
    "def train_linear(X_train, y_train, pipeline, grid, model_num):\n",
    "    global best_models, total_results\n",
    "    \n",
    "    for model_name, g in grid.items():\n",
    "        rs = RandomizedSearchCV(\n",
    "            pipeline,\n",
    "            param_distributions=g,\n",
    "            scoring='neg_root_mean_squared_error',\n",
    "            n_jobs=-1,\n",
    "            n_iter=3,\n",
    "            cv=tscv,\n",
    "            verbose=1,\n",
    "            random_state=seed\n",
    "        )\n",
    "\n",
    "        rs.fit(X_train, y_train)\n",
    "\n",
    "        # Сохранение лучшей модели\n",
    "        best_models[f'{model_name}_{model_num}'] = rs.best_estimator_\n",
    "\n",
    "        # Сохраняем\n",
    "        new_row = pd.DataFrame([{\n",
    "            'Model': f'{model_name}_{model_num}',\n",
    "            'RMSE_train': round(-rs.best_score_, 2),\n",
    "            'Train_time': round(rs.cv_results_['mean_fit_time'][rs.best_index_], 2)\n",
    "        }])\n",
    "\n",
    "        total_results = pd.concat([total_results, new_row], ignore_index=True)"
   ]
  },
  {
   "cell_type": "code",
   "execution_count": 15,
   "metadata": {
    "scrolled": true
   },
   "outputs": [
    {
     "name": "stderr",
     "output_type": "stream",
     "text": [
      "C:\\Users\\Vladimir\\anaconda3\\envs\\practicum\\lib\\site-packages\\sklearn\\model_selection\\_search.py:317: UserWarning: The total space of parameters 1 is smaller than n_iter=3. Running 1 iterations. For exhaustive searches, use GridSearchCV.\n",
      "  warnings.warn(\n"
     ]
    },
    {
     "name": "stdout",
     "output_type": "stream",
     "text": [
      "Fitting 3 folds for each of 1 candidates, totalling 3 fits\n",
      "Fitting 3 folds for each of 3 candidates, totalling 9 fits\n",
      "Fitting 3 folds for each of 3 candidates, totalling 9 fits\n",
      "Fitting 3 folds for each of 3 candidates, totalling 9 fits\n"
     ]
    },
    {
     "data": {
      "text/html": [
       "<div>\n",
       "<style scoped>\n",
       "    .dataframe tbody tr th:only-of-type {\n",
       "        vertical-align: middle;\n",
       "    }\n",
       "\n",
       "    .dataframe tbody tr th {\n",
       "        vertical-align: top;\n",
       "    }\n",
       "\n",
       "    .dataframe thead th {\n",
       "        text-align: right;\n",
       "    }\n",
       "</style>\n",
       "<table border=\"1\" class=\"dataframe\">\n",
       "  <thead>\n",
       "    <tr style=\"text-align: right;\">\n",
       "      <th></th>\n",
       "      <th>Model</th>\n",
       "      <th>RMSE_train</th>\n",
       "      <th>Train_time</th>\n",
       "    </tr>\n",
       "  </thead>\n",
       "  <tbody>\n",
       "    <tr>\n",
       "      <th>1</th>\n",
       "      <td>Linear_1</td>\n",
       "      <td>31.09</td>\n",
       "      <td>0.030</td>\n",
       "    </tr>\n",
       "    <tr>\n",
       "      <th>2</th>\n",
       "      <td>Ridge_1</td>\n",
       "      <td>31.09</td>\n",
       "      <td>0.020</td>\n",
       "    </tr>\n",
       "    <tr>\n",
       "      <th>3</th>\n",
       "      <td>Lasso_1</td>\n",
       "      <td>31.10</td>\n",
       "      <td>0.020</td>\n",
       "    </tr>\n",
       "    <tr>\n",
       "      <th>4</th>\n",
       "      <td>ElasticNet_1</td>\n",
       "      <td>31.14</td>\n",
       "      <td>0.020</td>\n",
       "    </tr>\n",
       "    <tr>\n",
       "      <th>0</th>\n",
       "      <td>Dummy_mean_1</td>\n",
       "      <td>36.00</td>\n",
       "      <td>0.002</td>\n",
       "    </tr>\n",
       "  </tbody>\n",
       "</table>\n",
       "</div>"
      ],
      "text/plain": [
       "          Model  RMSE_train  Train_time\n",
       "1      Linear_1       31.09       0.030\n",
       "2       Ridge_1       31.09       0.020\n",
       "3       Lasso_1       31.10       0.020\n",
       "4  ElasticNet_1       31.14       0.020\n",
       "0  Dummy_mean_1       36.00       0.002"
      ]
     },
     "execution_count": 15,
     "metadata": {},
     "output_type": "execute_result"
    }
   ],
   "source": [
    "train_linear(\n",
    "    X_train,\n",
    "    y_train,\n",
    "    lr_pipe_final,\n",
    "    lr_rs_grid,\n",
    "    model_num\n",
    ")\n",
    "\n",
    "\n",
    "total_results.sort_values(by='RMSE_train')"
   ]
  },
  {
   "cell_type": "markdown",
   "metadata": {},
   "source": [
    "#### Бустинговые модели"
   ]
  },
  {
   "cell_type": "code",
   "execution_count": 16,
   "metadata": {},
   "outputs": [],
   "source": [
    "# Пайплайн\n",
    "b_pipe_final = Pipeline([\n",
    "    ('models', CatBoostClassifier(verbose=0))\n",
    "])"
   ]
  },
  {
   "cell_type": "code",
   "execution_count": 17,
   "metadata": {},
   "outputs": [],
   "source": [
    "# Сетка гиперпараметров\n",
    "b_rs_grid = {\n",
    "    'LGBMClassifier': {\n",
    "        'models': [LGBMClassifier(\n",
    "            n_estimators=200,\n",
    "            random_state=seed)],\n",
    "        'models__num_leaves': [7, 15],\n",
    "        'models__learning_rate': [0.03, 0.1],\n",
    "    }\n",
    "}"
   ]
  },
  {
   "cell_type": "code",
   "execution_count": 18,
   "metadata": {
    "scrolled": true
   },
   "outputs": [],
   "source": [
    "# Обучение моделей\n",
    "def train_boosting(X_train, y_train, pipeline, grid, model_num):\n",
    "    global best_models, total_results\n",
    "\n",
    "    for model_name, g in grid.items():\n",
    "        rs = RandomizedSearchCV(\n",
    "            pipeline,\n",
    "            param_distributions=g,\n",
    "            scoring='neg_root_mean_squared_error',\n",
    "            n_jobs=-1,\n",
    "            n_iter=3,\n",
    "            cv=tscv,\n",
    "            verbose=1,\n",
    "            random_state=seed\n",
    "        )\n",
    "\n",
    "        rs.fit(X_train, y_train)\n",
    "\n",
    "        best_models[f'{model_name}_{model_num}'] = rs.best_estimator_\n",
    "\n",
    "        new_row = pd.DataFrame([{\n",
    "            'Model': f'{model_name}_{model_num}',\n",
    "            'RMSE_train': round(-rs.best_score_, 2),\n",
    "            'Train_time': round(rs.cv_results_['mean_fit_time'][rs.best_index_], 2)\n",
    "        }])\n",
    "\n",
    "        total_results = pd.concat([total_results, new_row], ignore_index=True)"
   ]
  },
  {
   "cell_type": "code",
   "execution_count": 19,
   "metadata": {
    "scrolled": true
   },
   "outputs": [
    {
     "name": "stdout",
     "output_type": "stream",
     "text": [
      "Fitting 3 folds for each of 3 candidates, totalling 9 fits\n",
      "[LightGBM] [Info] Auto-choosing row-wise multi-threading, the overhead of testing was 0.000272 seconds.\n",
      "You can set `force_row_wise=true` to remove the overhead.\n",
      "And if memory is not enough, you can set `force_col_wise=true`.\n",
      "[LightGBM] [Info] Total Bins 373\n",
      "[LightGBM] [Info] Number of data points in the train set: 3552, number of used features: 9\n",
      "[LightGBM] [Info] Start training from score -8.175266\n",
      "[LightGBM] [Info] Start training from score -7.076654\n",
      "[LightGBM] [Info] Start training from score -6.383507\n",
      "[LightGBM] [Info] Start training from score -6.565828\n",
      "[LightGBM] [Info] Start training from score -6.565828\n",
      "[LightGBM] [Info] Start training from score -5.872681\n",
      "[LightGBM] [Info] Start training from score -5.690359\n",
      "[LightGBM] [Info] Start training from score -5.467216\n",
      "[LightGBM] [Info] Start training from score -6.565828\n",
      "[LightGBM] [Info] Start training from score -6.095825\n",
      "[LightGBM] [Info] Start training from score -6.229356\n",
      "[LightGBM] [Info] Start training from score -5.777371\n",
      "[LightGBM] [Info] Start training from score -5.777371\n",
      "[LightGBM] [Info] Start training from score -5.872681\n",
      "[LightGBM] [Info] Start training from score -5.690359\n",
      "[LightGBM] [Info] Start training from score -5.284894\n",
      "[LightGBM] [Info] Start training from score -5.610317\n",
      "[LightGBM] [Info] Start training from score -5.342053\n",
      "[LightGBM] [Info] Start training from score -5.342053\n",
      "[LightGBM] [Info] Start training from score -5.872681\n",
      "[LightGBM] [Info] Start training from score -5.402677\n",
      "[LightGBM] [Info] Start training from score -5.777371\n",
      "[LightGBM] [Info] Start training from score -5.978042\n",
      "[LightGBM] [Info] Start training from score -5.978042\n",
      "[LightGBM] [Info] Start training from score -5.084224\n",
      "[LightGBM] [Info] Start training from score -5.536209\n",
      "[LightGBM] [Info] Start training from score -5.777371\n",
      "[LightGBM] [Info] Start training from score -5.610317\n",
      "[LightGBM] [Info] Start training from score -5.690359\n",
      "[LightGBM] [Info] Start training from score -6.095825\n",
      "[LightGBM] [Info] Start training from score -5.342053\n",
      "[LightGBM] [Info] Start training from score -5.230827\n",
      "[LightGBM] [Info] Start training from score -5.342053\n",
      "[LightGBM] [Info] Start training from score -4.956390\n",
      "[LightGBM] [Info] Start training from score -4.997212\n",
      "[LightGBM] [Info] Start training from score -5.130744\n",
      "[LightGBM] [Info] Start training from score -5.039772\n",
      "[LightGBM] [Info] Start training from score -4.917170\n",
      "[LightGBM] [Info] Start training from score -4.956390\n",
      "[LightGBM] [Info] Start training from score -4.774069\n",
      "[LightGBM] [Info] Start training from score -4.678759\n",
      "[LightGBM] [Info] Start training from score -5.130744\n",
      "[LightGBM] [Info] Start training from score -4.741279\n",
      "[LightGBM] [Info] Start training from score -4.678759\n",
      "[LightGBM] [Info] Start training from score -4.709530\n",
      "[LightGBM] [Info] Start training from score -4.917170\n",
      "[LightGBM] [Info] Start training from score -4.774069\n",
      "[LightGBM] [Info] Start training from score -4.843062\n",
      "[LightGBM] [Info] Start training from score -4.391076\n",
      "[LightGBM] [Info] Start training from score -4.648906\n",
      "[LightGBM] [Info] Start training from score -4.774069\n",
      "[LightGBM] [Info] Start training from score -4.591747\n",
      "[LightGBM] [Info] Start training from score -4.461694\n",
      "[LightGBM] [Info] Start training from score -4.537680\n",
      "[LightGBM] [Info] Start training from score -4.678759\n",
      "[LightGBM] [Info] Start training from score -4.537680\n",
      "[LightGBM] [Info] Start training from score -4.678759\n",
      "[LightGBM] [Info] Start training from score -4.114823\n",
      "[LightGBM] [Info] Start training from score -4.414066\n",
      "[LightGBM] [Info] Start training from score -4.368604\n",
      "[LightGBM] [Info] Start training from score -4.537680\n",
      "[LightGBM] [Info] Start training from score -4.391076\n",
      "[LightGBM] [Info] Start training from score -4.414066\n",
      "[LightGBM] [Info] Start training from score -4.709530\n",
      "[LightGBM] [Info] Start training from score -4.414066\n",
      "[LightGBM] [Info] Start training from score -4.391076\n",
      "[LightGBM] [Info] Start training from score -4.224022\n",
      "[LightGBM] [Info] Start training from score -4.591747\n",
      "[LightGBM] [Info] Start training from score -4.709530\n",
      "[LightGBM] [Info] Start training from score -4.414066\n",
      "[LightGBM] [Info] Start training from score -4.678759\n",
      "[LightGBM] [Info] Start training from score -4.591747\n",
      "[LightGBM] [Info] Start training from score -4.414066\n",
      "[LightGBM] [Info] Start training from score -4.080922\n",
      "[LightGBM] [Info] Start training from score -4.368604\n",
      "[LightGBM] [Info] Start training from score -4.511704\n",
      "[LightGBM] [Info] Start training from score -4.437596\n",
      "[LightGBM] [Info] Start training from score -4.283446\n",
      "[LightGBM] [Info] Start training from score -4.325119\n",
      "[LightGBM] [Info] Start training from score -4.741279\n",
      "[LightGBM] [Info] Start training from score -4.414066\n",
      "[LightGBM] [Info] Start training from score -4.486387\n",
      "[LightGBM] [Info] Start training from score -4.511704\n",
      "[LightGBM] [Info] Start training from score -4.346625\n",
      "[LightGBM] [Info] Start training from score -4.414066\n",
      "[LightGBM] [Info] Start training from score -4.511704\n",
      "[LightGBM] [Info] Start training from score -4.843062\n",
      "[LightGBM] [Info] Start training from score -5.130744\n",
      "[LightGBM] [Info] Start training from score -4.807970\n",
      "[LightGBM] [Info] Start training from score -4.486387\n",
      "[LightGBM] [Info] Start training from score -4.741279\n",
      "[LightGBM] [Info] Start training from score -4.774069\n",
      "[LightGBM] [Info] Start training from score -4.774069\n",
      "[LightGBM] [Info] Start training from score -4.774069\n",
      "[LightGBM] [Info] Start training from score -4.678759\n",
      "[LightGBM] [Info] Start training from score -4.678759\n",
      "[LightGBM] [Info] Start training from score -4.843062\n",
      "[LightGBM] [Info] Start training from score -4.807970\n",
      "[LightGBM] [Info] Start training from score -5.084224\n",
      "[LightGBM] [Info] Start training from score -4.997212\n",
      "[LightGBM] [Info] Start training from score -4.956390\n",
      "[LightGBM] [Info] Start training from score -4.917170\n",
      "[LightGBM] [Info] Start training from score -4.879429\n",
      "[LightGBM] [Info] Start training from score -4.741279\n",
      "[LightGBM] [Info] Start training from score -4.591747\n",
      "[LightGBM] [Info] Start training from score -5.179534\n",
      "[LightGBM] [Info] Start training from score -5.130744\n",
      "[LightGBM] [Info] Start training from score -4.709530\n",
      "[LightGBM] [Info] Start training from score -5.179534\n",
      "[LightGBM] [Info] Start training from score -5.230827\n",
      "[LightGBM] [Info] Start training from score -4.879429\n",
      "[LightGBM] [Info] Start training from score -5.536209\n",
      "[LightGBM] [Info] Start training from score -5.777371\n",
      "[LightGBM] [Info] Start training from score -5.284894\n",
      "[LightGBM] [Info] Start training from score -5.039772\n",
      "[LightGBM] [Info] Start training from score -5.402677\n",
      "[LightGBM] [Info] Start training from score -5.777371\n",
      "[LightGBM] [Info] Start training from score -5.536209\n",
      "[LightGBM] [Info] Start training from score -5.179534\n",
      "[LightGBM] [Info] Start training from score -5.039772\n",
      "[LightGBM] [Info] Start training from score -5.610317\n",
      "[LightGBM] [Info] Start training from score -5.284894\n",
      "[LightGBM] [Info] Start training from score -5.777371\n",
      "[LightGBM] [Info] Start training from score -5.402677\n",
      "[LightGBM] [Info] Start training from score -5.284894\n",
      "[LightGBM] [Info] Start training from score -6.229356\n",
      "[LightGBM] [Info] Start training from score -5.872681\n",
      "[LightGBM] [Info] Start training from score -5.872681\n",
      "[LightGBM] [Info] Start training from score -5.536209\n",
      "[LightGBM] [Info] Start training from score -5.536209\n",
      "[LightGBM] [Info] Start training from score -5.777371\n",
      "[LightGBM] [Info] Start training from score -6.229356\n",
      "[LightGBM] [Info] Start training from score -7.076654\n",
      "[LightGBM] [Info] Start training from score -6.565828\n",
      "[LightGBM] [Info] Start training from score -6.229356\n",
      "[LightGBM] [Info] Start training from score -6.565828\n",
      "[LightGBM] [Info] Start training from score -6.229356\n",
      "[LightGBM] [Info] Start training from score -5.978042\n",
      "[LightGBM] [Info] Start training from score -6.565828\n",
      "[LightGBM] [Info] Start training from score -6.565828\n",
      "[LightGBM] [Info] Start training from score -6.788972\n",
      "[LightGBM] [Info] Start training from score -7.482119\n",
      "[LightGBM] [Info] Start training from score -5.872681\n",
      "[LightGBM] [Info] Start training from score -5.978042\n",
      "[LightGBM] [Info] Start training from score -6.565828\n",
      "[LightGBM] [Info] Start training from score -6.383507\n",
      "[LightGBM] [Info] Start training from score -6.383507\n",
      "[LightGBM] [Info] Start training from score -6.565828\n",
      "[LightGBM] [Info] Start training from score -5.978042\n",
      "[LightGBM] [Info] Start training from score -6.095825\n",
      "[LightGBM] [Info] Start training from score -8.175266\n",
      "[LightGBM] [Info] Start training from score -7.482119\n",
      "[LightGBM] [Info] Start training from score -6.383507\n",
      "[LightGBM] [Info] Start training from score -6.788972\n",
      "[LightGBM] [Info] Start training from score -6.565828\n",
      "[LightGBM] [Info] Start training from score -6.565828\n",
      "[LightGBM] [Info] Start training from score -6.565828\n",
      "[LightGBM] [Info] Start training from score -7.076654\n",
      "[LightGBM] [Info] Start training from score -7.076654\n",
      "[LightGBM] [Info] Start training from score -6.788972\n",
      "[LightGBM] [Info] Start training from score -7.076654\n",
      "[LightGBM] [Info] Start training from score -6.383507\n",
      "[LightGBM] [Info] Start training from score -6.565828\n",
      "[LightGBM] [Info] Start training from score -7.076654\n",
      "[LightGBM] [Info] Start training from score -6.565828\n",
      "[LightGBM] [Info] Start training from score -7.482119\n",
      "[LightGBM] [Info] Start training from score -6.788972\n",
      "[LightGBM] [Info] Start training from score -7.076654\n",
      "[LightGBM] [Info] Start training from score -7.482119\n",
      "[LightGBM] [Info] Start training from score -7.482119\n",
      "[LightGBM] [Info] Start training from score -6.788972\n",
      "[LightGBM] [Info] Start training from score -8.175266\n",
      "[LightGBM] [Info] Start training from score -8.175266\n",
      "[LightGBM] [Info] Start training from score -6.383507\n",
      "[LightGBM] [Info] Start training from score -8.175266\n",
      "[LightGBM] [Info] Start training from score -7.076654\n",
      "[LightGBM] [Info] Start training from score -8.175266\n",
      "[LightGBM] [Info] Start training from score -8.175266\n",
      "[LightGBM] [Info] Start training from score -8.175266\n",
      "[LightGBM] [Info] Start training from score -7.482119\n",
      "[LightGBM] [Info] Start training from score -8.175266\n",
      "[LightGBM] [Info] Start training from score -7.482119\n",
      "[LightGBM] [Info] Start training from score -8.175266\n",
      "[LightGBM] [Info] Start training from score -8.175266\n",
      "[LightGBM] [Info] Start training from score -8.175266\n",
      "[LightGBM] [Info] Start training from score -8.175266\n",
      "[LightGBM] [Info] Start training from score -7.482119\n",
      "[LightGBM] [Info] Start training from score -8.175266\n",
      "[LightGBM] [Info] Start training from score -8.175266\n",
      "[LightGBM] [Info] Start training from score -8.175266\n",
      "[LightGBM] [Info] Start training from score -8.175266\n",
      "[LightGBM] [Info] Start training from score -8.175266\n",
      "[LightGBM] [Info] Start training from score -8.175266\n",
      "[LightGBM] [Info] Start training from score -8.175266\n",
      "[LightGBM] [Info] Start training from score -8.175266\n",
      "[LightGBM] [Info] Start training from score -8.175266\n",
      "[LightGBM] [Info] Start training from score -8.175266\n",
      "[LightGBM] [Info] Start training from score -8.175266\n",
      "[LightGBM] [Warning] No further splits with positive gain, best gain: -inf\n",
      "[LightGBM] [Warning] No further splits with positive gain, best gain: -inf\n",
      "[LightGBM] [Warning] No further splits with positive gain, best gain: -inf\n",
      "[LightGBM] [Warning] No further splits with positive gain, best gain: -inf\n",
      "[LightGBM] [Warning] No further splits with positive gain, best gain: -inf\n",
      "[LightGBM] [Warning] No further splits with positive gain, best gain: -inf\n",
      "[LightGBM] [Warning] No further splits with positive gain, best gain: -inf\n",
      "[LightGBM] [Warning] No further splits with positive gain, best gain: -inf\n",
      "[LightGBM] [Warning] No further splits with positive gain, best gain: -inf\n",
      "[LightGBM] [Warning] No further splits with positive gain, best gain: -inf\n",
      "[LightGBM] [Warning] No further splits with positive gain, best gain: -inf\n",
      "[LightGBM] [Warning] No further splits with positive gain, best gain: -inf\n",
      "[LightGBM] [Warning] No further splits with positive gain, best gain: -inf\n",
      "[LightGBM] [Warning] No further splits with positive gain, best gain: -inf\n",
      "[LightGBM] [Warning] No further splits with positive gain, best gain: -inf\n",
      "[LightGBM] [Warning] No further splits with positive gain, best gain: -inf\n",
      "[LightGBM] [Warning] No further splits with positive gain, best gain: -inf\n",
      "[LightGBM] [Warning] No further splits with positive gain, best gain: -inf\n",
      "[LightGBM] [Warning] No further splits with positive gain, best gain: -inf\n",
      "[LightGBM] [Warning] No further splits with positive gain, best gain: -inf\n",
      "[LightGBM] [Warning] No further splits with positive gain, best gain: -inf\n",
      "[LightGBM] [Warning] No further splits with positive gain, best gain: -inf\n",
      "[LightGBM] [Warning] No further splits with positive gain, best gain: -inf\n",
      "[LightGBM] [Warning] No further splits with positive gain, best gain: -inf\n",
      "[LightGBM] [Warning] No further splits with positive gain, best gain: -inf\n",
      "[LightGBM] [Warning] No further splits with positive gain, best gain: -inf\n",
      "[LightGBM] [Warning] No further splits with positive gain, best gain: -inf\n",
      "[LightGBM] [Warning] No further splits with positive gain, best gain: -inf\n",
      "[LightGBM] [Warning] No further splits with positive gain, best gain: -inf\n",
      "[LightGBM] [Warning] No further splits with positive gain, best gain: -inf\n",
      "[LightGBM] [Warning] No further splits with positive gain, best gain: -inf\n",
      "[LightGBM] [Warning] No further splits with positive gain, best gain: -inf\n",
      "[LightGBM] [Warning] No further splits with positive gain, best gain: -inf\n",
      "[LightGBM] [Warning] No further splits with positive gain, best gain: -inf\n",
      "[LightGBM] [Warning] No further splits with positive gain, best gain: -inf\n",
      "[LightGBM] [Warning] No further splits with positive gain, best gain: -inf\n",
      "[LightGBM] [Warning] No further splits with positive gain, best gain: -inf\n",
      "[LightGBM] [Warning] No further splits with positive gain, best gain: -inf\n",
      "[LightGBM] [Warning] No further splits with positive gain, best gain: -inf\n",
      "[LightGBM] [Warning] No further splits with positive gain, best gain: -inf\n",
      "[LightGBM] [Warning] No further splits with positive gain, best gain: -inf\n",
      "[LightGBM] [Warning] No further splits with positive gain, best gain: -inf\n",
      "[LightGBM] [Warning] No further splits with positive gain, best gain: -inf\n",
      "[LightGBM] [Warning] No further splits with positive gain, best gain: -inf\n",
      "[LightGBM] [Warning] No further splits with positive gain, best gain: -inf\n",
      "[LightGBM] [Warning] No further splits with positive gain, best gain: -inf\n",
      "[LightGBM] [Warning] No further splits with positive gain, best gain: -inf\n",
      "[LightGBM] [Warning] No further splits with positive gain, best gain: -inf\n",
      "[LightGBM] [Warning] No further splits with positive gain, best gain: -inf\n",
      "[LightGBM] [Warning] No further splits with positive gain, best gain: -inf\n",
      "[LightGBM] [Warning] No further splits with positive gain, best gain: -inf\n",
      "[LightGBM] [Warning] No further splits with positive gain, best gain: -inf\n",
      "[LightGBM] [Warning] No further splits with positive gain, best gain: -inf\n",
      "[LightGBM] [Warning] No further splits with positive gain, best gain: -inf\n",
      "[LightGBM] [Warning] No further splits with positive gain, best gain: -inf\n",
      "[LightGBM] [Warning] No further splits with positive gain, best gain: -inf\n",
      "[LightGBM] [Warning] No further splits with positive gain, best gain: -inf\n",
      "[LightGBM] [Warning] No further splits with positive gain, best gain: -inf\n",
      "[LightGBM] [Warning] No further splits with positive gain, best gain: -inf\n",
      "[LightGBM] [Warning] No further splits with positive gain, best gain: -inf\n",
      "[LightGBM] [Warning] No further splits with positive gain, best gain: -inf\n",
      "[LightGBM] [Warning] No further splits with positive gain, best gain: -inf\n",
      "[LightGBM] [Warning] No further splits with positive gain, best gain: -inf\n",
      "[LightGBM] [Warning] No further splits with positive gain, best gain: -inf\n",
      "[LightGBM] [Warning] No further splits with positive gain, best gain: -inf\n",
      "[LightGBM] [Warning] No further splits with positive gain, best gain: -inf\n",
      "[LightGBM] [Warning] No further splits with positive gain, best gain: -inf\n",
      "[LightGBM] [Warning] No further splits with positive gain, best gain: -inf\n",
      "[LightGBM] [Warning] No further splits with positive gain, best gain: -inf\n",
      "[LightGBM] [Warning] No further splits with positive gain, best gain: -inf\n",
      "[LightGBM] [Warning] No further splits with positive gain, best gain: -inf\n",
      "[LightGBM] [Warning] No further splits with positive gain, best gain: -inf\n",
      "[LightGBM] [Warning] No further splits with positive gain, best gain: -inf\n",
      "[LightGBM] [Warning] No further splits with positive gain, best gain: -inf\n",
      "[LightGBM] [Warning] No further splits with positive gain, best gain: -inf\n",
      "[LightGBM] [Warning] No further splits with positive gain, best gain: -inf\n",
      "[LightGBM] [Warning] No further splits with positive gain, best gain: -inf\n",
      "[LightGBM] [Warning] No further splits with positive gain, best gain: -inf\n",
      "[LightGBM] [Warning] No further splits with positive gain, best gain: -inf\n",
      "[LightGBM] [Warning] No further splits with positive gain, best gain: -inf\n",
      "[LightGBM] [Warning] No further splits with positive gain, best gain: -inf\n",
      "[LightGBM] [Warning] No further splits with positive gain, best gain: -inf\n",
      "[LightGBM] [Warning] No further splits with positive gain, best gain: -inf\n",
      "[LightGBM] [Warning] No further splits with positive gain, best gain: -inf\n",
      "[LightGBM] [Warning] No further splits with positive gain, best gain: -inf\n",
      "[LightGBM] [Warning] No further splits with positive gain, best gain: -inf\n",
      "[LightGBM] [Warning] No further splits with positive gain, best gain: -inf\n",
      "[LightGBM] [Warning] No further splits with positive gain, best gain: -inf\n",
      "[LightGBM] [Warning] No further splits with positive gain, best gain: -inf\n",
      "[LightGBM] [Warning] No further splits with positive gain, best gain: -inf\n",
      "[LightGBM] [Warning] No further splits with positive gain, best gain: -inf\n",
      "[LightGBM] [Warning] No further splits with positive gain, best gain: -inf\n",
      "[LightGBM] [Warning] No further splits with positive gain, best gain: -inf\n",
      "[LightGBM] [Warning] No further splits with positive gain, best gain: -inf\n",
      "[LightGBM] [Warning] No further splits with positive gain, best gain: -inf\n",
      "[LightGBM] [Warning] No further splits with positive gain, best gain: -inf\n",
      "[LightGBM] [Warning] No further splits with positive gain, best gain: -inf\n",
      "[LightGBM] [Warning] No further splits with positive gain, best gain: -inf\n",
      "[LightGBM] [Warning] No further splits with positive gain, best gain: -inf\n",
      "[LightGBM] [Warning] No further splits with positive gain, best gain: -inf\n",
      "[LightGBM] [Warning] No further splits with positive gain, best gain: -inf\n",
      "[LightGBM] [Warning] No further splits with positive gain, best gain: -inf\n",
      "[LightGBM] [Warning] No further splits with positive gain, best gain: -inf\n",
      "[LightGBM] [Warning] No further splits with positive gain, best gain: -inf\n",
      "[LightGBM] [Warning] No further splits with positive gain, best gain: -inf\n",
      "[LightGBM] [Warning] No further splits with positive gain, best gain: -inf\n",
      "[LightGBM] [Warning] No further splits with positive gain, best gain: -inf\n",
      "[LightGBM] [Warning] No further splits with positive gain, best gain: -inf\n",
      "[LightGBM] [Warning] No further splits with positive gain, best gain: -inf\n",
      "[LightGBM] [Warning] No further splits with positive gain, best gain: -inf\n",
      "[LightGBM] [Warning] No further splits with positive gain, best gain: -inf\n",
      "[LightGBM] [Warning] No further splits with positive gain, best gain: -inf\n",
      "[LightGBM] [Warning] No further splits with positive gain, best gain: -inf\n",
      "[LightGBM] [Warning] No further splits with positive gain, best gain: -inf\n",
      "[LightGBM] [Warning] No further splits with positive gain, best gain: -inf\n",
      "[LightGBM] [Warning] No further splits with positive gain, best gain: -inf\n",
      "[LightGBM] [Warning] No further splits with positive gain, best gain: -inf\n",
      "[LightGBM] [Warning] No further splits with positive gain, best gain: -inf\n",
      "[LightGBM] [Warning] No further splits with positive gain, best gain: -inf\n",
      "[LightGBM] [Warning] No further splits with positive gain, best gain: -inf\n",
      "[LightGBM] [Warning] No further splits with positive gain, best gain: -inf\n",
      "[LightGBM] [Warning] No further splits with positive gain, best gain: -inf\n",
      "[LightGBM] [Warning] No further splits with positive gain, best gain: -inf\n",
      "[LightGBM] [Warning] No further splits with positive gain, best gain: -inf\n",
      "[LightGBM] [Warning] No further splits with positive gain, best gain: -inf\n",
      "[LightGBM] [Warning] No further splits with positive gain, best gain: -inf\n",
      "[LightGBM] [Warning] No further splits with positive gain, best gain: -inf\n",
      "[LightGBM] [Warning] No further splits with positive gain, best gain: -inf\n",
      "[LightGBM] [Warning] No further splits with positive gain, best gain: -inf\n",
      "[LightGBM] [Warning] No further splits with positive gain, best gain: -inf\n",
      "[LightGBM] [Warning] No further splits with positive gain, best gain: -inf\n",
      "[LightGBM] [Warning] No further splits with positive gain, best gain: -inf\n",
      "[LightGBM] [Warning] No further splits with positive gain, best gain: -inf\n",
      "[LightGBM] [Warning] No further splits with positive gain, best gain: -inf\n",
      "[LightGBM] [Warning] No further splits with positive gain, best gain: -inf\n",
      "[LightGBM] [Warning] No further splits with positive gain, best gain: -inf\n",
      "[LightGBM] [Warning] No further splits with positive gain, best gain: -inf\n",
      "[LightGBM] [Warning] No further splits with positive gain, best gain: -inf\n",
      "[LightGBM] [Warning] No further splits with positive gain, best gain: -inf\n",
      "[LightGBM] [Warning] No further splits with positive gain, best gain: -inf\n",
      "[LightGBM] [Warning] No further splits with positive gain, best gain: -inf\n",
      "[LightGBM] [Warning] No further splits with positive gain, best gain: -inf\n",
      "[LightGBM] [Warning] No further splits with positive gain, best gain: -inf\n",
      "[LightGBM] [Warning] No further splits with positive gain, best gain: -inf\n",
      "[LightGBM] [Warning] No further splits with positive gain, best gain: -inf\n",
      "[LightGBM] [Warning] No further splits with positive gain, best gain: -inf\n",
      "[LightGBM] [Warning] No further splits with positive gain, best gain: -inf\n",
      "[LightGBM] [Warning] No further splits with positive gain, best gain: -inf\n",
      "[LightGBM] [Warning] No further splits with positive gain, best gain: -inf\n",
      "[LightGBM] [Warning] No further splits with positive gain, best gain: -inf\n",
      "[LightGBM] [Warning] No further splits with positive gain, best gain: -inf\n",
      "[LightGBM] [Warning] No further splits with positive gain, best gain: -inf\n",
      "[LightGBM] [Warning] No further splits with positive gain, best gain: -inf\n",
      "[LightGBM] [Warning] No further splits with positive gain, best gain: -inf\n",
      "[LightGBM] [Warning] No further splits with positive gain, best gain: -inf\n",
      "[LightGBM] [Warning] No further splits with positive gain, best gain: -inf\n",
      "[LightGBM] [Warning] No further splits with positive gain, best gain: -inf\n",
      "[LightGBM] [Warning] No further splits with positive gain, best gain: -inf\n",
      "[LightGBM] [Warning] No further splits with positive gain, best gain: -inf\n",
      "[LightGBM] [Warning] No further splits with positive gain, best gain: -inf\n",
      "[LightGBM] [Warning] No further splits with positive gain, best gain: -inf\n",
      "[LightGBM] [Warning] No further splits with positive gain, best gain: -inf\n",
      "[LightGBM] [Warning] No further splits with positive gain, best gain: -inf\n",
      "[LightGBM] [Warning] No further splits with positive gain, best gain: -inf\n",
      "[LightGBM] [Warning] No further splits with positive gain, best gain: -inf\n",
      "[LightGBM] [Warning] No further splits with positive gain, best gain: -inf\n",
      "[LightGBM] [Warning] No further splits with positive gain, best gain: -inf\n",
      "[LightGBM] [Warning] No further splits with positive gain, best gain: -inf\n",
      "[LightGBM] [Warning] No further splits with positive gain, best gain: -inf\n",
      "[LightGBM] [Warning] No further splits with positive gain, best gain: -inf\n",
      "[LightGBM] [Warning] No further splits with positive gain, best gain: -inf\n",
      "[LightGBM] [Warning] No further splits with positive gain, best gain: -inf\n",
      "[LightGBM] [Warning] No further splits with positive gain, best gain: -inf\n",
      "[LightGBM] [Warning] No further splits with positive gain, best gain: -inf\n",
      "[LightGBM] [Warning] No further splits with positive gain, best gain: -inf\n",
      "[LightGBM] [Warning] No further splits with positive gain, best gain: -inf\n",
      "[LightGBM] [Warning] No further splits with positive gain, best gain: -inf\n",
      "[LightGBM] [Warning] No further splits with positive gain, best gain: -inf\n",
      "[LightGBM] [Warning] No further splits with positive gain, best gain: -inf\n",
      "[LightGBM] [Warning] No further splits with positive gain, best gain: -inf\n",
      "[LightGBM] [Warning] No further splits with positive gain, best gain: -inf\n",
      "[LightGBM] [Warning] No further splits with positive gain, best gain: -inf\n",
      "[LightGBM] [Warning] No further splits with positive gain, best gain: -inf\n",
      "[LightGBM] [Warning] No further splits with positive gain, best gain: -inf\n",
      "[LightGBM] [Warning] No further splits with positive gain, best gain: -inf\n",
      "[LightGBM] [Warning] No further splits with positive gain, best gain: -inf\n",
      "[LightGBM] [Warning] No further splits with positive gain, best gain: -inf\n",
      "[LightGBM] [Warning] No further splits with positive gain, best gain: -inf\n",
      "[LightGBM] [Warning] No further splits with positive gain, best gain: -inf\n",
      "[LightGBM] [Warning] No further splits with positive gain, best gain: -inf\n",
      "[LightGBM] [Warning] No further splits with positive gain, best gain: -inf\n",
      "[LightGBM] [Warning] No further splits with positive gain, best gain: -inf\n",
      "[LightGBM] [Warning] No further splits with positive gain, best gain: -inf\n",
      "[LightGBM] [Warning] No further splits with positive gain, best gain: -inf\n",
      "[LightGBM] [Warning] No further splits with positive gain, best gain: -inf\n",
      "[LightGBM] [Warning] No further splits with positive gain, best gain: -inf\n",
      "[LightGBM] [Warning] No further splits with positive gain, best gain: -inf\n",
      "[LightGBM] [Warning] No further splits with positive gain, best gain: -inf\n",
      "[LightGBM] [Warning] No further splits with positive gain, best gain: -inf\n",
      "[LightGBM] [Warning] No further splits with positive gain, best gain: -inf\n",
      "[LightGBM] [Warning] No further splits with positive gain, best gain: -inf\n",
      "[LightGBM] [Warning] No further splits with positive gain, best gain: -inf\n",
      "[LightGBM] [Warning] No further splits with positive gain, best gain: -inf\n",
      "[LightGBM] [Warning] No further splits with positive gain, best gain: -inf\n",
      "[LightGBM] [Warning] No further splits with positive gain, best gain: -inf\n",
      "[LightGBM] [Warning] No further splits with positive gain, best gain: -inf\n",
      "[LightGBM] [Warning] No further splits with positive gain, best gain: -inf\n",
      "[LightGBM] [Warning] No further splits with positive gain, best gain: -inf\n",
      "[LightGBM] [Warning] No further splits with positive gain, best gain: -inf\n",
      "[LightGBM] [Warning] No further splits with positive gain, best gain: -inf\n",
      "[LightGBM] [Warning] No further splits with positive gain, best gain: -inf\n",
      "[LightGBM] [Warning] No further splits with positive gain, best gain: -inf\n",
      "[LightGBM] [Warning] No further splits with positive gain, best gain: -inf\n",
      "[LightGBM] [Warning] No further splits with positive gain, best gain: -inf\n",
      "[LightGBM] [Warning] No further splits with positive gain, best gain: -inf\n",
      "[LightGBM] [Warning] No further splits with positive gain, best gain: -inf\n",
      "[LightGBM] [Warning] No further splits with positive gain, best gain: -inf\n",
      "[LightGBM] [Warning] No further splits with positive gain, best gain: -inf\n",
      "[LightGBM] [Warning] No further splits with positive gain, best gain: -inf\n",
      "[LightGBM] [Warning] No further splits with positive gain, best gain: -inf\n",
      "[LightGBM] [Warning] No further splits with positive gain, best gain: -inf\n",
      "[LightGBM] [Warning] No further splits with positive gain, best gain: -inf\n",
      "[LightGBM] [Warning] No further splits with positive gain, best gain: -inf\n",
      "[LightGBM] [Warning] No further splits with positive gain, best gain: -inf\n",
      "[LightGBM] [Warning] No further splits with positive gain, best gain: -inf\n",
      "[LightGBM] [Warning] No further splits with positive gain, best gain: -inf\n",
      "[LightGBM] [Warning] No further splits with positive gain, best gain: -inf\n",
      "[LightGBM] [Warning] No further splits with positive gain, best gain: -inf\n",
      "[LightGBM] [Warning] No further splits with positive gain, best gain: -inf\n",
      "[LightGBM] [Warning] No further splits with positive gain, best gain: -inf\n",
      "[LightGBM] [Warning] No further splits with positive gain, best gain: -inf\n",
      "[LightGBM] [Warning] No further splits with positive gain, best gain: -inf\n",
      "[LightGBM] [Warning] No further splits with positive gain, best gain: -inf\n"
     ]
    },
    {
     "data": {
      "text/html": [
       "<div>\n",
       "<style scoped>\n",
       "    .dataframe tbody tr th:only-of-type {\n",
       "        vertical-align: middle;\n",
       "    }\n",
       "\n",
       "    .dataframe tbody tr th {\n",
       "        vertical-align: top;\n",
       "    }\n",
       "\n",
       "    .dataframe thead th {\n",
       "        text-align: right;\n",
       "    }\n",
       "</style>\n",
       "<table border=\"1\" class=\"dataframe\">\n",
       "  <thead>\n",
       "    <tr style=\"text-align: right;\">\n",
       "      <th></th>\n",
       "      <th>Model</th>\n",
       "      <th>RMSE_train</th>\n",
       "      <th>Train_time</th>\n",
       "    </tr>\n",
       "  </thead>\n",
       "  <tbody>\n",
       "    <tr>\n",
       "      <th>1</th>\n",
       "      <td>Linear_1</td>\n",
       "      <td>31.09</td>\n",
       "      <td>0.030</td>\n",
       "    </tr>\n",
       "    <tr>\n",
       "      <th>2</th>\n",
       "      <td>Ridge_1</td>\n",
       "      <td>31.09</td>\n",
       "      <td>0.020</td>\n",
       "    </tr>\n",
       "    <tr>\n",
       "      <th>3</th>\n",
       "      <td>Lasso_1</td>\n",
       "      <td>31.10</td>\n",
       "      <td>0.020</td>\n",
       "    </tr>\n",
       "    <tr>\n",
       "      <th>4</th>\n",
       "      <td>ElasticNet_1</td>\n",
       "      <td>31.14</td>\n",
       "      <td>0.020</td>\n",
       "    </tr>\n",
       "    <tr>\n",
       "      <th>5</th>\n",
       "      <td>LGBMClassifier_1</td>\n",
       "      <td>33.35</td>\n",
       "      <td>22.470</td>\n",
       "    </tr>\n",
       "    <tr>\n",
       "      <th>0</th>\n",
       "      <td>Dummy_mean_1</td>\n",
       "      <td>36.00</td>\n",
       "      <td>0.002</td>\n",
       "    </tr>\n",
       "  </tbody>\n",
       "</table>\n",
       "</div>"
      ],
      "text/plain": [
       "              Model  RMSE_train  Train_time\n",
       "1          Linear_1       31.09       0.030\n",
       "2           Ridge_1       31.09       0.020\n",
       "3           Lasso_1       31.10       0.020\n",
       "4      ElasticNet_1       31.14       0.020\n",
       "5  LGBMClassifier_1       33.35      22.470\n",
       "0      Dummy_mean_1       36.00       0.002"
      ]
     },
     "execution_count": 19,
     "metadata": {},
     "output_type": "execute_result"
    }
   ],
   "source": [
    "train_boosting(\n",
    "    X_train,\n",
    "    y_train,\n",
    "    b_pipe_final,\n",
    "    b_rs_grid,\n",
    "    model_num\n",
    ")\n",
    "\n",
    "\n",
    "total_results.sort_values(by='RMSE_train')"
   ]
  },
  {
   "cell_type": "markdown",
   "metadata": {},
   "source": [
    "#### Нейронная сеть"
   ]
  },
  {
   "cell_type": "code",
   "execution_count": 20,
   "metadata": {},
   "outputs": [],
   "source": [
    "# вводные\n",
    "num_epochs = 2000\n",
    "loss_fn = nn.MSELoss()\n",
    "\n",
    "def kaiming_uni(layer):\n",
    "    if type(layer) == nn.Linear:\n",
    "        nn.init.kaiming_uniform_(layer.weight, mode='fan_in', nonlinearity='relu')"
   ]
  },
  {
   "cell_type": "code",
   "execution_count": 21,
   "metadata": {},
   "outputs": [],
   "source": [
    "class Net13(nn.Module):\n",
    "    def __init__(self, input_dim, middle_dim, dropout=0.5):\n",
    "        super(Net13, self).__init__()\n",
    "        self.net = nn.Sequential(\n",
    "            nn.Linear(input_dim, middle_dim),\n",
    "            nn.Dropout(p=dropout),\n",
    "            nn.ReLU(),\n",
    "            nn.Linear(middle_dim, 1)\n",
    "        )\n",
    "        self.net.apply(kaiming_uni)\n",
    "\n",
    "    def forward(self, x):\n",
    "        return self.net(x)"
   ]
  },
  {
   "cell_type": "code",
   "execution_count": 22,
   "metadata": {},
   "outputs": [],
   "source": [
    "# Сетка гиперпарамтеров\n",
    "param_distributions = {\n",
    "    'dropout': uniform(0.2, 0.6),               # от 0.2 до 0.7\n",
    "    'lr': loguniform(1e-4, 1e-2),               # [0.0001, 0.01]          \n",
    "}\n",
    "\n",
    "samples = list(ParameterSampler(param_distributions, n_iter=5, random_state=seed))"
   ]
  },
  {
   "cell_type": "code",
   "execution_count": 23,
   "metadata": {},
   "outputs": [],
   "source": [
    "def train_full_batch_cv(\n",
    "    net_factory, X_df, y, loss_fn, sample, model_num, n_splits=5, num_epochs=1000, patience=500,\n",
    "    seed=seed, num=1, modelsss=None, resss=None, trans=None\n",
    "):\n",
    "    tscv = TimeSeriesSplit(n_splits=n_splits)\n",
    "\n",
    "    rmse_list = []\n",
    "    train_time_list = []\n",
    "\n",
    "    for fold, (train_idx, val_idx) in enumerate(tscv.split(X_df)):\n",
    "        print(f'\\n📅 Fold {fold+1}/{n_splits}')\n",
    "\n",
    "        X_train = X_df.iloc[train_idx]\n",
    "        X_val = X_df.iloc[val_idx]\n",
    "        y_train = y.iloc[train_idx]\n",
    "        y_val = y.iloc[val_idx]\n",
    "\n",
    "        # --- Преобразование ---\n",
    "        std_nn = StandardScaler()\n",
    "        \n",
    "        X_train_scaled = std_nn.fit_transform(X_train)\n",
    "        X_val_scaled = std_nn.transform(X_val)          \n",
    "            \n",
    "        X_train_tensor = torch.tensor(X_train_scaled, dtype=torch.float32)\n",
    "        X_val_tensor = torch.tensor(X_val_scaled, dtype=torch.float32)\n",
    "        y_train_tensor = torch.tensor(y_train.values, dtype=torch.float32).unsqueeze(1)\n",
    "        y_val_tensor = torch.tensor(y_val.values, dtype=torch.float32).unsqueeze(1)\n",
    "\n",
    "        # --- Модель ---\n",
    "        input_dim = X_train_tensor.shape[1]\n",
    "        middle_dim = round(input_dim / 2)\n",
    "        model = net_factory(input_dim, middle_dim, sample['dropout'])\n",
    "        optimizer = torch.optim.Adam(model.parameters(), lr=sample['lr'])\n",
    "\n",
    "        best_loss = float('inf')\n",
    "        no_improve = 0\n",
    "        start_time = time.time()\n",
    "\n",
    "        for epoch in range(num_epochs):\n",
    "            model.train()\n",
    "            y_pred = model(X_train_tensor)\n",
    "            loss = loss_fn(y_pred, y_train_tensor)\n",
    "\n",
    "            optimizer.zero_grad()\n",
    "            loss.backward()\n",
    "            optimizer.step()\n",
    "\n",
    "            model.eval()\n",
    "            with torch.no_grad():\n",
    "                val_pred = model(X_val_tensor)\n",
    "                val_loss = loss_fn(val_pred, y_val_tensor)\n",
    "\n",
    "            if val_loss.item() < best_loss:\n",
    "                best_loss = val_loss.item()\n",
    "                no_improve = 0\n",
    "            else:\n",
    "                no_improve += 1\n",
    "\n",
    "            if no_improve >= patience:\n",
    "                print(f'  🚦 Early stopped at epoch {epoch}')\n",
    "                break\n",
    "\n",
    "        duration = round(time.time() - start_time, 2)\n",
    "\n",
    "        val_rmse = round(np.sqrt(mean_squared_error(y_val_tensor, val_pred)), 2)\n",
    "        print(f'✅ Fold {fold+1} RMSE: {val_rmse}')\n",
    "\n",
    "        rmse_list.append(val_rmse)\n",
    "        train_time_list.append(duration)\n",
    "\n",
    "    # --- Усреднение ---\n",
    "    mean_rmse = round(np.mean(rmse_list), 4)\n",
    "    total_train_time = round(np.sum(train_time_list), 2)\n",
    "\n",
    "    print(f'\\n📊 AVG RMSE: {mean_rmse}, TOTAL TRAIN TIME: {total_train_time} sec')\n",
    "\n",
    "    # --- Сохраняем только финальный результат и финальную модель ---\n",
    "    modelsss[f'nn_{num}_{model_num}'] = model\n",
    "    resss[f'nn_{num}_{model_num}'] = {\n",
    "        'RMSE': mean_rmse,\n",
    "        'Train_time': total_train_time\n",
    "    }\n",
    "    trans[f'std'] = std_nn\n",
    "    \n",
    "    return mean_rmse, total_train_time"
   ]
  },
  {
   "cell_type": "code",
   "execution_count": 24,
   "metadata": {},
   "outputs": [],
   "source": [
    "def train_neural_nets_batch(net_class, X_train, y_train, loss_fn,\n",
    "    samples, model_num, num_epochs, patience, n_splits, seed):\n",
    "    global best_models, total_results\n",
    "    \n",
    "    modelsss = {}\n",
    "    resss = {}\n",
    "    trans = {}\n",
    "    num = 0\n",
    "\n",
    "    for i, sample in enumerate(samples):\n",
    "        num += 1\n",
    "        print(f\"\\n🔁 Config {i+1}/{len(samples)}: {sample}\")\n",
    "\n",
    "        train_full_batch_cv(\n",
    "            net_class,\n",
    "            X_train,\n",
    "            y_train,\n",
    "            loss_fn,\n",
    "            sample,\n",
    "            model_num,\n",
    "            num_epochs=num_epochs,\n",
    "            patience=patience,\n",
    "            n_splits=n_splits,\n",
    "            seed=seed,\n",
    "            num=num,\n",
    "            modelsss=modelsss,\n",
    "            resss=resss,\n",
    "            trans=trans\n",
    "        )\n",
    "\n",
    "    # --- Сохраняем результат лучшей модели ---\n",
    "    row = pd.DataFrame(resss).T.sort_values('RMSE').reset_index().iloc[0]\n",
    "    nn_row = {\n",
    "        \"Model\": row['index'],\n",
    "        \"RMSE_train\": row['RMSE'],\n",
    "        \"Train_time\": row['Train_time']\n",
    "    }\n",
    "    total_results = pd.concat([total_results, pd.DataFrame([nn_row])], ignore_index=True)\n",
    "    best_m_name = row['index']\n",
    "    best_models[best_m_name] = modelsss[best_m_name]"
   ]
  },
  {
   "cell_type": "code",
   "execution_count": 25,
   "metadata": {
    "scrolled": true
   },
   "outputs": [
    {
     "name": "stdout",
     "output_type": "stream",
     "text": [
      "\n",
      "🔁 Config 1/5: {'dropout': np.float64(0.4247240713084175), 'lr': np.float64(0.007969454818643935)}\n",
      "\n",
      "📅 Fold 1/3\n",
      "  🚦 Early stopped at epoch 1419\n",
      "✅ Fold 1 RMSE: 37.0\n",
      "\n",
      "📅 Fold 2/3\n",
      "  🚦 Early stopped at epoch 1644\n",
      "✅ Fold 2 RMSE: 35.24\n",
      "\n",
      "📅 Fold 3/3\n",
      "  🚦 Early stopped at epoch 720\n",
      "✅ Fold 3 RMSE: 42.65\n",
      "\n",
      "📊 AVG RMSE: 38.2967, TOTAL TRAIN TIME: 9.61 sec\n",
      "\n",
      "🔁 Config 2/5: {'dropout': np.float64(0.6391963650868431), 'lr': np.float64(0.0015751320499779737)}\n",
      "\n",
      "📅 Fold 1/3\n",
      "✅ Fold 1 RMSE: 50.27\n",
      "\n",
      "📅 Fold 2/3\n",
      "✅ Fold 2 RMSE: 65.21\n",
      "\n",
      "📅 Fold 3/3\n",
      "  🚦 Early stopped at epoch 1724\n",
      "✅ Fold 3 RMSE: 58.5\n",
      "\n",
      "📊 AVG RMSE: 57.9933, TOTAL TRAIN TIME: 12.91 sec\n",
      "\n",
      "🔁 Config 3/5: {'dropout': np.float64(0.2936111842654619), 'lr': np.float64(0.00020511104188433984)}\n",
      "\n",
      "📅 Fold 1/3\n",
      "✅ Fold 1 RMSE: 72.16\n",
      "\n",
      "📅 Fold 2/3\n",
      "✅ Fold 2 RMSE: 79.4\n",
      "\n",
      "📅 Fold 3/3\n",
      "✅ Fold 3 RMSE: 97.21\n",
      "\n",
      "📊 AVG RMSE: 82.9233, TOTAL TRAIN TIME: 13.19 sec\n",
      "\n",
      "🔁 Config 4/5: {'dropout': np.float64(0.23485016730091968), 'lr': np.float64(0.005399484409787433)}\n",
      "\n",
      "📅 Fold 1/3\n",
      "✅ Fold 1 RMSE: 30.67\n",
      "\n",
      "📅 Fold 2/3\n",
      "  🚦 Early stopped at epoch 988\n",
      "✅ Fold 2 RMSE: 34.26\n",
      "\n",
      "📅 Fold 3/3\n",
      "  🚦 Early stopped at epoch 1431\n",
      "✅ Fold 3 RMSE: 36.75\n",
      "\n",
      "📊 AVG RMSE: 33.8933, TOTAL TRAIN TIME: 10.59 sec\n",
      "\n",
      "🔁 Config 5/5: {'dropout': np.float64(0.5606690070459253), 'lr': np.float64(0.0026070247583707684)}\n",
      "\n",
      "📅 Fold 1/3\n",
      "✅ Fold 1 RMSE: 38.73\n",
      "\n",
      "📅 Fold 2/3\n",
      "✅ Fold 2 RMSE: 55.86\n",
      "\n",
      "📅 Fold 3/3\n",
      "  🚦 Early stopped at epoch 1929\n",
      "✅ Fold 3 RMSE: 45.25\n",
      "\n",
      "📊 AVG RMSE: 46.6133, TOTAL TRAIN TIME: 10.66 sec\n"
     ]
    },
    {
     "data": {
      "text/html": [
       "<div>\n",
       "<style scoped>\n",
       "    .dataframe tbody tr th:only-of-type {\n",
       "        vertical-align: middle;\n",
       "    }\n",
       "\n",
       "    .dataframe tbody tr th {\n",
       "        vertical-align: top;\n",
       "    }\n",
       "\n",
       "    .dataframe thead th {\n",
       "        text-align: right;\n",
       "    }\n",
       "</style>\n",
       "<table border=\"1\" class=\"dataframe\">\n",
       "  <thead>\n",
       "    <tr style=\"text-align: right;\">\n",
       "      <th></th>\n",
       "      <th>Model</th>\n",
       "      <th>RMSE_train</th>\n",
       "      <th>Train_time</th>\n",
       "    </tr>\n",
       "  </thead>\n",
       "  <tbody>\n",
       "    <tr>\n",
       "      <th>1</th>\n",
       "      <td>Linear_1</td>\n",
       "      <td>31.0900</td>\n",
       "      <td>0.030</td>\n",
       "    </tr>\n",
       "    <tr>\n",
       "      <th>2</th>\n",
       "      <td>Ridge_1</td>\n",
       "      <td>31.0900</td>\n",
       "      <td>0.020</td>\n",
       "    </tr>\n",
       "    <tr>\n",
       "      <th>3</th>\n",
       "      <td>Lasso_1</td>\n",
       "      <td>31.1000</td>\n",
       "      <td>0.020</td>\n",
       "    </tr>\n",
       "    <tr>\n",
       "      <th>4</th>\n",
       "      <td>ElasticNet_1</td>\n",
       "      <td>31.1400</td>\n",
       "      <td>0.020</td>\n",
       "    </tr>\n",
       "    <tr>\n",
       "      <th>5</th>\n",
       "      <td>LGBMClassifier_1</td>\n",
       "      <td>33.3500</td>\n",
       "      <td>22.470</td>\n",
       "    </tr>\n",
       "    <tr>\n",
       "      <th>6</th>\n",
       "      <td>nn_4_1</td>\n",
       "      <td>33.8933</td>\n",
       "      <td>10.590</td>\n",
       "    </tr>\n",
       "    <tr>\n",
       "      <th>0</th>\n",
       "      <td>Dummy_mean_1</td>\n",
       "      <td>36.0000</td>\n",
       "      <td>0.002</td>\n",
       "    </tr>\n",
       "  </tbody>\n",
       "</table>\n",
       "</div>"
      ],
      "text/plain": [
       "              Model  RMSE_train  Train_time\n",
       "1          Linear_1     31.0900       0.030\n",
       "2           Ridge_1     31.0900       0.020\n",
       "3           Lasso_1     31.1000       0.020\n",
       "4      ElasticNet_1     31.1400       0.020\n",
       "5  LGBMClassifier_1     33.3500      22.470\n",
       "6            nn_4_1     33.8933      10.590\n",
       "0      Dummy_mean_1     36.0000       0.002"
      ]
     },
     "execution_count": 25,
     "metadata": {},
     "output_type": "execute_result"
    }
   ],
   "source": [
    "train_neural_nets_batch(\n",
    "    Net13,\n",
    "    X_train,\n",
    "    y_train,\n",
    "    loss_fn,\n",
    "    samples,\n",
    "    model_num,\n",
    "    num_epochs=num_epochs,\n",
    "    patience=200,\n",
    "    n_splits=3,\n",
    "    seed=seed\n",
    ")\n",
    "\n",
    "total_results.sort_values('RMSE_train')"
   ]
  },
  {
   "cell_type": "markdown",
   "metadata": {},
   "source": [
    "Лучший результат показали линейные модели, как по качесву так и по времени обучения. Лучшая - линейная регрессия (Linear_1) со значением метрики 31."
   ]
  },
  {
   "cell_type": "markdown",
   "metadata": {},
   "source": [
    "**Функция обучения моделей**"
   ]
  },
  {
   "cell_type": "code",
   "execution_count": 26,
   "metadata": {},
   "outputs": [],
   "source": [
    "def consolid_train(\n",
    "    X_train, y_train, X_test, y_test,\n",
    "    lr_pipe_final, lr_rs_grid,\n",
    "    b_pipe_final, b_rs_grid,\n",
    "    Net13, loss_fn, samples, num_epochs, seed,\n",
    "    model_num):\n",
    "    \n",
    "    # Дамми модель\n",
    "    train_dummy(\n",
    "        X_train,\n",
    "        y_train,\n",
    "        X_test,\n",
    "        y_test,\n",
    "        model_num,\n",
    "        strategy='mean',\n",
    "        name='Dummy_mean'\n",
    "    )\n",
    "\n",
    "    # Линейная регрессия\n",
    "    train_linear(\n",
    "        X_train,\n",
    "        y_train,\n",
    "        lr_pipe_final,\n",
    "        lr_rs_grid,\n",
    "        model_num\n",
    "    )\n",
    "\n",
    "    # Бустинг модели\n",
    "    train_boosting(\n",
    "        X_train,\n",
    "        y_train,\n",
    "        b_pipe_final,\n",
    "        b_rs_grid,\n",
    "        model_num\n",
    "    )\n",
    "\n",
    "    # Нейронная сеть\n",
    "    train_neural_nets_batch(\n",
    "        Net13,\n",
    "        X_train,\n",
    "        y_train,\n",
    "        loss_fn,\n",
    "        samples,\n",
    "        model_num,\n",
    "        num_epochs=num_epochs,\n",
    "        patience=200,\n",
    "        n_splits=3,\n",
    "        seed=seed\n",
    "    )"
   ]
  },
  {
   "cell_type": "markdown",
   "metadata": {},
   "source": [
    "#### Анализ остатков лучшей модели"
   ]
  },
  {
   "cell_type": "code",
   "execution_count": 27,
   "metadata": {},
   "outputs": [
    {
     "data": {
      "image/png": "[encoded data removed]",
      "text/plain": [
       "<Figure size 640x480 with 1 Axes>"
      ]
     },
     "metadata": {},
     "output_type": "display_data"
    },
    {
     "name": "stdout",
     "output_type": "stream",
     "text": [
      "Значимые лаги: [  0   1   3   4   5   6  11  12  13  18  19  20  21  23  24  25  27  28\n",
      "  29  30  36  42  43  44  45  47  48  49  51  52  53  60  61  67  68  69\n",
      "  71  72  73  75  76  77  84  91  92  93  95  96  97  99 100 107 108 116\n",
      " 119 120 121 123 124 125 132 139 140 141 143 144 147 148 149 156 163 164\n",
      " 165 167 168 169 171 172 179 180 187 188 191 192 195 196]\n"
     ]
    }
   ],
   "source": [
    "# Например, на тесте\n",
    "bm = best_models['Linear_1']\n",
    "y_pred = bm.predict(X_val)\n",
    "\n",
    "residuals = y_val - y_pred\n",
    "\n",
    "# ACF остатков\n",
    "plot_acf(residuals, lags=200)\n",
    "plt.title('ACF of Residuals')\n",
    "plt.show()\n",
    "\n",
    "\n",
    "# ACF-значения\n",
    "acf_values = sm.tsa.acf(residuals, nlags=200)\n",
    "\n",
    "# Значение критического доверительного интервала\n",
    "# (по умолчанию примерно 95% доверие)\n",
    "n = len(residuals)\n",
    "conf_int = 1.96 / np.sqrt(n)\n",
    "\n",
    "# Найти лаги, которые значимы (за пределами доверительного интервала)\n",
    "significant_lags = np.where(np.abs(acf_values) > conf_int)[0]\n",
    "\n",
    "print(\"Значимые лаги:\", significant_lags)\n",
    "#print(\"ACF для этих лагов:\", acf_values[significant_lags])"
   ]
  },
  {
   "cell_type": "markdown",
   "metadata": {},
   "source": [
    "Остатки автокоррелированы, значит модель недостаточно хорошо описывает структуру временного ряда. Добавим статистически значимые лаги в данные и обучим новую модель."
   ]
  },
  {
   "cell_type": "markdown",
   "metadata": {},
   "source": [
    "**Анализ остатков**"
   ]
  },
  {
   "cell_type": "code",
   "execution_count": 28,
   "metadata": {},
   "outputs": [],
   "source": [
    "def residuals_analysis(y_true, y_pred):\n",
    "    df_graph = pd.DataFrame({\n",
    "        'True': y_true,\n",
    "        'Pred': y_pred,\n",
    "        'Residuals': y_true-y_pred\n",
    "    })\n",
    "    \n",
    "    sns.scatterplot(data=df_graph, x='Pred', y='Residuals')\n",
    "    plt.xlabel('Predicted')\n",
    "    plt.ylabel('Residuals')\n",
    "    plt.title('True vs Predicted Scatter Plot')\n",
    "    plt.show()"
   ]
  },
  {
   "cell_type": "code",
   "execution_count": 29,
   "metadata": {},
   "outputs": [
    {
     "data": {
      "image/png": "[encoded data removed]",
      "text/plain": [
       "<Figure size 640x480 with 1 Axes>"
      ]
     },
     "metadata": {},
     "output_type": "display_data"
    }
   ],
   "source": [
    "residuals_analysis(y_val, y_pred)"
   ]
  },
  {
   "cell_type": "markdown",
   "metadata": {},
   "source": [
    "С ростом предсказаного значения растет и дисперсия, что говорит о том, что требуются улучшения. Хотя в общем, большая часть прежсказаний лежат в диапазоне от -75 до 75. Едем дальше"
   ]
  },
  {
   "cell_type": "markdown",
   "metadata": {},
   "source": [
    "#### Обучение модели на данных с лагами"
   ]
  },
  {
   "cell_type": "markdown",
   "metadata": {},
   "source": [
    "**Добавление лаговых признаков и разделение тренирвоочную и тестовую выборки**"
   ]
  },
  {
   "cell_type": "code",
   "execution_count": 30,
   "metadata": {
    "scrolled": true
   },
   "outputs": [
    {
     "data": {
      "text/plain": [
       "(4416, 95)"
      ]
     },
     "execution_count": 30,
     "metadata": {},
     "output_type": "execute_result"
    }
   ],
   "source": [
    "df_hour_2 = df_hour.copy()\n",
    "feature_maker(df_hour_2, lags=list(significant_lags[1:]))\n",
    "df_hour_2.shape"
   ]
  },
  {
   "cell_type": "code",
   "execution_count": 31,
   "metadata": {},
   "outputs": [
    {
     "data": {
      "text/plain": [
       "((3380, 94), (398, 94), (442, 94))"
      ]
     },
     "execution_count": 31,
     "metadata": {},
     "output_type": "execute_result"
    }
   ],
   "source": [
    "train_2, test_2 = train_test_split(df_hour_2, shuffle=False, test_size=0.1)\n",
    "train_2, val_2 = train_test_split(train_2, shuffle=False, test_size=0.1)\n",
    "train_2 = train_2.dropna()\n",
    "\n",
    "X_train_2 = train_2.drop([\n",
    "    'num_orders'\n",
    "], axis=1).reset_index(drop=True)\n",
    "\n",
    "X_val_2 = val_2.drop([\n",
    "    'num_orders'\n",
    "], axis=1).reset_index(drop=True)\n",
    "\n",
    "\n",
    "X_test_2 = test_2.drop([\n",
    "    'num_orders'\n",
    "], axis=1).reset_index(drop=True)\n",
    "\n",
    "\n",
    "y_train_2 = train_2['num_orders']\n",
    "y_val_2 = val_2['num_orders']\n",
    "y_test_2 = test_2['num_orders']\n",
    "\n",
    "num_cols = X_train_2.select_dtypes(include='number').columns\n",
    "\n",
    "\n",
    "# кроссвалидация\n",
    "tscv = TimeSeriesSplit(n_splits=3)\n",
    "\n",
    "X_train_2.shape, X_val_2.shape, X_test_2.shape"
   ]
  },
  {
   "cell_type": "markdown",
   "metadata": {},
   "source": [
    "**Обучение моделей**"
   ]
  },
  {
   "cell_type": "code",
   "execution_count": 32,
   "metadata": {
    "scrolled": true
   },
   "outputs": [
    {
     "name": "stderr",
     "output_type": "stream",
     "text": [
      "C:\\Users\\Vladimir\\anaconda3\\envs\\practicum\\lib\\site-packages\\sklearn\\model_selection\\_search.py:317: UserWarning: The total space of parameters 1 is smaller than n_iter=3. Running 1 iterations. For exhaustive searches, use GridSearchCV.\n",
      "  warnings.warn(\n"
     ]
    },
    {
     "name": "stdout",
     "output_type": "stream",
     "text": [
      "Fitting 3 folds for each of 1 candidates, totalling 3 fits\n",
      "Fitting 3 folds for each of 3 candidates, totalling 9 fits\n",
      "Fitting 3 folds for each of 3 candidates, totalling 9 fits\n",
      "Fitting 3 folds for each of 3 candidates, totalling 9 fits\n",
      "Fitting 3 folds for each of 3 candidates, totalling 9 fits\n",
      "[LightGBM] [Info] Auto-choosing col-wise multi-threading, the overhead of testing was 0.004112 seconds.\n",
      "You can set `force_col_wise=true` to remove the overhead.\n",
      "[LightGBM] [Info] Total Bins 15231\n",
      "[LightGBM] [Info] Number of data points in the train set: 3380, number of used features: 94\n",
      "[LightGBM] [Info] Start training from score -8.125631\n",
      "[LightGBM] [Info] Start training from score -7.027019\n",
      "[LightGBM] [Info] Start training from score -6.333872\n",
      "[LightGBM] [Info] Start training from score -6.739337\n",
      "[LightGBM] [Info] Start training from score -6.516193\n",
      "[LightGBM] [Info] Start training from score -5.823046\n",
      "[LightGBM] [Info] Start training from score -5.823046\n",
      "[LightGBM] [Info] Start training from score -5.560682\n",
      "[LightGBM] [Info] Start training from score -6.516193\n",
      "[LightGBM] [Info] Start training from score -6.179721\n",
      "[LightGBM] [Info] Start training from score -6.516193\n",
      "[LightGBM] [Info] Start training from score -6.046189\n",
      "[LightGBM] [Info] Start training from score -5.823046\n",
      "[LightGBM] [Info] Start training from score -5.823046\n",
      "[LightGBM] [Info] Start training from score -5.727736\n",
      "[LightGBM] [Info] Start training from score -5.292418\n",
      "[LightGBM] [Info] Start training from score -5.640724\n",
      "[LightGBM] [Info] Start training from score -5.417581\n",
      "[LightGBM] [Info] Start training from score -5.292418\n",
      "[LightGBM] [Info] Start training from score -6.179721\n",
      "[LightGBM] [Info] Start training from score -5.417581\n",
      "[LightGBM] [Info] Start training from score -5.727736\n",
      "[LightGBM] [Info] Start training from score -6.046189\n",
      "[LightGBM] [Info] Start training from score -5.928406\n",
      "[LightGBM] [Info] Start training from score -5.081109\n",
      "[LightGBM] [Info] Start training from score -5.640724\n",
      "[LightGBM] [Info] Start training from score -5.823046\n",
      "[LightGBM] [Info] Start training from score -5.640724\n",
      "[LightGBM] [Info] Start training from score -5.727736\n",
      "[LightGBM] [Info] Start training from score -6.179721\n",
      "[LightGBM] [Info] Start training from score -5.560682\n",
      "[LightGBM] [Info] Start training from score -5.292418\n",
      "[LightGBM] [Info] Start training from score -5.417581\n",
      "[LightGBM] [Info] Start training from score -4.906755\n",
      "[LightGBM] [Info] Start training from score -5.081109\n",
      "[LightGBM] [Info] Start training from score -5.081109\n",
      "[LightGBM] [Info] Start training from score -5.129899\n",
      "[LightGBM] [Info] Start training from score -4.990137\n",
      "[LightGBM] [Info] Start training from score -4.947577\n",
      "[LightGBM] [Info] Start training from score -4.793426\n",
      "[LightGBM] [Info] Start training from score -4.691644\n",
      "[LightGBM] [Info] Start training from score -5.292418\n",
      "[LightGBM] [Info] Start training from score -4.867534\n",
      "[LightGBM] [Info] Start training from score -4.691644\n",
      "[LightGBM] [Info] Start training from score -4.724434\n",
      "[LightGBM] [Info] Start training from score -4.990137\n",
      "[LightGBM] [Info] Start training from score -4.829794\n",
      "[LightGBM] [Info] Start training from score -4.906755\n",
      "[LightGBM] [Info] Start training from score -4.462069\n",
      "[LightGBM] [Info] Start training from score -4.691644\n",
      "[LightGBM] [Info] Start training from score -4.829794\n",
      "[LightGBM] [Info] Start training from score -4.691644\n",
      "[LightGBM] [Info] Start training from score -4.488045\n",
      "[LightGBM] [Info] Start training from score -4.488045\n",
      "[LightGBM] [Info] Start training from score -4.659895\n",
      "[LightGBM] [Info] Start training from score -4.514713\n",
      "[LightGBM] [Info] Start training from score -4.724434\n",
      "[LightGBM] [Info] Start training from score -4.082580\n",
      "[LightGBM] [Info] Start training from score -4.462069\n",
      "[LightGBM] [Info] Start training from score -4.387961\n",
      "[LightGBM] [Info] Start training from score -4.542112\n",
      "[LightGBM] [Info] Start training from score -4.341441\n",
      "[LightGBM] [Info] Start training from score -4.412059\n",
      "[LightGBM] [Info] Start training from score -4.724434\n",
      "[LightGBM] [Info] Start training from score -4.436752\n",
      "[LightGBM] [Info] Start training from score -4.364431\n",
      "[LightGBM] [Info] Start training from score -4.213608\n",
      "[LightGBM] [Info] Start training from score -4.542112\n",
      "[LightGBM] [Info] Start training from score -4.793426\n",
      "[LightGBM] [Info] Start training from score -4.364431\n",
      "[LightGBM] [Info] Start training from score -4.629123\n",
      "[LightGBM] [Info] Start training from score -4.542112\n",
      "[LightGBM] [Info] Start training from score -4.436752\n",
      "[LightGBM] [Info] Start training from score -4.065188\n",
      "[LightGBM] [Info] Start training from score -4.318968\n",
      "[LightGBM] [Info] Start training from score -4.570283\n",
      "[LightGBM] [Info] Start training from score -4.436752\n",
      "[LightGBM] [Info] Start training from score -4.275483\n",
      "[LightGBM] [Info] Start training from score -4.318968\n",
      "[LightGBM] [Info] Start training from score -4.724434\n",
      "[LightGBM] [Info] Start training from score -4.412059\n",
      "[LightGBM] [Info] Start training from score -4.488045\n",
      "[LightGBM] [Info] Start training from score -4.488045\n",
      "[LightGBM] [Info] Start training from score -4.387961\n",
      "[LightGBM] [Info] Start training from score -4.387961\n",
      "[LightGBM] [Info] Start training from score -4.488045\n",
      "[LightGBM] [Info] Start training from score -4.906755\n",
      "[LightGBM] [Info] Start training from score -5.081109\n",
      "[LightGBM] [Info] Start training from score -4.793426\n",
      "[LightGBM] [Info] Start training from score -4.462069\n",
      "[LightGBM] [Info] Start training from score -4.724434\n",
      "[LightGBM] [Info] Start training from score -4.758335\n",
      "[LightGBM] [Info] Start training from score -4.724434\n",
      "[LightGBM] [Info] Start training from score -4.758335\n",
      "[LightGBM] [Info] Start training from score -4.659895\n",
      "[LightGBM] [Info] Start training from score -4.629123\n",
      "[LightGBM] [Info] Start training from score -4.829794\n",
      "[LightGBM] [Info] Start training from score -4.793426\n",
      "[LightGBM] [Info] Start training from score -5.034589\n",
      "[LightGBM] [Info] Start training from score -4.990137\n",
      "[LightGBM] [Info] Start training from score -4.947577\n",
      "[LightGBM] [Info] Start training from score -4.906755\n",
      "[LightGBM] [Info] Start training from score -4.829794\n",
      "[LightGBM] [Info] Start training from score -4.691644\n",
      "[LightGBM] [Info] Start training from score -4.542112\n",
      "[LightGBM] [Info] Start training from score -5.129899\n",
      "[LightGBM] [Info] Start training from score -5.081109\n",
      "[LightGBM] [Info] Start training from score -4.659895\n",
      "[LightGBM] [Info] Start training from score -5.235259\n",
      "[LightGBM] [Info] Start training from score -5.181192\n",
      "[LightGBM] [Info] Start training from score -4.829794\n",
      "[LightGBM] [Info] Start training from score -5.486574\n",
      "[LightGBM] [Info] Start training from score -5.727736\n",
      "[LightGBM] [Info] Start training from score -5.235259\n",
      "[LightGBM] [Info] Start training from score -5.034589\n",
      "[LightGBM] [Info] Start training from score -5.353042\n",
      "[LightGBM] [Info] Start training from score -5.727736\n",
      "[LightGBM] [Info] Start training from score -5.486574\n",
      "[LightGBM] [Info] Start training from score -5.129899\n",
      "[LightGBM] [Info] Start training from score -5.034589\n",
      "[LightGBM] [Info] Start training from score -5.640724\n",
      "[LightGBM] [Info] Start training from score -5.292418\n",
      "[LightGBM] [Info] Start training from score -5.727736\n",
      "[LightGBM] [Info] Start training from score -5.353042\n",
      "[LightGBM] [Info] Start training from score -5.235259\n",
      "[LightGBM] [Info] Start training from score -6.179721\n",
      "[LightGBM] [Info] Start training from score -5.823046\n",
      "[LightGBM] [Info] Start training from score -5.928406\n",
      "[LightGBM] [Info] Start training from score -5.486574\n",
      "[LightGBM] [Info] Start training from score -5.486574\n",
      "[LightGBM] [Info] Start training from score -5.727736\n",
      "[LightGBM] [Info] Start training from score -6.179721\n",
      "[LightGBM] [Info] Start training from score -7.027019\n",
      "[LightGBM] [Info] Start training from score -6.516193\n",
      "[LightGBM] [Info] Start training from score -6.179721\n",
      "[LightGBM] [Info] Start training from score -6.516193\n",
      "[LightGBM] [Info] Start training from score -6.179721\n",
      "[LightGBM] [Info] Start training from score -5.928406\n",
      "[LightGBM] [Info] Start training from score -6.516193\n",
      "[LightGBM] [Info] Start training from score -6.516193\n",
      "[LightGBM] [Info] Start training from score -6.739337\n",
      "[LightGBM] [Info] Start training from score -7.432484\n",
      "[LightGBM] [Info] Start training from score -5.823046\n",
      "[LightGBM] [Info] Start training from score -6.046189\n",
      "[LightGBM] [Info] Start training from score -6.516193\n",
      "[LightGBM] [Info] Start training from score -6.333872\n",
      "[LightGBM] [Info] Start training from score -6.333872\n",
      "[LightGBM] [Info] Start training from score -6.516193\n",
      "[LightGBM] [Info] Start training from score -5.928406\n",
      "[LightGBM] [Info] Start training from score -6.046189\n",
      "[LightGBM] [Info] Start training from score -8.125631\n",
      "[LightGBM] [Info] Start training from score -7.432484\n",
      "[LightGBM] [Info] Start training from score -6.333872\n",
      "[LightGBM] [Info] Start training from score -6.739337\n",
      "[LightGBM] [Info] Start training from score -6.516193\n",
      "[LightGBM] [Info] Start training from score -6.516193\n",
      "[LightGBM] [Info] Start training from score -6.516193\n",
      "[LightGBM] [Info] Start training from score -7.027019\n",
      "[LightGBM] [Info] Start training from score -7.027019\n",
      "[LightGBM] [Info] Start training from score -6.739337\n",
      "[LightGBM] [Info] Start training from score -7.027019\n",
      "[LightGBM] [Info] Start training from score -6.333872\n",
      "[LightGBM] [Info] Start training from score -6.516193\n",
      "[LightGBM] [Info] Start training from score -7.432484\n",
      "[LightGBM] [Info] Start training from score -6.516193\n",
      "[LightGBM] [Info] Start training from score -7.432484\n",
      "[LightGBM] [Info] Start training from score -6.739337\n",
      "[LightGBM] [Info] Start training from score -7.027019\n",
      "[LightGBM] [Info] Start training from score -7.432484\n",
      "[LightGBM] [Info] Start training from score -7.432484\n",
      "[LightGBM] [Info] Start training from score -6.739337\n",
      "[LightGBM] [Info] Start training from score -8.125631\n",
      "[LightGBM] [Info] Start training from score -8.125631\n",
      "[LightGBM] [Info] Start training from score -6.516193\n",
      "[LightGBM] [Info] Start training from score -8.125631\n",
      "[LightGBM] [Info] Start training from score -7.027019\n",
      "[LightGBM] [Info] Start training from score -8.125631\n",
      "[LightGBM] [Info] Start training from score -8.125631\n",
      "[LightGBM] [Info] Start training from score -8.125631\n",
      "[LightGBM] [Info] Start training from score -7.432484\n",
      "[LightGBM] [Info] Start training from score -8.125631\n",
      "[LightGBM] [Info] Start training from score -7.432484\n",
      "[LightGBM] [Info] Start training from score -8.125631\n",
      "[LightGBM] [Info] Start training from score -8.125631\n",
      "[LightGBM] [Info] Start training from score -8.125631\n",
      "[LightGBM] [Info] Start training from score -8.125631\n",
      "[LightGBM] [Info] Start training from score -7.432484\n",
      "[LightGBM] [Info] Start training from score -8.125631\n",
      "[LightGBM] [Info] Start training from score -8.125631\n",
      "[LightGBM] [Info] Start training from score -8.125631\n",
      "[LightGBM] [Info] Start training from score -8.125631\n",
      "[LightGBM] [Info] Start training from score -8.125631\n",
      "[LightGBM] [Info] Start training from score -8.125631\n",
      "[LightGBM] [Info] Start training from score -8.125631\n",
      "[LightGBM] [Info] Start training from score -8.125631\n",
      "[LightGBM] [Info] Start training from score -8.125631\n",
      "[LightGBM] [Info] Start training from score -8.125631\n",
      "[LightGBM] [Info] Start training from score -8.125631\n",
      "[LightGBM] [Warning] No further splits with positive gain, best gain: -inf\n",
      "[LightGBM] [Warning] No further splits with positive gain, best gain: -inf\n",
      "[LightGBM] [Warning] No further splits with positive gain, best gain: -inf\n",
      "[LightGBM] [Warning] No further splits with positive gain, best gain: -inf\n",
      "[LightGBM] [Warning] No further splits with positive gain, best gain: -inf\n",
      "[LightGBM] [Warning] No further splits with positive gain, best gain: -inf\n",
      "[LightGBM] [Warning] No further splits with positive gain, best gain: -inf\n",
      "[LightGBM] [Warning] No further splits with positive gain, best gain: -inf\n",
      "[LightGBM] [Warning] No further splits with positive gain, best gain: -inf\n",
      "[LightGBM] [Warning] No further splits with positive gain, best gain: -inf\n",
      "[LightGBM] [Warning] No further splits with positive gain, best gain: -inf\n",
      "[LightGBM] [Warning] No further splits with positive gain, best gain: -inf\n",
      "[LightGBM] [Warning] No further splits with positive gain, best gain: -inf\n",
      "[LightGBM] [Warning] No further splits with positive gain, best gain: -inf\n",
      "[LightGBM] [Warning] No further splits with positive gain, best gain: -inf\n",
      "[LightGBM] [Warning] No further splits with positive gain, best gain: -inf\n",
      "[LightGBM] [Warning] No further splits with positive gain, best gain: -inf\n",
      "[LightGBM] [Warning] No further splits with positive gain, best gain: -inf\n",
      "[LightGBM] [Warning] No further splits with positive gain, best gain: -inf\n",
      "[LightGBM] [Warning] No further splits with positive gain, best gain: -inf\n",
      "[LightGBM] [Warning] No further splits with positive gain, best gain: -inf\n",
      "[LightGBM] [Warning] No further splits with positive gain, best gain: -inf\n",
      "[LightGBM] [Warning] No further splits with positive gain, best gain: -inf\n",
      "[LightGBM] [Warning] No further splits with positive gain, best gain: -inf\n",
      "[LightGBM] [Warning] No further splits with positive gain, best gain: -inf\n",
      "[LightGBM] [Warning] No further splits with positive gain, best gain: -inf\n",
      "[LightGBM] [Warning] No further splits with positive gain, best gain: -inf\n",
      "[LightGBM] [Warning] No further splits with positive gain, best gain: -inf\n",
      "[LightGBM] [Warning] No further splits with positive gain, best gain: -inf\n",
      "[LightGBM] [Warning] No further splits with positive gain, best gain: -inf\n",
      "[LightGBM] [Warning] No further splits with positive gain, best gain: -inf\n",
      "[LightGBM] [Warning] No further splits with positive gain, best gain: -inf\n",
      "[LightGBM] [Warning] No further splits with positive gain, best gain: -inf\n",
      "[LightGBM] [Warning] No further splits with positive gain, best gain: -inf\n",
      "[LightGBM] [Warning] No further splits with positive gain, best gain: -inf\n",
      "[LightGBM] [Warning] No further splits with positive gain, best gain: -inf\n",
      "[LightGBM] [Warning] No further splits with positive gain, best gain: -inf\n",
      "[LightGBM] [Warning] No further splits with positive gain, best gain: -inf\n",
      "[LightGBM] [Warning] No further splits with positive gain, best gain: -inf\n",
      "[LightGBM] [Warning] No further splits with positive gain, best gain: -inf\n",
      "[LightGBM] [Warning] No further splits with positive gain, best gain: -inf\n",
      "[LightGBM] [Warning] No further splits with positive gain, best gain: -inf\n",
      "[LightGBM] [Warning] No further splits with positive gain, best gain: -inf\n",
      "[LightGBM] [Warning] No further splits with positive gain, best gain: -inf\n",
      "[LightGBM] [Warning] No further splits with positive gain, best gain: -inf\n",
      "[LightGBM] [Warning] No further splits with positive gain, best gain: -inf\n",
      "[LightGBM] [Warning] No further splits with positive gain, best gain: -inf\n",
      "[LightGBM] [Warning] No further splits with positive gain, best gain: -inf\n",
      "[LightGBM] [Warning] No further splits with positive gain, best gain: -inf\n",
      "[LightGBM] [Warning] No further splits with positive gain, best gain: -inf\n",
      "[LightGBM] [Warning] No further splits with positive gain, best gain: -inf\n",
      "[LightGBM] [Warning] No further splits with positive gain, best gain: -inf\n",
      "[LightGBM] [Warning] No further splits with positive gain, best gain: -inf\n",
      "[LightGBM] [Warning] No further splits with positive gain, best gain: -inf\n",
      "[LightGBM] [Warning] No further splits with positive gain, best gain: -inf\n",
      "[LightGBM] [Warning] No further splits with positive gain, best gain: -inf\n",
      "[LightGBM] [Warning] No further splits with positive gain, best gain: -inf\n",
      "[LightGBM] [Warning] No further splits with positive gain, best gain: -inf\n",
      "[LightGBM] [Warning] No further splits with positive gain, best gain: -inf\n",
      "[LightGBM] [Warning] No further splits with positive gain, best gain: -inf\n",
      "[LightGBM] [Warning] No further splits with positive gain, best gain: -inf\n",
      "[LightGBM] [Warning] No further splits with positive gain, best gain: -inf\n",
      "[LightGBM] [Warning] No further splits with positive gain, best gain: -inf\n",
      "[LightGBM] [Warning] No further splits with positive gain, best gain: -inf\n",
      "[LightGBM] [Warning] No further splits with positive gain, best gain: -inf\n",
      "[LightGBM] [Warning] No further splits with positive gain, best gain: -inf\n",
      "[LightGBM] [Warning] No further splits with positive gain, best gain: -inf\n",
      "[LightGBM] [Warning] No further splits with positive gain, best gain: -inf\n",
      "[LightGBM] [Warning] No further splits with positive gain, best gain: -inf\n",
      "[LightGBM] [Warning] No further splits with positive gain, best gain: -inf\n",
      "[LightGBM] [Warning] No further splits with positive gain, best gain: -inf\n",
      "[LightGBM] [Warning] No further splits with positive gain, best gain: -inf\n",
      "[LightGBM] [Warning] No further splits with positive gain, best gain: -inf\n",
      "[LightGBM] [Warning] No further splits with positive gain, best gain: -inf\n",
      "[LightGBM] [Warning] No further splits with positive gain, best gain: -inf\n",
      "[LightGBM] [Warning] No further splits with positive gain, best gain: -inf\n",
      "[LightGBM] [Warning] No further splits with positive gain, best gain: -inf\n",
      "[LightGBM] [Warning] No further splits with positive gain, best gain: -inf\n",
      "[LightGBM] [Warning] No further splits with positive gain, best gain: -inf\n",
      "[LightGBM] [Warning] No further splits with positive gain, best gain: -inf\n",
      "[LightGBM] [Warning] No further splits with positive gain, best gain: -inf\n",
      "[LightGBM] [Warning] No further splits with positive gain, best gain: -inf\n",
      "[LightGBM] [Warning] No further splits with positive gain, best gain: -inf\n",
      "[LightGBM] [Warning] No further splits with positive gain, best gain: -inf\n",
      "[LightGBM] [Warning] No further splits with positive gain, best gain: -inf\n",
      "[LightGBM] [Warning] No further splits with positive gain, best gain: -inf\n",
      "[LightGBM] [Warning] No further splits with positive gain, best gain: -inf\n",
      "[LightGBM] [Warning] No further splits with positive gain, best gain: -inf\n",
      "[LightGBM] [Warning] No further splits with positive gain, best gain: -inf\n",
      "[LightGBM] [Warning] No further splits with positive gain, best gain: -inf\n",
      "[LightGBM] [Warning] No further splits with positive gain, best gain: -inf\n",
      "[LightGBM] [Warning] No further splits with positive gain, best gain: -inf\n",
      "[LightGBM] [Warning] No further splits with positive gain, best gain: -inf\n",
      "[LightGBM] [Warning] No further splits with positive gain, best gain: -inf\n",
      "[LightGBM] [Warning] No further splits with positive gain, best gain: -inf\n",
      "[LightGBM] [Warning] No further splits with positive gain, best gain: -inf\n",
      "[LightGBM] [Warning] No further splits with positive gain, best gain: -inf\n",
      "[LightGBM] [Warning] No further splits with positive gain, best gain: -inf\n",
      "[LightGBM] [Warning] No further splits with positive gain, best gain: -inf\n",
      "[LightGBM] [Warning] No further splits with positive gain, best gain: -inf\n",
      "[LightGBM] [Warning] No further splits with positive gain, best gain: -inf\n",
      "[LightGBM] [Warning] No further splits with positive gain, best gain: -inf\n",
      "[LightGBM] [Warning] No further splits with positive gain, best gain: -inf\n",
      "[LightGBM] [Warning] No further splits with positive gain, best gain: -inf\n",
      "[LightGBM] [Warning] No further splits with positive gain, best gain: -inf\n",
      "[LightGBM] [Warning] No further splits with positive gain, best gain: -inf\n",
      "[LightGBM] [Warning] No further splits with positive gain, best gain: -inf\n",
      "[LightGBM] [Warning] No further splits with positive gain, best gain: -inf\n",
      "[LightGBM] [Warning] No further splits with positive gain, best gain: -inf\n",
      "[LightGBM] [Warning] No further splits with positive gain, best gain: -inf\n",
      "[LightGBM] [Warning] No further splits with positive gain, best gain: -inf\n",
      "[LightGBM] [Warning] No further splits with positive gain, best gain: -inf\n",
      "[LightGBM] [Warning] No further splits with positive gain, best gain: -inf\n",
      "[LightGBM] [Warning] No further splits with positive gain, best gain: -inf\n",
      "[LightGBM] [Warning] No further splits with positive gain, best gain: -inf\n",
      "[LightGBM] [Warning] No further splits with positive gain, best gain: -inf\n",
      "[LightGBM] [Warning] No further splits with positive gain, best gain: -inf\n",
      "[LightGBM] [Warning] No further splits with positive gain, best gain: -inf\n",
      "[LightGBM] [Warning] No further splits with positive gain, best gain: -inf\n",
      "[LightGBM] [Warning] No further splits with positive gain, best gain: -inf\n",
      "[LightGBM] [Warning] No further splits with positive gain, best gain: -inf\n",
      "[LightGBM] [Warning] No further splits with positive gain, best gain: -inf\n",
      "[LightGBM] [Warning] No further splits with positive gain, best gain: -inf\n",
      "[LightGBM] [Warning] No further splits with positive gain, best gain: -inf\n",
      "[LightGBM] [Warning] No further splits with positive gain, best gain: -inf\n",
      "[LightGBM] [Warning] No further splits with positive gain, best gain: -inf\n",
      "[LightGBM] [Warning] No further splits with positive gain, best gain: -inf\n",
      "[LightGBM] [Warning] No further splits with positive gain, best gain: -inf\n",
      "[LightGBM] [Warning] No further splits with positive gain, best gain: -inf\n",
      "[LightGBM] [Warning] No further splits with positive gain, best gain: -inf\n",
      "[LightGBM] [Warning] No further splits with positive gain, best gain: -inf\n",
      "[LightGBM] [Warning] No further splits with positive gain, best gain: -inf\n",
      "[LightGBM] [Warning] No further splits with positive gain, best gain: -inf\n",
      "[LightGBM] [Warning] No further splits with positive gain, best gain: -inf\n",
      "[LightGBM] [Warning] No further splits with positive gain, best gain: -inf\n",
      "[LightGBM] [Warning] No further splits with positive gain, best gain: -inf\n",
      "[LightGBM] [Warning] No further splits with positive gain, best gain: -inf\n",
      "[LightGBM] [Warning] No further splits with positive gain, best gain: -inf\n",
      "[LightGBM] [Warning] No further splits with positive gain, best gain: -inf\n",
      "[LightGBM] [Warning] No further splits with positive gain, best gain: -inf\n",
      "[LightGBM] [Warning] No further splits with positive gain, best gain: -inf\n",
      "[LightGBM] [Warning] No further splits with positive gain, best gain: -inf\n",
      "[LightGBM] [Warning] No further splits with positive gain, best gain: -inf\n",
      "[LightGBM] [Warning] No further splits with positive gain, best gain: -inf\n",
      "[LightGBM] [Warning] No further splits with positive gain, best gain: -inf\n",
      "[LightGBM] [Warning] No further splits with positive gain, best gain: -inf\n",
      "[LightGBM] [Warning] No further splits with positive gain, best gain: -inf\n",
      "[LightGBM] [Warning] No further splits with positive gain, best gain: -inf\n",
      "[LightGBM] [Warning] No further splits with positive gain, best gain: -inf\n",
      "[LightGBM] [Warning] No further splits with positive gain, best gain: -inf\n",
      "[LightGBM] [Warning] No further splits with positive gain, best gain: -inf\n",
      "[LightGBM] [Warning] No further splits with positive gain, best gain: -inf\n",
      "[LightGBM] [Warning] No further splits with positive gain, best gain: -inf\n",
      "[LightGBM] [Warning] No further splits with positive gain, best gain: -inf\n",
      "[LightGBM] [Warning] No further splits with positive gain, best gain: -inf\n",
      "[LightGBM] [Warning] No further splits with positive gain, best gain: -inf\n",
      "[LightGBM] [Warning] No further splits with positive gain, best gain: -inf\n",
      "[LightGBM] [Warning] No further splits with positive gain, best gain: -inf\n",
      "[LightGBM] [Warning] No further splits with positive gain, best gain: -inf\n",
      "[LightGBM] [Warning] No further splits with positive gain, best gain: -inf\n",
      "[LightGBM] [Warning] No further splits with positive gain, best gain: -inf\n",
      "[LightGBM] [Warning] No further splits with positive gain, best gain: -inf\n",
      "[LightGBM] [Warning] No further splits with positive gain, best gain: -inf\n",
      "[LightGBM] [Warning] No further splits with positive gain, best gain: -inf\n",
      "[LightGBM] [Warning] No further splits with positive gain, best gain: -inf\n",
      "[LightGBM] [Warning] No further splits with positive gain, best gain: -inf\n",
      "[LightGBM] [Warning] No further splits with positive gain, best gain: -inf\n",
      "[LightGBM] [Warning] No further splits with positive gain, best gain: -inf\n",
      "[LightGBM] [Warning] No further splits with positive gain, best gain: -inf\n",
      "[LightGBM] [Warning] No further splits with positive gain, best gain: -inf\n",
      "[LightGBM] [Warning] No further splits with positive gain, best gain: -inf\n",
      "[LightGBM] [Warning] No further splits with positive gain, best gain: -inf\n",
      "[LightGBM] [Warning] No further splits with positive gain, best gain: -inf\n",
      "[LightGBM] [Warning] No further splits with positive gain, best gain: -inf\n",
      "[LightGBM] [Warning] No further splits with positive gain, best gain: -inf\n",
      "[LightGBM] [Warning] No further splits with positive gain, best gain: -inf\n",
      "[LightGBM] [Warning] No further splits with positive gain, best gain: -inf\n",
      "[LightGBM] [Warning] No further splits with positive gain, best gain: -inf\n",
      "[LightGBM] [Warning] No further splits with positive gain, best gain: -inf\n",
      "[LightGBM] [Warning] No further splits with positive gain, best gain: -inf\n",
      "[LightGBM] [Warning] No further splits with positive gain, best gain: -inf\n",
      "[LightGBM] [Warning] No further splits with positive gain, best gain: -inf\n",
      "[LightGBM] [Warning] No further splits with positive gain, best gain: -inf\n",
      "[LightGBM] [Warning] No further splits with positive gain, best gain: -inf\n",
      "[LightGBM] [Warning] No further splits with positive gain, best gain: -inf\n",
      "[LightGBM] [Warning] No further splits with positive gain, best gain: -inf\n",
      "[LightGBM] [Warning] No further splits with positive gain, best gain: -inf\n",
      "[LightGBM] [Warning] No further splits with positive gain, best gain: -inf\n",
      "[LightGBM] [Warning] No further splits with positive gain, best gain: -inf\n",
      "[LightGBM] [Warning] No further splits with positive gain, best gain: -inf\n",
      "[LightGBM] [Warning] No further splits with positive gain, best gain: -inf\n",
      "[LightGBM] [Warning] No further splits with positive gain, best gain: -inf\n",
      "[LightGBM] [Warning] No further splits with positive gain, best gain: -inf\n",
      "[LightGBM] [Warning] No further splits with positive gain, best gain: -inf\n",
      "[LightGBM] [Warning] No further splits with positive gain, best gain: -inf\n",
      "[LightGBM] [Warning] No further splits with positive gain, best gain: -inf\n",
      "[LightGBM] [Warning] No further splits with positive gain, best gain: -inf\n",
      "[LightGBM] [Warning] No further splits with positive gain, best gain: -inf\n",
      "[LightGBM] [Warning] No further splits with positive gain, best gain: -inf\n",
      "[LightGBM] [Warning] No further splits with positive gain, best gain: -inf\n",
      "[LightGBM] [Warning] No further splits with positive gain, best gain: -inf\n",
      "[LightGBM] [Warning] No further splits with positive gain, best gain: -inf\n",
      "[LightGBM] [Warning] No further splits with positive gain, best gain: -inf\n",
      "[LightGBM] [Warning] No further splits with positive gain, best gain: -inf\n",
      "[LightGBM] [Warning] No further splits with positive gain, best gain: -inf\n",
      "[LightGBM] [Warning] No further splits with positive gain, best gain: -inf\n",
      "[LightGBM] [Warning] No further splits with positive gain, best gain: -inf\n",
      "[LightGBM] [Warning] No further splits with positive gain, best gain: -inf\n",
      "[LightGBM] [Warning] No further splits with positive gain, best gain: -inf\n",
      "[LightGBM] [Warning] No further splits with positive gain, best gain: -inf\n",
      "[LightGBM] [Warning] No further splits with positive gain, best gain: -inf\n",
      "[LightGBM] [Warning] No further splits with positive gain, best gain: -inf\n",
      "[LightGBM] [Warning] No further splits with positive gain, best gain: -inf\n",
      "[LightGBM] [Warning] No further splits with positive gain, best gain: -inf\n",
      "[LightGBM] [Warning] No further splits with positive gain, best gain: -inf\n",
      "[LightGBM] [Warning] No further splits with positive gain, best gain: -inf\n",
      "[LightGBM] [Warning] No further splits with positive gain, best gain: -inf\n",
      "[LightGBM] [Warning] No further splits with positive gain, best gain: -inf\n",
      "[LightGBM] [Warning] No further splits with positive gain, best gain: -inf\n",
      "[LightGBM] [Warning] No further splits with positive gain, best gain: -inf\n",
      "[LightGBM] [Warning] No further splits with positive gain, best gain: -inf\n",
      "[LightGBM] [Warning] No further splits with positive gain, best gain: -inf\n",
      "[LightGBM] [Warning] No further splits with positive gain, best gain: -inf\n",
      "[LightGBM] [Warning] No further splits with positive gain, best gain: -inf\n",
      "[LightGBM] [Warning] No further splits with positive gain, best gain: -inf\n",
      "[LightGBM] [Warning] No further splits with positive gain, best gain: -inf\n",
      "[LightGBM] [Warning] No further splits with positive gain, best gain: -inf\n",
      "[LightGBM] [Warning] No further splits with positive gain, best gain: -inf\n",
      "[LightGBM] [Warning] No further splits with positive gain, best gain: -inf\n",
      "[LightGBM] [Warning] No further splits with positive gain, best gain: -inf\n",
      "[LightGBM] [Warning] No further splits with positive gain, best gain: -inf\n",
      "[LightGBM] [Warning] No further splits with positive gain, best gain: -inf\n",
      "[LightGBM] [Warning] No further splits with positive gain, best gain: -inf\n",
      "[LightGBM] [Warning] No further splits with positive gain, best gain: -inf\n",
      "[LightGBM] [Warning] No further splits with positive gain, best gain: -inf\n",
      "[LightGBM] [Warning] No further splits with positive gain, best gain: -inf\n",
      "[LightGBM] [Warning] No further splits with positive gain, best gain: -inf\n",
      "[LightGBM] [Warning] No further splits with positive gain, best gain: -inf\n",
      "[LightGBM] [Warning] No further splits with positive gain, best gain: -inf\n",
      "[LightGBM] [Warning] No further splits with positive gain, best gain: -inf\n",
      "[LightGBM] [Warning] No further splits with positive gain, best gain: -inf\n",
      "[LightGBM] [Warning] No further splits with positive gain, best gain: -inf\n",
      "[LightGBM] [Warning] No further splits with positive gain, best gain: -inf\n",
      "[LightGBM] [Warning] No further splits with positive gain, best gain: -inf\n",
      "[LightGBM] [Warning] No further splits with positive gain, best gain: -inf\n",
      "[LightGBM] [Warning] No further splits with positive gain, best gain: -inf\n",
      "[LightGBM] [Warning] No further splits with positive gain, best gain: -inf\n",
      "[LightGBM] [Warning] No further splits with positive gain, best gain: -inf\n",
      "[LightGBM] [Warning] No further splits with positive gain, best gain: -inf\n",
      "[LightGBM] [Warning] No further splits with positive gain, best gain: -inf\n",
      "[LightGBM] [Warning] No further splits with positive gain, best gain: -inf\n",
      "[LightGBM] [Warning] No further splits with positive gain, best gain: -inf\n",
      "[LightGBM] [Warning] No further splits with positive gain, best gain: -inf\n",
      "[LightGBM] [Warning] No further splits with positive gain, best gain: -inf\n",
      "[LightGBM] [Warning] No further splits with positive gain, best gain: -inf\n",
      "[LightGBM] [Warning] No further splits with positive gain, best gain: -inf\n",
      "[LightGBM] [Warning] No further splits with positive gain, best gain: -inf\n",
      "[LightGBM] [Warning] No further splits with positive gain, best gain: -inf\n",
      "[LightGBM] [Warning] No further splits with positive gain, best gain: -inf\n",
      "[LightGBM] [Warning] No further splits with positive gain, best gain: -inf\n",
      "[LightGBM] [Warning] No further splits with positive gain, best gain: -inf\n",
      "[LightGBM] [Warning] No further splits with positive gain, best gain: -inf\n",
      "[LightGBM] [Warning] No further splits with positive gain, best gain: -inf\n",
      "[LightGBM] [Warning] No further splits with positive gain, best gain: -inf\n",
      "[LightGBM] [Warning] No further splits with positive gain, best gain: -inf\n",
      "[LightGBM] [Warning] No further splits with positive gain, best gain: -inf\n",
      "[LightGBM] [Warning] No further splits with positive gain, best gain: -inf\n",
      "[LightGBM] [Warning] No further splits with positive gain, best gain: -inf\n",
      "[LightGBM] [Warning] No further splits with positive gain, best gain: -inf\n",
      "[LightGBM] [Warning] No further splits with positive gain, best gain: -inf\n",
      "[LightGBM] [Warning] No further splits with positive gain, best gain: -inf\n",
      "[LightGBM] [Warning] No further splits with positive gain, best gain: -inf\n",
      "[LightGBM] [Warning] No further splits with positive gain, best gain: -inf\n",
      "[LightGBM] [Warning] No further splits with positive gain, best gain: -inf\n",
      "[LightGBM] [Warning] No further splits with positive gain, best gain: -inf\n",
      "[LightGBM] [Warning] No further splits with positive gain, best gain: -inf\n",
      "[LightGBM] [Warning] No further splits with positive gain, best gain: -inf\n",
      "[LightGBM] [Warning] No further splits with positive gain, best gain: -inf\n",
      "[LightGBM] [Warning] No further splits with positive gain, best gain: -inf\n",
      "[LightGBM] [Warning] No further splits with positive gain, best gain: -inf\n",
      "[LightGBM] [Warning] No further splits with positive gain, best gain: -inf\n",
      "[LightGBM] [Warning] No further splits with positive gain, best gain: -inf\n",
      "[LightGBM] [Warning] No further splits with positive gain, best gain: -inf\n",
      "[LightGBM] [Warning] No further splits with positive gain, best gain: -inf\n",
      "[LightGBM] [Warning] No further splits with positive gain, best gain: -inf\n",
      "[LightGBM] [Warning] No further splits with positive gain, best gain: -inf\n",
      "[LightGBM] [Warning] No further splits with positive gain, best gain: -inf\n",
      "[LightGBM] [Warning] No further splits with positive gain, best gain: -inf\n",
      "[LightGBM] [Warning] No further splits with positive gain, best gain: -inf\n",
      "[LightGBM] [Warning] No further splits with positive gain, best gain: -inf\n",
      "[LightGBM] [Warning] No further splits with positive gain, best gain: -inf\n",
      "[LightGBM] [Warning] No further splits with positive gain, best gain: -inf\n",
      "[LightGBM] [Warning] No further splits with positive gain, best gain: -inf\n",
      "[LightGBM] [Warning] No further splits with positive gain, best gain: -inf\n",
      "[LightGBM] [Warning] No further splits with positive gain, best gain: -inf\n",
      "[LightGBM] [Warning] No further splits with positive gain, best gain: -inf\n",
      "[LightGBM] [Warning] No further splits with positive gain, best gain: -inf\n",
      "[LightGBM] [Warning] No further splits with positive gain, best gain: -inf\n",
      "[LightGBM] [Warning] No further splits with positive gain, best gain: -inf\n",
      "[LightGBM] [Warning] No further splits with positive gain, best gain: -inf\n",
      "[LightGBM] [Warning] No further splits with positive gain, best gain: -inf\n",
      "[LightGBM] [Warning] No further splits with positive gain, best gain: -inf\n",
      "[LightGBM] [Warning] No further splits with positive gain, best gain: -inf\n",
      "[LightGBM] [Warning] No further splits with positive gain, best gain: -inf\n",
      "[LightGBM] [Warning] No further splits with positive gain, best gain: -inf\n",
      "[LightGBM] [Warning] No further splits with positive gain, best gain: -inf\n",
      "[LightGBM] [Warning] No further splits with positive gain, best gain: -inf\n",
      "[LightGBM] [Warning] No further splits with positive gain, best gain: -inf\n",
      "[LightGBM] [Warning] No further splits with positive gain, best gain: -inf\n",
      "[LightGBM] [Warning] No further splits with positive gain, best gain: -inf\n",
      "[LightGBM] [Warning] No further splits with positive gain, best gain: -inf\n",
      "[LightGBM] [Warning] No further splits with positive gain, best gain: -inf\n",
      "[LightGBM] [Warning] No further splits with positive gain, best gain: -inf\n",
      "[LightGBM] [Warning] No further splits with positive gain, best gain: -inf\n",
      "[LightGBM] [Warning] No further splits with positive gain, best gain: -inf\n",
      "[LightGBM] [Warning] No further splits with positive gain, best gain: -inf\n",
      "[LightGBM] [Warning] No further splits with positive gain, best gain: -inf\n",
      "[LightGBM] [Warning] No further splits with positive gain, best gain: -inf\n",
      "[LightGBM] [Warning] No further splits with positive gain, best gain: -inf\n",
      "[LightGBM] [Warning] No further splits with positive gain, best gain: -inf\n",
      "[LightGBM] [Warning] No further splits with positive gain, best gain: -inf\n",
      "[LightGBM] [Warning] No further splits with positive gain, best gain: -inf\n",
      "[LightGBM] [Warning] No further splits with positive gain, best gain: -inf\n",
      "[LightGBM] [Warning] No further splits with positive gain, best gain: -inf\n",
      "[LightGBM] [Warning] No further splits with positive gain, best gain: -inf\n",
      "[LightGBM] [Warning] No further splits with positive gain, best gain: -inf\n",
      "[LightGBM] [Warning] No further splits with positive gain, best gain: -inf\n",
      "[LightGBM] [Warning] No further splits with positive gain, best gain: -inf\n",
      "[LightGBM] [Warning] No further splits with positive gain, best gain: -inf\n",
      "[LightGBM] [Warning] No further splits with positive gain, best gain: -inf\n",
      "[LightGBM] [Warning] No further splits with positive gain, best gain: -inf\n",
      "[LightGBM] [Warning] No further splits with positive gain, best gain: -inf\n",
      "[LightGBM] [Warning] No further splits with positive gain, best gain: -inf\n",
      "[LightGBM] [Warning] No further splits with positive gain, best gain: -inf\n",
      "[LightGBM] [Warning] No further splits with positive gain, best gain: -inf\n",
      "[LightGBM] [Warning] No further splits with positive gain, best gain: -inf\n",
      "[LightGBM] [Warning] No further splits with positive gain, best gain: -inf\n",
      "[LightGBM] [Warning] No further splits with positive gain, best gain: -inf\n",
      "[LightGBM] [Warning] No further splits with positive gain, best gain: -inf\n",
      "[LightGBM] [Warning] No further splits with positive gain, best gain: -inf\n",
      "[LightGBM] [Warning] No further splits with positive gain, best gain: -inf\n",
      "[LightGBM] [Warning] No further splits with positive gain, best gain: -inf\n",
      "[LightGBM] [Warning] No further splits with positive gain, best gain: -inf\n",
      "[LightGBM] [Warning] No further splits with positive gain, best gain: -inf\n",
      "[LightGBM] [Warning] No further splits with positive gain, best gain: -inf\n",
      "[LightGBM] [Warning] No further splits with positive gain, best gain: -inf\n",
      "[LightGBM] [Warning] No further splits with positive gain, best gain: -inf\n",
      "[LightGBM] [Warning] No further splits with positive gain, best gain: -inf\n",
      "[LightGBM] [Warning] No further splits with positive gain, best gain: -inf\n",
      "[LightGBM] [Warning] No further splits with positive gain, best gain: -inf\n",
      "[LightGBM] [Warning] No further splits with positive gain, best gain: -inf\n",
      "[LightGBM] [Warning] No further splits with positive gain, best gain: -inf\n",
      "[LightGBM] [Warning] No further splits with positive gain, best gain: -inf\n",
      "[LightGBM] [Warning] No further splits with positive gain, best gain: -inf\n",
      "[LightGBM] [Warning] No further splits with positive gain, best gain: -inf\n",
      "[LightGBM] [Warning] No further splits with positive gain, best gain: -inf\n",
      "[LightGBM] [Warning] No further splits with positive gain, best gain: -inf\n",
      "[LightGBM] [Warning] No further splits with positive gain, best gain: -inf\n",
      "[LightGBM] [Warning] No further splits with positive gain, best gain: -inf\n",
      "[LightGBM] [Warning] No further splits with positive gain, best gain: -inf\n",
      "[LightGBM] [Warning] No further splits with positive gain, best gain: -inf\n",
      "[LightGBM] [Warning] No further splits with positive gain, best gain: -inf\n",
      "[LightGBM] [Warning] No further splits with positive gain, best gain: -inf\n",
      "[LightGBM] [Warning] No further splits with positive gain, best gain: -inf\n",
      "[LightGBM] [Warning] No further splits with positive gain, best gain: -inf\n",
      "[LightGBM] [Warning] No further splits with positive gain, best gain: -inf\n",
      "[LightGBM] [Warning] No further splits with positive gain, best gain: -inf\n",
      "[LightGBM] [Warning] No further splits with positive gain, best gain: -inf\n",
      "[LightGBM] [Warning] No further splits with positive gain, best gain: -inf\n",
      "[LightGBM] [Warning] No further splits with positive gain, best gain: -inf\n",
      "[LightGBM] [Warning] No further splits with positive gain, best gain: -inf\n",
      "[LightGBM] [Warning] No further splits with positive gain, best gain: -inf\n",
      "[LightGBM] [Warning] No further splits with positive gain, best gain: -inf\n",
      "[LightGBM] [Warning] No further splits with positive gain, best gain: -inf\n",
      "[LightGBM] [Warning] No further splits with positive gain, best gain: -inf\n",
      "[LightGBM] [Warning] No further splits with positive gain, best gain: -inf\n",
      "[LightGBM] [Warning] No further splits with positive gain, best gain: -inf\n",
      "[LightGBM] [Warning] No further splits with positive gain, best gain: -inf\n",
      "[LightGBM] [Warning] No further splits with positive gain, best gain: -inf\n",
      "[LightGBM] [Warning] No further splits with positive gain, best gain: -inf\n",
      "[LightGBM] [Warning] No further splits with positive gain, best gain: -inf\n",
      "[LightGBM] [Warning] No further splits with positive gain, best gain: -inf\n",
      "[LightGBM] [Warning] No further splits with positive gain, best gain: -inf\n",
      "[LightGBM] [Warning] No further splits with positive gain, best gain: -inf\n",
      "[LightGBM] [Warning] No further splits with positive gain, best gain: -inf\n",
      "[LightGBM] [Warning] No further splits with positive gain, best gain: -inf\n",
      "[LightGBM] [Warning] No further splits with positive gain, best gain: -inf\n",
      "[LightGBM] [Warning] No further splits with positive gain, best gain: -inf\n",
      "[LightGBM] [Warning] No further splits with positive gain, best gain: -inf\n",
      "[LightGBM] [Warning] No further splits with positive gain, best gain: -inf\n",
      "[LightGBM] [Warning] No further splits with positive gain, best gain: -inf\n",
      "[LightGBM] [Warning] No further splits with positive gain, best gain: -inf\n",
      "[LightGBM] [Warning] No further splits with positive gain, best gain: -inf\n",
      "[LightGBM] [Warning] No further splits with positive gain, best gain: -inf\n",
      "[LightGBM] [Warning] No further splits with positive gain, best gain: -inf\n",
      "[LightGBM] [Warning] No further splits with positive gain, best gain: -inf\n",
      "[LightGBM] [Warning] No further splits with positive gain, best gain: -inf\n",
      "[LightGBM] [Warning] No further splits with positive gain, best gain: -inf\n",
      "[LightGBM] [Warning] No further splits with positive gain, best gain: -inf\n",
      "[LightGBM] [Warning] No further splits with positive gain, best gain: -inf\n",
      "[LightGBM] [Warning] No further splits with positive gain, best gain: -inf\n",
      "[LightGBM] [Warning] No further splits with positive gain, best gain: -inf\n",
      "[LightGBM] [Warning] No further splits with positive gain, best gain: -inf\n",
      "[LightGBM] [Warning] No further splits with positive gain, best gain: -inf\n",
      "[LightGBM] [Warning] No further splits with positive gain, best gain: -inf\n",
      "[LightGBM] [Warning] No further splits with positive gain, best gain: -inf\n",
      "[LightGBM] [Warning] No further splits with positive gain, best gain: -inf\n",
      "[LightGBM] [Warning] No further splits with positive gain, best gain: -inf\n",
      "[LightGBM] [Warning] No further splits with positive gain, best gain: -inf\n",
      "[LightGBM] [Warning] No further splits with positive gain, best gain: -inf\n",
      "[LightGBM] [Warning] No further splits with positive gain, best gain: -inf\n",
      "[LightGBM] [Warning] No further splits with positive gain, best gain: -inf\n",
      "[LightGBM] [Warning] No further splits with positive gain, best gain: -inf\n",
      "[LightGBM] [Warning] No further splits with positive gain, best gain: -inf\n",
      "[LightGBM] [Warning] No further splits with positive gain, best gain: -inf\n",
      "[LightGBM] [Warning] No further splits with positive gain, best gain: -inf\n",
      "[LightGBM] [Warning] No further splits with positive gain, best gain: -inf\n",
      "[LightGBM] [Warning] No further splits with positive gain, best gain: -inf\n",
      "[LightGBM] [Warning] No further splits with positive gain, best gain: -inf\n",
      "[LightGBM] [Warning] No further splits with positive gain, best gain: -inf\n",
      "[LightGBM] [Warning] No further splits with positive gain, best gain: -inf\n",
      "[LightGBM] [Warning] No further splits with positive gain, best gain: -inf\n",
      "[LightGBM] [Warning] No further splits with positive gain, best gain: -inf\n",
      "[LightGBM] [Warning] No further splits with positive gain, best gain: -inf\n",
      "[LightGBM] [Warning] No further splits with positive gain, best gain: -inf\n",
      "[LightGBM] [Warning] No further splits with positive gain, best gain: -inf\n",
      "[LightGBM] [Warning] No further splits with positive gain, best gain: -inf\n",
      "[LightGBM] [Warning] No further splits with positive gain, best gain: -inf\n",
      "[LightGBM] [Warning] No further splits with positive gain, best gain: -inf\n",
      "[LightGBM] [Warning] No further splits with positive gain, best gain: -inf\n",
      "[LightGBM] [Warning] No further splits with positive gain, best gain: -inf\n",
      "[LightGBM] [Warning] No further splits with positive gain, best gain: -inf\n",
      "[LightGBM] [Warning] No further splits with positive gain, best gain: -inf\n",
      "[LightGBM] [Warning] No further splits with positive gain, best gain: -inf\n",
      "[LightGBM] [Warning] No further splits with positive gain, best gain: -inf\n",
      "[LightGBM] [Warning] No further splits with positive gain, best gain: -inf\n",
      "[LightGBM] [Warning] No further splits with positive gain, best gain: -inf\n",
      "[LightGBM] [Warning] No further splits with positive gain, best gain: -inf\n",
      "[LightGBM] [Warning] No further splits with positive gain, best gain: -inf\n",
      "[LightGBM] [Warning] No further splits with positive gain, best gain: -inf\n",
      "[LightGBM] [Warning] No further splits with positive gain, best gain: -inf\n",
      "[LightGBM] [Warning] No further splits with positive gain, best gain: -inf\n",
      "[LightGBM] [Warning] No further splits with positive gain, best gain: -inf\n",
      "[LightGBM] [Warning] No further splits with positive gain, best gain: -inf\n",
      "[LightGBM] [Warning] No further splits with positive gain, best gain: -inf\n",
      "[LightGBM] [Warning] No further splits with positive gain, best gain: -inf\n",
      "[LightGBM] [Warning] No further splits with positive gain, best gain: -inf\n",
      "[LightGBM] [Warning] No further splits with positive gain, best gain: -inf\n",
      "[LightGBM] [Warning] No further splits with positive gain, best gain: -inf\n",
      "[LightGBM] [Warning] No further splits with positive gain, best gain: -inf\n",
      "[LightGBM] [Warning] No further splits with positive gain, best gain: -inf\n",
      "[LightGBM] [Warning] No further splits with positive gain, best gain: -inf\n",
      "[LightGBM] [Warning] No further splits with positive gain, best gain: -inf\n",
      "[LightGBM] [Warning] No further splits with positive gain, best gain: -inf\n",
      "[LightGBM] [Warning] No further splits with positive gain, best gain: -inf\n",
      "[LightGBM] [Warning] No further splits with positive gain, best gain: -inf\n",
      "[LightGBM] [Warning] No further splits with positive gain, best gain: -inf\n",
      "[LightGBM] [Warning] No further splits with positive gain, best gain: -inf\n",
      "[LightGBM] [Warning] No further splits with positive gain, best gain: -inf\n",
      "[LightGBM] [Warning] No further splits with positive gain, best gain: -inf\n",
      "[LightGBM] [Warning] No further splits with positive gain, best gain: -inf\n",
      "[LightGBM] [Warning] No further splits with positive gain, best gain: -inf\n",
      "[LightGBM] [Warning] No further splits with positive gain, best gain: -inf\n",
      "[LightGBM] [Warning] No further splits with positive gain, best gain: -inf\n",
      "[LightGBM] [Warning] No further splits with positive gain, best gain: -inf\n",
      "[LightGBM] [Warning] No further splits with positive gain, best gain: -inf\n",
      "[LightGBM] [Warning] No further splits with positive gain, best gain: -inf\n",
      "[LightGBM] [Warning] No further splits with positive gain, best gain: -inf\n",
      "[LightGBM] [Warning] No further splits with positive gain, best gain: -inf\n",
      "[LightGBM] [Warning] No further splits with positive gain, best gain: -inf\n",
      "[LightGBM] [Warning] No further splits with positive gain, best gain: -inf\n",
      "[LightGBM] [Warning] No further splits with positive gain, best gain: -inf\n",
      "[LightGBM] [Warning] No further splits with positive gain, best gain: -inf\n",
      "[LightGBM] [Warning] No further splits with positive gain, best gain: -inf\n",
      "[LightGBM] [Warning] No further splits with positive gain, best gain: -inf\n",
      "[LightGBM] [Warning] No further splits with positive gain, best gain: -inf\n",
      "[LightGBM] [Warning] No further splits with positive gain, best gain: -inf\n",
      "[LightGBM] [Warning] No further splits with positive gain, best gain: -inf\n",
      "[LightGBM] [Warning] No further splits with positive gain, best gain: -inf\n",
      "[LightGBM] [Warning] No further splits with positive gain, best gain: -inf\n",
      "[LightGBM] [Warning] No further splits with positive gain, best gain: -inf\n",
      "[LightGBM] [Warning] No further splits with positive gain, best gain: -inf\n",
      "[LightGBM] [Warning] No further splits with positive gain, best gain: -inf\n",
      "[LightGBM] [Warning] No further splits with positive gain, best gain: -inf\n",
      "[LightGBM] [Warning] No further splits with positive gain, best gain: -inf\n",
      "[LightGBM] [Warning] No further splits with positive gain, best gain: -inf\n",
      "[LightGBM] [Warning] No further splits with positive gain, best gain: -inf\n",
      "[LightGBM] [Warning] No further splits with positive gain, best gain: -inf\n",
      "[LightGBM] [Warning] No further splits with positive gain, best gain: -inf\n",
      "[LightGBM] [Warning] No further splits with positive gain, best gain: -inf\n",
      "[LightGBM] [Warning] No further splits with positive gain, best gain: -inf\n",
      "[LightGBM] [Warning] No further splits with positive gain, best gain: -inf\n",
      "[LightGBM] [Warning] No further splits with positive gain, best gain: -inf\n",
      "[LightGBM] [Warning] No further splits with positive gain, best gain: -inf\n",
      "[LightGBM] [Warning] No further splits with positive gain, best gain: -inf\n",
      "[LightGBM] [Warning] No further splits with positive gain, best gain: -inf\n",
      "[LightGBM] [Warning] No further splits with positive gain, best gain: -inf\n",
      "[LightGBM] [Warning] No further splits with positive gain, best gain: -inf\n",
      "[LightGBM] [Warning] No further splits with positive gain, best gain: -inf\n",
      "[LightGBM] [Warning] No further splits with positive gain, best gain: -inf\n",
      "[LightGBM] [Warning] No further splits with positive gain, best gain: -inf\n",
      "[LightGBM] [Warning] No further splits with positive gain, best gain: -inf\n",
      "[LightGBM] [Warning] No further splits with positive gain, best gain: -inf\n",
      "[LightGBM] [Warning] No further splits with positive gain, best gain: -inf\n",
      "[LightGBM] [Warning] No further splits with positive gain, best gain: -inf\n",
      "[LightGBM] [Warning] No further splits with positive gain, best gain: -inf\n",
      "[LightGBM] [Warning] No further splits with positive gain, best gain: -inf\n",
      "[LightGBM] [Warning] No further splits with positive gain, best gain: -inf\n",
      "[LightGBM] [Warning] No further splits with positive gain, best gain: -inf\n",
      "[LightGBM] [Warning] No further splits with positive gain, best gain: -inf\n",
      "[LightGBM] [Warning] No further splits with positive gain, best gain: -inf\n",
      "[LightGBM] [Warning] No further splits with positive gain, best gain: -inf\n",
      "[LightGBM] [Warning] No further splits with positive gain, best gain: -inf\n",
      "[LightGBM] [Warning] No further splits with positive gain, best gain: -inf\n",
      "[LightGBM] [Warning] No further splits with positive gain, best gain: -inf\n",
      "[LightGBM] [Warning] No further splits with positive gain, best gain: -inf\n",
      "[LightGBM] [Warning] No further splits with positive gain, best gain: -inf\n",
      "[LightGBM] [Warning] No further splits with positive gain, best gain: -inf\n",
      "[LightGBM] [Warning] No further splits with positive gain, best gain: -inf\n",
      "[LightGBM] [Warning] No further splits with positive gain, best gain: -inf\n",
      "[LightGBM] [Warning] No further splits with positive gain, best gain: -inf\n",
      "[LightGBM] [Warning] No further splits with positive gain, best gain: -inf\n",
      "[LightGBM] [Warning] No further splits with positive gain, best gain: -inf\n",
      "[LightGBM] [Warning] No further splits with positive gain, best gain: -inf\n",
      "[LightGBM] [Warning] No further splits with positive gain, best gain: -inf\n",
      "[LightGBM] [Warning] No further splits with positive gain, best gain: -inf\n",
      "[LightGBM] [Warning] No further splits with positive gain, best gain: -inf\n",
      "[LightGBM] [Warning] No further splits with positive gain, best gain: -inf\n",
      "[LightGBM] [Warning] No further splits with positive gain, best gain: -inf\n",
      "[LightGBM] [Warning] No further splits with positive gain, best gain: -inf\n",
      "[LightGBM] [Warning] No further splits with positive gain, best gain: -inf\n",
      "[LightGBM] [Warning] No further splits with positive gain, best gain: -inf\n",
      "[LightGBM] [Warning] No further splits with positive gain, best gain: -inf\n",
      "[LightGBM] [Warning] No further splits with positive gain, best gain: -inf\n",
      "[LightGBM] [Warning] No further splits with positive gain, best gain: -inf\n",
      "[LightGBM] [Warning] No further splits with positive gain, best gain: -inf\n",
      "[LightGBM] [Warning] No further splits with positive gain, best gain: -inf\n",
      "[LightGBM] [Warning] No further splits with positive gain, best gain: -inf\n",
      "[LightGBM] [Warning] No further splits with positive gain, best gain: -inf\n",
      "[LightGBM] [Warning] No further splits with positive gain, best gain: -inf\n",
      "[LightGBM] [Warning] No further splits with positive gain, best gain: -inf\n",
      "[LightGBM] [Warning] No further splits with positive gain, best gain: -inf\n",
      "[LightGBM] [Warning] No further splits with positive gain, best gain: -inf\n",
      "[LightGBM] [Warning] No further splits with positive gain, best gain: -inf\n",
      "[LightGBM] [Warning] No further splits with positive gain, best gain: -inf\n",
      "[LightGBM] [Warning] No further splits with positive gain, best gain: -inf\n",
      "[LightGBM] [Warning] No further splits with positive gain, best gain: -inf\n",
      "[LightGBM] [Warning] No further splits with positive gain, best gain: -inf\n",
      "[LightGBM] [Warning] No further splits with positive gain, best gain: -inf\n",
      "[LightGBM] [Warning] No further splits with positive gain, best gain: -inf\n",
      "[LightGBM] [Warning] No further splits with positive gain, best gain: -inf\n",
      "[LightGBM] [Warning] No further splits with positive gain, best gain: -inf\n",
      "[LightGBM] [Warning] No further splits with positive gain, best gain: -inf\n",
      "[LightGBM] [Warning] No further splits with positive gain, best gain: -inf\n",
      "[LightGBM] [Warning] No further splits with positive gain, best gain: -inf\n",
      "[LightGBM] [Warning] No further splits with positive gain, best gain: -inf\n",
      "[LightGBM] [Warning] No further splits with positive gain, best gain: -inf\n",
      "[LightGBM] [Warning] No further splits with positive gain, best gain: -inf\n",
      "[LightGBM] [Warning] No further splits with positive gain, best gain: -inf\n",
      "[LightGBM] [Warning] No further splits with positive gain, best gain: -inf\n",
      "[LightGBM] [Warning] No further splits with positive gain, best gain: -inf\n",
      "[LightGBM] [Warning] No further splits with positive gain, best gain: -inf\n",
      "[LightGBM] [Warning] No further splits with positive gain, best gain: -inf\n",
      "[LightGBM] [Warning] No further splits with positive gain, best gain: -inf\n",
      "[LightGBM] [Warning] No further splits with positive gain, best gain: -inf\n",
      "[LightGBM] [Warning] No further splits with positive gain, best gain: -inf\n",
      "[LightGBM] [Warning] No further splits with positive gain, best gain: -inf\n",
      "[LightGBM] [Warning] No further splits with positive gain, best gain: -inf\n",
      "[LightGBM] [Warning] No further splits with positive gain, best gain: -inf\n",
      "[LightGBM] [Warning] No further splits with positive gain, best gain: -inf\n",
      "[LightGBM] [Warning] No further splits with positive gain, best gain: -inf\n",
      "[LightGBM] [Warning] No further splits with positive gain, best gain: -inf\n",
      "[LightGBM] [Warning] No further splits with positive gain, best gain: -inf\n",
      "[LightGBM] [Warning] No further splits with positive gain, best gain: -inf\n",
      "[LightGBM] [Warning] No further splits with positive gain, best gain: -inf\n",
      "[LightGBM] [Warning] No further splits with positive gain, best gain: -inf\n",
      "[LightGBM] [Warning] No further splits with positive gain, best gain: -inf\n",
      "[LightGBM] [Warning] No further splits with positive gain, best gain: -inf\n",
      "[LightGBM] [Warning] No further splits with positive gain, best gain: -inf\n",
      "[LightGBM] [Warning] No further splits with positive gain, best gain: -inf\n",
      "[LightGBM] [Warning] No further splits with positive gain, best gain: -inf\n",
      "[LightGBM] [Warning] No further splits with positive gain, best gain: -inf\n",
      "[LightGBM] [Warning] No further splits with positive gain, best gain: -inf\n",
      "[LightGBM] [Warning] No further splits with positive gain, best gain: -inf\n",
      "[LightGBM] [Warning] No further splits with positive gain, best gain: -inf\n",
      "[LightGBM] [Warning] No further splits with positive gain, best gain: -inf\n",
      "[LightGBM] [Warning] No further splits with positive gain, best gain: -inf\n",
      "[LightGBM] [Warning] No further splits with positive gain, best gain: -inf\n",
      "[LightGBM] [Warning] No further splits with positive gain, best gain: -inf\n",
      "[LightGBM] [Warning] No further splits with positive gain, best gain: -inf\n",
      "[LightGBM] [Warning] No further splits with positive gain, best gain: -inf\n",
      "[LightGBM] [Warning] No further splits with positive gain, best gain: -inf\n",
      "[LightGBM] [Warning] No further splits with positive gain, best gain: -inf\n",
      "[LightGBM] [Warning] No further splits with positive gain, best gain: -inf\n",
      "[LightGBM] [Warning] No further splits with positive gain, best gain: -inf\n",
      "[LightGBM] [Warning] No further splits with positive gain, best gain: -inf\n",
      "[LightGBM] [Warning] No further splits with positive gain, best gain: -inf\n",
      "[LightGBM] [Warning] No further splits with positive gain, best gain: -inf\n",
      "[LightGBM] [Warning] No further splits with positive gain, best gain: -inf\n",
      "[LightGBM] [Warning] No further splits with positive gain, best gain: -inf\n",
      "[LightGBM] [Warning] No further splits with positive gain, best gain: -inf\n",
      "[LightGBM] [Warning] No further splits with positive gain, best gain: -inf\n",
      "[LightGBM] [Warning] No further splits with positive gain, best gain: -inf\n",
      "[LightGBM] [Warning] No further splits with positive gain, best gain: -inf\n",
      "[LightGBM] [Warning] No further splits with positive gain, best gain: -inf\n",
      "[LightGBM] [Warning] No further splits with positive gain, best gain: -inf\n",
      "[LightGBM] [Warning] No further splits with positive gain, best gain: -inf\n",
      "[LightGBM] [Warning] No further splits with positive gain, best gain: -inf\n",
      "[LightGBM] [Warning] No further splits with positive gain, best gain: -inf\n",
      "[LightGBM] [Warning] No further splits with positive gain, best gain: -inf\n",
      "[LightGBM] [Warning] No further splits with positive gain, best gain: -inf\n",
      "[LightGBM] [Warning] No further splits with positive gain, best gain: -inf\n",
      "[LightGBM] [Warning] No further splits with positive gain, best gain: -inf\n",
      "[LightGBM] [Warning] No further splits with positive gain, best gain: -inf\n",
      "[LightGBM] [Warning] No further splits with positive gain, best gain: -inf\n",
      "[LightGBM] [Warning] No further splits with positive gain, best gain: -inf\n",
      "[LightGBM] [Warning] No further splits with positive gain, best gain: -inf\n",
      "[LightGBM] [Warning] No further splits with positive gain, best gain: -inf\n",
      "[LightGBM] [Warning] No further splits with positive gain, best gain: -inf\n",
      "[LightGBM] [Warning] No further splits with positive gain, best gain: -inf\n",
      "[LightGBM] [Warning] No further splits with positive gain, best gain: -inf\n",
      "[LightGBM] [Warning] No further splits with positive gain, best gain: -inf\n",
      "[LightGBM] [Warning] No further splits with positive gain, best gain: -inf\n",
      "[LightGBM] [Warning] No further splits with positive gain, best gain: -inf\n",
      "[LightGBM] [Warning] No further splits with positive gain, best gain: -inf\n",
      "[LightGBM] [Warning] No further splits with positive gain, best gain: -inf\n",
      "[LightGBM] [Warning] No further splits with positive gain, best gain: -inf\n",
      "[LightGBM] [Warning] No further splits with positive gain, best gain: -inf\n",
      "[LightGBM] [Warning] No further splits with positive gain, best gain: -inf\n",
      "[LightGBM] [Warning] No further splits with positive gain, best gain: -inf\n",
      "[LightGBM] [Warning] No further splits with positive gain, best gain: -inf\n",
      "[LightGBM] [Warning] No further splits with positive gain, best gain: -inf\n",
      "[LightGBM] [Warning] No further splits with positive gain, best gain: -inf\n",
      "[LightGBM] [Warning] No further splits with positive gain, best gain: -inf\n",
      "[LightGBM] [Warning] No further splits with positive gain, best gain: -inf\n",
      "[LightGBM] [Warning] No further splits with positive gain, best gain: -inf\n",
      "[LightGBM] [Warning] No further splits with positive gain, best gain: -inf\n",
      "[LightGBM] [Warning] No further splits with positive gain, best gain: -inf\n",
      "[LightGBM] [Warning] No further splits with positive gain, best gain: -inf\n",
      "[LightGBM] [Warning] No further splits with positive gain, best gain: -inf\n",
      "[LightGBM] [Warning] No further splits with positive gain, best gain: -inf\n",
      "[LightGBM] [Warning] No further splits with positive gain, best gain: -inf\n",
      "[LightGBM] [Warning] No further splits with positive gain, best gain: -inf\n",
      "[LightGBM] [Warning] No further splits with positive gain, best gain: -inf\n",
      "[LightGBM] [Warning] No further splits with positive gain, best gain: -inf\n",
      "[LightGBM] [Warning] No further splits with positive gain, best gain: -inf\n",
      "[LightGBM] [Warning] No further splits with positive gain, best gain: -inf\n",
      "[LightGBM] [Warning] No further splits with positive gain, best gain: -inf\n",
      "[LightGBM] [Warning] No further splits with positive gain, best gain: -inf\n",
      "[LightGBM] [Warning] No further splits with positive gain, best gain: -inf\n",
      "[LightGBM] [Warning] No further splits with positive gain, best gain: -inf\n",
      "[LightGBM] [Warning] No further splits with positive gain, best gain: -inf\n",
      "[LightGBM] [Warning] No further splits with positive gain, best gain: -inf\n",
      "[LightGBM] [Warning] No further splits with positive gain, best gain: -inf\n",
      "[LightGBM] [Warning] No further splits with positive gain, best gain: -inf\n",
      "[LightGBM] [Warning] No further splits with positive gain, best gain: -inf\n",
      "[LightGBM] [Warning] No further splits with positive gain, best gain: -inf\n",
      "[LightGBM] [Warning] No further splits with positive gain, best gain: -inf\n",
      "[LightGBM] [Warning] No further splits with positive gain, best gain: -inf\n",
      "[LightGBM] [Warning] No further splits with positive gain, best gain: -inf\n",
      "[LightGBM] [Warning] No further splits with positive gain, best gain: -inf\n",
      "[LightGBM] [Warning] No further splits with positive gain, best gain: -inf\n",
      "[LightGBM] [Warning] No further splits with positive gain, best gain: -inf\n",
      "[LightGBM] [Warning] No further splits with positive gain, best gain: -inf\n",
      "[LightGBM] [Warning] No further splits with positive gain, best gain: -inf\n",
      "[LightGBM] [Warning] No further splits with positive gain, best gain: -inf\n",
      "[LightGBM] [Warning] No further splits with positive gain, best gain: -inf\n",
      "[LightGBM] [Warning] No further splits with positive gain, best gain: -inf\n",
      "[LightGBM] [Warning] No further splits with positive gain, best gain: -inf\n",
      "[LightGBM] [Warning] No further splits with positive gain, best gain: -inf\n",
      "[LightGBM] [Warning] No further splits with positive gain, best gain: -inf\n",
      "[LightGBM] [Warning] No further splits with positive gain, best gain: -inf\n",
      "[LightGBM] [Warning] No further splits with positive gain, best gain: -inf\n",
      "[LightGBM] [Warning] No further splits with positive gain, best gain: -inf\n",
      "[LightGBM] [Warning] No further splits with positive gain, best gain: -inf\n",
      "[LightGBM] [Warning] No further splits with positive gain, best gain: -inf\n",
      "[LightGBM] [Warning] No further splits with positive gain, best gain: -inf\n",
      "[LightGBM] [Warning] No further splits with positive gain, best gain: -inf\n",
      "[LightGBM] [Warning] No further splits with positive gain, best gain: -inf\n",
      "[LightGBM] [Warning] No further splits with positive gain, best gain: -inf\n",
      "[LightGBM] [Warning] No further splits with positive gain, best gain: -inf\n",
      "[LightGBM] [Warning] No further splits with positive gain, best gain: -inf\n",
      "[LightGBM] [Warning] No further splits with positive gain, best gain: -inf\n",
      "[LightGBM] [Warning] No further splits with positive gain, best gain: -inf\n",
      "[LightGBM] [Warning] No further splits with positive gain, best gain: -inf\n",
      "[LightGBM] [Warning] No further splits with positive gain, best gain: -inf\n",
      "[LightGBM] [Warning] No further splits with positive gain, best gain: -inf\n",
      "[LightGBM] [Warning] No further splits with positive gain, best gain: -inf\n",
      "[LightGBM] [Warning] No further splits with positive gain, best gain: -inf\n",
      "[LightGBM] [Warning] No further splits with positive gain, best gain: -inf\n",
      "[LightGBM] [Warning] No further splits with positive gain, best gain: -inf\n",
      "[LightGBM] [Warning] No further splits with positive gain, best gain: -inf\n",
      "[LightGBM] [Warning] No further splits with positive gain, best gain: -inf\n",
      "[LightGBM] [Warning] No further splits with positive gain, best gain: -inf\n",
      "[LightGBM] [Warning] No further splits with positive gain, best gain: -inf\n",
      "[LightGBM] [Warning] No further splits with positive gain, best gain: -inf\n",
      "[LightGBM] [Warning] No further splits with positive gain, best gain: -inf\n",
      "[LightGBM] [Warning] No further splits with positive gain, best gain: -inf\n",
      "[LightGBM] [Warning] No further splits with positive gain, best gain: -inf\n",
      "[LightGBM] [Warning] No further splits with positive gain, best gain: -inf\n",
      "[LightGBM] [Warning] No further splits with positive gain, best gain: -inf\n",
      "[LightGBM] [Warning] No further splits with positive gain, best gain: -inf\n",
      "[LightGBM] [Warning] No further splits with positive gain, best gain: -inf\n",
      "[LightGBM] [Warning] No further splits with positive gain, best gain: -inf\n",
      "[LightGBM] [Warning] No further splits with positive gain, best gain: -inf\n",
      "[LightGBM] [Warning] No further splits with positive gain, best gain: -inf\n",
      "[LightGBM] [Warning] No further splits with positive gain, best gain: -inf\n",
      "[LightGBM] [Warning] No further splits with positive gain, best gain: -inf\n",
      "[LightGBM] [Warning] No further splits with positive gain, best gain: -inf\n",
      "[LightGBM] [Warning] No further splits with positive gain, best gain: -inf\n",
      "[LightGBM] [Warning] No further splits with positive gain, best gain: -inf\n",
      "[LightGBM] [Warning] No further splits with positive gain, best gain: -inf\n",
      "[LightGBM] [Warning] No further splits with positive gain, best gain: -inf\n",
      "[LightGBM] [Warning] No further splits with positive gain, best gain: -inf\n",
      "[LightGBM] [Warning] No further splits with positive gain, best gain: -inf\n",
      "[LightGBM] [Warning] No further splits with positive gain, best gain: -inf\n",
      "[LightGBM] [Warning] No further splits with positive gain, best gain: -inf\n",
      "[LightGBM] [Warning] No further splits with positive gain, best gain: -inf\n",
      "[LightGBM] [Warning] No further splits with positive gain, best gain: -inf\n",
      "[LightGBM] [Warning] No further splits with positive gain, best gain: -inf\n",
      "[LightGBM] [Warning] No further splits with positive gain, best gain: -inf\n",
      "[LightGBM] [Warning] No further splits with positive gain, best gain: -inf\n",
      "[LightGBM] [Warning] No further splits with positive gain, best gain: -inf\n",
      "[LightGBM] [Warning] No further splits with positive gain, best gain: -inf\n",
      "[LightGBM] [Warning] No further splits with positive gain, best gain: -inf\n",
      "[LightGBM] [Warning] No further splits with positive gain, best gain: -inf\n",
      "[LightGBM] [Warning] No further splits with positive gain, best gain: -inf\n",
      "[LightGBM] [Warning] No further splits with positive gain, best gain: -inf\n",
      "[LightGBM] [Warning] No further splits with positive gain, best gain: -inf\n",
      "[LightGBM] [Warning] No further splits with positive gain, best gain: -inf\n",
      "[LightGBM] [Warning] No further splits with positive gain, best gain: -inf\n",
      "[LightGBM] [Warning] No further splits with positive gain, best gain: -inf\n",
      "[LightGBM] [Warning] No further splits with positive gain, best gain: -inf\n",
      "[LightGBM] [Warning] No further splits with positive gain, best gain: -inf\n",
      "[LightGBM] [Warning] No further splits with positive gain, best gain: -inf\n",
      "[LightGBM] [Warning] No further splits with positive gain, best gain: -inf\n",
      "[LightGBM] [Warning] No further splits with positive gain, best gain: -inf\n",
      "[LightGBM] [Warning] No further splits with positive gain, best gain: -inf\n",
      "[LightGBM] [Warning] No further splits with positive gain, best gain: -inf\n",
      "[LightGBM] [Warning] No further splits with positive gain, best gain: -inf\n",
      "[LightGBM] [Warning] No further splits with positive gain, best gain: -inf\n",
      "[LightGBM] [Warning] No further splits with positive gain, best gain: -inf\n",
      "[LightGBM] [Warning] No further splits with positive gain, best gain: -inf\n",
      "[LightGBM] [Warning] No further splits with positive gain, best gain: -inf\n",
      "[LightGBM] [Warning] No further splits with positive gain, best gain: -inf\n",
      "[LightGBM] [Warning] No further splits with positive gain, best gain: -inf\n",
      "[LightGBM] [Warning] No further splits with positive gain, best gain: -inf\n",
      "[LightGBM] [Warning] No further splits with positive gain, best gain: -inf\n",
      "[LightGBM] [Warning] No further splits with positive gain, best gain: -inf\n",
      "[LightGBM] [Warning] No further splits with positive gain, best gain: -inf\n",
      "[LightGBM] [Warning] No further splits with positive gain, best gain: -inf\n",
      "[LightGBM] [Warning] No further splits with positive gain, best gain: -inf\n",
      "[LightGBM] [Warning] No further splits with positive gain, best gain: -inf\n",
      "[LightGBM] [Warning] No further splits with positive gain, best gain: -inf\n",
      "[LightGBM] [Warning] No further splits with positive gain, best gain: -inf\n",
      "[LightGBM] [Warning] No further splits with positive gain, best gain: -inf\n",
      "[LightGBM] [Warning] No further splits with positive gain, best gain: -inf\n",
      "[LightGBM] [Warning] No further splits with positive gain, best gain: -inf\n",
      "[LightGBM] [Warning] No further splits with positive gain, best gain: -inf\n",
      "[LightGBM] [Warning] No further splits with positive gain, best gain: -inf\n",
      "[LightGBM] [Warning] No further splits with positive gain, best gain: -inf\n",
      "[LightGBM] [Warning] No further splits with positive gain, best gain: -inf\n",
      "[LightGBM] [Warning] No further splits with positive gain, best gain: -inf\n",
      "[LightGBM] [Warning] No further splits with positive gain, best gain: -inf\n",
      "[LightGBM] [Warning] No further splits with positive gain, best gain: -inf\n",
      "[LightGBM] [Warning] No further splits with positive gain, best gain: -inf\n",
      "[LightGBM] [Warning] No further splits with positive gain, best gain: -inf\n",
      "[LightGBM] [Warning] No further splits with positive gain, best gain: -inf\n",
      "[LightGBM] [Warning] No further splits with positive gain, best gain: -inf\n",
      "[LightGBM] [Warning] No further splits with positive gain, best gain: -inf\n",
      "[LightGBM] [Warning] No further splits with positive gain, best gain: -inf\n",
      "[LightGBM] [Warning] No further splits with positive gain, best gain: -inf\n",
      "[LightGBM] [Warning] No further splits with positive gain, best gain: -inf\n",
      "[LightGBM] [Warning] No further splits with positive gain, best gain: -inf\n",
      "[LightGBM] [Warning] No further splits with positive gain, best gain: -inf\n",
      "[LightGBM] [Warning] No further splits with positive gain, best gain: -inf\n",
      "[LightGBM] [Warning] No further splits with positive gain, best gain: -inf\n",
      "[LightGBM] [Warning] No further splits with positive gain, best gain: -inf\n",
      "[LightGBM] [Warning] No further splits with positive gain, best gain: -inf\n",
      "[LightGBM] [Warning] No further splits with positive gain, best gain: -inf\n",
      "[LightGBM] [Warning] No further splits with positive gain, best gain: -inf\n",
      "[LightGBM] [Warning] No further splits with positive gain, best gain: -inf\n",
      "[LightGBM] [Warning] No further splits with positive gain, best gain: -inf\n",
      "[LightGBM] [Warning] No further splits with positive gain, best gain: -inf\n",
      "[LightGBM] [Warning] No further splits with positive gain, best gain: -inf\n",
      "[LightGBM] [Warning] No further splits with positive gain, best gain: -inf\n",
      "[LightGBM] [Warning] No further splits with positive gain, best gain: -inf\n",
      "[LightGBM] [Warning] No further splits with positive gain, best gain: -inf\n",
      "[LightGBM] [Warning] No further splits with positive gain, best gain: -inf\n",
      "[LightGBM] [Warning] No further splits with positive gain, best gain: -inf\n",
      "[LightGBM] [Warning] No further splits with positive gain, best gain: -inf\n",
      "[LightGBM] [Warning] No further splits with positive gain, best gain: -inf\n",
      "[LightGBM] [Warning] No further splits with positive gain, best gain: -inf\n",
      "[LightGBM] [Warning] No further splits with positive gain, best gain: -inf\n",
      "[LightGBM] [Warning] No further splits with positive gain, best gain: -inf\n",
      "[LightGBM] [Warning] No further splits with positive gain, best gain: -inf\n",
      "[LightGBM] [Warning] No further splits with positive gain, best gain: -inf\n",
      "[LightGBM] [Warning] No further splits with positive gain, best gain: -inf\n",
      "[LightGBM] [Warning] No further splits with positive gain, best gain: -inf\n",
      "[LightGBM] [Warning] No further splits with positive gain, best gain: -inf\n",
      "[LightGBM] [Warning] No further splits with positive gain, best gain: -inf\n",
      "[LightGBM] [Warning] No further splits with positive gain, best gain: -inf\n",
      "[LightGBM] [Warning] No further splits with positive gain, best gain: -inf\n",
      "[LightGBM] [Warning] No further splits with positive gain, best gain: -inf\n",
      "[LightGBM] [Warning] No further splits with positive gain, best gain: -inf\n",
      "[LightGBM] [Warning] No further splits with positive gain, best gain: -inf\n",
      "[LightGBM] [Warning] No further splits with positive gain, best gain: -inf\n",
      "[LightGBM] [Warning] No further splits with positive gain, best gain: -inf\n",
      "[LightGBM] [Warning] No further splits with positive gain, best gain: -inf\n",
      "[LightGBM] [Warning] No further splits with positive gain, best gain: -inf\n",
      "[LightGBM] [Warning] No further splits with positive gain, best gain: -inf\n",
      "[LightGBM] [Warning] No further splits with positive gain, best gain: -inf\n",
      "[LightGBM] [Warning] No further splits with positive gain, best gain: -inf\n",
      "[LightGBM] [Warning] No further splits with positive gain, best gain: -inf\n",
      "[LightGBM] [Warning] No further splits with positive gain, best gain: -inf\n",
      "[LightGBM] [Warning] No further splits with positive gain, best gain: -inf\n",
      "[LightGBM] [Warning] No further splits with positive gain, best gain: -inf\n",
      "[LightGBM] [Warning] No further splits with positive gain, best gain: -inf\n",
      "[LightGBM] [Warning] No further splits with positive gain, best gain: -inf\n",
      "[LightGBM] [Warning] No further splits with positive gain, best gain: -inf\n",
      "[LightGBM] [Warning] No further splits with positive gain, best gain: -inf\n",
      "[LightGBM] [Warning] No further splits with positive gain, best gain: -inf\n",
      "[LightGBM] [Warning] No further splits with positive gain, best gain: -inf\n",
      "[LightGBM] [Warning] No further splits with positive gain, best gain: -inf\n",
      "[LightGBM] [Warning] No further splits with positive gain, best gain: -inf\n",
      "[LightGBM] [Warning] No further splits with positive gain, best gain: -inf\n",
      "[LightGBM] [Warning] No further splits with positive gain, best gain: -inf\n",
      "[LightGBM] [Warning] No further splits with positive gain, best gain: -inf\n",
      "[LightGBM] [Warning] No further splits with positive gain, best gain: -inf\n",
      "[LightGBM] [Warning] No further splits with positive gain, best gain: -inf\n",
      "[LightGBM] [Warning] No further splits with positive gain, best gain: -inf\n",
      "[LightGBM] [Warning] No further splits with positive gain, best gain: -inf\n",
      "[LightGBM] [Warning] No further splits with positive gain, best gain: -inf\n",
      "[LightGBM] [Warning] No further splits with positive gain, best gain: -inf\n",
      "[LightGBM] [Warning] No further splits with positive gain, best gain: -inf\n",
      "[LightGBM] [Warning] No further splits with positive gain, best gain: -inf\n",
      "[LightGBM] [Warning] No further splits with positive gain, best gain: -inf\n",
      "[LightGBM] [Warning] No further splits with positive gain, best gain: -inf\n",
      "[LightGBM] [Warning] No further splits with positive gain, best gain: -inf\n",
      "[LightGBM] [Warning] No further splits with positive gain, best gain: -inf\n",
      "[LightGBM] [Warning] No further splits with positive gain, best gain: -inf\n",
      "[LightGBM] [Warning] No further splits with positive gain, best gain: -inf\n",
      "[LightGBM] [Warning] No further splits with positive gain, best gain: -inf\n",
      "[LightGBM] [Warning] No further splits with positive gain, best gain: -inf\n",
      "[LightGBM] [Warning] No further splits with positive gain, best gain: -inf\n",
      "[LightGBM] [Warning] No further splits with positive gain, best gain: -inf\n",
      "[LightGBM] [Warning] No further splits with positive gain, best gain: -inf\n",
      "[LightGBM] [Warning] No further splits with positive gain, best gain: -inf\n",
      "[LightGBM] [Warning] No further splits with positive gain, best gain: -inf\n",
      "[LightGBM] [Warning] No further splits with positive gain, best gain: -inf\n",
      "[LightGBM] [Warning] No further splits with positive gain, best gain: -inf\n",
      "[LightGBM] [Warning] No further splits with positive gain, best gain: -inf\n",
      "[LightGBM] [Warning] No further splits with positive gain, best gain: -inf\n",
      "[LightGBM] [Warning] No further splits with positive gain, best gain: -inf\n",
      "[LightGBM] [Warning] No further splits with positive gain, best gain: -inf\n",
      "[LightGBM] [Warning] No further splits with positive gain, best gain: -inf\n",
      "[LightGBM] [Warning] No further splits with positive gain, best gain: -inf\n",
      "[LightGBM] [Warning] No further splits with positive gain, best gain: -inf\n",
      "[LightGBM] [Warning] No further splits with positive gain, best gain: -inf\n",
      "[LightGBM] [Warning] No further splits with positive gain, best gain: -inf\n",
      "[LightGBM] [Warning] No further splits with positive gain, best gain: -inf\n",
      "[LightGBM] [Warning] No further splits with positive gain, best gain: -inf\n",
      "[LightGBM] [Warning] No further splits with positive gain, best gain: -inf\n",
      "[LightGBM] [Warning] No further splits with positive gain, best gain: -inf\n",
      "[LightGBM] [Warning] No further splits with positive gain, best gain: -inf\n",
      "[LightGBM] [Warning] No further splits with positive gain, best gain: -inf\n",
      "[LightGBM] [Warning] No further splits with positive gain, best gain: -inf\n",
      "[LightGBM] [Warning] No further splits with positive gain, best gain: -inf\n",
      "[LightGBM] [Warning] No further splits with positive gain, best gain: -inf\n",
      "[LightGBM] [Warning] No further splits with positive gain, best gain: -inf\n",
      "[LightGBM] [Warning] No further splits with positive gain, best gain: -inf\n",
      "[LightGBM] [Warning] No further splits with positive gain, best gain: -inf\n",
      "[LightGBM] [Warning] No further splits with positive gain, best gain: -inf\n",
      "[LightGBM] [Warning] No further splits with positive gain, best gain: -inf\n",
      "[LightGBM] [Warning] No further splits with positive gain, best gain: -inf\n",
      "[LightGBM] [Warning] No further splits with positive gain, best gain: -inf\n",
      "[LightGBM] [Warning] No further splits with positive gain, best gain: -inf\n",
      "[LightGBM] [Warning] No further splits with positive gain, best gain: -inf\n",
      "[LightGBM] [Warning] No further splits with positive gain, best gain: -inf\n",
      "[LightGBM] [Warning] No further splits with positive gain, best gain: -inf\n",
      "[LightGBM] [Warning] No further splits with positive gain, best gain: -inf\n",
      "[LightGBM] [Warning] No further splits with positive gain, best gain: -inf\n",
      "[LightGBM] [Warning] No further splits with positive gain, best gain: -inf\n",
      "[LightGBM] [Warning] No further splits with positive gain, best gain: -inf\n",
      "[LightGBM] [Warning] No further splits with positive gain, best gain: -inf\n",
      "[LightGBM] [Warning] No further splits with positive gain, best gain: -inf\n",
      "[LightGBM] [Warning] No further splits with positive gain, best gain: -inf\n",
      "[LightGBM] [Warning] No further splits with positive gain, best gain: -inf\n",
      "[LightGBM] [Warning] No further splits with positive gain, best gain: -inf\n",
      "[LightGBM] [Warning] No further splits with positive gain, best gain: -inf\n",
      "[LightGBM] [Warning] No further splits with positive gain, best gain: -inf\n",
      "[LightGBM] [Warning] No further splits with positive gain, best gain: -inf\n",
      "[LightGBM] [Warning] No further splits with positive gain, best gain: -inf\n",
      "[LightGBM] [Warning] No further splits with positive gain, best gain: -inf\n",
      "[LightGBM] [Warning] No further splits with positive gain, best gain: -inf\n",
      "[LightGBM] [Warning] No further splits with positive gain, best gain: -inf\n",
      "[LightGBM] [Warning] No further splits with positive gain, best gain: -inf\n",
      "[LightGBM] [Warning] No further splits with positive gain, best gain: -inf\n",
      "[LightGBM] [Warning] No further splits with positive gain, best gain: -inf\n",
      "[LightGBM] [Warning] No further splits with positive gain, best gain: -inf\n",
      "[LightGBM] [Warning] No further splits with positive gain, best gain: -inf\n",
      "[LightGBM] [Warning] No further splits with positive gain, best gain: -inf\n",
      "[LightGBM] [Warning] No further splits with positive gain, best gain: -inf\n",
      "[LightGBM] [Warning] No further splits with positive gain, best gain: -inf\n",
      "[LightGBM] [Warning] No further splits with positive gain, best gain: -inf\n",
      "[LightGBM] [Warning] No further splits with positive gain, best gain: -inf\n",
      "[LightGBM] [Warning] No further splits with positive gain, best gain: -inf\n",
      "[LightGBM] [Warning] No further splits with positive gain, best gain: -inf\n",
      "[LightGBM] [Warning] No further splits with positive gain, best gain: -inf\n",
      "[LightGBM] [Warning] No further splits with positive gain, best gain: -inf\n",
      "[LightGBM] [Warning] No further splits with positive gain, best gain: -inf\n",
      "[LightGBM] [Warning] No further splits with positive gain, best gain: -inf\n",
      "[LightGBM] [Warning] No further splits with positive gain, best gain: -inf\n",
      "[LightGBM] [Warning] No further splits with positive gain, best gain: -inf\n",
      "[LightGBM] [Warning] No further splits with positive gain, best gain: -inf\n",
      "[LightGBM] [Warning] No further splits with positive gain, best gain: -inf\n",
      "[LightGBM] [Warning] No further splits with positive gain, best gain: -inf\n",
      "[LightGBM] [Warning] No further splits with positive gain, best gain: -inf\n",
      "[LightGBM] [Warning] No further splits with positive gain, best gain: -inf\n",
      "[LightGBM] [Warning] No further splits with positive gain, best gain: -inf\n",
      "[LightGBM] [Warning] No further splits with positive gain, best gain: -inf\n",
      "[LightGBM] [Warning] No further splits with positive gain, best gain: -inf\n",
      "[LightGBM] [Warning] No further splits with positive gain, best gain: -inf\n",
      "[LightGBM] [Warning] No further splits with positive gain, best gain: -inf\n",
      "[LightGBM] [Warning] No further splits with positive gain, best gain: -inf\n",
      "[LightGBM] [Warning] No further splits with positive gain, best gain: -inf\n",
      "[LightGBM] [Warning] No further splits with positive gain, best gain: -inf\n",
      "[LightGBM] [Warning] No further splits with positive gain, best gain: -inf\n",
      "[LightGBM] [Warning] No further splits with positive gain, best gain: -inf\n",
      "[LightGBM] [Warning] No further splits with positive gain, best gain: -inf\n",
      "[LightGBM] [Warning] No further splits with positive gain, best gain: -inf\n",
      "[LightGBM] [Warning] No further splits with positive gain, best gain: -inf\n",
      "[LightGBM] [Warning] No further splits with positive gain, best gain: -inf\n",
      "[LightGBM] [Warning] No further splits with positive gain, best gain: -inf\n",
      "[LightGBM] [Warning] No further splits with positive gain, best gain: -inf\n",
      "[LightGBM] [Warning] No further splits with positive gain, best gain: -inf\n",
      "[LightGBM] [Warning] No further splits with positive gain, best gain: -inf\n",
      "[LightGBM] [Warning] No further splits with positive gain, best gain: -inf\n",
      "[LightGBM] [Warning] No further splits with positive gain, best gain: -inf\n",
      "[LightGBM] [Warning] No further splits with positive gain, best gain: -inf\n",
      "[LightGBM] [Warning] No further splits with positive gain, best gain: -inf\n",
      "[LightGBM] [Warning] No further splits with positive gain, best gain: -inf\n",
      "[LightGBM] [Warning] No further splits with positive gain, best gain: -inf\n",
      "[LightGBM] [Warning] No further splits with positive gain, best gain: -inf\n",
      "[LightGBM] [Warning] No further splits with positive gain, best gain: -inf\n",
      "[LightGBM] [Warning] No further splits with positive gain, best gain: -inf\n",
      "[LightGBM] [Warning] No further splits with positive gain, best gain: -inf\n",
      "[LightGBM] [Warning] No further splits with positive gain, best gain: -inf\n",
      "[LightGBM] [Warning] No further splits with positive gain, best gain: -inf\n",
      "[LightGBM] [Warning] No further splits with positive gain, best gain: -inf\n",
      "[LightGBM] [Warning] No further splits with positive gain, best gain: -inf\n",
      "[LightGBM] [Warning] No further splits with positive gain, best gain: -inf\n",
      "[LightGBM] [Warning] No further splits with positive gain, best gain: -inf\n",
      "[LightGBM] [Warning] No further splits with positive gain, best gain: -inf\n",
      "[LightGBM] [Warning] No further splits with positive gain, best gain: -inf\n",
      "[LightGBM] [Warning] No further splits with positive gain, best gain: -inf\n",
      "[LightGBM] [Warning] No further splits with positive gain, best gain: -inf\n",
      "[LightGBM] [Warning] No further splits with positive gain, best gain: -inf\n",
      "[LightGBM] [Warning] No further splits with positive gain, best gain: -inf\n",
      "[LightGBM] [Warning] No further splits with positive gain, best gain: -inf\n",
      "[LightGBM] [Warning] No further splits with positive gain, best gain: -inf\n",
      "[LightGBM] [Warning] No further splits with positive gain, best gain: -inf\n",
      "[LightGBM] [Warning] No further splits with positive gain, best gain: -inf\n",
      "[LightGBM] [Warning] No further splits with positive gain, best gain: -inf\n",
      "[LightGBM] [Warning] No further splits with positive gain, best gain: -inf\n",
      "[LightGBM] [Warning] No further splits with positive gain, best gain: -inf\n",
      "[LightGBM] [Warning] No further splits with positive gain, best gain: -inf\n",
      "[LightGBM] [Warning] No further splits with positive gain, best gain: -inf\n",
      "[LightGBM] [Warning] No further splits with positive gain, best gain: -inf\n",
      "[LightGBM] [Warning] No further splits with positive gain, best gain: -inf\n",
      "[LightGBM] [Warning] No further splits with positive gain, best gain: -inf\n",
      "[LightGBM] [Warning] No further splits with positive gain, best gain: -inf\n",
      "[LightGBM] [Warning] No further splits with positive gain, best gain: -inf\n",
      "[LightGBM] [Warning] No further splits with positive gain, best gain: -inf\n",
      "[LightGBM] [Warning] No further splits with positive gain, best gain: -inf\n",
      "[LightGBM] [Warning] No further splits with positive gain, best gain: -inf\n",
      "[LightGBM] [Warning] No further splits with positive gain, best gain: -inf\n",
      "[LightGBM] [Warning] No further splits with positive gain, best gain: -inf\n",
      "[LightGBM] [Warning] No further splits with positive gain, best gain: -inf\n",
      "[LightGBM] [Warning] No further splits with positive gain, best gain: -inf\n",
      "[LightGBM] [Warning] No further splits with positive gain, best gain: -inf\n",
      "[LightGBM] [Warning] No further splits with positive gain, best gain: -inf\n",
      "[LightGBM] [Warning] No further splits with positive gain, best gain: -inf\n",
      "[LightGBM] [Warning] No further splits with positive gain, best gain: -inf\n",
      "[LightGBM] [Warning] No further splits with positive gain, best gain: -inf\n",
      "[LightGBM] [Warning] No further splits with positive gain, best gain: -inf\n",
      "[LightGBM] [Warning] No further splits with positive gain, best gain: -inf\n",
      "[LightGBM] [Warning] No further splits with positive gain, best gain: -inf\n",
      "[LightGBM] [Warning] No further splits with positive gain, best gain: -inf\n",
      "[LightGBM] [Warning] No further splits with positive gain, best gain: -inf\n",
      "[LightGBM] [Warning] No further splits with positive gain, best gain: -inf\n",
      "[LightGBM] [Warning] No further splits with positive gain, best gain: -inf\n",
      "[LightGBM] [Warning] No further splits with positive gain, best gain: -inf\n",
      "[LightGBM] [Warning] No further splits with positive gain, best gain: -inf\n",
      "[LightGBM] [Warning] No further splits with positive gain, best gain: -inf\n",
      "[LightGBM] [Warning] No further splits with positive gain, best gain: -inf\n",
      "[LightGBM] [Warning] No further splits with positive gain, best gain: -inf\n",
      "[LightGBM] [Warning] No further splits with positive gain, best gain: -inf\n",
      "[LightGBM] [Warning] No further splits with positive gain, best gain: -inf\n",
      "[LightGBM] [Warning] No further splits with positive gain, best gain: -inf\n",
      "[LightGBM] [Warning] No further splits with positive gain, best gain: -inf\n",
      "[LightGBM] [Warning] No further splits with positive gain, best gain: -inf\n",
      "[LightGBM] [Warning] No further splits with positive gain, best gain: -inf\n",
      "[LightGBM] [Warning] No further splits with positive gain, best gain: -inf\n",
      "[LightGBM] [Warning] No further splits with positive gain, best gain: -inf\n",
      "[LightGBM] [Warning] No further splits with positive gain, best gain: -inf\n",
      "[LightGBM] [Warning] No further splits with positive gain, best gain: -inf\n",
      "[LightGBM] [Warning] No further splits with positive gain, best gain: -inf\n",
      "[LightGBM] [Warning] No further splits with positive gain, best gain: -inf\n",
      "[LightGBM] [Warning] No further splits with positive gain, best gain: -inf\n",
      "[LightGBM] [Warning] No further splits with positive gain, best gain: -inf\n",
      "[LightGBM] [Warning] No further splits with positive gain, best gain: -inf\n",
      "[LightGBM] [Warning] No further splits with positive gain, best gain: -inf\n",
      "[LightGBM] [Warning] No further splits with positive gain, best gain: -inf\n",
      "[LightGBM] [Warning] No further splits with positive gain, best gain: -inf\n",
      "[LightGBM] [Warning] No further splits with positive gain, best gain: -inf\n",
      "[LightGBM] [Warning] No further splits with positive gain, best gain: -inf\n",
      "[LightGBM] [Warning] No further splits with positive gain, best gain: -inf\n",
      "[LightGBM] [Warning] No further splits with positive gain, best gain: -inf\n",
      "[LightGBM] [Warning] No further splits with positive gain, best gain: -inf\n",
      "[LightGBM] [Warning] No further splits with positive gain, best gain: -inf\n",
      "[LightGBM] [Warning] No further splits with positive gain, best gain: -inf\n",
      "[LightGBM] [Warning] No further splits with positive gain, best gain: -inf\n",
      "[LightGBM] [Warning] No further splits with positive gain, best gain: -inf\n",
      "[LightGBM] [Warning] No further splits with positive gain, best gain: -inf\n",
      "[LightGBM] [Warning] No further splits with positive gain, best gain: -inf\n",
      "[LightGBM] [Warning] No further splits with positive gain, best gain: -inf\n",
      "[LightGBM] [Warning] No further splits with positive gain, best gain: -inf\n",
      "[LightGBM] [Warning] No further splits with positive gain, best gain: -inf\n",
      "[LightGBM] [Warning] No further splits with positive gain, best gain: -inf\n",
      "[LightGBM] [Warning] No further splits with positive gain, best gain: -inf\n",
      "[LightGBM] [Warning] No further splits with positive gain, best gain: -inf\n",
      "[LightGBM] [Warning] No further splits with positive gain, best gain: -inf\n",
      "[LightGBM] [Warning] No further splits with positive gain, best gain: -inf\n",
      "[LightGBM] [Warning] No further splits with positive gain, best gain: -inf\n",
      "[LightGBM] [Warning] No further splits with positive gain, best gain: -inf\n",
      "[LightGBM] [Warning] No further splits with positive gain, best gain: -inf\n",
      "[LightGBM] [Warning] No further splits with positive gain, best gain: -inf\n",
      "[LightGBM] [Warning] No further splits with positive gain, best gain: -inf\n",
      "[LightGBM] [Warning] No further splits with positive gain, best gain: -inf\n",
      "[LightGBM] [Warning] No further splits with positive gain, best gain: -inf\n",
      "[LightGBM] [Warning] No further splits with positive gain, best gain: -inf\n",
      "[LightGBM] [Warning] No further splits with positive gain, best gain: -inf\n",
      "[LightGBM] [Warning] No further splits with positive gain, best gain: -inf\n",
      "[LightGBM] [Warning] No further splits with positive gain, best gain: -inf\n",
      "[LightGBM] [Warning] No further splits with positive gain, best gain: -inf\n",
      "[LightGBM] [Warning] No further splits with positive gain, best gain: -inf\n",
      "[LightGBM] [Warning] No further splits with positive gain, best gain: -inf\n",
      "[LightGBM] [Warning] No further splits with positive gain, best gain: -inf\n",
      "[LightGBM] [Warning] No further splits with positive gain, best gain: -inf\n",
      "[LightGBM] [Warning] No further splits with positive gain, best gain: -inf\n",
      "[LightGBM] [Warning] No further splits with positive gain, best gain: -inf\n",
      "[LightGBM] [Warning] No further splits with positive gain, best gain: -inf\n",
      "[LightGBM] [Warning] No further splits with positive gain, best gain: -inf\n",
      "[LightGBM] [Warning] No further splits with positive gain, best gain: -inf\n",
      "[LightGBM] [Warning] No further splits with positive gain, best gain: -inf\n",
      "[LightGBM] [Warning] No further splits with positive gain, best gain: -inf\n",
      "[LightGBM] [Warning] No further splits with positive gain, best gain: -inf\n",
      "[LightGBM] [Warning] No further splits with positive gain, best gain: -inf\n",
      "[LightGBM] [Warning] No further splits with positive gain, best gain: -inf\n",
      "[LightGBM] [Warning] No further splits with positive gain, best gain: -inf\n",
      "[LightGBM] [Warning] No further splits with positive gain, best gain: -inf\n",
      "[LightGBM] [Warning] No further splits with positive gain, best gain: -inf\n",
      "[LightGBM] [Warning] No further splits with positive gain, best gain: -inf\n",
      "[LightGBM] [Warning] No further splits with positive gain, best gain: -inf\n",
      "[LightGBM] [Warning] No further splits with positive gain, best gain: -inf\n",
      "[LightGBM] [Warning] No further splits with positive gain, best gain: -inf\n",
      "[LightGBM] [Warning] No further splits with positive gain, best gain: -inf\n",
      "[LightGBM] [Warning] No further splits with positive gain, best gain: -inf\n",
      "[LightGBM] [Warning] No further splits with positive gain, best gain: -inf\n",
      "[LightGBM] [Warning] No further splits with positive gain, best gain: -inf\n",
      "[LightGBM] [Warning] No further splits with positive gain, best gain: -inf\n",
      "[LightGBM] [Warning] No further splits with positive gain, best gain: -inf\n",
      "[LightGBM] [Warning] No further splits with positive gain, best gain: -inf\n",
      "[LightGBM] [Warning] No further splits with positive gain, best gain: -inf\n",
      "[LightGBM] [Warning] No further splits with positive gain, best gain: -inf\n",
      "[LightGBM] [Warning] No further splits with positive gain, best gain: -inf\n",
      "[LightGBM] [Warning] No further splits with positive gain, best gain: -inf\n",
      "[LightGBM] [Warning] No further splits with positive gain, best gain: -inf\n",
      "[LightGBM] [Warning] No further splits with positive gain, best gain: -inf\n",
      "[LightGBM] [Warning] No further splits with positive gain, best gain: -inf\n",
      "[LightGBM] [Warning] No further splits with positive gain, best gain: -inf\n",
      "[LightGBM] [Warning] No further splits with positive gain, best gain: -inf\n",
      "[LightGBM] [Warning] No further splits with positive gain, best gain: -inf\n",
      "[LightGBM] [Warning] No further splits with positive gain, best gain: -inf\n",
      "[LightGBM] [Warning] No further splits with positive gain, best gain: -inf\n",
      "[LightGBM] [Warning] No further splits with positive gain, best gain: -inf\n",
      "[LightGBM] [Warning] No further splits with positive gain, best gain: -inf\n",
      "[LightGBM] [Warning] No further splits with positive gain, best gain: -inf\n",
      "[LightGBM] [Warning] No further splits with positive gain, best gain: -inf\n",
      "[LightGBM] [Warning] No further splits with positive gain, best gain: -inf\n",
      "[LightGBM] [Warning] No further splits with positive gain, best gain: -inf\n",
      "[LightGBM] [Warning] No further splits with positive gain, best gain: -inf\n",
      "[LightGBM] [Warning] No further splits with positive gain, best gain: -inf\n",
      "[LightGBM] [Warning] No further splits with positive gain, best gain: -inf\n",
      "[LightGBM] [Warning] No further splits with positive gain, best gain: -inf\n",
      "[LightGBM] [Warning] No further splits with positive gain, best gain: -inf\n",
      "[LightGBM] [Warning] No further splits with positive gain, best gain: -inf\n",
      "[LightGBM] [Warning] No further splits with positive gain, best gain: -inf\n",
      "[LightGBM] [Warning] No further splits with positive gain, best gain: -inf\n",
      "[LightGBM] [Warning] No further splits with positive gain, best gain: -inf\n",
      "[LightGBM] [Warning] No further splits with positive gain, best gain: -inf\n",
      "[LightGBM] [Warning] No further splits with positive gain, best gain: -inf\n",
      "[LightGBM] [Warning] No further splits with positive gain, best gain: -inf\n",
      "[LightGBM] [Warning] No further splits with positive gain, best gain: -inf\n",
      "[LightGBM] [Warning] No further splits with positive gain, best gain: -inf\n",
      "[LightGBM] [Warning] No further splits with positive gain, best gain: -inf\n",
      "[LightGBM] [Warning] No further splits with positive gain, best gain: -inf\n",
      "[LightGBM] [Warning] No further splits with positive gain, best gain: -inf\n",
      "[LightGBM] [Warning] No further splits with positive gain, best gain: -inf\n",
      "[LightGBM] [Warning] No further splits with positive gain, best gain: -inf\n",
      "[LightGBM] [Warning] No further splits with positive gain, best gain: -inf\n",
      "[LightGBM] [Warning] No further splits with positive gain, best gain: -inf\n",
      "[LightGBM] [Warning] No further splits with positive gain, best gain: -inf\n",
      "[LightGBM] [Warning] No further splits with positive gain, best gain: -inf\n",
      "[LightGBM] [Warning] No further splits with positive gain, best gain: -inf\n",
      "[LightGBM] [Warning] No further splits with positive gain, best gain: -inf\n",
      "[LightGBM] [Warning] No further splits with positive gain, best gain: -inf\n",
      "[LightGBM] [Warning] No further splits with positive gain, best gain: -inf\n",
      "[LightGBM] [Warning] No further splits with positive gain, best gain: -inf\n",
      "[LightGBM] [Warning] No further splits with positive gain, best gain: -inf\n",
      "[LightGBM] [Warning] No further splits with positive gain, best gain: -inf\n",
      "[LightGBM] [Warning] No further splits with positive gain, best gain: -inf\n",
      "[LightGBM] [Warning] No further splits with positive gain, best gain: -inf\n",
      "[LightGBM] [Warning] No further splits with positive gain, best gain: -inf\n",
      "[LightGBM] [Warning] No further splits with positive gain, best gain: -inf\n",
      "[LightGBM] [Warning] No further splits with positive gain, best gain: -inf\n",
      "[LightGBM] [Warning] No further splits with positive gain, best gain: -inf\n",
      "[LightGBM] [Warning] No further splits with positive gain, best gain: -inf\n",
      "[LightGBM] [Warning] No further splits with positive gain, best gain: -inf\n",
      "[LightGBM] [Warning] No further splits with positive gain, best gain: -inf\n",
      "[LightGBM] [Warning] No further splits with positive gain, best gain: -inf\n",
      "[LightGBM] [Warning] No further splits with positive gain, best gain: -inf\n",
      "[LightGBM] [Warning] No further splits with positive gain, best gain: -inf\n",
      "[LightGBM] [Warning] No further splits with positive gain, best gain: -inf\n",
      "[LightGBM] [Warning] No further splits with positive gain, best gain: -inf\n",
      "[LightGBM] [Warning] No further splits with positive gain, best gain: -inf\n",
      "[LightGBM] [Warning] No further splits with positive gain, best gain: -inf\n",
      "[LightGBM] [Warning] No further splits with positive gain, best gain: -inf\n",
      "[LightGBM] [Warning] No further splits with positive gain, best gain: -inf\n",
      "[LightGBM] [Warning] No further splits with positive gain, best gain: -inf\n",
      "[LightGBM] [Warning] No further splits with positive gain, best gain: -inf\n",
      "[LightGBM] [Warning] No further splits with positive gain, best gain: -inf\n",
      "[LightGBM] [Warning] No further splits with positive gain, best gain: -inf\n",
      "[LightGBM] [Warning] No further splits with positive gain, best gain: -inf\n",
      "[LightGBM] [Warning] No further splits with positive gain, best gain: -inf\n",
      "[LightGBM] [Warning] No further splits with positive gain, best gain: -inf\n",
      "[LightGBM] [Warning] No further splits with positive gain, best gain: -inf\n",
      "[LightGBM] [Warning] No further splits with positive gain, best gain: -inf\n",
      "[LightGBM] [Warning] No further splits with positive gain, best gain: -inf\n",
      "[LightGBM] [Warning] No further splits with positive gain, best gain: -inf\n",
      "[LightGBM] [Warning] No further splits with positive gain, best gain: -inf\n",
      "[LightGBM] [Warning] No further splits with positive gain, best gain: -inf\n",
      "[LightGBM] [Warning] No further splits with positive gain, best gain: -inf\n",
      "[LightGBM] [Warning] No further splits with positive gain, best gain: -inf\n",
      "[LightGBM] [Warning] No further splits with positive gain, best gain: -inf\n",
      "[LightGBM] [Warning] No further splits with positive gain, best gain: -inf\n",
      "[LightGBM] [Warning] No further splits with positive gain, best gain: -inf\n",
      "[LightGBM] [Warning] No further splits with positive gain, best gain: -inf\n",
      "[LightGBM] [Warning] No further splits with positive gain, best gain: -inf\n",
      "[LightGBM] [Warning] No further splits with positive gain, best gain: -inf\n",
      "[LightGBM] [Warning] No further splits with positive gain, best gain: -inf\n",
      "[LightGBM] [Warning] No further splits with positive gain, best gain: -inf\n",
      "[LightGBM] [Warning] No further splits with positive gain, best gain: -inf\n",
      "[LightGBM] [Warning] No further splits with positive gain, best gain: -inf\n",
      "[LightGBM] [Warning] No further splits with positive gain, best gain: -inf\n",
      "[LightGBM] [Warning] No further splits with positive gain, best gain: -inf\n",
      "[LightGBM] [Warning] No further splits with positive gain, best gain: -inf\n",
      "[LightGBM] [Warning] No further splits with positive gain, best gain: -inf\n",
      "[LightGBM] [Warning] No further splits with positive gain, best gain: -inf\n",
      "[LightGBM] [Warning] No further splits with positive gain, best gain: -inf\n",
      "[LightGBM] [Warning] No further splits with positive gain, best gain: -inf\n",
      "[LightGBM] [Warning] No further splits with positive gain, best gain: -inf\n",
      "[LightGBM] [Warning] No further splits with positive gain, best gain: -inf\n",
      "[LightGBM] [Warning] No further splits with positive gain, best gain: -inf\n",
      "[LightGBM] [Warning] No further splits with positive gain, best gain: -inf\n",
      "[LightGBM] [Warning] No further splits with positive gain, best gain: -inf\n",
      "[LightGBM] [Warning] No further splits with positive gain, best gain: -inf\n",
      "[LightGBM] [Warning] No further splits with positive gain, best gain: -inf\n",
      "[LightGBM] [Warning] No further splits with positive gain, best gain: -inf\n",
      "[LightGBM] [Warning] No further splits with positive gain, best gain: -inf\n",
      "[LightGBM] [Warning] No further splits with positive gain, best gain: -inf\n",
      "[LightGBM] [Warning] No further splits with positive gain, best gain: -inf\n",
      "[LightGBM] [Warning] No further splits with positive gain, best gain: -inf\n",
      "[LightGBM] [Warning] No further splits with positive gain, best gain: -inf\n",
      "[LightGBM] [Warning] No further splits with positive gain, best gain: -inf\n",
      "[LightGBM] [Warning] No further splits with positive gain, best gain: -inf\n",
      "[LightGBM] [Warning] No further splits with positive gain, best gain: -inf\n",
      "[LightGBM] [Warning] No further splits with positive gain, best gain: -inf\n",
      "[LightGBM] [Warning] No further splits with positive gain, best gain: -inf\n",
      "[LightGBM] [Warning] No further splits with positive gain, best gain: -inf\n",
      "[LightGBM] [Warning] No further splits with positive gain, best gain: -inf\n",
      "[LightGBM] [Warning] No further splits with positive gain, best gain: -inf\n",
      "[LightGBM] [Warning] No further splits with positive gain, best gain: -inf\n",
      "[LightGBM] [Warning] No further splits with positive gain, best gain: -inf\n",
      "[LightGBM] [Warning] No further splits with positive gain, best gain: -inf\n",
      "[LightGBM] [Warning] No further splits with positive gain, best gain: -inf\n",
      "[LightGBM] [Warning] No further splits with positive gain, best gain: -inf\n",
      "\n",
      "🔁 Config 1/5: {'dropout': np.float64(0.4247240713084175), 'lr': np.float64(0.007969454818643935)}\n",
      "\n",
      "📅 Fold 1/3\n",
      "  🚦 Early stopped at epoch 498\n",
      "✅ Fold 1 RMSE: 21.79\n",
      "\n",
      "📅 Fold 2/3\n",
      "  🚦 Early stopped at epoch 499\n",
      "✅ Fold 2 RMSE: 23.86\n",
      "\n",
      "📅 Fold 3/3\n",
      "  🚦 Early stopped at epoch 1295\n",
      "✅ Fold 3 RMSE: 24.54\n",
      "\n",
      "📊 AVG RMSE: 23.3967, TOTAL TRAIN TIME: 10.61 sec\n",
      "\n",
      "🔁 Config 2/5: {'dropout': np.float64(0.6391963650868431), 'lr': np.float64(0.0015751320499779737)}\n",
      "\n",
      "📅 Fold 1/3\n",
      "  🚦 Early stopped at epoch 1661\n",
      "✅ Fold 1 RMSE: 22.41\n",
      "\n",
      "📅 Fold 2/3\n",
      "  🚦 Early stopped at epoch 1110\n",
      "✅ Fold 2 RMSE: 25.06\n",
      "\n",
      "📅 Fold 3/3\n",
      "  🚦 Early stopped at epoch 1062\n",
      "✅ Fold 3 RMSE: 26.65\n",
      "\n",
      "📊 AVG RMSE: 24.7067, TOTAL TRAIN TIME: 15.39 sec\n",
      "\n",
      "🔁 Config 3/5: {'dropout': np.float64(0.2936111842654619), 'lr': np.float64(0.00020511104188433984)}\n",
      "\n",
      "📅 Fold 1/3\n",
      "✅ Fold 1 RMSE: 26.77\n",
      "\n",
      "📅 Fold 2/3\n",
      "✅ Fold 2 RMSE: 29.14\n",
      "\n",
      "📅 Fold 3/3\n",
      "  🚦 Early stopped at epoch 1692\n",
      "✅ Fold 3 RMSE: 31.26\n",
      "\n",
      "📊 AVG RMSE: 29.0567, TOTAL TRAIN TIME: 23.12 sec\n",
      "\n",
      "🔁 Config 4/5: {'dropout': np.float64(0.23485016730091968), 'lr': np.float64(0.005399484409787433)}\n",
      "\n",
      "📅 Fold 1/3\n",
      "  🚦 Early stopped at epoch 690\n",
      "✅ Fold 1 RMSE: 22.14\n",
      "\n",
      "📅 Fold 2/3\n",
      "  🚦 Early stopped at epoch 623\n",
      "✅ Fold 2 RMSE: 24.24\n",
      "\n",
      "📅 Fold 3/3\n",
      "  🚦 Early stopped at epoch 690\n",
      "✅ Fold 3 RMSE: 25.1\n",
      "\n",
      "📊 AVG RMSE: 23.8267, TOTAL TRAIN TIME: 8.23 sec\n",
      "\n",
      "🔁 Config 5/5: {'dropout': np.float64(0.5606690070459253), 'lr': np.float64(0.0026070247583707684)}\n",
      "\n",
      "📅 Fold 1/3\n",
      "  🚦 Early stopped at epoch 1078\n",
      "✅ Fold 1 RMSE: 21.85\n",
      "\n",
      "📅 Fold 2/3\n",
      "✅ Fold 2 RMSE: 23.76\n",
      "\n",
      "📅 Fold 3/3\n",
      "  🚦 Early stopped at epoch 1229\n",
      "✅ Fold 3 RMSE: 25.37\n",
      "\n",
      "📊 AVG RMSE: 23.66, TOTAL TRAIN TIME: 17.81 sec\n"
     ]
    },
    {
     "data": {
      "text/html": [
       "<div>\n",
       "<style scoped>\n",
       "    .dataframe tbody tr th:only-of-type {\n",
       "        vertical-align: middle;\n",
       "    }\n",
       "\n",
       "    .dataframe tbody tr th {\n",
       "        vertical-align: top;\n",
       "    }\n",
       "\n",
       "    .dataframe thead th {\n",
       "        text-align: right;\n",
       "    }\n",
       "</style>\n",
       "<table border=\"1\" class=\"dataframe\">\n",
       "  <thead>\n",
       "    <tr style=\"text-align: right;\">\n",
       "      <th></th>\n",
       "      <th>Model</th>\n",
       "      <th>RMSE_train</th>\n",
       "      <th>Train_time</th>\n",
       "    </tr>\n",
       "  </thead>\n",
       "  <tbody>\n",
       "    <tr>\n",
       "      <th>11</th>\n",
       "      <td>ElasticNet_2</td>\n",
       "      <td>21.3500</td>\n",
       "      <td>0.090</td>\n",
       "    </tr>\n",
       "    <tr>\n",
       "      <th>10</th>\n",
       "      <td>Lasso_2</td>\n",
       "      <td>21.3700</td>\n",
       "      <td>0.040</td>\n",
       "    </tr>\n",
       "    <tr>\n",
       "      <th>8</th>\n",
       "      <td>Linear_2</td>\n",
       "      <td>21.4600</td>\n",
       "      <td>0.040</td>\n",
       "    </tr>\n",
       "    <tr>\n",
       "      <th>9</th>\n",
       "      <td>Ridge_2</td>\n",
       "      <td>21.4600</td>\n",
       "      <td>0.040</td>\n",
       "    </tr>\n",
       "    <tr>\n",
       "      <th>13</th>\n",
       "      <td>nn_1_2</td>\n",
       "      <td>23.3967</td>\n",
       "      <td>10.610</td>\n",
       "    </tr>\n",
       "    <tr>\n",
       "      <th>1</th>\n",
       "      <td>Linear_1</td>\n",
       "      <td>31.0900</td>\n",
       "      <td>0.030</td>\n",
       "    </tr>\n",
       "    <tr>\n",
       "      <th>12</th>\n",
       "      <td>LGBMClassifier_2</td>\n",
       "      <td>31.0900</td>\n",
       "      <td>75.030</td>\n",
       "    </tr>\n",
       "    <tr>\n",
       "      <th>2</th>\n",
       "      <td>Ridge_1</td>\n",
       "      <td>31.0900</td>\n",
       "      <td>0.020</td>\n",
       "    </tr>\n",
       "    <tr>\n",
       "      <th>3</th>\n",
       "      <td>Lasso_1</td>\n",
       "      <td>31.1000</td>\n",
       "      <td>0.020</td>\n",
       "    </tr>\n",
       "    <tr>\n",
       "      <th>4</th>\n",
       "      <td>ElasticNet_1</td>\n",
       "      <td>31.1400</td>\n",
       "      <td>0.020</td>\n",
       "    </tr>\n",
       "    <tr>\n",
       "      <th>5</th>\n",
       "      <td>LGBMClassifier_1</td>\n",
       "      <td>33.3500</td>\n",
       "      <td>22.470</td>\n",
       "    </tr>\n",
       "    <tr>\n",
       "      <th>6</th>\n",
       "      <td>nn_4_1</td>\n",
       "      <td>33.8933</td>\n",
       "      <td>10.590</td>\n",
       "    </tr>\n",
       "    <tr>\n",
       "      <th>0</th>\n",
       "      <td>Dummy_mean_1</td>\n",
       "      <td>36.0000</td>\n",
       "      <td>0.002</td>\n",
       "    </tr>\n",
       "    <tr>\n",
       "      <th>7</th>\n",
       "      <td>Dummy_mean_2</td>\n",
       "      <td>36.0100</td>\n",
       "      <td>0.001</td>\n",
       "    </tr>\n",
       "  </tbody>\n",
       "</table>\n",
       "</div>"
      ],
      "text/plain": [
       "               Model  RMSE_train  Train_time\n",
       "11      ElasticNet_2     21.3500       0.090\n",
       "10           Lasso_2     21.3700       0.040\n",
       "8           Linear_2     21.4600       0.040\n",
       "9            Ridge_2     21.4600       0.040\n",
       "13            nn_1_2     23.3967      10.610\n",
       "1           Linear_1     31.0900       0.030\n",
       "12  LGBMClassifier_2     31.0900      75.030\n",
       "2            Ridge_1     31.0900       0.020\n",
       "3            Lasso_1     31.1000       0.020\n",
       "4       ElasticNet_1     31.1400       0.020\n",
       "5   LGBMClassifier_1     33.3500      22.470\n",
       "6             nn_4_1     33.8933      10.590\n",
       "0       Dummy_mean_1     36.0000       0.002\n",
       "7       Dummy_mean_2     36.0100       0.001"
      ]
     },
     "execution_count": 32,
     "metadata": {},
     "output_type": "execute_result"
    }
   ],
   "source": [
    "model_num = 2\n",
    "\n",
    "consolid_train(\n",
    "    X_train_2, y_train_2, X_val_2, y_val_2,\n",
    "    lr_pipe_final, lr_rs_grid,\n",
    "    b_pipe_final, b_rs_grid,\n",
    "    Net13, loss_fn, samples, num_epochs, seed, model_num\n",
    ")\n",
    "\n",
    "total_results.sort_values('RMSE_train')"
   ]
  },
  {
   "cell_type": "markdown",
   "metadata": {},
   "source": [
    "В целом, все линейные модели демонстрируют хороший результат со значением целевой метрики в диапазоне от 24.35 до 21.46 (выбирай любую). Рассмотрим лучшую ElasticNet."
   ]
  },
  {
   "cell_type": "markdown",
   "metadata": {},
   "source": [
    "**Анализ остатков лучшей модели**"
   ]
  },
  {
   "cell_type": "code",
   "execution_count": 33,
   "metadata": {},
   "outputs": [
    {
     "data": {
      "image/png": "[encoded data removed]",
      "text/plain": [
       "<Figure size 640x480 with 1 Axes>"
      ]
     },
     "metadata": {},
     "output_type": "display_data"
    },
    {
     "name": "stdout",
     "output_type": "stream",
     "text": [
      "Значимые лаги: [  0  25  49 168]\n"
     ]
    }
   ],
   "source": [
    "# Например, на тесте\n",
    "bm_2 = best_models['ElasticNet_2']\n",
    "y_pred_2 = bm_2.predict(X_val_2)\n",
    "\n",
    "residuals_2 = y_val - y_pred_2\n",
    "\n",
    "# ACF остатков\n",
    "plot_acf(residuals_2, lags=200)\n",
    "plt.title('ACF of Residuals')\n",
    "plt.show()\n",
    "\n",
    "\n",
    "# ACF-значения\n",
    "acf_values_2 = sm.tsa.acf(residuals_2, nlags=200)\n",
    "\n",
    "# Значение критического доверительного интервала\n",
    "# (по умолчанию примерно 95% доверие)\n",
    "n_2 = len(residuals_2)\n",
    "conf_int_2 = 1.96 / np.sqrt(n_2)\n",
    "\n",
    "# Найти лаги, которые значимы (за пределами доверительного интервала)\n",
    "significant_lags_2 = np.where(np.abs(acf_values_2) > conf_int_2)[0]\n",
    "\n",
    "print(\"Значимые лаги:\", significant_lags_2)\n",
    "#print(\"ACF для этих лагов:\", acf_values_2[significant_lags_2])"
   ]
  },
  {
   "cell_type": "markdown",
   "metadata": {},
   "source": [
    "Автокорреляция остатков незначительна, значит нет остаточной структуры, требующей улучшения. Далее можно почистить признаки с нулевыми коэффициентами модели (ElasticNet обнуляет ненужные), но это уже в следующей жизни...."
   ]
  },
  {
   "cell_type": "markdown",
   "metadata": {},
   "source": [
    "### Выводы по разделу"
   ]
  },
  {
   "cell_type": "markdown",
   "metadata": {},
   "source": [
    "Обучение проходило в 2 этапа, обучение на календарных данных и с добавлением лаговых признаков. Добавленеи лаговых признаков обосновано анализом автокорреляции остатков (на тестовом датасете). В результате были выявлены лаговые признаки позволяющие улучшить значение целевой метриики (RMSE) на ~30% с 31 до 21.35, что существенно превосходит значение бейзлайна - 36 (значением Дамми модели). Были рассмотрены модели линейной регрессии (Linear, Lasso, Ridge, ElasticNet), бустинговая модель (LightGBM) и простенькая полносвязная нейронная сеть (2 слоя, ReLU, kaiming_uniform, MSELoss, Dropout).\n",
    "\n",
    "Достигнутый результат (RMSE 21.35) позволяет двигаться "
   ]
  },
  {
   "cell_type": "markdown",
   "metadata": {},
   "source": [
    "## Тестирование"
   ]
  },
  {
   "cell_type": "markdown",
   "metadata": {},
   "source": [
    "### Инференс"
   ]
  },
  {
   "cell_type": "code",
   "execution_count": 34,
   "metadata": {},
   "outputs": [
    {
     "name": "stdout",
     "output_type": "stream",
     "text": [
      "RMSE_inference: 34.389\n"
     ]
    }
   ],
   "source": [
    "yp = bm_2.predict(X_test_2)\n",
    "RMSE_inf = round(np.sqrt(mean_squared_error(yp, y_test)), 4)\n",
    "print(f'RMSE_inference: {RMSE_inf}')"
   ]
  },
  {
   "cell_type": "markdown",
   "metadata": {},
   "source": [
    "**Анализ остатков**"
   ]
  },
  {
   "cell_type": "code",
   "execution_count": 35,
   "metadata": {},
   "outputs": [
    {
     "data": {
      "image/png": "[encoded data removed]",
      "text/plain": [
       "<Figure size 640x480 with 1 Axes>"
      ]
     },
     "metadata": {},
     "output_type": "display_data"
    }
   ],
   "source": [
    "df_graph = pd.DataFrame({\n",
    "    'True': y_test,\n",
    "    'Pred': yp,\n",
    "    'Residuals': y_test-yp\n",
    "})\n",
    "\n",
    "sns.scatterplot(data=df_graph, x='Pred', y='Residuals')\n",
    "plt.xlabel('Predicted')\n",
    "plt.ylabel('Residuals')\n",
    "plt.title('True vs Predicted Scatter Plot')\n",
    "plt.show()"
   ]
  },
  {
   "cell_type": "markdown",
   "metadata": {},
   "source": [
    "На лицо непостоянство дисперсии остатков. Требуется доработка модели."
   ]
  },
  {
   "cell_type": "markdown",
   "metadata": {},
   "source": [
    "### Выводы по разделу"
   ]
  },
  {
   "cell_type": "markdown",
   "metadata": {},
   "source": [
    "Значение метрики на тестовом наборе данных составляет 35. Цель достигнута."
   ]
  },
  {
   "cell_type": "markdown",
   "metadata": {},
   "source": [
    "## Итоговый вывод"
   ]
  },
  {
   "cell_type": "markdown",
   "metadata": {},
   "source": [
    "### 🧾 Итоговый вывод\n",
    "\n",
    "В ходе проекта была успешно решена задача прогнозирования количества заказов такси на следующий час.\n",
    "\n",
    "---\n",
    "\n",
    "#### 📌 Ключевые итоги:\n",
    "\n",
    "- Проведен **анализ временного ряда**, выявлены:\n",
    "  - Явный **тренд** (рост количества заказов со временем)\n",
    "  - Четкая **суточная и недельная сезонность**\n",
    "  - Признаки **нестационарности** и **автокорреляции**\n",
    "\n",
    "- Проведено **обучение моделей** в два этапа:\n",
    "  1. На данных с календарными признаками  \n",
    "  2. С добавлением **лаговых признаков**, обоснованных анализом автокорреляции\n",
    "\n",
    "- Использованы и сравнены различные модели:\n",
    "  - 📉 **Линейные модели** (Linear, Ridge, Lasso, ElasticNet)\n",
    "  - 🌳 **Бустинг** (LightGBM)\n",
    "  - 🧠 **Нейронная сеть**\n",
    "  - 🎲 **Дамми модель** — как отправная точка\n",
    "\n",
    "- **ElasticNet** на лаговых признаках показала наилучшее качество:\n",
    "  - ✅ **RMSE на валидации: ~21.35**\n",
    "  - ✅ **RMSE на тесте: 35**\n",
    "  - Обе метрики значительно лучше порогового значения **48**\n",
    "\n",
    "---\n",
    "\n",
    "#### ✅ Цель проекта достигнута:\n",
    "\n",
    "Модель успешно предсказывает спрос на такси с ошибкой **RMSE < 48**.  \n",
    "Лучшая модель — **ElasticNet с лаговыми признаками** — не только точна, но и интерпретируема.\n",
    "\n",
    "---\n",
    "\n",
    "#### 📌 Возможные улучшения:\n",
    "\n",
    "- Учёт погодных условий, праздников и мероприятий\n",
    "- Учет внешних факторов (например, пробки, стоимость поездки)\n",
    "- Более глубокий анализ выбросов и гетероскедастичности\n",
    "- Расширение и регулярное обновление данных"
   ]
  }
 ],
 "metadata": {
  "ExecuteTimeLog": [
   {
    "duration": 409,
    "start_time": "2025-07-01T12:00:31.869Z"
   },
   {
    "duration": 104,
    "start_time": "2025-07-01T12:00:48.723Z"
   },
   {
    "duration": 55,
    "start_time": "2025-07-01T12:00:53.125Z"
   },
   {
    "duration": 14,
    "start_time": "2025-07-01T12:01:05.831Z"
   },
   {
    "duration": 52,
    "start_time": "2025-07-01T12:01:08.641Z"
   },
   {
    "duration": 51,
    "start_time": "2025-07-01T12:01:11.404Z"
   },
   {
    "duration": 51,
    "start_time": "2025-07-01T12:01:33.609Z"
   },
   {
    "duration": 156,
    "start_time": "2025-07-01T12:02:40.374Z"
   },
   {
    "duration": 64,
    "start_time": "2025-07-01T12:02:46.382Z"
   },
   {
    "duration": 8,
    "start_time": "2025-07-01T12:03:19.001Z"
   },
   {
    "duration": 7,
    "start_time": "2025-07-01T12:03:23.495Z"
   },
   {
    "duration": 59,
    "start_time": "2025-07-01T12:03:41.342Z"
   },
   {
    "duration": 63,
    "start_time": "2025-07-01T12:03:43.479Z"
   },
   {
    "duration": 73,
    "start_time": "2025-07-01T12:04:07.745Z"
   },
   {
    "duration": 68,
    "start_time": "2025-07-01T12:04:29.859Z"
   },
   {
    "duration": 637,
    "start_time": "2025-07-01T12:06:33.548Z"
   },
   {
    "duration": 220,
    "start_time": "2025-07-01T12:07:28.185Z"
   },
   {
    "duration": 88,
    "start_time": "2025-07-01T12:07:40.336Z"
   },
   {
    "duration": 3,
    "start_time": "2025-07-01T12:07:51.424Z"
   },
   {
    "duration": 71,
    "start_time": "2025-07-01T12:07:53.555Z"
   },
   {
    "duration": 305,
    "start_time": "2025-07-01T12:07:55.112Z"
   },
   {
    "duration": 213,
    "start_time": "2025-07-01T12:07:59.600Z"
   },
   {
    "duration": 213,
    "start_time": "2025-07-01T12:08:50.479Z"
   },
   {
    "duration": 487,
    "start_time": "2025-07-01T12:09:41.795Z"
   },
   {
    "duration": 205,
    "start_time": "2025-07-01T12:09:52.205Z"
   },
   {
    "duration": 37,
    "start_time": "2025-07-01T12:12:16.399Z"
   },
   {
    "duration": 14,
    "start_time": "2025-07-01T12:12:26.150Z"
   },
   {
    "duration": 745,
    "start_time": "2025-07-01T12:13:02.927Z"
   },
   {
    "duration": 680,
    "start_time": "2025-07-01T12:13:25.327Z"
   },
   {
    "duration": 736,
    "start_time": "2025-07-01T12:13:32.743Z"
   },
   {
    "duration": 213,
    "start_time": "2025-07-01T12:14:27.050Z"
   },
   {
    "duration": 674,
    "start_time": "2025-07-01T12:14:28.275Z"
   },
   {
    "duration": 13,
    "start_time": "2025-07-01T12:17:33.791Z"
   },
   {
    "duration": 13,
    "start_time": "2025-07-01T12:17:44.838Z"
   },
   {
    "duration": 11,
    "start_time": "2025-07-01T12:17:52.897Z"
   },
   {
    "duration": 69,
    "start_time": "2025-07-01T12:20:24.588Z"
   },
   {
    "duration": 65,
    "start_time": "2025-07-01T12:20:29.789Z"
   },
   {
    "duration": 216,
    "start_time": "2025-07-01T12:24:44.321Z"
   },
   {
    "duration": 728,
    "start_time": "2025-07-01T12:24:48.313Z"
   },
   {
    "duration": 280,
    "start_time": "2025-07-01T12:27:50.410Z"
   },
   {
    "duration": 578,
    "start_time": "2025-07-01T12:28:01.920Z"
   },
   {
    "duration": 597,
    "start_time": "2025-07-01T12:28:16.633Z"
   },
   {
    "duration": 751,
    "start_time": "2025-07-01T12:28:30.729Z"
   },
   {
    "duration": 635,
    "start_time": "2025-07-01T12:28:59.899Z"
   },
   {
    "duration": 709,
    "start_time": "2025-07-01T12:29:30.751Z"
   },
   {
    "duration": 768,
    "start_time": "2025-07-01T12:29:43.859Z"
   },
   {
    "duration": 622,
    "start_time": "2025-07-01T12:29:56.959Z"
   },
   {
    "duration": 634,
    "start_time": "2025-07-01T12:30:16.041Z"
   },
   {
    "duration": 812,
    "start_time": "2025-07-01T12:30:43.746Z"
   },
   {
    "duration": 686,
    "start_time": "2025-07-01T12:31:02.291Z"
   },
   {
    "duration": 473,
    "start_time": "2025-07-01T12:31:13.631Z"
   },
   {
    "duration": 800,
    "start_time": "2025-07-01T12:31:26.006Z"
   },
   {
    "duration": 850,
    "start_time": "2025-07-01T12:31:45.061Z"
   },
   {
    "duration": 14,
    "start_time": "2025-07-01T12:42:43.021Z"
   },
   {
    "duration": 11,
    "start_time": "2025-07-01T12:43:29.652Z"
   },
   {
    "duration": 13,
    "start_time": "2025-07-01T12:43:34.103Z"
   },
   {
    "duration": 10,
    "start_time": "2025-07-01T12:43:51.605Z"
   },
   {
    "duration": 13,
    "start_time": "2025-07-01T12:44:18.789Z"
   },
   {
    "duration": 10,
    "start_time": "2025-07-01T12:44:41.559Z"
   },
   {
    "duration": 15,
    "start_time": "2025-07-01T12:44:55.129Z"
   },
   {
    "duration": 12,
    "start_time": "2025-07-01T12:44:57.839Z"
   },
   {
    "duration": 104,
    "start_time": "2025-07-01T12:46:19.233Z"
   },
   {
    "duration": 10,
    "start_time": "2025-07-01T12:46:25.341Z"
   },
   {
    "duration": 31,
    "start_time": "2025-07-01T12:46:45.735Z"
   },
   {
    "duration": 10,
    "start_time": "2025-07-01T12:46:52.132Z"
   },
   {
    "duration": 15,
    "start_time": "2025-07-01T12:48:46.882Z"
   },
   {
    "duration": 15,
    "start_time": "2025-07-01T12:49:18.229Z"
   },
   {
    "duration": 16,
    "start_time": "2025-07-01T12:50:28.016Z"
   },
   {
    "duration": 28,
    "start_time": "2025-07-01T12:51:21.575Z"
   },
   {
    "duration": 19,
    "start_time": "2025-07-01T12:52:06.806Z"
   },
   {
    "duration": 21,
    "start_time": "2025-07-01T12:52:46.039Z"
   },
   {
    "duration": 29,
    "start_time": "2025-07-01T12:53:01.490Z"
   },
   {
    "duration": 21,
    "start_time": "2025-07-01T12:53:19.224Z"
   },
   {
    "duration": 4,
    "start_time": "2025-07-01T13:01:54.084Z"
   },
   {
    "duration": 25,
    "start_time": "2025-07-01T13:02:01.334Z"
   },
   {
    "duration": 16,
    "start_time": "2025-07-01T13:02:07.893Z"
   },
   {
    "duration": 4,
    "start_time": "2025-07-01T13:02:37.048Z"
   },
   {
    "duration": 19,
    "start_time": "2025-07-01T13:02:43.102Z"
   },
   {
    "duration": 4,
    "start_time": "2025-07-01T13:02:47.091Z"
   },
   {
    "duration": 7,
    "start_time": "2025-07-01T13:02:48.111Z"
   },
   {
    "duration": 17,
    "start_time": "2025-07-01T13:02:53.663Z"
   },
   {
    "duration": 5,
    "start_time": "2025-07-01T13:03:05.434Z"
   },
   {
    "duration": 7,
    "start_time": "2025-07-01T13:03:06.463Z"
   },
   {
    "duration": 16,
    "start_time": "2025-07-01T13:03:06.849Z"
   },
   {
    "duration": 3,
    "start_time": "2025-07-01T13:03:19.749Z"
   },
   {
    "duration": 417,
    "start_time": "2025-07-01T13:03:25.043Z"
   },
   {
    "duration": 4,
    "start_time": "2025-07-01T13:04:27.385Z"
   },
   {
    "duration": 7,
    "start_time": "2025-07-01T13:04:27.937Z"
   },
   {
    "duration": 641,
    "start_time": "2025-07-01T13:04:28.271Z"
   },
   {
    "duration": 3,
    "start_time": "2025-07-01T13:05:13.605Z"
   },
   {
    "duration": 6,
    "start_time": "2025-07-01T13:05:13.970Z"
   },
   {
    "duration": 580,
    "start_time": "2025-07-01T13:05:14.292Z"
   },
   {
    "duration": 4,
    "start_time": "2025-07-01T13:05:42.681Z"
   },
   {
    "duration": 6,
    "start_time": "2025-07-01T13:05:43.347Z"
   },
   {
    "duration": 507,
    "start_time": "2025-07-01T13:05:43.656Z"
   },
   {
    "duration": 4,
    "start_time": "2025-07-01T13:05:49.049Z"
   },
   {
    "duration": 7,
    "start_time": "2025-07-01T13:05:49.343Z"
   },
   {
    "duration": 595,
    "start_time": "2025-07-01T13:05:49.684Z"
   },
   {
    "duration": 139,
    "start_time": "2025-07-01T13:06:27.758Z"
   },
   {
    "duration": 248,
    "start_time": "2025-07-01T13:06:31.806Z"
   },
   {
    "duration": 4,
    "start_time": "2025-07-01T13:07:14.893Z"
   },
   {
    "duration": 4,
    "start_time": "2025-07-01T13:07:15.322Z"
   },
   {
    "duration": 14,
    "start_time": "2025-07-01T13:07:19.580Z"
   },
   {
    "duration": 4,
    "start_time": "2025-07-01T13:07:29.431Z"
   },
   {
    "duration": 6,
    "start_time": "2025-07-01T13:07:29.730Z"
   },
   {
    "duration": 13,
    "start_time": "2025-07-01T13:07:30.039Z"
   },
   {
    "duration": 5,
    "start_time": "2025-07-01T13:07:49.779Z"
   },
   {
    "duration": 11,
    "start_time": "2025-07-01T13:07:51.052Z"
   },
   {
    "duration": 236,
    "start_time": "2025-07-01T13:07:56.812Z"
   },
   {
    "duration": 4,
    "start_time": "2025-07-01T13:08:14.085Z"
   },
   {
    "duration": 6,
    "start_time": "2025-07-01T13:08:14.501Z"
   },
   {
    "duration": 228,
    "start_time": "2025-07-01T13:08:18.512Z"
   },
   {
    "duration": 4,
    "start_time": "2025-07-01T13:08:28.755Z"
   },
   {
    "duration": 5,
    "start_time": "2025-07-01T13:08:28.962Z"
   },
   {
    "duration": 251,
    "start_time": "2025-07-01T13:08:34.923Z"
   },
   {
    "duration": 45,
    "start_time": "2025-07-08T16:09:27.004Z"
   },
   {
    "duration": 2270,
    "start_time": "2025-07-08T16:09:34.273Z"
   },
   {
    "duration": 0,
    "start_time": "2025-07-08T16:09:36.545Z"
   },
   {
    "duration": 2041,
    "start_time": "2025-07-08T16:10:11.754Z"
   },
   {
    "duration": 6888,
    "start_time": "2025-07-08T16:14:01.783Z"
   },
   {
    "duration": 19,
    "start_time": "2025-07-08T16:14:08.673Z"
   },
   {
    "duration": 6,
    "start_time": "2025-07-08T16:14:27.262Z"
   },
   {
    "duration": 191,
    "start_time": "2025-07-08T16:14:30.743Z"
   },
   {
    "duration": 7253,
    "start_time": "2025-07-09T05:07:41.082Z"
   },
   {
    "duration": 2315,
    "start_time": "2025-07-09T05:07:48.337Z"
   },
   {
    "duration": 155,
    "start_time": "2025-07-09T05:07:50.654Z"
   },
   {
    "duration": 672,
    "start_time": "2025-07-09T05:07:50.811Z"
   },
   {
    "duration": 109,
    "start_time": "2025-07-09T05:07:51.486Z"
   },
   {
    "duration": 0,
    "start_time": "2025-07-09T05:07:51.598Z"
   },
   {
    "duration": 0,
    "start_time": "2025-07-09T05:07:51.600Z"
   },
   {
    "duration": 0,
    "start_time": "2025-07-09T05:07:51.602Z"
   },
   {
    "duration": 0,
    "start_time": "2025-07-09T05:07:51.603Z"
   },
   {
    "duration": 0,
    "start_time": "2025-07-09T05:07:51.605Z"
   },
   {
    "duration": 0,
    "start_time": "2025-07-09T05:07:51.606Z"
   },
   {
    "duration": 0,
    "start_time": "2025-07-09T05:07:51.607Z"
   },
   {
    "duration": 0,
    "start_time": "2025-07-09T05:07:51.609Z"
   },
   {
    "duration": 0,
    "start_time": "2025-07-09T05:07:51.611Z"
   },
   {
    "duration": 0,
    "start_time": "2025-07-09T05:07:51.612Z"
   },
   {
    "duration": 0,
    "start_time": "2025-07-09T05:07:51.614Z"
   },
   {
    "duration": 0,
    "start_time": "2025-07-09T05:07:51.615Z"
   },
   {
    "duration": 0,
    "start_time": "2025-07-09T05:07:51.616Z"
   },
   {
    "duration": 0,
    "start_time": "2025-07-09T05:07:51.617Z"
   },
   {
    "duration": 0,
    "start_time": "2025-07-09T05:07:51.619Z"
   },
   {
    "duration": 0,
    "start_time": "2025-07-09T05:07:51.620Z"
   },
   {
    "duration": 0,
    "start_time": "2025-07-09T05:07:51.621Z"
   },
   {
    "duration": 0,
    "start_time": "2025-07-09T05:07:51.623Z"
   },
   {
    "duration": 0,
    "start_time": "2025-07-09T05:07:51.624Z"
   },
   {
    "duration": 0,
    "start_time": "2025-07-09T05:07:51.626Z"
   },
   {
    "duration": 0,
    "start_time": "2025-07-09T05:07:51.628Z"
   },
   {
    "duration": 0,
    "start_time": "2025-07-09T05:07:51.629Z"
   },
   {
    "duration": 0,
    "start_time": "2025-07-09T05:07:51.630Z"
   },
   {
    "duration": 0,
    "start_time": "2025-07-09T05:07:51.632Z"
   },
   {
    "duration": 0,
    "start_time": "2025-07-09T05:07:51.633Z"
   },
   {
    "duration": 0,
    "start_time": "2025-07-09T05:07:51.635Z"
   },
   {
    "duration": 3110,
    "start_time": "2025-07-09T05:08:34.973Z"
   },
   {
    "duration": 2124,
    "start_time": "2025-07-09T05:08:38.086Z"
   },
   {
    "duration": 82,
    "start_time": "2025-07-09T05:08:40.212Z"
   },
   {
    "duration": 645,
    "start_time": "2025-07-09T05:08:40.295Z"
   },
   {
    "duration": 1078,
    "start_time": "2025-07-09T05:08:40.943Z"
   },
   {
    "duration": 0,
    "start_time": "2025-07-09T05:08:42.023Z"
   },
   {
    "duration": 0,
    "start_time": "2025-07-09T05:08:42.024Z"
   },
   {
    "duration": 0,
    "start_time": "2025-07-09T05:08:42.025Z"
   },
   {
    "duration": 1,
    "start_time": "2025-07-09T05:08:42.026Z"
   },
   {
    "duration": 0,
    "start_time": "2025-07-09T05:08:42.027Z"
   },
   {
    "duration": 0,
    "start_time": "2025-07-09T05:08:42.028Z"
   },
   {
    "duration": 0,
    "start_time": "2025-07-09T05:08:42.029Z"
   },
   {
    "duration": 0,
    "start_time": "2025-07-09T05:08:42.030Z"
   },
   {
    "duration": 0,
    "start_time": "2025-07-09T05:08:42.032Z"
   },
   {
    "duration": 0,
    "start_time": "2025-07-09T05:08:42.032Z"
   },
   {
    "duration": 0,
    "start_time": "2025-07-09T05:08:42.033Z"
   },
   {
    "duration": 0,
    "start_time": "2025-07-09T05:08:42.034Z"
   },
   {
    "duration": 0,
    "start_time": "2025-07-09T05:08:42.036Z"
   },
   {
    "duration": 0,
    "start_time": "2025-07-09T05:08:42.037Z"
   },
   {
    "duration": 0,
    "start_time": "2025-07-09T05:08:42.038Z"
   },
   {
    "duration": 0,
    "start_time": "2025-07-09T05:08:42.039Z"
   },
   {
    "duration": 0,
    "start_time": "2025-07-09T05:08:42.061Z"
   },
   {
    "duration": 0,
    "start_time": "2025-07-09T05:08:42.062Z"
   },
   {
    "duration": 0,
    "start_time": "2025-07-09T05:08:42.064Z"
   },
   {
    "duration": 0,
    "start_time": "2025-07-09T05:08:42.065Z"
   },
   {
    "duration": 0,
    "start_time": "2025-07-09T05:08:42.066Z"
   },
   {
    "duration": 0,
    "start_time": "2025-07-09T05:08:42.067Z"
   },
   {
    "duration": 0,
    "start_time": "2025-07-09T05:08:42.068Z"
   },
   {
    "duration": 0,
    "start_time": "2025-07-09T05:08:42.069Z"
   },
   {
    "duration": 0,
    "start_time": "2025-07-09T05:08:42.070Z"
   },
   {
    "duration": 0,
    "start_time": "2025-07-09T05:08:42.071Z"
   },
   {
    "duration": 1002,
    "start_time": "2025-07-09T05:09:24.711Z"
   },
   {
    "duration": 1173,
    "start_time": "2025-07-09T05:10:07.008Z"
   },
   {
    "duration": 1020,
    "start_time": "2025-07-09T05:10:27.758Z"
   },
   {
    "duration": 1171,
    "start_time": "2025-07-09T05:12:27.207Z"
   },
   {
    "duration": 1235,
    "start_time": "2025-07-09T05:13:18.597Z"
   },
   {
    "duration": 1078,
    "start_time": "2025-07-09T05:13:24.487Z"
   },
   {
    "duration": 1065,
    "start_time": "2025-07-09T05:14:19.470Z"
   },
   {
    "duration": 1204,
    "start_time": "2025-07-09T05:14:44.391Z"
   },
   {
    "duration": 1063,
    "start_time": "2025-07-09T05:17:07.801Z"
   },
   {
    "duration": 1049,
    "start_time": "2025-07-09T05:17:36.921Z"
   },
   {
    "duration": 1283,
    "start_time": "2025-07-09T05:18:05.081Z"
   },
   {
    "duration": 1085,
    "start_time": "2025-07-09T05:18:51.840Z"
   },
   {
    "duration": 2820,
    "start_time": "2025-07-09T05:25:27.999Z"
   },
   {
    "duration": 905,
    "start_time": "2025-07-09T05:26:18.450Z"
   },
   {
    "duration": 849,
    "start_time": "2025-07-09T05:26:32.571Z"
   },
   {
    "duration": 13,
    "start_time": "2025-07-09T05:43:53.750Z"
   },
   {
    "duration": 5,
    "start_time": "2025-07-09T05:43:54.178Z"
   },
   {
    "duration": 12,
    "start_time": "2025-07-09T05:43:55.136Z"
   },
   {
    "duration": 26,
    "start_time": "2025-07-09T05:44:05.495Z"
   },
   {
    "duration": 21,
    "start_time": "2025-07-09T05:44:27.451Z"
   },
   {
    "duration": 13,
    "start_time": "2025-07-09T05:44:42.559Z"
   },
   {
    "duration": 13,
    "start_time": "2025-07-09T05:45:05.387Z"
   },
   {
    "duration": 4,
    "start_time": "2025-07-09T05:45:56.536Z"
   },
   {
    "duration": 21,
    "start_time": "2025-07-09T05:45:57.597Z"
   },
   {
    "duration": 1564,
    "start_time": "2025-07-09T05:46:02.337Z"
   },
   {
    "duration": 36,
    "start_time": "2025-07-09T05:46:16.708Z"
   },
   {
    "duration": 14,
    "start_time": "2025-07-09T05:46:18.885Z"
   },
   {
    "duration": 99,
    "start_time": "2025-07-09T05:46:40.787Z"
   },
   {
    "duration": 16,
    "start_time": "2025-07-09T05:46:49.148Z"
   },
   {
    "duration": 87,
    "start_time": "2025-07-09T05:46:50.369Z"
   },
   {
    "duration": 22,
    "start_time": "2025-07-09T05:46:59.166Z"
   },
   {
    "duration": 15,
    "start_time": "2025-07-09T05:47:02.214Z"
   },
   {
    "duration": 17,
    "start_time": "2025-07-09T05:47:06.231Z"
   },
   {
    "duration": 5,
    "start_time": "2025-07-09T05:47:08.277Z"
   },
   {
    "duration": 23,
    "start_time": "2025-07-09T05:47:12.757Z"
   },
   {
    "duration": 6,
    "start_time": "2025-07-09T05:47:14.965Z"
   },
   {
    "duration": 18,
    "start_time": "2025-07-09T05:47:18.912Z"
   },
   {
    "duration": 5,
    "start_time": "2025-07-09T05:47:39.660Z"
   },
   {
    "duration": 25,
    "start_time": "2025-07-09T05:47:40.435Z"
   },
   {
    "duration": 5,
    "start_time": "2025-07-09T05:47:57.815Z"
   },
   {
    "duration": 17,
    "start_time": "2025-07-09T05:47:58.517Z"
   },
   {
    "duration": 4,
    "start_time": "2025-07-09T05:48:01.339Z"
   },
   {
    "duration": 5,
    "start_time": "2025-07-09T05:48:02.138Z"
   },
   {
    "duration": 5124,
    "start_time": "2025-07-09T05:48:02.790Z"
   },
   {
    "duration": 17,
    "start_time": "2025-07-09T05:48:41.767Z"
   },
   {
    "duration": 4,
    "start_time": "2025-07-09T05:48:49.398Z"
   },
   {
    "duration": 16,
    "start_time": "2025-07-09T05:48:49.933Z"
   },
   {
    "duration": 8749,
    "start_time": "2025-07-10T15:52:37.876Z"
   },
   {
    "duration": 2669,
    "start_time": "2025-07-10T15:52:46.629Z"
   },
   {
    "duration": 100,
    "start_time": "2025-07-10T15:52:49.300Z"
   },
   {
    "duration": 764,
    "start_time": "2025-07-10T15:52:49.403Z"
   },
   {
    "duration": 1519,
    "start_time": "2025-07-10T15:52:50.170Z"
   },
   {
    "duration": 3063,
    "start_time": "2025-07-10T15:52:51.691Z"
   },
   {
    "duration": 12,
    "start_time": "2025-07-10T15:52:54.757Z"
   },
   {
    "duration": 99,
    "start_time": "2025-07-10T15:52:54.771Z"
   },
   {
    "duration": 25,
    "start_time": "2025-07-10T15:52:54.873Z"
   },
   {
    "duration": 40,
    "start_time": "2025-07-10T15:52:54.901Z"
   },
   {
    "duration": 14,
    "start_time": "2025-07-10T15:52:54.943Z"
   },
   {
    "duration": 34,
    "start_time": "2025-07-10T15:52:54.961Z"
   },
   {
    "duration": 6,
    "start_time": "2025-07-10T15:52:54.997Z"
   },
   {
    "duration": 30,
    "start_time": "2025-07-10T15:52:55.007Z"
   },
   {
    "duration": 5,
    "start_time": "2025-07-10T15:52:55.039Z"
   },
   {
    "duration": 10,
    "start_time": "2025-07-10T15:52:55.049Z"
   },
   {
    "duration": 8425,
    "start_time": "2025-07-10T15:52:55.062Z"
   },
   {
    "duration": 13,
    "start_time": "2025-07-10T15:53:03.489Z"
   },
   {
    "duration": 113,
    "start_time": "2025-07-10T15:53:03.504Z"
   },
   {
    "duration": 15,
    "start_time": "2025-07-10T15:53:03.619Z"
   },
   {
    "duration": 3441,
    "start_time": "2025-07-10T16:17:39.172Z"
   },
   {
    "duration": 2215,
    "start_time": "2025-07-10T16:17:42.615Z"
   },
   {
    "duration": 187,
    "start_time": "2025-07-10T16:17:44.832Z"
   },
   {
    "duration": 793,
    "start_time": "2025-07-10T16:17:45.022Z"
   },
   {
    "duration": 1394,
    "start_time": "2025-07-10T16:17:45.816Z"
   },
   {
    "duration": 4276,
    "start_time": "2025-07-10T16:17:47.212Z"
   },
   {
    "duration": 5,
    "start_time": "2025-07-10T16:17:51.490Z"
   },
   {
    "duration": 34,
    "start_time": "2025-07-10T16:17:51.497Z"
   },
   {
    "duration": 41,
    "start_time": "2025-07-10T16:17:51.533Z"
   },
   {
    "duration": 18,
    "start_time": "2025-07-10T16:17:51.578Z"
   },
   {
    "duration": 45,
    "start_time": "2025-07-10T16:17:51.598Z"
   },
   {
    "duration": 82,
    "start_time": "2025-07-10T16:17:51.645Z"
   },
   {
    "duration": 7,
    "start_time": "2025-07-10T16:17:51.729Z"
   },
   {
    "duration": 36,
    "start_time": "2025-07-10T16:17:51.738Z"
   },
   {
    "duration": 5,
    "start_time": "2025-07-10T16:17:51.776Z"
   },
   {
    "duration": 18,
    "start_time": "2025-07-10T16:17:51.783Z"
   },
   {
    "duration": 8376,
    "start_time": "2025-07-10T16:17:51.802Z"
   },
   {
    "duration": 5,
    "start_time": "2025-07-10T16:18:00.180Z"
   },
   {
    "duration": 220,
    "start_time": "2025-07-10T16:18:00.187Z"
   },
   {
    "duration": 3639,
    "start_time": "2025-07-10T16:18:24.109Z"
   },
   {
    "duration": 2299,
    "start_time": "2025-07-10T16:18:27.751Z"
   },
   {
    "duration": 110,
    "start_time": "2025-07-10T16:18:30.053Z"
   },
   {
    "duration": 787,
    "start_time": "2025-07-10T16:18:30.168Z"
   },
   {
    "duration": 1480,
    "start_time": "2025-07-10T16:18:30.958Z"
   },
   {
    "duration": 4242,
    "start_time": "2025-07-10T16:18:32.440Z"
   },
   {
    "duration": 6,
    "start_time": "2025-07-10T16:18:36.684Z"
   },
   {
    "duration": 24,
    "start_time": "2025-07-10T16:18:36.691Z"
   },
   {
    "duration": 50,
    "start_time": "2025-07-10T16:18:36.716Z"
   },
   {
    "duration": 21,
    "start_time": "2025-07-10T16:18:36.771Z"
   },
   {
    "duration": 5,
    "start_time": "2025-07-10T16:18:36.794Z"
   },
   {
    "duration": 72,
    "start_time": "2025-07-10T16:18:36.801Z"
   },
   {
    "duration": 77,
    "start_time": "2025-07-10T16:18:36.875Z"
   },
   {
    "duration": 36,
    "start_time": "2025-07-10T16:18:36.954Z"
   },
   {
    "duration": 7,
    "start_time": "2025-07-10T16:18:36.992Z"
   },
   {
    "duration": 30,
    "start_time": "2025-07-10T16:18:37.000Z"
   },
   {
    "duration": 8518,
    "start_time": "2025-07-10T16:18:37.032Z"
   },
   {
    "duration": 26,
    "start_time": "2025-07-10T16:18:45.553Z"
   },
   {
    "duration": 8,
    "start_time": "2025-07-10T16:18:45.581Z"
   },
   {
    "duration": 78,
    "start_time": "2025-07-10T16:18:45.591Z"
   },
   {
    "duration": 3573,
    "start_time": "2025-07-10T18:02:14.163Z"
   },
   {
    "duration": 3328,
    "start_time": "2025-07-10T18:02:17.738Z"
   },
   {
    "duration": 162,
    "start_time": "2025-07-10T18:02:21.068Z"
   },
   {
    "duration": 759,
    "start_time": "2025-07-10T18:02:21.232Z"
   },
   {
    "duration": 1465,
    "start_time": "2025-07-10T18:02:21.993Z"
   },
   {
    "duration": 3288,
    "start_time": "2025-07-10T18:02:23.462Z"
   },
   {
    "duration": 4,
    "start_time": "2025-07-10T18:02:26.752Z"
   },
   {
    "duration": 30,
    "start_time": "2025-07-10T18:02:26.759Z"
   },
   {
    "duration": 80,
    "start_time": "2025-07-10T18:02:26.791Z"
   },
   {
    "duration": 77,
    "start_time": "2025-07-10T18:02:26.877Z"
   },
   {
    "duration": 9,
    "start_time": "2025-07-10T18:02:26.956Z"
   },
   {
    "duration": 30,
    "start_time": "2025-07-10T18:02:26.966Z"
   },
   {
    "duration": 6,
    "start_time": "2025-07-10T18:02:27.049Z"
   },
   {
    "duration": 31,
    "start_time": "2025-07-10T18:02:27.057Z"
   },
   {
    "duration": 4,
    "start_time": "2025-07-10T18:02:27.089Z"
   },
   {
    "duration": 55,
    "start_time": "2025-07-10T18:02:27.095Z"
   },
   {
    "duration": 8356,
    "start_time": "2025-07-10T18:02:27.153Z"
   },
   {
    "duration": 14,
    "start_time": "2025-07-10T18:02:35.510Z"
   },
   {
    "duration": 88,
    "start_time": "2025-07-10T18:02:35.526Z"
   },
   {
    "duration": 48,
    "start_time": "2025-07-10T18:02:35.616Z"
   },
   {
    "duration": 70794,
    "start_time": "2025-07-10T18:02:35.666Z"
   },
   {
    "duration": 0,
    "start_time": "2025-07-10T18:03:46.462Z"
   },
   {
    "duration": 0,
    "start_time": "2025-07-10T18:03:46.463Z"
   },
   {
    "duration": 0,
    "start_time": "2025-07-10T18:03:46.466Z"
   },
   {
    "duration": 0,
    "start_time": "2025-07-10T18:03:46.467Z"
   },
   {
    "duration": 0,
    "start_time": "2025-07-10T18:03:46.468Z"
   },
   {
    "duration": 0,
    "start_time": "2025-07-10T18:03:46.470Z"
   },
   {
    "duration": 0,
    "start_time": "2025-07-10T18:03:46.472Z"
   },
   {
    "duration": 0,
    "start_time": "2025-07-10T18:03:46.474Z"
   },
   {
    "duration": 0,
    "start_time": "2025-07-10T18:03:46.475Z"
   },
   {
    "duration": 0,
    "start_time": "2025-07-10T18:03:46.476Z"
   },
   {
    "duration": 3643,
    "start_time": "2025-07-10T18:16:46.185Z"
   },
   {
    "duration": 3608,
    "start_time": "2025-07-10T18:16:49.831Z"
   },
   {
    "duration": 108,
    "start_time": "2025-07-10T18:16:53.441Z"
   },
   {
    "duration": 764,
    "start_time": "2025-07-10T18:16:53.554Z"
   },
   {
    "duration": 1493,
    "start_time": "2025-07-10T18:16:54.321Z"
   },
   {
    "duration": 6565,
    "start_time": "2025-07-10T18:16:55.816Z"
   },
   {
    "duration": 4,
    "start_time": "2025-07-10T18:17:02.383Z"
   },
   {
    "duration": 113,
    "start_time": "2025-07-10T18:17:02.389Z"
   },
   {
    "duration": 33,
    "start_time": "2025-07-10T18:17:02.505Z"
   },
   {
    "duration": 24,
    "start_time": "2025-07-10T18:17:02.540Z"
   },
   {
    "duration": 7,
    "start_time": "2025-07-10T18:17:02.567Z"
   },
   {
    "duration": 33,
    "start_time": "2025-07-10T18:17:02.576Z"
   },
   {
    "duration": 87,
    "start_time": "2025-07-10T18:17:02.611Z"
   },
   {
    "duration": 0,
    "start_time": "2025-07-10T18:17:02.701Z"
   },
   {
    "duration": 0,
    "start_time": "2025-07-10T18:17:02.702Z"
   },
   {
    "duration": 0,
    "start_time": "2025-07-10T18:17:02.703Z"
   },
   {
    "duration": 0,
    "start_time": "2025-07-10T18:17:02.704Z"
   },
   {
    "duration": 0,
    "start_time": "2025-07-10T18:17:02.705Z"
   },
   {
    "duration": 0,
    "start_time": "2025-07-10T18:17:02.706Z"
   },
   {
    "duration": 0,
    "start_time": "2025-07-10T18:17:02.707Z"
   },
   {
    "duration": 0,
    "start_time": "2025-07-10T18:17:02.708Z"
   },
   {
    "duration": 0,
    "start_time": "2025-07-10T18:17:02.710Z"
   },
   {
    "duration": 0,
    "start_time": "2025-07-10T18:17:02.711Z"
   },
   {
    "duration": 0,
    "start_time": "2025-07-10T18:17:02.712Z"
   },
   {
    "duration": 0,
    "start_time": "2025-07-10T18:17:02.713Z"
   },
   {
    "duration": 0,
    "start_time": "2025-07-10T18:17:02.716Z"
   },
   {
    "duration": 0,
    "start_time": "2025-07-10T18:17:02.717Z"
   },
   {
    "duration": 0,
    "start_time": "2025-07-10T18:17:02.718Z"
   },
   {
    "duration": 0,
    "start_time": "2025-07-10T18:17:02.719Z"
   },
   {
    "duration": 0,
    "start_time": "2025-07-10T18:17:02.720Z"
   },
   {
    "duration": 0,
    "start_time": "2025-07-10T18:17:02.722Z"
   },
   {
    "duration": 10,
    "start_time": "2025-07-10T18:17:55.959Z"
   },
   {
    "duration": 17,
    "start_time": "2025-07-10T18:17:57.487Z"
   },
   {
    "duration": 4,
    "start_time": "2025-07-10T18:18:02.296Z"
   },
   {
    "duration": 9,
    "start_time": "2025-07-10T18:18:03.257Z"
   },
   {
    "duration": 6115,
    "start_time": "2025-07-10T18:18:03.827Z"
   },
   {
    "duration": 23,
    "start_time": "2025-07-10T18:18:20.746Z"
   },
   {
    "duration": 3,
    "start_time": "2025-07-10T18:18:21.726Z"
   },
   {
    "duration": 3,
    "start_time": "2025-07-10T18:18:22.434Z"
   },
   {
    "duration": 230115,
    "start_time": "2025-07-10T18:18:24.046Z"
   },
   {
    "duration": 0,
    "start_time": "2025-07-10T18:22:14.366Z"
   },
   {
    "duration": 0,
    "start_time": "2025-07-10T18:22:14.369Z"
   },
   {
    "duration": 0,
    "start_time": "2025-07-10T18:22:14.370Z"
   },
   {
    "duration": 0,
    "start_time": "2025-07-10T18:22:14.372Z"
   },
   {
    "duration": 0,
    "start_time": "2025-07-10T18:22:14.373Z"
   },
   {
    "duration": 0,
    "start_time": "2025-07-10T18:22:14.374Z"
   },
   {
    "duration": 0,
    "start_time": "2025-07-10T18:22:14.376Z"
   },
   {
    "duration": 0,
    "start_time": "2025-07-10T18:22:14.377Z"
   },
   {
    "duration": 0,
    "start_time": "2025-07-10T18:22:14.378Z"
   },
   {
    "duration": 0,
    "start_time": "2025-07-10T18:22:14.379Z"
   },
   {
    "duration": 0,
    "start_time": "2025-07-10T18:22:14.381Z"
   },
   {
    "duration": 0,
    "start_time": "2025-07-10T18:22:14.382Z"
   },
   {
    "duration": 3829,
    "start_time": "2025-07-10T18:22:23.766Z"
   },
   {
    "duration": 10,
    "start_time": "2025-07-10T18:22:27.598Z"
   },
   {
    "duration": 131,
    "start_time": "2025-07-10T18:22:27.610Z"
   },
   {
    "duration": 788,
    "start_time": "2025-07-10T18:22:28.478Z"
   },
   {
    "duration": 1610,
    "start_time": "2025-07-10T18:22:29.272Z"
   },
   {
    "duration": 13729,
    "start_time": "2025-07-10T18:22:30.884Z"
   },
   {
    "duration": 5,
    "start_time": "2025-07-10T18:22:44.615Z"
   },
   {
    "duration": 47,
    "start_time": "2025-07-10T18:22:44.622Z"
   },
   {
    "duration": 27,
    "start_time": "2025-07-10T18:22:44.672Z"
   },
   {
    "duration": 97,
    "start_time": "2025-07-10T18:22:44.700Z"
   },
   {
    "duration": 45,
    "start_time": "2025-07-10T18:22:44.799Z"
   },
   {
    "duration": 25,
    "start_time": "2025-07-10T18:22:44.846Z"
   },
   {
    "duration": 0,
    "start_time": "2025-07-10T18:22:44.873Z"
   },
   {
    "duration": 0,
    "start_time": "2025-07-10T18:22:44.875Z"
   },
   {
    "duration": 0,
    "start_time": "2025-07-10T18:22:44.877Z"
   },
   {
    "duration": 0,
    "start_time": "2025-07-10T18:22:44.879Z"
   },
   {
    "duration": 0,
    "start_time": "2025-07-10T18:22:44.881Z"
   },
   {
    "duration": 13,
    "start_time": "2025-07-10T18:23:01.089Z"
   },
   {
    "duration": 9,
    "start_time": "2025-07-10T18:23:02.467Z"
   },
   {
    "duration": 17,
    "start_time": "2025-07-10T18:23:03.287Z"
   },
   {
    "duration": 6,
    "start_time": "2025-07-10T18:24:41.677Z"
   },
   {
    "duration": 0,
    "start_time": "2025-07-10T18:28:56.152Z"
   },
   {
    "duration": 0,
    "start_time": "2025-07-10T18:28:56.153Z"
   },
   {
    "duration": 3,
    "start_time": "2025-07-10T18:28:59.688Z"
   },
   {
    "duration": 115259,
    "start_time": "2025-07-10T18:29:00.435Z"
   },
   {
    "duration": 9,
    "start_time": "2025-07-10T18:30:57.350Z"
   },
   {
    "duration": 108,
    "start_time": "2025-07-10T18:31:00.652Z"
   },
   {
    "duration": 21,
    "start_time": "2025-07-10T18:31:28.314Z"
   },
   {
    "duration": 5,
    "start_time": "2025-07-10T18:31:57.713Z"
   },
   {
    "duration": 10,
    "start_time": "2025-07-10T18:32:00.588Z"
   },
   {
    "duration": 8,
    "start_time": "2025-07-10T18:32:08.909Z"
   },
   {
    "duration": 3841,
    "start_time": "2025-07-10T18:32:25.877Z"
   },
   {
    "duration": 8,
    "start_time": "2025-07-10T18:32:29.721Z"
   },
   {
    "duration": 104,
    "start_time": "2025-07-10T18:32:29.730Z"
   },
   {
    "duration": 736,
    "start_time": "2025-07-10T18:32:29.836Z"
   },
   {
    "duration": 1529,
    "start_time": "2025-07-10T18:32:30.574Z"
   },
   {
    "duration": 7983,
    "start_time": "2025-07-10T18:32:32.104Z"
   },
   {
    "duration": 5,
    "start_time": "2025-07-10T18:32:40.088Z"
   },
   {
    "duration": 36,
    "start_time": "2025-07-10T18:32:40.094Z"
   },
   {
    "duration": 39,
    "start_time": "2025-07-10T18:32:40.132Z"
   },
   {
    "duration": 21,
    "start_time": "2025-07-10T18:32:40.181Z"
   },
   {
    "duration": 6,
    "start_time": "2025-07-10T18:32:40.203Z"
   },
   {
    "duration": 20,
    "start_time": "2025-07-10T18:32:40.211Z"
   },
   {
    "duration": 6,
    "start_time": "2025-07-10T18:32:40.232Z"
   },
   {
    "duration": 7,
    "start_time": "2025-07-10T18:32:40.255Z"
   },
   {
    "duration": 82,
    "start_time": "2025-07-10T18:32:40.264Z"
   },
   {
    "duration": 27,
    "start_time": "2025-07-10T18:32:40.348Z"
   },
   {
    "duration": 7,
    "start_time": "2025-07-10T18:32:44.174Z"
   },
   {
    "duration": 3594,
    "start_time": "2025-07-10T18:32:58.104Z"
   },
   {
    "duration": 9,
    "start_time": "2025-07-10T18:33:01.702Z"
   },
   {
    "duration": 125,
    "start_time": "2025-07-10T18:33:01.712Z"
   },
   {
    "duration": 754,
    "start_time": "2025-07-10T18:33:01.839Z"
   },
   {
    "duration": 1510,
    "start_time": "2025-07-10T18:33:02.595Z"
   },
   {
    "duration": 7184,
    "start_time": "2025-07-10T18:33:04.106Z"
   },
   {
    "duration": 4,
    "start_time": "2025-07-10T18:33:11.292Z"
   },
   {
    "duration": 32,
    "start_time": "2025-07-10T18:33:11.297Z"
   },
   {
    "duration": 35,
    "start_time": "2025-07-10T18:33:11.331Z"
   },
   {
    "duration": 20,
    "start_time": "2025-07-10T18:33:11.376Z"
   },
   {
    "duration": 5,
    "start_time": "2025-07-10T18:33:11.397Z"
   },
   {
    "duration": 37,
    "start_time": "2025-07-10T18:33:11.403Z"
   },
   {
    "duration": 17,
    "start_time": "2025-07-10T18:33:11.442Z"
   },
   {
    "duration": 11,
    "start_time": "2025-07-10T18:33:11.464Z"
   },
   {
    "duration": 189,
    "start_time": "2025-07-10T18:33:11.478Z"
   },
   {
    "duration": 0,
    "start_time": "2025-07-10T18:33:11.670Z"
   },
   {
    "duration": 89,
    "start_time": "2025-07-10T18:38:56.944Z"
   },
   {
    "duration": 7,
    "start_time": "2025-07-10T18:39:19.990Z"
   },
   {
    "duration": 12,
    "start_time": "2025-07-10T18:39:35.329Z"
   },
   {
    "duration": 33,
    "start_time": "2025-07-10T18:39:47.442Z"
   },
   {
    "duration": 17,
    "start_time": "2025-07-10T18:39:57.105Z"
   },
   {
    "duration": 4,
    "start_time": "2025-07-10T18:39:57.513Z"
   },
   {
    "duration": 22,
    "start_time": "2025-07-10T18:39:58.455Z"
   },
   {
    "duration": 5,
    "start_time": "2025-07-10T18:39:59.012Z"
   },
   {
    "duration": 3,
    "start_time": "2025-07-10T18:39:59.241Z"
   },
   {
    "duration": 9,
    "start_time": "2025-07-10T18:39:59.408Z"
   },
   {
    "duration": 6,
    "start_time": "2025-07-10T18:40:00.726Z"
   },
   {
    "duration": 6,
    "start_time": "2025-07-10T18:40:38.813Z"
   },
   {
    "duration": 64,
    "start_time": "2025-07-10T18:40:38.822Z"
   },
   {
    "duration": 10,
    "start_time": "2025-07-10T18:40:39.106Z"
   },
   {
    "duration": 6,
    "start_time": "2025-07-10T18:40:39.693Z"
   },
   {
    "duration": 20,
    "start_time": "2025-07-10T18:41:03.544Z"
   },
   {
    "duration": 5,
    "start_time": "2025-07-10T18:41:04.047Z"
   },
   {
    "duration": 19,
    "start_time": "2025-07-10T18:41:10.806Z"
   },
   {
    "duration": 25,
    "start_time": "2025-07-10T18:41:16.857Z"
   },
   {
    "duration": 5,
    "start_time": "2025-07-10T18:41:17.274Z"
   },
   {
    "duration": 11,
    "start_time": "2025-07-10T18:41:17.788Z"
   },
   {
    "duration": 6,
    "start_time": "2025-07-10T18:41:18.331Z"
   },
   {
    "duration": 2,
    "start_time": "2025-07-10T18:41:18.521Z"
   },
   {
    "duration": 24,
    "start_time": "2025-07-10T18:41:18.722Z"
   },
   {
    "duration": 6,
    "start_time": "2025-07-10T18:41:18.926Z"
   },
   {
    "duration": 5,
    "start_time": "2025-07-10T18:41:26.926Z"
   },
   {
    "duration": 16,
    "start_time": "2025-07-10T18:41:27.712Z"
   },
   {
    "duration": 11,
    "start_time": "2025-07-10T18:41:28.274Z"
   },
   {
    "duration": 5,
    "start_time": "2025-07-10T18:41:28.446Z"
   },
   {
    "duration": 26,
    "start_time": "2025-07-10T18:41:28.626Z"
   },
   {
    "duration": 10,
    "start_time": "2025-07-10T18:41:28.806Z"
   },
   {
    "duration": 5,
    "start_time": "2025-07-10T18:41:48.308Z"
   },
   {
    "duration": 2,
    "start_time": "2025-07-10T18:41:48.728Z"
   },
   {
    "duration": 12,
    "start_time": "2025-07-10T18:41:54.281Z"
   },
   {
    "duration": 5,
    "start_time": "2025-07-10T18:41:57.909Z"
   },
   {
    "duration": 12,
    "start_time": "2025-07-10T18:41:58.476Z"
   },
   {
    "duration": 15,
    "start_time": "2025-07-10T18:42:02.160Z"
   },
   {
    "duration": 2,
    "start_time": "2025-07-10T18:42:02.404Z"
   },
   {
    "duration": 14,
    "start_time": "2025-07-10T18:42:02.526Z"
   },
   {
    "duration": 10,
    "start_time": "2025-07-10T18:42:04.808Z"
   },
   {
    "duration": 6,
    "start_time": "2025-07-10T18:42:06.322Z"
   },
   {
    "duration": 91,
    "start_time": "2025-07-10T18:45:16.909Z"
   },
   {
    "duration": 96,
    "start_time": "2025-07-10T18:45:27.891Z"
   },
   {
    "duration": 5,
    "start_time": "2025-07-10T18:45:34.332Z"
   },
   {
    "duration": 8,
    "start_time": "2025-07-10T18:45:44.072Z"
   },
   {
    "duration": 3,
    "start_time": "2025-07-10T18:45:44.929Z"
   },
   {
    "duration": 18,
    "start_time": "2025-07-10T18:45:45.172Z"
   },
   {
    "duration": 16,
    "start_time": "2025-07-10T18:45:46.326Z"
   },
   {
    "duration": 5,
    "start_time": "2025-07-10T18:46:53.392Z"
   },
   {
    "duration": 3,
    "start_time": "2025-07-10T18:46:53.922Z"
   },
   {
    "duration": 12,
    "start_time": "2025-07-10T18:46:54.386Z"
   },
   {
    "duration": 8,
    "start_time": "2025-07-10T18:46:54.732Z"
   },
   {
    "duration": 5,
    "start_time": "2025-07-10T18:47:11.991Z"
   },
   {
    "duration": 13,
    "start_time": "2025-07-10T18:47:12.722Z"
   },
   {
    "duration": 7,
    "start_time": "2025-07-10T18:47:13.372Z"
   },
   {
    "duration": 3,
    "start_time": "2025-07-10T18:47:13.636Z"
   },
   {
    "duration": 8,
    "start_time": "2025-07-10T18:47:14.121Z"
   },
   {
    "duration": 7,
    "start_time": "2025-07-10T18:47:14.633Z"
   },
   {
    "duration": 6,
    "start_time": "2025-07-10T18:47:50.402Z"
   },
   {
    "duration": 3,
    "start_time": "2025-07-10T18:47:50.649Z"
   },
   {
    "duration": 14,
    "start_time": "2025-07-10T18:47:50.883Z"
   },
   {
    "duration": 6,
    "start_time": "2025-07-10T18:47:51.309Z"
   },
   {
    "duration": 14,
    "start_time": "2025-07-10T18:48:02.930Z"
   },
   {
    "duration": 12,
    "start_time": "2025-07-10T18:48:23.003Z"
   },
   {
    "duration": 5,
    "start_time": "2025-07-10T18:48:34.689Z"
   },
   {
    "duration": 12,
    "start_time": "2025-07-10T18:48:35.399Z"
   },
   {
    "duration": 8,
    "start_time": "2025-07-10T18:48:35.932Z"
   },
   {
    "duration": 14,
    "start_time": "2025-07-10T18:48:36.086Z"
   },
   {
    "duration": 5,
    "start_time": "2025-07-10T18:48:36.481Z"
   },
   {
    "duration": 15,
    "start_time": "2025-07-10T18:48:58.329Z"
   },
   {
    "duration": 9,
    "start_time": "2025-07-10T18:49:00.850Z"
   },
   {
    "duration": 18,
    "start_time": "2025-07-10T18:49:01.062Z"
   },
   {
    "duration": 6,
    "start_time": "2025-07-10T18:49:07.802Z"
   },
   {
    "duration": 5,
    "start_time": "2025-07-10T18:52:43.720Z"
   },
   {
    "duration": 12,
    "start_time": "2025-07-10T18:52:44.305Z"
   },
   {
    "duration": 17,
    "start_time": "2025-07-10T18:52:54.521Z"
   },
   {
    "duration": 5,
    "start_time": "2025-07-10T18:53:16.317Z"
   },
   {
    "duration": 12,
    "start_time": "2025-07-10T18:53:16.324Z"
   },
   {
    "duration": 10,
    "start_time": "2025-07-10T18:53:19.281Z"
   },
   {
    "duration": 20,
    "start_time": "2025-07-10T18:53:27.353Z"
   },
   {
    "duration": 7,
    "start_time": "2025-07-10T18:53:33.707Z"
   },
   {
    "duration": 27,
    "start_time": "2025-07-10T18:53:33.945Z"
   },
   {
    "duration": 9,
    "start_time": "2025-07-10T18:53:34.201Z"
   },
   {
    "duration": 15,
    "start_time": "2025-07-10T18:53:43.669Z"
   },
   {
    "duration": 10,
    "start_time": "2025-07-10T18:53:43.885Z"
   },
   {
    "duration": 8,
    "start_time": "2025-07-10T18:53:44.207Z"
   },
   {
    "duration": 6,
    "start_time": "2025-07-10T18:53:52.438Z"
   },
   {
    "duration": 11,
    "start_time": "2025-07-10T18:53:52.945Z"
   },
   {
    "duration": 8,
    "start_time": "2025-07-10T18:53:53.326Z"
   },
   {
    "duration": 3676,
    "start_time": "2025-07-10T18:54:06.394Z"
   },
   {
    "duration": 2424,
    "start_time": "2025-07-10T18:54:10.074Z"
   },
   {
    "duration": 96,
    "start_time": "2025-07-10T18:54:12.500Z"
   },
   {
    "duration": 804,
    "start_time": "2025-07-10T18:54:12.599Z"
   },
   {
    "duration": 1525,
    "start_time": "2025-07-10T18:54:13.405Z"
   },
   {
    "duration": 15772,
    "start_time": "2025-07-10T18:54:14.932Z"
   },
   {
    "duration": 6,
    "start_time": "2025-07-10T18:54:30.707Z"
   },
   {
    "duration": 74,
    "start_time": "2025-07-10T18:54:30.715Z"
   },
   {
    "duration": 71,
    "start_time": "2025-07-10T18:54:30.792Z"
   },
   {
    "duration": 118,
    "start_time": "2025-07-10T18:54:30.867Z"
   },
   {
    "duration": 52,
    "start_time": "2025-07-10T18:54:30.987Z"
   },
   {
    "duration": 45,
    "start_time": "2025-07-10T18:54:31.041Z"
   },
   {
    "duration": 29,
    "start_time": "2025-07-10T18:54:31.088Z"
   },
   {
    "duration": 59,
    "start_time": "2025-07-10T18:54:31.118Z"
   },
   {
    "duration": 51,
    "start_time": "2025-07-10T18:54:31.180Z"
   },
   {
    "duration": 6,
    "start_time": "2025-07-10T18:54:43.716Z"
   },
   {
    "duration": 5,
    "start_time": "2025-07-10T18:54:44.195Z"
   },
   {
    "duration": 440,
    "start_time": "2025-07-10T18:55:37.268Z"
   },
   {
    "duration": 6479,
    "start_time": "2025-07-10T18:55:56.026Z"
   },
   {
    "duration": 5,
    "start_time": "2025-07-10T19:00:04.895Z"
   },
   {
    "duration": 11,
    "start_time": "2025-07-10T19:00:58.161Z"
   },
   {
    "duration": 6517,
    "start_time": "2025-07-10T19:00:58.638Z"
   },
   {
    "duration": 3922,
    "start_time": "2025-07-10T19:01:24.348Z"
   },
   {
    "duration": 2485,
    "start_time": "2025-07-10T19:01:28.273Z"
   },
   {
    "duration": 116,
    "start_time": "2025-07-10T19:01:30.768Z"
   },
   {
    "duration": 860,
    "start_time": "2025-07-10T19:01:30.886Z"
   },
   {
    "duration": 1515,
    "start_time": "2025-07-10T19:01:31.753Z"
   },
   {
    "duration": 19308,
    "start_time": "2025-07-10T19:01:33.272Z"
   },
   {
    "duration": 8,
    "start_time": "2025-07-10T19:01:52.588Z"
   },
   {
    "duration": 23,
    "start_time": "2025-07-10T19:01:52.598Z"
   },
   {
    "duration": 24,
    "start_time": "2025-07-10T19:01:52.623Z"
   },
   {
    "duration": 47,
    "start_time": "2025-07-10T19:01:52.650Z"
   },
   {
    "duration": 5,
    "start_time": "2025-07-10T19:01:52.699Z"
   },
   {
    "duration": 15,
    "start_time": "2025-07-10T19:01:52.706Z"
   },
   {
    "duration": 7,
    "start_time": "2025-07-10T19:01:52.723Z"
   },
   {
    "duration": 12,
    "start_time": "2025-07-10T19:01:52.732Z"
   },
   {
    "duration": 14,
    "start_time": "2025-07-10T19:01:52.746Z"
   },
   {
    "duration": 26,
    "start_time": "2025-07-10T19:01:52.765Z"
   },
   {
    "duration": 32,
    "start_time": "2025-07-10T19:01:52.796Z"
   },
   {
    "duration": 6153,
    "start_time": "2025-07-10T19:01:52.830Z"
   },
   {
    "duration": 134,
    "start_time": "2025-07-10T19:04:27.756Z"
   },
   {
    "duration": 5969,
    "start_time": "2025-07-10T19:04:28.048Z"
   },
   {
    "duration": 6,
    "start_time": "2025-07-10T19:05:02.279Z"
   },
   {
    "duration": 188,
    "start_time": "2025-07-10T19:05:02.705Z"
   },
   {
    "duration": 6123,
    "start_time": "2025-07-10T19:05:11.149Z"
   },
   {
    "duration": 3704,
    "start_time": "2025-07-10T19:05:38.207Z"
   },
   {
    "duration": 2415,
    "start_time": "2025-07-10T19:05:41.914Z"
   },
   {
    "duration": 186,
    "start_time": "2025-07-10T19:05:44.331Z"
   },
   {
    "duration": 860,
    "start_time": "2025-07-10T19:05:44.519Z"
   },
   {
    "duration": 1625,
    "start_time": "2025-07-10T19:05:45.381Z"
   },
   {
    "duration": 13533,
    "start_time": "2025-07-10T19:05:47.008Z"
   },
   {
    "duration": 20,
    "start_time": "2025-07-10T19:06:00.543Z"
   },
   {
    "duration": 91,
    "start_time": "2025-07-10T19:06:00.570Z"
   },
   {
    "duration": 58,
    "start_time": "2025-07-10T19:06:00.664Z"
   },
   {
    "duration": 16,
    "start_time": "2025-07-10T19:06:00.724Z"
   },
   {
    "duration": 30,
    "start_time": "2025-07-10T19:06:00.742Z"
   },
   {
    "duration": 25,
    "start_time": "2025-07-10T19:06:00.776Z"
   },
   {
    "duration": 35,
    "start_time": "2025-07-10T19:06:00.802Z"
   },
   {
    "duration": 30,
    "start_time": "2025-07-10T19:06:00.839Z"
   },
   {
    "duration": 7,
    "start_time": "2025-07-10T19:06:00.871Z"
   },
   {
    "duration": 124,
    "start_time": "2025-07-10T19:06:00.880Z"
   },
   {
    "duration": 51,
    "start_time": "2025-07-10T19:06:01.006Z"
   },
   {
    "duration": 6171,
    "start_time": "2025-07-10T19:06:01.063Z"
   },
   {
    "duration": 23,
    "start_time": "2025-07-10T19:06:31.435Z"
   },
   {
    "duration": 16,
    "start_time": "2025-07-10T19:06:49.827Z"
   },
   {
    "duration": 3,
    "start_time": "2025-07-10T19:06:52.489Z"
   },
   {
    "duration": 4,
    "start_time": "2025-07-10T19:06:54.786Z"
   },
   {
    "duration": 6,
    "start_time": "2025-07-10T19:09:39.321Z"
   },
   {
    "duration": 4504,
    "start_time": "2025-07-10T19:21:17.693Z"
   },
   {
    "duration": 2672,
    "start_time": "2025-07-10T19:21:22.199Z"
   },
   {
    "duration": 127,
    "start_time": "2025-07-10T19:21:24.878Z"
   },
   {
    "duration": 923,
    "start_time": "2025-07-10T19:21:25.008Z"
   },
   {
    "duration": 1667,
    "start_time": "2025-07-10T19:21:25.933Z"
   },
   {
    "duration": 18307,
    "start_time": "2025-07-10T19:21:27.607Z"
   },
   {
    "duration": 7,
    "start_time": "2025-07-10T19:21:45.916Z"
   },
   {
    "duration": 65,
    "start_time": "2025-07-10T19:21:45.924Z"
   },
   {
    "duration": 34,
    "start_time": "2025-07-10T19:21:45.991Z"
   },
   {
    "duration": 16,
    "start_time": "2025-07-10T19:21:46.028Z"
   },
   {
    "duration": 13,
    "start_time": "2025-07-10T19:21:46.045Z"
   },
   {
    "duration": 43,
    "start_time": "2025-07-10T19:21:46.060Z"
   },
   {
    "duration": 9,
    "start_time": "2025-07-10T19:21:46.105Z"
   },
   {
    "duration": 27,
    "start_time": "2025-07-10T19:21:46.117Z"
   },
   {
    "duration": 28,
    "start_time": "2025-07-10T19:21:46.146Z"
   },
   {
    "duration": 9,
    "start_time": "2025-07-10T19:21:46.185Z"
   },
   {
    "duration": 34,
    "start_time": "2025-07-10T19:21:46.197Z"
   },
   {
    "duration": 7090,
    "start_time": "2025-07-10T19:21:46.233Z"
   },
   {
    "duration": 3,
    "start_time": "2025-07-10T19:21:53.324Z"
   },
   {
    "duration": 13,
    "start_time": "2025-07-10T19:21:53.328Z"
   },
   {
    "duration": 34,
    "start_time": "2025-07-10T19:21:53.342Z"
   },
   {
    "duration": 22,
    "start_time": "2025-07-10T19:21:53.378Z"
   },
   {
    "duration": 241065,
    "start_time": "2025-07-10T19:21:53.406Z"
   },
   {
    "duration": 0,
    "start_time": "2025-07-10T19:25:54.485Z"
   },
   {
    "duration": 0,
    "start_time": "2025-07-10T19:25:54.500Z"
   },
   {
    "duration": 3913,
    "start_time": "2025-07-10T19:26:04.355Z"
   },
   {
    "duration": 23,
    "start_time": "2025-07-10T19:26:08.273Z"
   },
   {
    "duration": 153,
    "start_time": "2025-07-10T19:26:08.300Z"
   },
   {
    "duration": 968,
    "start_time": "2025-07-10T19:26:08.457Z"
   },
   {
    "duration": 1459,
    "start_time": "2025-07-10T19:26:09.426Z"
   },
   {
    "duration": 7312,
    "start_time": "2025-07-10T19:26:10.887Z"
   },
   {
    "duration": 4,
    "start_time": "2025-07-10T19:26:18.201Z"
   },
   {
    "duration": 82,
    "start_time": "2025-07-10T19:26:18.207Z"
   },
   {
    "duration": 33,
    "start_time": "2025-07-10T19:26:18.291Z"
   },
   {
    "duration": 17,
    "start_time": "2025-07-10T19:26:18.328Z"
   },
   {
    "duration": 7,
    "start_time": "2025-07-10T19:26:18.347Z"
   },
   {
    "duration": 23,
    "start_time": "2025-07-10T19:26:18.357Z"
   },
   {
    "duration": 5,
    "start_time": "2025-07-10T19:26:18.386Z"
   },
   {
    "duration": 64,
    "start_time": "2025-07-10T19:26:18.393Z"
   },
   {
    "duration": 17,
    "start_time": "2025-07-10T19:26:18.463Z"
   },
   {
    "duration": 7,
    "start_time": "2025-07-10T19:26:18.484Z"
   },
   {
    "duration": 45,
    "start_time": "2025-07-10T19:26:18.493Z"
   },
   {
    "duration": 5806,
    "start_time": "2025-07-10T19:26:18.540Z"
   },
   {
    "duration": 9,
    "start_time": "2025-07-10T19:26:24.350Z"
   },
   {
    "duration": 11,
    "start_time": "2025-07-10T19:26:24.366Z"
   },
   {
    "duration": 6,
    "start_time": "2025-07-10T19:26:24.379Z"
   },
   {
    "duration": 13,
    "start_time": "2025-07-10T19:26:24.387Z"
   },
   {
    "duration": 0,
    "start_time": "2025-07-10T19:29:30.465Z"
   },
   {
    "duration": 0,
    "start_time": "2025-07-10T19:29:30.467Z"
   },
   {
    "duration": 3811,
    "start_time": "2025-07-10T19:29:45.648Z"
   },
   {
    "duration": 15,
    "start_time": "2025-07-10T19:29:49.463Z"
   },
   {
    "duration": 96,
    "start_time": "2025-07-10T19:29:49.482Z"
   },
   {
    "duration": 1109,
    "start_time": "2025-07-10T19:29:49.581Z"
   },
   {
    "duration": 1418,
    "start_time": "2025-07-10T19:29:50.692Z"
   },
   {
    "duration": 15291,
    "start_time": "2025-07-10T19:29:52.112Z"
   },
   {
    "duration": 4,
    "start_time": "2025-07-10T19:30:07.405Z"
   },
   {
    "duration": 35,
    "start_time": "2025-07-10T19:30:07.411Z"
   },
   {
    "duration": 40,
    "start_time": "2025-07-10T19:30:07.447Z"
   },
   {
    "duration": 18,
    "start_time": "2025-07-10T19:30:07.490Z"
   },
   {
    "duration": 26,
    "start_time": "2025-07-10T19:30:07.510Z"
   },
   {
    "duration": 19,
    "start_time": "2025-07-10T19:30:07.538Z"
   },
   {
    "duration": 11,
    "start_time": "2025-07-10T19:30:07.559Z"
   },
   {
    "duration": 32,
    "start_time": "2025-07-10T19:30:07.572Z"
   },
   {
    "duration": 10,
    "start_time": "2025-07-10T19:30:07.605Z"
   },
   {
    "duration": 25,
    "start_time": "2025-07-10T19:30:07.617Z"
   },
   {
    "duration": 26,
    "start_time": "2025-07-10T19:30:07.644Z"
   },
   {
    "duration": 6058,
    "start_time": "2025-07-10T19:30:07.674Z"
   },
   {
    "duration": 4,
    "start_time": "2025-07-10T19:30:13.734Z"
   },
   {
    "duration": 61,
    "start_time": "2025-07-10T19:30:13.756Z"
   },
   {
    "duration": 7,
    "start_time": "2025-07-10T19:30:13.819Z"
   },
   {
    "duration": 15,
    "start_time": "2025-07-10T19:30:13.828Z"
   },
   {
    "duration": 0,
    "start_time": "2025-07-10T19:34:47.684Z"
   },
   {
    "duration": 0,
    "start_time": "2025-07-10T19:34:47.686Z"
   },
   {
    "duration": 0,
    "start_time": "2025-07-10T19:34:47.687Z"
   },
   {
    "duration": 3904,
    "start_time": "2025-07-10T19:34:49.612Z"
   },
   {
    "duration": 8,
    "start_time": "2025-07-10T19:34:53.520Z"
   },
   {
    "duration": 111,
    "start_time": "2025-07-10T19:34:53.530Z"
   },
   {
    "duration": 825,
    "start_time": "2025-07-10T19:34:53.643Z"
   },
   {
    "duration": 1652,
    "start_time": "2025-07-10T19:34:54.470Z"
   },
   {
    "duration": 19892,
    "start_time": "2025-07-10T19:34:56.123Z"
   },
   {
    "duration": 4,
    "start_time": "2025-07-10T19:35:16.017Z"
   },
   {
    "duration": 23,
    "start_time": "2025-07-10T19:35:16.023Z"
   },
   {
    "duration": 43,
    "start_time": "2025-07-10T19:35:16.047Z"
   },
   {
    "duration": 23,
    "start_time": "2025-07-10T19:35:16.100Z"
   },
   {
    "duration": 4,
    "start_time": "2025-07-10T19:35:16.125Z"
   },
   {
    "duration": 16,
    "start_time": "2025-07-10T19:35:16.130Z"
   },
   {
    "duration": 27,
    "start_time": "2025-07-10T19:35:16.147Z"
   },
   {
    "duration": 87,
    "start_time": "2025-07-10T19:35:16.185Z"
   },
   {
    "duration": 5,
    "start_time": "2025-07-10T19:35:16.274Z"
   },
   {
    "duration": 26,
    "start_time": "2025-07-10T19:35:16.281Z"
   },
   {
    "duration": 91,
    "start_time": "2025-07-10T19:35:16.310Z"
   },
   {
    "duration": 6456,
    "start_time": "2025-07-10T19:35:16.403Z"
   },
   {
    "duration": 5,
    "start_time": "2025-07-10T19:35:22.861Z"
   },
   {
    "duration": 10,
    "start_time": "2025-07-10T19:35:22.877Z"
   },
   {
    "duration": 13,
    "start_time": "2025-07-10T19:35:22.892Z"
   },
   {
    "duration": 6,
    "start_time": "2025-07-10T19:35:22.907Z"
   },
   {
    "duration": 303785,
    "start_time": "2025-07-10T19:35:22.915Z"
   },
   {
    "duration": 3,
    "start_time": "2025-07-10T19:43:10.322Z"
   },
   {
    "duration": 4,
    "start_time": "2025-07-10T19:44:25.624Z"
   },
   {
    "duration": 6,
    "start_time": "2025-07-10T19:44:26.229Z"
   },
   {
    "duration": 26,
    "start_time": "2025-07-10T19:44:26.777Z"
   },
   {
    "duration": 8,
    "start_time": "2025-07-10T19:46:11.006Z"
   },
   {
    "duration": 15387,
    "start_time": "2025-07-11T05:24:57.484Z"
   },
   {
    "duration": 2215,
    "start_time": "2025-07-11T05:25:12.873Z"
   },
   {
    "duration": 178,
    "start_time": "2025-07-11T05:25:15.090Z"
   },
   {
    "duration": 674,
    "start_time": "2025-07-11T05:25:15.271Z"
   },
   {
    "duration": 1327,
    "start_time": "2025-07-11T05:25:15.947Z"
   },
   {
    "duration": 770,
    "start_time": "2025-07-11T05:25:17.276Z"
   },
   {
    "duration": 13,
    "start_time": "2025-07-11T05:25:18.047Z"
   },
   {
    "duration": 22,
    "start_time": "2025-07-11T05:25:18.061Z"
   },
   {
    "duration": 20,
    "start_time": "2025-07-11T05:25:18.084Z"
   },
   {
    "duration": 14,
    "start_time": "2025-07-11T05:25:18.107Z"
   },
   {
    "duration": 6,
    "start_time": "2025-07-11T05:25:18.122Z"
   },
   {
    "duration": 39,
    "start_time": "2025-07-11T05:25:18.130Z"
   },
   {
    "duration": 19,
    "start_time": "2025-07-11T05:25:18.170Z"
   },
   {
    "duration": 18,
    "start_time": "2025-07-11T05:25:18.191Z"
   },
   {
    "duration": 4,
    "start_time": "2025-07-11T05:25:18.210Z"
   },
   {
    "duration": 13,
    "start_time": "2025-07-11T05:25:18.216Z"
   },
   {
    "duration": 18,
    "start_time": "2025-07-11T05:25:18.231Z"
   },
   {
    "duration": 4966,
    "start_time": "2025-07-11T05:25:18.250Z"
   },
   {
    "duration": 3,
    "start_time": "2025-07-11T05:25:23.218Z"
   },
   {
    "duration": 104,
    "start_time": "2025-07-11T05:25:23.222Z"
   },
   {
    "duration": 4,
    "start_time": "2025-07-11T05:25:23.327Z"
   },
   {
    "duration": 5,
    "start_time": "2025-07-11T05:25:23.332Z"
   },
   {
    "duration": 274634,
    "start_time": "2025-07-11T05:25:23.339Z"
   },
   {
    "duration": 0,
    "start_time": "2025-07-11T05:29:57.975Z"
   },
   {
    "duration": 0,
    "start_time": "2025-07-11T05:29:57.977Z"
   },
   {
    "duration": 0,
    "start_time": "2025-07-11T05:29:57.978Z"
   },
   {
    "duration": 0,
    "start_time": "2025-07-11T05:29:57.979Z"
   },
   {
    "duration": 0,
    "start_time": "2025-07-11T05:29:57.981Z"
   },
   {
    "duration": 0,
    "start_time": "2025-07-11T05:29:57.981Z"
   },
   {
    "duration": 0,
    "start_time": "2025-07-11T05:29:57.983Z"
   },
   {
    "duration": 0,
    "start_time": "2025-07-11T05:29:57.984Z"
   },
   {
    "duration": 0,
    "start_time": "2025-07-11T05:29:57.985Z"
   },
   {
    "duration": 0,
    "start_time": "2025-07-11T05:29:57.986Z"
   },
   {
    "duration": 0,
    "start_time": "2025-07-11T05:29:57.988Z"
   },
   {
    "duration": 22,
    "start_time": "2025-07-11T05:31:46.771Z"
   },
   {
    "duration": 3,
    "start_time": "2025-07-11T05:32:18.941Z"
   },
   {
    "duration": 6,
    "start_time": "2025-07-11T05:32:20.449Z"
   },
   {
    "duration": 51069,
    "start_time": "2025-07-11T05:32:21.119Z"
   },
   {
    "duration": 11,
    "start_time": "2025-07-11T05:33:25.580Z"
   },
   {
    "duration": 14,
    "start_time": "2025-07-11T05:33:37.140Z"
   },
   {
    "duration": 2,
    "start_time": "2025-07-11T05:33:37.726Z"
   },
   {
    "duration": 3,
    "start_time": "2025-07-11T05:33:38.127Z"
   },
   {
    "duration": 6,
    "start_time": "2025-07-11T05:33:39.022Z"
   },
   {
    "duration": 20,
    "start_time": "2025-07-11T05:33:41.391Z"
   },
   {
    "duration": 7669,
    "start_time": "2025-07-11T05:33:55.927Z"
   },
   {
    "duration": 86144,
    "start_time": "2025-07-11T05:34:21.419Z"
   },
   {
    "duration": 3,
    "start_time": "2025-07-11T05:36:11.452Z"
   },
   {
    "duration": 8,
    "start_time": "2025-07-11T05:36:12.096Z"
   },
   {
    "duration": 26,
    "start_time": "2025-07-11T05:36:12.847Z"
   },
   {
    "duration": 6,
    "start_time": "2025-07-11T05:36:29.661Z"
   },
   {
    "duration": 50,
    "start_time": "2025-07-11T05:36:30.035Z"
   },
   {
    "duration": 3,
    "start_time": "2025-07-11T05:38:18.428Z"
   },
   {
    "duration": 3,
    "start_time": "2025-07-11T05:38:18.929Z"
   },
   {
    "duration": 6,
    "start_time": "2025-07-11T05:38:19.348Z"
   },
   {
    "duration": 53,
    "start_time": "2025-07-11T05:38:19.691Z"
   },
   {
    "duration": 7351,
    "start_time": "2025-07-11T05:38:20.630Z"
   },
   {
    "duration": 3,
    "start_time": "2025-07-11T05:39:01.304Z"
   },
   {
    "duration": 3,
    "start_time": "2025-07-11T05:39:04.420Z"
   },
   {
    "duration": 6,
    "start_time": "2025-07-11T05:39:06.239Z"
   },
   {
    "duration": 51,
    "start_time": "2025-07-11T05:39:06.960Z"
   },
   {
    "duration": 4,
    "start_time": "2025-07-11T05:40:04.180Z"
   },
   {
    "duration": 6,
    "start_time": "2025-07-11T05:40:05.047Z"
   },
   {
    "duration": 7136,
    "start_time": "2025-07-11T05:40:05.590Z"
   },
   {
    "duration": 3,
    "start_time": "2025-07-11T05:40:31.770Z"
   },
   {
    "duration": 3,
    "start_time": "2025-07-11T05:40:32.314Z"
   },
   {
    "duration": 5,
    "start_time": "2025-07-11T05:40:32.724Z"
   },
   {
    "duration": 49,
    "start_time": "2025-07-11T05:40:33.236Z"
   },
   {
    "duration": 5,
    "start_time": "2025-07-11T05:41:24.570Z"
   },
   {
    "duration": 97270,
    "start_time": "2025-07-11T05:41:25.246Z"
   },
   {
    "duration": 4,
    "start_time": "2025-07-11T05:43:14.429Z"
   },
   {
    "duration": 5,
    "start_time": "2025-07-11T05:43:15.451Z"
   },
   {
    "duration": 6,
    "start_time": "2025-07-11T05:43:16.849Z"
   },
   {
    "duration": 13,
    "start_time": "2025-07-11T05:43:23.345Z"
   },
   {
    "duration": 7,
    "start_time": "2025-07-11T05:45:57.219Z"
   },
   {
    "duration": 5,
    "start_time": "2025-07-11T05:47:36.976Z"
   },
   {
    "duration": 1187,
    "start_time": "2025-07-11T05:47:37.489Z"
   },
   {
    "duration": 75,
    "start_time": "2025-07-11T05:48:17.036Z"
   },
   {
    "duration": 1191,
    "start_time": "2025-07-11T05:48:17.573Z"
   },
   {
    "duration": 0,
    "start_time": "2025-07-11T05:48:18.765Z"
   },
   {
    "duration": 0,
    "start_time": "2025-07-11T05:48:18.766Z"
   },
   {
    "duration": 1200,
    "start_time": "2025-07-11T05:48:23.259Z"
   },
   {
    "duration": 15,
    "start_time": "2025-07-11T05:48:36.986Z"
   },
   {
    "duration": 3912,
    "start_time": "2025-07-11T05:48:37.699Z"
   },
   {
    "duration": 5,
    "start_time": "2025-07-11T05:48:43.735Z"
   },
   {
    "duration": 30384,
    "start_time": "2025-07-11T05:48:44.579Z"
   },
   {
    "duration": 3,
    "start_time": "2025-07-11T05:51:49.492Z"
   },
   {
    "duration": 18415,
    "start_time": "2025-07-11T05:52:15.799Z"
   },
   {
    "duration": 7177,
    "start_time": "2025-07-12T13:26:16.642Z"
   },
   {
    "duration": 2114,
    "start_time": "2025-07-12T13:26:23.822Z"
   },
   {
    "duration": 164,
    "start_time": "2025-07-12T13:26:25.938Z"
   },
   {
    "duration": 634,
    "start_time": "2025-07-12T13:26:26.104Z"
   },
   {
    "duration": 1264,
    "start_time": "2025-07-12T13:26:26.740Z"
   },
   {
    "duration": 731,
    "start_time": "2025-07-12T13:26:28.006Z"
   },
   {
    "duration": 3,
    "start_time": "2025-07-12T13:26:28.739Z"
   },
   {
    "duration": 35,
    "start_time": "2025-07-12T13:26:28.744Z"
   },
   {
    "duration": 21,
    "start_time": "2025-07-12T13:26:28.781Z"
   },
   {
    "duration": 28,
    "start_time": "2025-07-12T13:26:28.804Z"
   },
   {
    "duration": 51,
    "start_time": "2025-07-12T13:26:28.833Z"
   },
   {
    "duration": 19,
    "start_time": "2025-07-12T13:26:28.885Z"
   },
   {
    "duration": 17,
    "start_time": "2025-07-12T13:26:28.906Z"
   },
   {
    "duration": 29,
    "start_time": "2025-07-12T13:26:28.925Z"
   },
   {
    "duration": 41,
    "start_time": "2025-07-12T13:26:28.956Z"
   },
   {
    "duration": 7,
    "start_time": "2025-07-12T13:26:28.999Z"
   },
   {
    "duration": 24,
    "start_time": "2025-07-12T13:26:29.008Z"
   },
   {
    "duration": 3046,
    "start_time": "2025-07-12T13:26:29.034Z"
   },
   {
    "duration": 3,
    "start_time": "2025-07-12T13:26:32.081Z"
   },
   {
    "duration": 78,
    "start_time": "2025-07-12T13:26:32.085Z"
   },
   {
    "duration": 14,
    "start_time": "2025-07-12T13:26:32.165Z"
   },
   {
    "duration": 61,
    "start_time": "2025-07-12T13:26:32.181Z"
   },
   {
    "duration": 177,
    "start_time": "2025-07-12T13:26:32.244Z"
   },
   {
    "duration": 0,
    "start_time": "2025-07-12T13:26:32.423Z"
   },
   {
    "duration": 0,
    "start_time": "2025-07-12T13:26:32.424Z"
   },
   {
    "duration": 0,
    "start_time": "2025-07-12T13:26:32.425Z"
   },
   {
    "duration": 0,
    "start_time": "2025-07-12T13:26:32.426Z"
   },
   {
    "duration": 0,
    "start_time": "2025-07-12T13:26:32.427Z"
   },
   {
    "duration": 0,
    "start_time": "2025-07-12T13:26:32.428Z"
   },
   {
    "duration": 0,
    "start_time": "2025-07-12T13:26:32.429Z"
   },
   {
    "duration": 0,
    "start_time": "2025-07-12T13:26:32.430Z"
   },
   {
    "duration": 0,
    "start_time": "2025-07-12T13:26:32.431Z"
   },
   {
    "duration": 0,
    "start_time": "2025-07-12T13:26:32.432Z"
   },
   {
    "duration": 0,
    "start_time": "2025-07-12T13:26:32.433Z"
   },
   {
    "duration": 11,
    "start_time": "2025-07-12T13:27:52.223Z"
   },
   {
    "duration": 3,
    "start_time": "2025-07-12T13:28:48.990Z"
   },
   {
    "duration": 3,
    "start_time": "2025-07-12T13:28:49.613Z"
   },
   {
    "duration": 3,
    "start_time": "2025-07-12T13:28:49.729Z"
   },
   {
    "duration": 6,
    "start_time": "2025-07-12T13:28:51.949Z"
   },
   {
    "duration": 394508,
    "start_time": "2025-07-12T13:28:53.175Z"
   },
   {
    "duration": 4,
    "start_time": "2025-07-12T13:44:40.457Z"
   },
   {
    "duration": 5,
    "start_time": "2025-07-12T13:44:40.927Z"
   },
   {
    "duration": 6,
    "start_time": "2025-07-12T13:44:41.972Z"
   },
   {
    "duration": 13,
    "start_time": "2025-07-12T13:44:42.996Z"
   },
   {
    "duration": 3,
    "start_time": "2025-07-12T13:44:44.111Z"
   },
   {
    "duration": 5,
    "start_time": "2025-07-12T13:44:44.654Z"
   },
   {
    "duration": 16764,
    "start_time": "2025-07-12T13:44:45.211Z"
   },
   {
    "duration": 13,
    "start_time": "2025-07-12T13:46:59.137Z"
   },
   {
    "duration": 2,
    "start_time": "2025-07-12T13:47:00.137Z"
   },
   {
    "duration": 5,
    "start_time": "2025-07-12T13:47:00.408Z"
   },
   {
    "duration": 16768,
    "start_time": "2025-07-12T13:47:00.971Z"
   },
   {
    "duration": 12,
    "start_time": "2025-07-12T13:50:14.253Z"
   },
   {
    "duration": 2,
    "start_time": "2025-07-12T13:50:14.959Z"
   },
   {
    "duration": 4,
    "start_time": "2025-07-12T13:50:15.238Z"
   },
   {
    "duration": 16884,
    "start_time": "2025-07-12T13:50:15.521Z"
   },
   {
    "duration": 8,
    "start_time": "2025-07-12T13:51:04.283Z"
   },
   {
    "duration": 11,
    "start_time": "2025-07-12T13:51:11.621Z"
   },
   {
    "duration": 12,
    "start_time": "2025-07-12T13:53:45.475Z"
   },
   {
    "duration": 2,
    "start_time": "2025-07-12T13:53:46.593Z"
   },
   {
    "duration": 4,
    "start_time": "2025-07-12T13:53:46.896Z"
   },
   {
    "duration": 35,
    "start_time": "2025-07-12T13:53:47.338Z"
   },
   {
    "duration": 11,
    "start_time": "2025-07-12T13:54:11.364Z"
   },
   {
    "duration": 2,
    "start_time": "2025-07-12T13:54:12.083Z"
   },
   {
    "duration": 4,
    "start_time": "2025-07-12T13:54:12.359Z"
   },
   {
    "duration": 31,
    "start_time": "2025-07-12T13:54:12.515Z"
   },
   {
    "duration": 12,
    "start_time": "2025-07-12T13:56:27.562Z"
   },
   {
    "duration": 2,
    "start_time": "2025-07-12T13:56:28.248Z"
   },
   {
    "duration": 5,
    "start_time": "2025-07-12T13:56:28.465Z"
   },
   {
    "duration": 29,
    "start_time": "2025-07-12T13:56:28.709Z"
   },
   {
    "duration": 13,
    "start_time": "2025-07-12T13:57:02.959Z"
   },
   {
    "duration": 2,
    "start_time": "2025-07-12T13:57:03.714Z"
   },
   {
    "duration": 4,
    "start_time": "2025-07-12T13:57:03.947Z"
   },
   {
    "duration": 30,
    "start_time": "2025-07-12T13:57:04.173Z"
   },
   {
    "duration": 13,
    "start_time": "2025-07-12T13:58:02.713Z"
   },
   {
    "duration": 3,
    "start_time": "2025-07-12T13:58:03.186Z"
   },
   {
    "duration": 5,
    "start_time": "2025-07-12T13:58:03.396Z"
   },
   {
    "duration": 35,
    "start_time": "2025-07-12T13:58:03.565Z"
   },
   {
    "duration": 2,
    "start_time": "2025-07-12T14:03:42.918Z"
   },
   {
    "duration": 3070,
    "start_time": "2025-07-12T14:04:23.831Z"
   },
   {
    "duration": 1987,
    "start_time": "2025-07-12T14:04:26.903Z"
   },
   {
    "duration": 100,
    "start_time": "2025-07-12T14:04:28.891Z"
   },
   {
    "duration": 605,
    "start_time": "2025-07-12T14:04:28.994Z"
   },
   {
    "duration": 1255,
    "start_time": "2025-07-12T14:04:29.601Z"
   },
   {
    "duration": 992,
    "start_time": "2025-07-12T14:04:30.858Z"
   },
   {
    "duration": 6,
    "start_time": "2025-07-12T14:04:31.851Z"
   },
   {
    "duration": 27,
    "start_time": "2025-07-12T14:04:31.858Z"
   },
   {
    "duration": 11,
    "start_time": "2025-07-12T14:04:31.886Z"
   },
   {
    "duration": 4,
    "start_time": "2025-07-12T14:04:31.899Z"
   },
   {
    "duration": 5,
    "start_time": "2025-07-12T14:04:56.546Z"
   },
   {
    "duration": 145,
    "start_time": "2025-07-12T14:04:58.109Z"
   },
   {
    "duration": 9,
    "start_time": "2025-07-12T14:05:36.278Z"
   },
   {
    "duration": 5,
    "start_time": "2025-07-12T14:05:39.691Z"
   },
   {
    "duration": 13,
    "start_time": "2025-07-12T14:05:40.699Z"
   },
   {
    "duration": 12,
    "start_time": "2025-07-12T14:06:07.379Z"
   },
   {
    "duration": 13,
    "start_time": "2025-07-12T14:06:53.448Z"
   },
   {
    "duration": 4,
    "start_time": "2025-07-12T14:06:54.924Z"
   },
   {
    "duration": 8,
    "start_time": "2025-07-12T14:06:55.581Z"
   },
   {
    "duration": 5,
    "start_time": "2025-07-12T14:06:56.243Z"
   },
   {
    "duration": 12,
    "start_time": "2025-07-12T14:06:56.446Z"
   },
   {
    "duration": 3,
    "start_time": "2025-07-12T14:06:56.901Z"
   },
   {
    "duration": 5,
    "start_time": "2025-07-12T14:06:57.100Z"
   },
   {
    "duration": 5,
    "start_time": "2025-07-12T14:06:57.375Z"
   },
   {
    "duration": 4636,
    "start_time": "2025-07-12T14:06:57.937Z"
   },
   {
    "duration": 3,
    "start_time": "2025-07-12T14:19:10.024Z"
   },
   {
    "duration": 3,
    "start_time": "2025-07-12T14:19:10.400Z"
   },
   {
    "duration": 3,
    "start_time": "2025-07-12T14:19:10.903Z"
   },
   {
    "duration": 3,
    "start_time": "2025-07-12T14:20:00.599Z"
   },
   {
    "duration": 3,
    "start_time": "2025-07-12T14:20:07.043Z"
   },
   {
    "duration": 5,
    "start_time": "2025-07-12T14:20:35.089Z"
   },
   {
    "duration": 16,
    "start_time": "2025-07-12T14:20:35.687Z"
   },
   {
    "duration": 5,
    "start_time": "2025-07-12T14:20:43.787Z"
   },
   {
    "duration": 71467,
    "start_time": "2025-07-12T14:20:44.329Z"
   },
   {
    "duration": 4,
    "start_time": "2025-07-12T14:21:58.218Z"
   },
   {
    "duration": 15,
    "start_time": "2025-07-12T14:21:58.919Z"
   },
   {
    "duration": 5,
    "start_time": "2025-07-12T14:22:06.116Z"
   },
   {
    "duration": 33000,
    "start_time": "2025-07-12T14:22:06.409Z"
   },
   {
    "duration": 3,
    "start_time": "2025-07-12T14:22:49.966Z"
   },
   {
    "duration": 5,
    "start_time": "2025-07-12T14:22:50.342Z"
   },
   {
    "duration": 65019,
    "start_time": "2025-07-12T14:22:50.779Z"
   },
   {
    "duration": 5,
    "start_time": "2025-07-12T14:24:24.256Z"
   },
   {
    "duration": 51,
    "start_time": "2025-07-12T14:24:24.761Z"
   },
   {
    "duration": 5,
    "start_time": "2025-07-12T14:24:52.875Z"
   },
   {
    "duration": 51,
    "start_time": "2025-07-12T14:24:53.238Z"
   },
   {
    "duration": 3,
    "start_time": "2025-07-12T14:25:51.916Z"
   },
   {
    "duration": 4,
    "start_time": "2025-07-12T14:25:53.794Z"
   },
   {
    "duration": 5,
    "start_time": "2025-07-12T14:25:55.001Z"
   },
   {
    "duration": 5,
    "start_time": "2025-07-12T14:26:11.411Z"
   },
   {
    "duration": 12,
    "start_time": "2025-07-12T14:26:15.606Z"
   },
   {
    "duration": 2,
    "start_time": "2025-07-12T14:26:21.226Z"
   },
   {
    "duration": 4,
    "start_time": "2025-07-12T14:26:21.457Z"
   },
   {
    "duration": 5,
    "start_time": "2025-07-12T14:26:21.726Z"
   },
   {
    "duration": 116160,
    "start_time": "2025-07-12T14:26:24.567Z"
   },
   {
    "duration": 2,
    "start_time": "2025-07-12T14:29:57.487Z"
   },
   {
    "duration": 121,
    "start_time": "2025-07-12T14:30:14.233Z"
   },
   {
    "duration": 12,
    "start_time": "2025-07-12T14:30:35.737Z"
   },
   {
    "duration": 3,
    "start_time": "2025-07-12T14:30:42.440Z"
   },
   {
    "duration": 7,
    "start_time": "2025-07-12T14:30:58.873Z"
   },
   {
    "duration": 459602,
    "start_time": "2025-07-12T14:30:59.486Z"
   },
   {
    "duration": 5,
    "start_time": "2025-07-12T14:38:50.784Z"
   },
   {
    "duration": 3089,
    "start_time": "2025-07-12T14:57:59.216Z"
   },
   {
    "duration": 2111,
    "start_time": "2025-07-12T14:58:02.308Z"
   },
   {
    "duration": 128,
    "start_time": "2025-07-12T14:58:04.420Z"
   },
   {
    "duration": 640,
    "start_time": "2025-07-12T14:58:04.550Z"
   },
   {
    "duration": 1303,
    "start_time": "2025-07-12T14:58:05.192Z"
   },
   {
    "duration": 738,
    "start_time": "2025-07-12T14:58:06.497Z"
   },
   {
    "duration": 4,
    "start_time": "2025-07-12T14:58:07.236Z"
   },
   {
    "duration": 30,
    "start_time": "2025-07-12T14:58:07.242Z"
   },
   {
    "duration": 12,
    "start_time": "2025-07-12T14:58:07.274Z"
   },
   {
    "duration": 5,
    "start_time": "2025-07-12T14:58:07.288Z"
   },
   {
    "duration": 24,
    "start_time": "2025-07-12T14:58:07.294Z"
   },
   {
    "duration": 22,
    "start_time": "2025-07-12T14:58:07.320Z"
   },
   {
    "duration": 13,
    "start_time": "2025-07-12T14:58:07.344Z"
   },
   {
    "duration": 4,
    "start_time": "2025-07-12T14:58:07.358Z"
   },
   {
    "duration": 9,
    "start_time": "2025-07-12T14:58:07.363Z"
   },
   {
    "duration": 11,
    "start_time": "2025-07-12T14:58:07.373Z"
   },
   {
    "duration": 4592,
    "start_time": "2025-07-12T14:58:07.386Z"
   },
   {
    "duration": 92,
    "start_time": "2025-07-12T14:58:11.980Z"
   },
   {
    "duration": 17,
    "start_time": "2025-07-12T14:58:12.074Z"
   },
   {
    "duration": 13,
    "start_time": "2025-07-12T14:58:12.093Z"
   }
  ],
  "kernelspec": {
   "display_name": "Python 3 (ipykernel)",
   "language": "python",
   "name": "python3"
  },
  "language_info": {
   "codemirror_mode": {
    "name": "ipython",
    "version": 3
   },
   "file_extension": ".py",
   "mimetype": "text/x-python",
   "name": "python",
   "nbconvert_exporter": "python",
   "pygments_lexer": "ipython3",
   "version": "3.9.21"
  },
  "toc": {
   "base_numbering": 1,
   "nav_menu": {},
   "number_sections": true,
   "sideBar": true,
   "skip_h1_title": true,
   "title_cell": "Содержание",
   "title_sidebar": "Contents",
   "toc_cell": true,
   "toc_position": {
    "height": "calc(100% - 180px)",
    "left": "10px",
    "top": "150px",
    "width": "204.727px"
   },
   "toc_section_display": true,
   "toc_window_display": true
  },
  "widgets": {
   "application/vnd.jupyter.widget-state+json": {
    "state": {},
    "version_major": 2,
    "version_minor": 0
   }
  }
 },
 "nbformat": 4,
 "nbformat_minor": 4
}
