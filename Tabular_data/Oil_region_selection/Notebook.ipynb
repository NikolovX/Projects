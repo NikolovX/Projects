{
 "cells": [
  {
   "cell_type": "markdown",
   "metadata": {},
   "source": [
    "## Задание: Выбор локации для скважины\n",
    "\n",
    "Допустим, вы работаете в добывающей компании «ГлавРосГосНефть». Нужно решить, где бурить новую скважину.\n",
    "\n",
    "Вам предоставлены пробы нефти в трёх регионах: в каждом 10 000 месторождений, где измерили качество нефти и объём её запасов. Постройте модель машинного обучения, которая поможет определить регион, где добыча принесёт наибольшую прибыль. Проанализируйте возможную прибыль и риски техникой *Bootstrap.*\n",
    "\n",
    "Шаги для выбора локации:\n",
    "\n",
    "- В избранном регионе ищут месторождения, для каждого определяют значения признаков;\n",
    "- Строят модель и оценивают объём запасов;\n",
    "- Выбирают месторождения с самым высокими оценками значений. Количество месторождений зависит от бюджета компании и стоимости разработки одной скважины;\n",
    "- Прибыль равна суммарной прибыли отобранных месторождений.\n",
    "\n",
    "\n",
    "---\n",
    "## Этапы исследования и выводы\n",
    "\n",
    "1. **Подготовка данных**  \n",
    "   - Данные разделены на тренировочные (75%) и валидационные (25%) выборки.  \n",
    "   - Создан пайплайн для предобработки и нормализации данных.  \n",
    "   - Исключены записи с повторяющимися идентификаторами.\n",
    "\n",
    "2. **Базовая модель (DummyRegression)**  \n",
    "   - Базовые значения RMSE: от 44.25 до 45.96 тысяч баррелей.  \n",
    "   - Дамми модель позволила сравнить результаты разрабатываемые модели с простой стратегией.\n",
    "\n",
    "3. **Обучение моделей**  \n",
    "   - Использованы алгоритмы LinearRegression, Lasso и Ridge с гиперпараметрами для (`alpha`) и различных способов нормализации (StandardScaler, MinMaxScaler, RobustScaler).  \n",
    "   - На каждом из трёх регионов выбрана лучшая модель, произведена оценка RMSE на тренировочной и валидационной выборках.  \n",
    "   - Средние запасы нефти на одну скважину в регионах отличаются: ~69 тыс. баррелей (регион 2) против ~93 и ~95 тыс. баррелей (регионы 1 и 3).\n",
    "\n",
    "4. **Результаты моделей**  \n",
    "   - Лучше всего модель работает на втором регионе (RMSE ~1 тыс. баррелей), что составляет ~1.3% от среднего уровня запасов.  \n",
    "   - В первом и третьем регионах RMSE в относительных величинах выше ~41% и ~43% от среднего запаса.  \n",
    "\n",
    "5. **Подготовка к расчёту прибыли**  \n",
    "   - Учтён бюджет в 10 млрд руб. и стоимость одной тысячи баррелей 450 тыс. руб.  \n",
    "   - Рассчитан достаточный объём запасов скважины (111 тыс. баррелей) для безубыточной разработки 200 скважин.  \n",
    "   - Средний требуемый уровень запасов выше среднего уровня запасов во всех регионах (93, 69 и 95 тыс. баррелей).\n",
    "\n",
    "6. **Расчёт прибыли и рисков (Bootstrap)**  \n",
    "   - Для каждого региона методом Bootstrap сформировано 1000 подвыборок по 500 скважин.  \n",
    "   - Расчёт прибыли велся для 200 скважин с наибольшими прогнозными запасами.  \n",
    "   - Средняя прибыль, доверительные интервалы и вероятность убытка исследованы для каждого региона.  \n",
    "\n",
    "7. **Основной результат**  \n",
    "   - К разработке рекомендован регион 2 как обладающий наивысшей потенциальной доходностью (441 млн. руб.) и наименьшим риском понести убыток (2%).\n",
    "   \n",
    "**Результаты расчтетов средней прибыли и риска понести убытки**\n",
    "\n",
    "| Показатель                                                       | Регион 1         | Регион 2         | Регион 3         |\n",
    "|------------------------------------------------------------------|------------------|------------------|------------------|\n",
    "| **Средняя прибыль, руб.**                                        | 396_664_247.00   | 441_056_563.00   | 362_988_258.00   |\n",
    "| **Нижняя граница дов. интервала (2.5%) прибыли, руб.**           | -123_203_852.00  | 44_287_187.00    | -137_892_472.00  |\n",
    "| **Верхняя граница дов. интервала (97.5%) прибыли, руб.**         | 386_586_673.00   | 429_237_289.00   | 354_210_165.00   |\n",
    "| **Риск убытка, %**                                               | 7.50             | 2.00             | 8.70             |"
   ]
  },
  {
   "cell_type": "markdown",
   "metadata": {},
   "source": [
    "## Загрузка и подготовка данных"
   ]
  },
  {
   "cell_type": "markdown",
   "metadata": {},
   "source": [
    "### Импорт библиотек"
   ]
  },
  {
   "cell_type": "code",
   "execution_count": 1,
   "metadata": {},
   "outputs": [],
   "source": [
    "import numpy as np\n",
    "import pandas as pd\n",
    "\n",
    "from sklearn.model_selection import train_test_split\n",
    "\n",
    "from sklearn.impute import SimpleImputer\n",
    "from sklearn.preprocessing import (\n",
    "    RobustScaler,\n",
    "    StandardScaler,\n",
    "    MinMaxScaler\n",
    ")\n",
    "from sklearn.pipeline import Pipeline\n",
    "from sklearn.compose import ColumnTransformer\n",
    "\n",
    "from sklearn.model_selection import RandomizedSearchCV\n",
    "\n",
    "from sklearn.dummy import DummyRegressor\n",
    "from sklearn.linear_model import (\n",
    "    LinearRegression,\n",
    "    Lasso,\n",
    "    Ridge\n",
    ")\n",
    "\n",
    "from sklearn.metrics import (\n",
    "    root_mean_squared_error,\n",
    "    make_scorer\n",
    ")\n",
    "\n",
    "seed = 42\n",
    "state = np.random.RandomState(12345)\n",
    "pd.options.display.float_format = '{:_.2f}'.format"
   ]
  },
  {
   "cell_type": "markdown",
   "metadata": {},
   "source": [
    "### Загрузка данных"
   ]
  },
  {
   "cell_type": "code",
   "execution_count": 2,
   "metadata": {},
   "outputs": [],
   "source": [
    "# тренировочная выборка\n",
    "df_region_1 = pd.read_csv('https://code.s3.yandex.net/datasets/geo_data_0.csv')\n",
    "\n",
    "# тестовая выборка (без  целевого признака)\n",
    "df_region_2 = pd.read_csv('https://code.s3.yandex.net/datasets/geo_data_1.csv')\n",
    "\n",
    "# целевой признак тестовой выборки\n",
    "df_region_3 = pd.read_csv('https://code.s3.yandex.net/datasets/geo_data_2.csv')\n",
    "\n",
    "dfs = {\n",
    "    'df_region_1': df_region_1,\n",
    "    'df_region_2': df_region_2,\n",
    "    'df_region_3': df_region_3\n",
    "}"
   ]
  },
  {
   "cell_type": "code",
   "execution_count": 3,
   "metadata": {
    "scrolled": true
   },
   "outputs": [
    {
     "name": "stdout",
     "output_type": "stream",
     "text": [
      "df_region_1\n"
     ]
    },
    {
     "data": {
      "text/html": [
       "<div>\n",
       "<style scoped>\n",
       "    .dataframe tbody tr th:only-of-type {\n",
       "        vertical-align: middle;\n",
       "    }\n",
       "\n",
       "    .dataframe tbody tr th {\n",
       "        vertical-align: top;\n",
       "    }\n",
       "\n",
       "    .dataframe thead th {\n",
       "        text-align: right;\n",
       "    }\n",
       "</style>\n",
       "<table border=\"1\" class=\"dataframe\">\n",
       "  <thead>\n",
       "    <tr style=\"text-align: right;\">\n",
       "      <th></th>\n",
       "      <th>id</th>\n",
       "      <th>f0</th>\n",
       "      <th>f1</th>\n",
       "      <th>f2</th>\n",
       "      <th>product</th>\n",
       "    </tr>\n",
       "  </thead>\n",
       "  <tbody>\n",
       "    <tr>\n",
       "      <th>0</th>\n",
       "      <td>txEyH</td>\n",
       "      <td>0.71</td>\n",
       "      <td>-0.50</td>\n",
       "      <td>1.22</td>\n",
       "      <td>105.28</td>\n",
       "    </tr>\n",
       "    <tr>\n",
       "      <th>1</th>\n",
       "      <td>2acmU</td>\n",
       "      <td>1.33</td>\n",
       "      <td>-0.34</td>\n",
       "      <td>4.37</td>\n",
       "      <td>73.04</td>\n",
       "    </tr>\n",
       "    <tr>\n",
       "      <th>2</th>\n",
       "      <td>409Wp</td>\n",
       "      <td>1.02</td>\n",
       "      <td>0.15</td>\n",
       "      <td>1.42</td>\n",
       "      <td>85.27</td>\n",
       "    </tr>\n",
       "    <tr>\n",
       "      <th>3</th>\n",
       "      <td>iJLyR</td>\n",
       "      <td>-0.03</td>\n",
       "      <td>0.14</td>\n",
       "      <td>2.98</td>\n",
       "      <td>168.62</td>\n",
       "    </tr>\n",
       "    <tr>\n",
       "      <th>4</th>\n",
       "      <td>Xdl7t</td>\n",
       "      <td>1.99</td>\n",
       "      <td>0.16</td>\n",
       "      <td>4.75</td>\n",
       "      <td>154.04</td>\n",
       "    </tr>\n",
       "    <tr>\n",
       "      <th>...</th>\n",
       "      <td>...</td>\n",
       "      <td>...</td>\n",
       "      <td>...</td>\n",
       "      <td>...</td>\n",
       "      <td>...</td>\n",
       "    </tr>\n",
       "    <tr>\n",
       "      <th>99995</th>\n",
       "      <td>DLsed</td>\n",
       "      <td>0.97</td>\n",
       "      <td>0.37</td>\n",
       "      <td>6.08</td>\n",
       "      <td>110.74</td>\n",
       "    </tr>\n",
       "    <tr>\n",
       "      <th>99996</th>\n",
       "      <td>QKivN</td>\n",
       "      <td>1.39</td>\n",
       "      <td>-0.38</td>\n",
       "      <td>1.27</td>\n",
       "      <td>122.35</td>\n",
       "    </tr>\n",
       "    <tr>\n",
       "      <th>99997</th>\n",
       "      <td>3rnvd</td>\n",
       "      <td>1.03</td>\n",
       "      <td>0.02</td>\n",
       "      <td>-1.35</td>\n",
       "      <td>64.38</td>\n",
       "    </tr>\n",
       "    <tr>\n",
       "      <th>99998</th>\n",
       "      <td>7kl59</td>\n",
       "      <td>1.00</td>\n",
       "      <td>-0.53</td>\n",
       "      <td>1.58</td>\n",
       "      <td>74.04</td>\n",
       "    </tr>\n",
       "    <tr>\n",
       "      <th>99999</th>\n",
       "      <td>1CWhH</td>\n",
       "      <td>1.76</td>\n",
       "      <td>-0.27</td>\n",
       "      <td>5.72</td>\n",
       "      <td>149.63</td>\n",
       "    </tr>\n",
       "  </tbody>\n",
       "</table>\n",
       "<p>100000 rows × 5 columns</p>\n",
       "</div>"
      ],
      "text/plain": [
       "          id    f0    f1    f2  product\n",
       "0      txEyH  0.71 -0.50  1.22   105.28\n",
       "1      2acmU  1.33 -0.34  4.37    73.04\n",
       "2      409Wp  1.02  0.15  1.42    85.27\n",
       "3      iJLyR -0.03  0.14  2.98   168.62\n",
       "4      Xdl7t  1.99  0.16  4.75   154.04\n",
       "...      ...   ...   ...   ...      ...\n",
       "99995  DLsed  0.97  0.37  6.08   110.74\n",
       "99996  QKivN  1.39 -0.38  1.27   122.35\n",
       "99997  3rnvd  1.03  0.02 -1.35    64.38\n",
       "99998  7kl59  1.00 -0.53  1.58    74.04\n",
       "99999  1CWhH  1.76 -0.27  5.72   149.63\n",
       "\n",
       "[100000 rows x 5 columns]"
      ]
     },
     "metadata": {},
     "output_type": "display_data"
    },
    {
     "name": "stdout",
     "output_type": "stream",
     "text": [
      "\n",
      "\n",
      "df_region_2\n"
     ]
    },
    {
     "data": {
      "text/html": [
       "<div>\n",
       "<style scoped>\n",
       "    .dataframe tbody tr th:only-of-type {\n",
       "        vertical-align: middle;\n",
       "    }\n",
       "\n",
       "    .dataframe tbody tr th {\n",
       "        vertical-align: top;\n",
       "    }\n",
       "\n",
       "    .dataframe thead th {\n",
       "        text-align: right;\n",
       "    }\n",
       "</style>\n",
       "<table border=\"1\" class=\"dataframe\">\n",
       "  <thead>\n",
       "    <tr style=\"text-align: right;\">\n",
       "      <th></th>\n",
       "      <th>id</th>\n",
       "      <th>f0</th>\n",
       "      <th>f1</th>\n",
       "      <th>f2</th>\n",
       "      <th>product</th>\n",
       "    </tr>\n",
       "  </thead>\n",
       "  <tbody>\n",
       "    <tr>\n",
       "      <th>0</th>\n",
       "      <td>kBEdx</td>\n",
       "      <td>-15.00</td>\n",
       "      <td>-8.28</td>\n",
       "      <td>-0.01</td>\n",
       "      <td>3.18</td>\n",
       "    </tr>\n",
       "    <tr>\n",
       "      <th>1</th>\n",
       "      <td>62mP7</td>\n",
       "      <td>14.27</td>\n",
       "      <td>-3.48</td>\n",
       "      <td>1.00</td>\n",
       "      <td>26.95</td>\n",
       "    </tr>\n",
       "    <tr>\n",
       "      <th>2</th>\n",
       "      <td>vyE1P</td>\n",
       "      <td>6.26</td>\n",
       "      <td>-5.95</td>\n",
       "      <td>5.00</td>\n",
       "      <td>134.77</td>\n",
       "    </tr>\n",
       "    <tr>\n",
       "      <th>3</th>\n",
       "      <td>KcrkZ</td>\n",
       "      <td>-13.08</td>\n",
       "      <td>-11.51</td>\n",
       "      <td>5.00</td>\n",
       "      <td>137.95</td>\n",
       "    </tr>\n",
       "    <tr>\n",
       "      <th>4</th>\n",
       "      <td>AHL4O</td>\n",
       "      <td>12.70</td>\n",
       "      <td>-8.15</td>\n",
       "      <td>5.00</td>\n",
       "      <td>134.77</td>\n",
       "    </tr>\n",
       "    <tr>\n",
       "      <th>...</th>\n",
       "      <td>...</td>\n",
       "      <td>...</td>\n",
       "      <td>...</td>\n",
       "      <td>...</td>\n",
       "      <td>...</td>\n",
       "    </tr>\n",
       "    <tr>\n",
       "      <th>99995</th>\n",
       "      <td>QywKC</td>\n",
       "      <td>9.54</td>\n",
       "      <td>-6.88</td>\n",
       "      <td>2.00</td>\n",
       "      <td>53.91</td>\n",
       "    </tr>\n",
       "    <tr>\n",
       "      <th>99996</th>\n",
       "      <td>ptvty</td>\n",
       "      <td>-10.16</td>\n",
       "      <td>-12.56</td>\n",
       "      <td>5.01</td>\n",
       "      <td>137.95</td>\n",
       "    </tr>\n",
       "    <tr>\n",
       "      <th>99997</th>\n",
       "      <td>09gWa</td>\n",
       "      <td>-7.38</td>\n",
       "      <td>-3.08</td>\n",
       "      <td>5.00</td>\n",
       "      <td>137.95</td>\n",
       "    </tr>\n",
       "    <tr>\n",
       "      <th>99998</th>\n",
       "      <td>rqwUm</td>\n",
       "      <td>0.67</td>\n",
       "      <td>-6.15</td>\n",
       "      <td>1.00</td>\n",
       "      <td>30.13</td>\n",
       "    </tr>\n",
       "    <tr>\n",
       "      <th>99999</th>\n",
       "      <td>relB0</td>\n",
       "      <td>-3.43</td>\n",
       "      <td>-7.79</td>\n",
       "      <td>-0.00</td>\n",
       "      <td>3.18</td>\n",
       "    </tr>\n",
       "  </tbody>\n",
       "</table>\n",
       "<p>100000 rows × 5 columns</p>\n",
       "</div>"
      ],
      "text/plain": [
       "          id     f0     f1    f2  product\n",
       "0      kBEdx -15.00  -8.28 -0.01     3.18\n",
       "1      62mP7  14.27  -3.48  1.00    26.95\n",
       "2      vyE1P   6.26  -5.95  5.00   134.77\n",
       "3      KcrkZ -13.08 -11.51  5.00   137.95\n",
       "4      AHL4O  12.70  -8.15  5.00   134.77\n",
       "...      ...    ...    ...   ...      ...\n",
       "99995  QywKC   9.54  -6.88  2.00    53.91\n",
       "99996  ptvty -10.16 -12.56  5.01   137.95\n",
       "99997  09gWa  -7.38  -3.08  5.00   137.95\n",
       "99998  rqwUm   0.67  -6.15  1.00    30.13\n",
       "99999  relB0  -3.43  -7.79 -0.00     3.18\n",
       "\n",
       "[100000 rows x 5 columns]"
      ]
     },
     "metadata": {},
     "output_type": "display_data"
    },
    {
     "name": "stdout",
     "output_type": "stream",
     "text": [
      "\n",
      "\n",
      "df_region_3\n"
     ]
    },
    {
     "data": {
      "text/html": [
       "<div>\n",
       "<style scoped>\n",
       "    .dataframe tbody tr th:only-of-type {\n",
       "        vertical-align: middle;\n",
       "    }\n",
       "\n",
       "    .dataframe tbody tr th {\n",
       "        vertical-align: top;\n",
       "    }\n",
       "\n",
       "    .dataframe thead th {\n",
       "        text-align: right;\n",
       "    }\n",
       "</style>\n",
       "<table border=\"1\" class=\"dataframe\">\n",
       "  <thead>\n",
       "    <tr style=\"text-align: right;\">\n",
       "      <th></th>\n",
       "      <th>id</th>\n",
       "      <th>f0</th>\n",
       "      <th>f1</th>\n",
       "      <th>f2</th>\n",
       "      <th>product</th>\n",
       "    </tr>\n",
       "  </thead>\n",
       "  <tbody>\n",
       "    <tr>\n",
       "      <th>0</th>\n",
       "      <td>fwXo0</td>\n",
       "      <td>-1.15</td>\n",
       "      <td>0.96</td>\n",
       "      <td>-0.83</td>\n",
       "      <td>27.76</td>\n",
       "    </tr>\n",
       "    <tr>\n",
       "      <th>1</th>\n",
       "      <td>WJtFt</td>\n",
       "      <td>0.26</td>\n",
       "      <td>0.27</td>\n",
       "      <td>-2.53</td>\n",
       "      <td>56.07</td>\n",
       "    </tr>\n",
       "    <tr>\n",
       "      <th>2</th>\n",
       "      <td>ovLUW</td>\n",
       "      <td>0.19</td>\n",
       "      <td>0.29</td>\n",
       "      <td>-5.59</td>\n",
       "      <td>62.87</td>\n",
       "    </tr>\n",
       "    <tr>\n",
       "      <th>3</th>\n",
       "      <td>q6cA6</td>\n",
       "      <td>2.24</td>\n",
       "      <td>-0.55</td>\n",
       "      <td>0.93</td>\n",
       "      <td>114.57</td>\n",
       "    </tr>\n",
       "    <tr>\n",
       "      <th>4</th>\n",
       "      <td>WPMUX</td>\n",
       "      <td>-0.52</td>\n",
       "      <td>1.72</td>\n",
       "      <td>5.90</td>\n",
       "      <td>149.60</td>\n",
       "    </tr>\n",
       "    <tr>\n",
       "      <th>...</th>\n",
       "      <td>...</td>\n",
       "      <td>...</td>\n",
       "      <td>...</td>\n",
       "      <td>...</td>\n",
       "      <td>...</td>\n",
       "    </tr>\n",
       "    <tr>\n",
       "      <th>99995</th>\n",
       "      <td>4GxBu</td>\n",
       "      <td>-1.78</td>\n",
       "      <td>1.13</td>\n",
       "      <td>6.26</td>\n",
       "      <td>172.33</td>\n",
       "    </tr>\n",
       "    <tr>\n",
       "      <th>99996</th>\n",
       "      <td>YKFjq</td>\n",
       "      <td>-1.26</td>\n",
       "      <td>-0.89</td>\n",
       "      <td>2.52</td>\n",
       "      <td>138.75</td>\n",
       "    </tr>\n",
       "    <tr>\n",
       "      <th>99997</th>\n",
       "      <td>tKPY3</td>\n",
       "      <td>-1.20</td>\n",
       "      <td>-2.96</td>\n",
       "      <td>5.22</td>\n",
       "      <td>157.08</td>\n",
       "    </tr>\n",
       "    <tr>\n",
       "      <th>99998</th>\n",
       "      <td>nmxp2</td>\n",
       "      <td>-2.42</td>\n",
       "      <td>2.42</td>\n",
       "      <td>-5.55</td>\n",
       "      <td>51.80</td>\n",
       "    </tr>\n",
       "    <tr>\n",
       "      <th>99999</th>\n",
       "      <td>V9kWn</td>\n",
       "      <td>-2.55</td>\n",
       "      <td>-2.03</td>\n",
       "      <td>6.09</td>\n",
       "      <td>102.78</td>\n",
       "    </tr>\n",
       "  </tbody>\n",
       "</table>\n",
       "<p>100000 rows × 5 columns</p>\n",
       "</div>"
      ],
      "text/plain": [
       "          id    f0    f1    f2  product\n",
       "0      fwXo0 -1.15  0.96 -0.83    27.76\n",
       "1      WJtFt  0.26  0.27 -2.53    56.07\n",
       "2      ovLUW  0.19  0.29 -5.59    62.87\n",
       "3      q6cA6  2.24 -0.55  0.93   114.57\n",
       "4      WPMUX -0.52  1.72  5.90   149.60\n",
       "...      ...   ...   ...   ...      ...\n",
       "99995  4GxBu -1.78  1.13  6.26   172.33\n",
       "99996  YKFjq -1.26 -0.89  2.52   138.75\n",
       "99997  tKPY3 -1.20 -2.96  5.22   157.08\n",
       "99998  nmxp2 -2.42  2.42 -5.55    51.80\n",
       "99999  V9kWn -2.55 -2.03  6.09   102.78\n",
       "\n",
       "[100000 rows x 5 columns]"
      ]
     },
     "metadata": {},
     "output_type": "display_data"
    },
    {
     "name": "stdout",
     "output_type": "stream",
     "text": [
      "\n",
      "\n"
     ]
    }
   ],
   "source": [
    "for key, val in dfs.items():\n",
    "    print(key)\n",
    "    display(val)\n",
    "    print('', '', sep='\\n')"
   ]
  },
  {
   "cell_type": "markdown",
   "metadata": {},
   "source": [
    "**Загрузка данных**\n",
    "\n",
    "Данные загружены корретктно и соответсвтуют описанию задачи."
   ]
  },
  {
   "cell_type": "markdown",
   "metadata": {},
   "source": [
    "### Предобработка данных"
   ]
  },
  {
   "cell_type": "code",
   "execution_count": 4,
   "metadata": {},
   "outputs": [],
   "source": [
    "def df_summary(name: str, df: pd.DataFrame) -> None:\n",
    "    \"\"\"\n",
    "    Функция df_summary принимает на вход str DataFrame и выводит три сводные таблицы с общей информацией:\n",
    "    \n",
    "    1. Первая таблица содержит:\n",
    "       - Первые пять строк датафрейма\n",
    "    \n",
    "    2. Вторая таблица содержит:\n",
    "       - Общее количество строк\n",
    "       - Общее количество столбцов\n",
    "       - Количество полных дубликатов строк\n",
    "    \n",
    "    я. Третяя таблица содержит информацию о каждом признаке:\n",
    "       - Название признака\n",
    "       - Количество пропусков для каждого признака\n",
    "       - Количество уникальных значений для каждого признака\n",
    "       - Тип данных каждого признака\n",
    "\n",
    "    Параметры:\n",
    "    name (str): Входная строка - название датафрейма;\n",
    "    df (pd.DataFrame): Входной датафрейм, для которого нужно сформировать сводные таблицы.\n",
    "\n",
    "    Возвращаемое значение:\n",
    "    None. Функция выводит таблицы напрямую.\n",
    "    \"\"\" \n",
    "    \n",
    "    # Таблица 1: общее число строк, столбцов и дубликатов\n",
    "    total_rows = df.shape[0]\n",
    "    total_columns = df.shape[1]\n",
    "    total_duplicates = df.duplicated().sum()\n",
    "    \n",
    "    summary_1 = pd.DataFrame({\n",
    "        'Кол-во строк': [total_rows],\n",
    "        'Кол-во признаков': [total_columns],\n",
    "        'Кол-во полных дубликатов': [total_duplicates]\n",
    "    })\n",
    "    summary_1_t = summary_1.T\n",
    "    summary_1_t.columns = ['Значение']\n",
    "\n",
    "    # Таблица 2: информация о каждом признаке\n",
    "    summary_2 = pd.DataFrame({\n",
    "        'Признак': df.columns,\n",
    "        'Кол-во пропусков': df.isnull().sum(),\n",
    "        'Кол-во уникальных': df.nunique(),\n",
    "        'Тип': df.dtypes\n",
    "    }).reset_index(drop=True)\n",
    "    \n",
    "\n",
    "    # Вывод таблиц\n",
    "    print(f'\\n\\nТаблица: {name}')\n",
    "    \n",
    "    print('Обзор данных')\n",
    "    display(df)\n",
    "    \n",
    "    print('', 'Общая информация', sep='\\n')\n",
    "    display(summary_1_t)\n",
    "    \n",
    "    print('', 'Информация о признаках',sep='\\n')\n",
    "    display(summary_2)\n",
    "    \n",
    "    print('', '', sep='\\n')\n",
    "    \n",
    "    # Вывод уникальных значений признаков\n",
    "    print('Уникальные значения признаков')\n",
    "    for col in df.columns:\n",
    "        print('', col, df[col].sort_values().unique(), sep='\\n')\n",
    "    "
   ]
  },
  {
   "cell_type": "code",
   "execution_count": 5,
   "metadata": {
    "scrolled": true
   },
   "outputs": [
    {
     "name": "stdout",
     "output_type": "stream",
     "text": [
      "\n",
      "\n",
      "Таблица: df_region_1\n",
      "Обзор данных\n"
     ]
    },
    {
     "data": {
      "text/html": [
       "<div>\n",
       "<style scoped>\n",
       "    .dataframe tbody tr th:only-of-type {\n",
       "        vertical-align: middle;\n",
       "    }\n",
       "\n",
       "    .dataframe tbody tr th {\n",
       "        vertical-align: top;\n",
       "    }\n",
       "\n",
       "    .dataframe thead th {\n",
       "        text-align: right;\n",
       "    }\n",
       "</style>\n",
       "<table border=\"1\" class=\"dataframe\">\n",
       "  <thead>\n",
       "    <tr style=\"text-align: right;\">\n",
       "      <th></th>\n",
       "      <th>id</th>\n",
       "      <th>f0</th>\n",
       "      <th>f1</th>\n",
       "      <th>f2</th>\n",
       "      <th>product</th>\n",
       "    </tr>\n",
       "  </thead>\n",
       "  <tbody>\n",
       "    <tr>\n",
       "      <th>0</th>\n",
       "      <td>txEyH</td>\n",
       "      <td>0.71</td>\n",
       "      <td>-0.50</td>\n",
       "      <td>1.22</td>\n",
       "      <td>105.28</td>\n",
       "    </tr>\n",
       "    <tr>\n",
       "      <th>1</th>\n",
       "      <td>2acmU</td>\n",
       "      <td>1.33</td>\n",
       "      <td>-0.34</td>\n",
       "      <td>4.37</td>\n",
       "      <td>73.04</td>\n",
       "    </tr>\n",
       "    <tr>\n",
       "      <th>2</th>\n",
       "      <td>409Wp</td>\n",
       "      <td>1.02</td>\n",
       "      <td>0.15</td>\n",
       "      <td>1.42</td>\n",
       "      <td>85.27</td>\n",
       "    </tr>\n",
       "    <tr>\n",
       "      <th>3</th>\n",
       "      <td>iJLyR</td>\n",
       "      <td>-0.03</td>\n",
       "      <td>0.14</td>\n",
       "      <td>2.98</td>\n",
       "      <td>168.62</td>\n",
       "    </tr>\n",
       "    <tr>\n",
       "      <th>4</th>\n",
       "      <td>Xdl7t</td>\n",
       "      <td>1.99</td>\n",
       "      <td>0.16</td>\n",
       "      <td>4.75</td>\n",
       "      <td>154.04</td>\n",
       "    </tr>\n",
       "    <tr>\n",
       "      <th>...</th>\n",
       "      <td>...</td>\n",
       "      <td>...</td>\n",
       "      <td>...</td>\n",
       "      <td>...</td>\n",
       "      <td>...</td>\n",
       "    </tr>\n",
       "    <tr>\n",
       "      <th>99995</th>\n",
       "      <td>DLsed</td>\n",
       "      <td>0.97</td>\n",
       "      <td>0.37</td>\n",
       "      <td>6.08</td>\n",
       "      <td>110.74</td>\n",
       "    </tr>\n",
       "    <tr>\n",
       "      <th>99996</th>\n",
       "      <td>QKivN</td>\n",
       "      <td>1.39</td>\n",
       "      <td>-0.38</td>\n",
       "      <td>1.27</td>\n",
       "      <td>122.35</td>\n",
       "    </tr>\n",
       "    <tr>\n",
       "      <th>99997</th>\n",
       "      <td>3rnvd</td>\n",
       "      <td>1.03</td>\n",
       "      <td>0.02</td>\n",
       "      <td>-1.35</td>\n",
       "      <td>64.38</td>\n",
       "    </tr>\n",
       "    <tr>\n",
       "      <th>99998</th>\n",
       "      <td>7kl59</td>\n",
       "      <td>1.00</td>\n",
       "      <td>-0.53</td>\n",
       "      <td>1.58</td>\n",
       "      <td>74.04</td>\n",
       "    </tr>\n",
       "    <tr>\n",
       "      <th>99999</th>\n",
       "      <td>1CWhH</td>\n",
       "      <td>1.76</td>\n",
       "      <td>-0.27</td>\n",
       "      <td>5.72</td>\n",
       "      <td>149.63</td>\n",
       "    </tr>\n",
       "  </tbody>\n",
       "</table>\n",
       "<p>100000 rows × 5 columns</p>\n",
       "</div>"
      ],
      "text/plain": [
       "          id    f0    f1    f2  product\n",
       "0      txEyH  0.71 -0.50  1.22   105.28\n",
       "1      2acmU  1.33 -0.34  4.37    73.04\n",
       "2      409Wp  1.02  0.15  1.42    85.27\n",
       "3      iJLyR -0.03  0.14  2.98   168.62\n",
       "4      Xdl7t  1.99  0.16  4.75   154.04\n",
       "...      ...   ...   ...   ...      ...\n",
       "99995  DLsed  0.97  0.37  6.08   110.74\n",
       "99996  QKivN  1.39 -0.38  1.27   122.35\n",
       "99997  3rnvd  1.03  0.02 -1.35    64.38\n",
       "99998  7kl59  1.00 -0.53  1.58    74.04\n",
       "99999  1CWhH  1.76 -0.27  5.72   149.63\n",
       "\n",
       "[100000 rows x 5 columns]"
      ]
     },
     "metadata": {},
     "output_type": "display_data"
    },
    {
     "name": "stdout",
     "output_type": "stream",
     "text": [
      "\n",
      "Общая информация\n"
     ]
    },
    {
     "data": {
      "text/html": [
       "<div>\n",
       "<style scoped>\n",
       "    .dataframe tbody tr th:only-of-type {\n",
       "        vertical-align: middle;\n",
       "    }\n",
       "\n",
       "    .dataframe tbody tr th {\n",
       "        vertical-align: top;\n",
       "    }\n",
       "\n",
       "    .dataframe thead th {\n",
       "        text-align: right;\n",
       "    }\n",
       "</style>\n",
       "<table border=\"1\" class=\"dataframe\">\n",
       "  <thead>\n",
       "    <tr style=\"text-align: right;\">\n",
       "      <th></th>\n",
       "      <th>Значение</th>\n",
       "    </tr>\n",
       "  </thead>\n",
       "  <tbody>\n",
       "    <tr>\n",
       "      <th>Кол-во строк</th>\n",
       "      <td>100000</td>\n",
       "    </tr>\n",
       "    <tr>\n",
       "      <th>Кол-во признаков</th>\n",
       "      <td>5</td>\n",
       "    </tr>\n",
       "    <tr>\n",
       "      <th>Кол-во полных дубликатов</th>\n",
       "      <td>0</td>\n",
       "    </tr>\n",
       "  </tbody>\n",
       "</table>\n",
       "</div>"
      ],
      "text/plain": [
       "                          Значение\n",
       "Кол-во строк                100000\n",
       "Кол-во признаков                 5\n",
       "Кол-во полных дубликатов         0"
      ]
     },
     "metadata": {},
     "output_type": "display_data"
    },
    {
     "name": "stdout",
     "output_type": "stream",
     "text": [
      "\n",
      "Информация о признаках\n"
     ]
    },
    {
     "data": {
      "text/html": [
       "<div>\n",
       "<style scoped>\n",
       "    .dataframe tbody tr th:only-of-type {\n",
       "        vertical-align: middle;\n",
       "    }\n",
       "\n",
       "    .dataframe tbody tr th {\n",
       "        vertical-align: top;\n",
       "    }\n",
       "\n",
       "    .dataframe thead th {\n",
       "        text-align: right;\n",
       "    }\n",
       "</style>\n",
       "<table border=\"1\" class=\"dataframe\">\n",
       "  <thead>\n",
       "    <tr style=\"text-align: right;\">\n",
       "      <th></th>\n",
       "      <th>Признак</th>\n",
       "      <th>Кол-во пропусков</th>\n",
       "      <th>Кол-во уникальных</th>\n",
       "      <th>Тип</th>\n",
       "    </tr>\n",
       "  </thead>\n",
       "  <tbody>\n",
       "    <tr>\n",
       "      <th>0</th>\n",
       "      <td>id</td>\n",
       "      <td>0</td>\n",
       "      <td>99990</td>\n",
       "      <td>object</td>\n",
       "    </tr>\n",
       "    <tr>\n",
       "      <th>1</th>\n",
       "      <td>f0</td>\n",
       "      <td>0</td>\n",
       "      <td>100000</td>\n",
       "      <td>float64</td>\n",
       "    </tr>\n",
       "    <tr>\n",
       "      <th>2</th>\n",
       "      <td>f1</td>\n",
       "      <td>0</td>\n",
       "      <td>100000</td>\n",
       "      <td>float64</td>\n",
       "    </tr>\n",
       "    <tr>\n",
       "      <th>3</th>\n",
       "      <td>f2</td>\n",
       "      <td>0</td>\n",
       "      <td>100000</td>\n",
       "      <td>float64</td>\n",
       "    </tr>\n",
       "    <tr>\n",
       "      <th>4</th>\n",
       "      <td>product</td>\n",
       "      <td>0</td>\n",
       "      <td>100000</td>\n",
       "      <td>float64</td>\n",
       "    </tr>\n",
       "  </tbody>\n",
       "</table>\n",
       "</div>"
      ],
      "text/plain": [
       "   Признак  Кол-во пропусков  Кол-во уникальных      Тип\n",
       "0       id                 0              99990   object\n",
       "1       f0                 0             100000  float64\n",
       "2       f1                 0             100000  float64\n",
       "3       f2                 0             100000  float64\n",
       "4  product                 0             100000  float64"
      ]
     },
     "metadata": {},
     "output_type": "display_data"
    },
    {
     "name": "stdout",
     "output_type": "stream",
     "text": [
      "\n",
      "\n",
      "Уникальные значения признаков\n",
      "\n",
      "id\n",
      "['006OJ' '009eY' '00AfQ' ... 'zztWK' 'zzyhQ' 'zzzLH']\n",
      "\n",
      "f0\n",
      "[-1.40860531 -1.35177299 -1.30222711 ...  2.33375269  2.33707957\n",
      "  2.36233081]\n",
      "\n",
      "f1\n",
      "[-0.8482185  -0.84490792 -0.8205609  ...  1.33334561  1.33482762\n",
      "  1.34376933]\n",
      "\n",
      "f2\n",
      "[-12.08832812 -10.13834135 -10.13817115 ...  15.23032159  15.42837187\n",
      "  16.00379001]\n",
      "\n",
      "product\n",
      "[0.00000000e+00 4.02152316e-03 6.11363631e-03 ... 1.85355615e+02\n",
      " 1.85362690e+02 1.85364347e+02]\n",
      "\n",
      "\n",
      "Таблица: df_region_2\n",
      "Обзор данных\n"
     ]
    },
    {
     "data": {
      "text/html": [
       "<div>\n",
       "<style scoped>\n",
       "    .dataframe tbody tr th:only-of-type {\n",
       "        vertical-align: middle;\n",
       "    }\n",
       "\n",
       "    .dataframe tbody tr th {\n",
       "        vertical-align: top;\n",
       "    }\n",
       "\n",
       "    .dataframe thead th {\n",
       "        text-align: right;\n",
       "    }\n",
       "</style>\n",
       "<table border=\"1\" class=\"dataframe\">\n",
       "  <thead>\n",
       "    <tr style=\"text-align: right;\">\n",
       "      <th></th>\n",
       "      <th>id</th>\n",
       "      <th>f0</th>\n",
       "      <th>f1</th>\n",
       "      <th>f2</th>\n",
       "      <th>product</th>\n",
       "    </tr>\n",
       "  </thead>\n",
       "  <tbody>\n",
       "    <tr>\n",
       "      <th>0</th>\n",
       "      <td>kBEdx</td>\n",
       "      <td>-15.00</td>\n",
       "      <td>-8.28</td>\n",
       "      <td>-0.01</td>\n",
       "      <td>3.18</td>\n",
       "    </tr>\n",
       "    <tr>\n",
       "      <th>1</th>\n",
       "      <td>62mP7</td>\n",
       "      <td>14.27</td>\n",
       "      <td>-3.48</td>\n",
       "      <td>1.00</td>\n",
       "      <td>26.95</td>\n",
       "    </tr>\n",
       "    <tr>\n",
       "      <th>2</th>\n",
       "      <td>vyE1P</td>\n",
       "      <td>6.26</td>\n",
       "      <td>-5.95</td>\n",
       "      <td>5.00</td>\n",
       "      <td>134.77</td>\n",
       "    </tr>\n",
       "    <tr>\n",
       "      <th>3</th>\n",
       "      <td>KcrkZ</td>\n",
       "      <td>-13.08</td>\n",
       "      <td>-11.51</td>\n",
       "      <td>5.00</td>\n",
       "      <td>137.95</td>\n",
       "    </tr>\n",
       "    <tr>\n",
       "      <th>4</th>\n",
       "      <td>AHL4O</td>\n",
       "      <td>12.70</td>\n",
       "      <td>-8.15</td>\n",
       "      <td>5.00</td>\n",
       "      <td>134.77</td>\n",
       "    </tr>\n",
       "    <tr>\n",
       "      <th>...</th>\n",
       "      <td>...</td>\n",
       "      <td>...</td>\n",
       "      <td>...</td>\n",
       "      <td>...</td>\n",
       "      <td>...</td>\n",
       "    </tr>\n",
       "    <tr>\n",
       "      <th>99995</th>\n",
       "      <td>QywKC</td>\n",
       "      <td>9.54</td>\n",
       "      <td>-6.88</td>\n",
       "      <td>2.00</td>\n",
       "      <td>53.91</td>\n",
       "    </tr>\n",
       "    <tr>\n",
       "      <th>99996</th>\n",
       "      <td>ptvty</td>\n",
       "      <td>-10.16</td>\n",
       "      <td>-12.56</td>\n",
       "      <td>5.01</td>\n",
       "      <td>137.95</td>\n",
       "    </tr>\n",
       "    <tr>\n",
       "      <th>99997</th>\n",
       "      <td>09gWa</td>\n",
       "      <td>-7.38</td>\n",
       "      <td>-3.08</td>\n",
       "      <td>5.00</td>\n",
       "      <td>137.95</td>\n",
       "    </tr>\n",
       "    <tr>\n",
       "      <th>99998</th>\n",
       "      <td>rqwUm</td>\n",
       "      <td>0.67</td>\n",
       "      <td>-6.15</td>\n",
       "      <td>1.00</td>\n",
       "      <td>30.13</td>\n",
       "    </tr>\n",
       "    <tr>\n",
       "      <th>99999</th>\n",
       "      <td>relB0</td>\n",
       "      <td>-3.43</td>\n",
       "      <td>-7.79</td>\n",
       "      <td>-0.00</td>\n",
       "      <td>3.18</td>\n",
       "    </tr>\n",
       "  </tbody>\n",
       "</table>\n",
       "<p>100000 rows × 5 columns</p>\n",
       "</div>"
      ],
      "text/plain": [
       "          id     f0     f1    f2  product\n",
       "0      kBEdx -15.00  -8.28 -0.01     3.18\n",
       "1      62mP7  14.27  -3.48  1.00    26.95\n",
       "2      vyE1P   6.26  -5.95  5.00   134.77\n",
       "3      KcrkZ -13.08 -11.51  5.00   137.95\n",
       "4      AHL4O  12.70  -8.15  5.00   134.77\n",
       "...      ...    ...    ...   ...      ...\n",
       "99995  QywKC   9.54  -6.88  2.00    53.91\n",
       "99996  ptvty -10.16 -12.56  5.01   137.95\n",
       "99997  09gWa  -7.38  -3.08  5.00   137.95\n",
       "99998  rqwUm   0.67  -6.15  1.00    30.13\n",
       "99999  relB0  -3.43  -7.79 -0.00     3.18\n",
       "\n",
       "[100000 rows x 5 columns]"
      ]
     },
     "metadata": {},
     "output_type": "display_data"
    },
    {
     "name": "stdout",
     "output_type": "stream",
     "text": [
      "\n",
      "Общая информация\n"
     ]
    },
    {
     "data": {
      "text/html": [
       "<div>\n",
       "<style scoped>\n",
       "    .dataframe tbody tr th:only-of-type {\n",
       "        vertical-align: middle;\n",
       "    }\n",
       "\n",
       "    .dataframe tbody tr th {\n",
       "        vertical-align: top;\n",
       "    }\n",
       "\n",
       "    .dataframe thead th {\n",
       "        text-align: right;\n",
       "    }\n",
       "</style>\n",
       "<table border=\"1\" class=\"dataframe\">\n",
       "  <thead>\n",
       "    <tr style=\"text-align: right;\">\n",
       "      <th></th>\n",
       "      <th>Значение</th>\n",
       "    </tr>\n",
       "  </thead>\n",
       "  <tbody>\n",
       "    <tr>\n",
       "      <th>Кол-во строк</th>\n",
       "      <td>100000</td>\n",
       "    </tr>\n",
       "    <tr>\n",
       "      <th>Кол-во признаков</th>\n",
       "      <td>5</td>\n",
       "    </tr>\n",
       "    <tr>\n",
       "      <th>Кол-во полных дубликатов</th>\n",
       "      <td>0</td>\n",
       "    </tr>\n",
       "  </tbody>\n",
       "</table>\n",
       "</div>"
      ],
      "text/plain": [
       "                          Значение\n",
       "Кол-во строк                100000\n",
       "Кол-во признаков                 5\n",
       "Кол-во полных дубликатов         0"
      ]
     },
     "metadata": {},
     "output_type": "display_data"
    },
    {
     "name": "stdout",
     "output_type": "stream",
     "text": [
      "\n",
      "Информация о признаках\n"
     ]
    },
    {
     "data": {
      "text/html": [
       "<div>\n",
       "<style scoped>\n",
       "    .dataframe tbody tr th:only-of-type {\n",
       "        vertical-align: middle;\n",
       "    }\n",
       "\n",
       "    .dataframe tbody tr th {\n",
       "        vertical-align: top;\n",
       "    }\n",
       "\n",
       "    .dataframe thead th {\n",
       "        text-align: right;\n",
       "    }\n",
       "</style>\n",
       "<table border=\"1\" class=\"dataframe\">\n",
       "  <thead>\n",
       "    <tr style=\"text-align: right;\">\n",
       "      <th></th>\n",
       "      <th>Признак</th>\n",
       "      <th>Кол-во пропусков</th>\n",
       "      <th>Кол-во уникальных</th>\n",
       "      <th>Тип</th>\n",
       "    </tr>\n",
       "  </thead>\n",
       "  <tbody>\n",
       "    <tr>\n",
       "      <th>0</th>\n",
       "      <td>id</td>\n",
       "      <td>0</td>\n",
       "      <td>99996</td>\n",
       "      <td>object</td>\n",
       "    </tr>\n",
       "    <tr>\n",
       "      <th>1</th>\n",
       "      <td>f0</td>\n",
       "      <td>0</td>\n",
       "      <td>100000</td>\n",
       "      <td>float64</td>\n",
       "    </tr>\n",
       "    <tr>\n",
       "      <th>2</th>\n",
       "      <td>f1</td>\n",
       "      <td>0</td>\n",
       "      <td>100000</td>\n",
       "      <td>float64</td>\n",
       "    </tr>\n",
       "    <tr>\n",
       "      <th>3</th>\n",
       "      <td>f2</td>\n",
       "      <td>0</td>\n",
       "      <td>100000</td>\n",
       "      <td>float64</td>\n",
       "    </tr>\n",
       "    <tr>\n",
       "      <th>4</th>\n",
       "      <td>product</td>\n",
       "      <td>0</td>\n",
       "      <td>12</td>\n",
       "      <td>float64</td>\n",
       "    </tr>\n",
       "  </tbody>\n",
       "</table>\n",
       "</div>"
      ],
      "text/plain": [
       "   Признак  Кол-во пропусков  Кол-во уникальных      Тип\n",
       "0       id                 0              99996   object\n",
       "1       f0                 0             100000  float64\n",
       "2       f1                 0             100000  float64\n",
       "3       f2                 0             100000  float64\n",
       "4  product                 0                 12  float64"
      ]
     },
     "metadata": {},
     "output_type": "display_data"
    },
    {
     "name": "stdout",
     "output_type": "stream",
     "text": [
      "\n",
      "\n",
      "Уникальные значения признаков\n",
      "\n",
      "id\n",
      "['0022J' '003Gl' '003Vx' ... 'zzv4E' 'zzy2c' 'zzzvI']\n",
      "\n",
      "f0\n",
      "[-31.60957602 -27.82961614 -26.64625507 ...  28.93082879  29.25906208\n",
      "  29.42175461]\n",
      "\n",
      "f1\n",
      "[-26.35859801 -25.38962242 -25.2915177  ...  16.0268693   16.7371962\n",
      "  18.73406263]\n",
      "\n",
      "f2\n",
      "[-0.01814409 -0.01788668 -0.01768626 ...  5.01750345  5.01909142\n",
      "  5.01972056]\n",
      "\n",
      "product\n",
      "[  0.           3.17910258  26.95326103  30.13236361  53.90652206\n",
      "  57.08562465  80.85978309  84.03888568 107.81304413 110.99214671\n",
      " 134.76630516 137.94540774]\n",
      "\n",
      "\n",
      "Таблица: df_region_3\n",
      "Обзор данных\n"
     ]
    },
    {
     "data": {
      "text/html": [
       "<div>\n",
       "<style scoped>\n",
       "    .dataframe tbody tr th:only-of-type {\n",
       "        vertical-align: middle;\n",
       "    }\n",
       "\n",
       "    .dataframe tbody tr th {\n",
       "        vertical-align: top;\n",
       "    }\n",
       "\n",
       "    .dataframe thead th {\n",
       "        text-align: right;\n",
       "    }\n",
       "</style>\n",
       "<table border=\"1\" class=\"dataframe\">\n",
       "  <thead>\n",
       "    <tr style=\"text-align: right;\">\n",
       "      <th></th>\n",
       "      <th>id</th>\n",
       "      <th>f0</th>\n",
       "      <th>f1</th>\n",
       "      <th>f2</th>\n",
       "      <th>product</th>\n",
       "    </tr>\n",
       "  </thead>\n",
       "  <tbody>\n",
       "    <tr>\n",
       "      <th>0</th>\n",
       "      <td>fwXo0</td>\n",
       "      <td>-1.15</td>\n",
       "      <td>0.96</td>\n",
       "      <td>-0.83</td>\n",
       "      <td>27.76</td>\n",
       "    </tr>\n",
       "    <tr>\n",
       "      <th>1</th>\n",
       "      <td>WJtFt</td>\n",
       "      <td>0.26</td>\n",
       "      <td>0.27</td>\n",
       "      <td>-2.53</td>\n",
       "      <td>56.07</td>\n",
       "    </tr>\n",
       "    <tr>\n",
       "      <th>2</th>\n",
       "      <td>ovLUW</td>\n",
       "      <td>0.19</td>\n",
       "      <td>0.29</td>\n",
       "      <td>-5.59</td>\n",
       "      <td>62.87</td>\n",
       "    </tr>\n",
       "    <tr>\n",
       "      <th>3</th>\n",
       "      <td>q6cA6</td>\n",
       "      <td>2.24</td>\n",
       "      <td>-0.55</td>\n",
       "      <td>0.93</td>\n",
       "      <td>114.57</td>\n",
       "    </tr>\n",
       "    <tr>\n",
       "      <th>4</th>\n",
       "      <td>WPMUX</td>\n",
       "      <td>-0.52</td>\n",
       "      <td>1.72</td>\n",
       "      <td>5.90</td>\n",
       "      <td>149.60</td>\n",
       "    </tr>\n",
       "    <tr>\n",
       "      <th>...</th>\n",
       "      <td>...</td>\n",
       "      <td>...</td>\n",
       "      <td>...</td>\n",
       "      <td>...</td>\n",
       "      <td>...</td>\n",
       "    </tr>\n",
       "    <tr>\n",
       "      <th>99995</th>\n",
       "      <td>4GxBu</td>\n",
       "      <td>-1.78</td>\n",
       "      <td>1.13</td>\n",
       "      <td>6.26</td>\n",
       "      <td>172.33</td>\n",
       "    </tr>\n",
       "    <tr>\n",
       "      <th>99996</th>\n",
       "      <td>YKFjq</td>\n",
       "      <td>-1.26</td>\n",
       "      <td>-0.89</td>\n",
       "      <td>2.52</td>\n",
       "      <td>138.75</td>\n",
       "    </tr>\n",
       "    <tr>\n",
       "      <th>99997</th>\n",
       "      <td>tKPY3</td>\n",
       "      <td>-1.20</td>\n",
       "      <td>-2.96</td>\n",
       "      <td>5.22</td>\n",
       "      <td>157.08</td>\n",
       "    </tr>\n",
       "    <tr>\n",
       "      <th>99998</th>\n",
       "      <td>nmxp2</td>\n",
       "      <td>-2.42</td>\n",
       "      <td>2.42</td>\n",
       "      <td>-5.55</td>\n",
       "      <td>51.80</td>\n",
       "    </tr>\n",
       "    <tr>\n",
       "      <th>99999</th>\n",
       "      <td>V9kWn</td>\n",
       "      <td>-2.55</td>\n",
       "      <td>-2.03</td>\n",
       "      <td>6.09</td>\n",
       "      <td>102.78</td>\n",
       "    </tr>\n",
       "  </tbody>\n",
       "</table>\n",
       "<p>100000 rows × 5 columns</p>\n",
       "</div>"
      ],
      "text/plain": [
       "          id    f0    f1    f2  product\n",
       "0      fwXo0 -1.15  0.96 -0.83    27.76\n",
       "1      WJtFt  0.26  0.27 -2.53    56.07\n",
       "2      ovLUW  0.19  0.29 -5.59    62.87\n",
       "3      q6cA6  2.24 -0.55  0.93   114.57\n",
       "4      WPMUX -0.52  1.72  5.90   149.60\n",
       "...      ...   ...   ...   ...      ...\n",
       "99995  4GxBu -1.78  1.13  6.26   172.33\n",
       "99996  YKFjq -1.26 -0.89  2.52   138.75\n",
       "99997  tKPY3 -1.20 -2.96  5.22   157.08\n",
       "99998  nmxp2 -2.42  2.42 -5.55    51.80\n",
       "99999  V9kWn -2.55 -2.03  6.09   102.78\n",
       "\n",
       "[100000 rows x 5 columns]"
      ]
     },
     "metadata": {},
     "output_type": "display_data"
    },
    {
     "name": "stdout",
     "output_type": "stream",
     "text": [
      "\n",
      "Общая информация\n"
     ]
    },
    {
     "data": {
      "text/html": [
       "<div>\n",
       "<style scoped>\n",
       "    .dataframe tbody tr th:only-of-type {\n",
       "        vertical-align: middle;\n",
       "    }\n",
       "\n",
       "    .dataframe tbody tr th {\n",
       "        vertical-align: top;\n",
       "    }\n",
       "\n",
       "    .dataframe thead th {\n",
       "        text-align: right;\n",
       "    }\n",
       "</style>\n",
       "<table border=\"1\" class=\"dataframe\">\n",
       "  <thead>\n",
       "    <tr style=\"text-align: right;\">\n",
       "      <th></th>\n",
       "      <th>Значение</th>\n",
       "    </tr>\n",
       "  </thead>\n",
       "  <tbody>\n",
       "    <tr>\n",
       "      <th>Кол-во строк</th>\n",
       "      <td>100000</td>\n",
       "    </tr>\n",
       "    <tr>\n",
       "      <th>Кол-во признаков</th>\n",
       "      <td>5</td>\n",
       "    </tr>\n",
       "    <tr>\n",
       "      <th>Кол-во полных дубликатов</th>\n",
       "      <td>0</td>\n",
       "    </tr>\n",
       "  </tbody>\n",
       "</table>\n",
       "</div>"
      ],
      "text/plain": [
       "                          Значение\n",
       "Кол-во строк                100000\n",
       "Кол-во признаков                 5\n",
       "Кол-во полных дубликатов         0"
      ]
     },
     "metadata": {},
     "output_type": "display_data"
    },
    {
     "name": "stdout",
     "output_type": "stream",
     "text": [
      "\n",
      "Информация о признаках\n"
     ]
    },
    {
     "data": {
      "text/html": [
       "<div>\n",
       "<style scoped>\n",
       "    .dataframe tbody tr th:only-of-type {\n",
       "        vertical-align: middle;\n",
       "    }\n",
       "\n",
       "    .dataframe tbody tr th {\n",
       "        vertical-align: top;\n",
       "    }\n",
       "\n",
       "    .dataframe thead th {\n",
       "        text-align: right;\n",
       "    }\n",
       "</style>\n",
       "<table border=\"1\" class=\"dataframe\">\n",
       "  <thead>\n",
       "    <tr style=\"text-align: right;\">\n",
       "      <th></th>\n",
       "      <th>Признак</th>\n",
       "      <th>Кол-во пропусков</th>\n",
       "      <th>Кол-во уникальных</th>\n",
       "      <th>Тип</th>\n",
       "    </tr>\n",
       "  </thead>\n",
       "  <tbody>\n",
       "    <tr>\n",
       "      <th>0</th>\n",
       "      <td>id</td>\n",
       "      <td>0</td>\n",
       "      <td>99996</td>\n",
       "      <td>object</td>\n",
       "    </tr>\n",
       "    <tr>\n",
       "      <th>1</th>\n",
       "      <td>f0</td>\n",
       "      <td>0</td>\n",
       "      <td>100000</td>\n",
       "      <td>float64</td>\n",
       "    </tr>\n",
       "    <tr>\n",
       "      <th>2</th>\n",
       "      <td>f1</td>\n",
       "      <td>0</td>\n",
       "      <td>100000</td>\n",
       "      <td>float64</td>\n",
       "    </tr>\n",
       "    <tr>\n",
       "      <th>3</th>\n",
       "      <td>f2</td>\n",
       "      <td>0</td>\n",
       "      <td>100000</td>\n",
       "      <td>float64</td>\n",
       "    </tr>\n",
       "    <tr>\n",
       "      <th>4</th>\n",
       "      <td>product</td>\n",
       "      <td>0</td>\n",
       "      <td>100000</td>\n",
       "      <td>float64</td>\n",
       "    </tr>\n",
       "  </tbody>\n",
       "</table>\n",
       "</div>"
      ],
      "text/plain": [
       "   Признак  Кол-во пропусков  Кол-во уникальных      Тип\n",
       "0       id                 0              99996   object\n",
       "1       f0                 0             100000  float64\n",
       "2       f1                 0             100000  float64\n",
       "3       f2                 0             100000  float64\n",
       "4  product                 0             100000  float64"
      ]
     },
     "metadata": {},
     "output_type": "display_data"
    },
    {
     "name": "stdout",
     "output_type": "stream",
     "text": [
      "\n",
      "\n",
      "Уникальные значения признаков\n",
      "\n",
      "id\n",
      "['009Gl' '00AuD' '00CaL' ... 'zzqqy' 'zzsKd' 'zzz9h']\n",
      "\n",
      "f0\n",
      "[-8.76000362 -7.45058711 -7.18949804 ...  7.19461485  7.21552717\n",
      "  7.23826248]\n",
      "\n",
      "f1\n",
      "[-7.08401976 -6.74835677 -6.73299712 ...  7.10161842  7.76185714\n",
      "  7.84480127]\n",
      "\n",
      "f2\n",
      "[-11.97033454 -11.61169048 -11.40724351 ...  16.31301122  16.35764509\n",
      "  16.73940206]\n",
      "\n",
      "product\n",
      "[0.00000000e+00 4.60600004e-03 9.20411196e-03 ... 1.90011722e+02\n",
      " 1.90013589e+02 1.90029838e+02]\n"
     ]
    }
   ],
   "source": [
    "for key, val in dfs.items():\n",
    "    df_summary(key, val)"
   ]
  },
  {
   "cell_type": "markdown",
   "metadata": {},
   "source": [
    "**Обзор данных**\n",
    "\n",
    "1. Все три датасета состоят из 100 тыс. записей, 4-х описательных признаков и целевого признака.\n",
    "2. Во всех 3 датасетах, в незначительном количестве (от 4-х до 10-и) присутствуют записи с одинаковыми идентификационными номерами, но не являющиеся полными дубликатами, что требует уточнения. До получения уточняющей информации исключим эти записи из дальнейшего анализа."
   ]
  },
  {
   "cell_type": "code",
   "execution_count": 6,
   "metadata": {},
   "outputs": [],
   "source": [
    "for df_name, df in dfs.items():\n",
    "    df.drop_duplicates(subset='id', inplace=True)"
   ]
  },
  {
   "cell_type": "code",
   "execution_count": 7,
   "metadata": {},
   "outputs": [
    {
     "name": "stdout",
     "output_type": "stream",
     "text": [
      "df_region_1 : (99990, 5)\n",
      "df_region_2 : (99996, 5)\n",
      "df_region_3 : (99996, 5)\n"
     ]
    }
   ],
   "source": [
    "for df_name, df in dfs.items():\n",
    "    print(df_name, ':', df.shape)"
   ]
  },
  {
   "cell_type": "markdown",
   "metadata": {},
   "source": [
    "### Промежуточные выводы"
   ]
  },
  {
   "cell_type": "markdown",
   "metadata": {},
   "source": [
    "1. Данные загружены корретктно и соответсвтуют описанию задачи.\n",
    "2. Устранены записи с повторяющимися уникальными идентификационными номерами до получения уточняющей информации."
   ]
  },
  {
   "cell_type": "markdown",
   "metadata": {},
   "source": [
    "## Обучение и проверка модели"
   ]
  },
  {
   "cell_type": "markdown",
   "metadata": {},
   "source": [
    "### Подготовка данных и пайплана"
   ]
  },
  {
   "cell_type": "markdown",
   "metadata": {},
   "source": [
    "**Разделение данных на обучающую и валидационную выборки**"
   ]
  },
  {
   "cell_type": "code",
   "execution_count": 8,
   "metadata": {},
   "outputs": [],
   "source": [
    "dfs_ready_to_go = {}\n",
    "count = 1\n",
    "\n",
    "for df_name, df in dfs.items():\n",
    "    X = df.drop(['id', 'product'], axis=1)\n",
    "    y = df['product']\n",
    "    \n",
    "    # Разбиваем данные\n",
    "    X_train, X_val, y_train, y_val = train_test_split(\n",
    "        X, y, test_size=0.25, random_state=seed\n",
    "    )\n",
    "    \n",
    "    # Сохраняем результат в словарь\n",
    "    dfs_ready_to_go[f'region_{count}'] = [X_train, X_val, y_train, y_val]\n",
    "    \n",
    "    count += 1"
   ]
  },
  {
   "cell_type": "code",
   "execution_count": 9,
   "metadata": {},
   "outputs": [
    {
     "name": "stdout",
     "output_type": "stream",
     "text": [
      "region_1 (74992, 3)\n",
      "region_1 (24998, 3)\n",
      "region_1 (74992,)\n",
      "region_1 (24998,)\n",
      "region_2 (74997, 3)\n",
      "region_2 (24999, 3)\n",
      "region_2 (74997,)\n",
      "region_2 (24999,)\n",
      "region_3 (74997, 3)\n",
      "region_3 (24999, 3)\n",
      "region_3 (74997,)\n",
      "region_3 (24999,)\n"
     ]
    }
   ],
   "source": [
    "for region, dfs in dfs_ready_to_go.items():\n",
    "    for i in range(0, len(dfs)):\n",
    "        print(region, dfs[i].shape)"
   ]
  },
  {
   "cell_type": "markdown",
   "metadata": {},
   "source": [
    "**Пайплайн подготовки данных**"
   ]
  },
  {
   "cell_type": "code",
   "execution_count": 10,
   "metadata": {},
   "outputs": [],
   "source": [
    "num_cols = ['f0', 'f1', 'f2']"
   ]
  },
  {
   "cell_type": "code",
   "execution_count": 11,
   "metadata": {},
   "outputs": [],
   "source": [
    "num_pipe = Pipeline([\n",
    "        ('simpleimputer_before',\n",
    "         SimpleImputer(\n",
    "             missing_values=np.nan, \n",
    "             strategy='most_frequent')\n",
    "        ),\n",
    "        ('encoder', None\n",
    "        ),\n",
    "        ('simpleimputer_after',\n",
    "         SimpleImputer(\n",
    "             missing_values=np.nan, \n",
    "             strategy='most_frequent')\n",
    "        ),\n",
    "])"
   ]
  },
  {
   "cell_type": "code",
   "execution_count": 12,
   "metadata": {},
   "outputs": [],
   "source": [
    "data_preprocessor = ColumnTransformer([\n",
    "        ('num', num_pipe, num_cols)], \n",
    "        remainder = 'passthrough'\n",
    ")"
   ]
  },
  {
   "cell_type": "code",
   "execution_count": 13,
   "metadata": {},
   "outputs": [],
   "source": [
    "pipe_final = Pipeline([\n",
    "        ('preprocessor', data_preprocessor),\n",
    "        ('models', None)\n",
    "])"
   ]
  },
  {
   "cell_type": "markdown",
   "metadata": {},
   "source": [
    "**Подготовка данных и пайплайна**\n",
    "\n",
    "1. Данные разделены на тренировочные (0.75) и валидационные (0.25) выброрки\n",
    "2. Создан пайплайн подготовки данных"
   ]
  },
  {
   "cell_type": "markdown",
   "metadata": {},
   "source": [
    "### Метрика\n"
   ]
  },
  {
   "cell_type": "code",
   "execution_count": 14,
   "metadata": {},
   "outputs": [],
   "source": [
    "rmse_scorer = make_scorer(root_mean_squared_error, greater_is_better=False)"
   ]
  },
  {
   "cell_type": "markdown",
   "metadata": {},
   "source": [
    "**Метрика**\n",
    "\n",
    "Метрика RMSE определена заказчиком."
   ]
  },
  {
   "cell_type": "markdown",
   "metadata": {},
   "source": [
    "### Дамми модель (DummyRegression)"
   ]
  },
  {
   "cell_type": "code",
   "execution_count": 15,
   "metadata": {},
   "outputs": [
    {
     "name": "stdout",
     "output_type": "stream",
     "text": [
      "Регион 1\n",
      "RMSE на валидационной выборке = 44.25\n",
      "Регион 2\n",
      "RMSE на валидационной выборке = 45.96\n",
      "Регион 3\n",
      "RMSE на валидационной выборке = 44.67\n"
     ]
    }
   ],
   "source": [
    "count = 1\n",
    "\n",
    "for region, dfs in dfs_ready_to_go.items():\n",
    "    X_train = dfs[0]\n",
    "    X_val = dfs[1]\n",
    "    y_train = dfs[2]\n",
    "    y_val = dfs[3]\n",
    "    \n",
    "    dummy_model = DummyRegressor(\n",
    "        strategy='mean'\n",
    "    )\n",
    "    dummy_model.fit(X_train, y_train)\n",
    "\n",
    "    # предсказание на тестовых данных\n",
    "    dummy_model_preds = dummy_model.predict(X_val)\n",
    "\n",
    "    # оценка качества модели по метрике rmse\n",
    "    rmse_score = root_mean_squared_error(y_val, dummy_model_preds)\n",
    "\n",
    "    print(f'Регион {count}')\n",
    "    print('RMSE на валидационной выборке =', round(rmse_score, 2))\n",
    "    \n",
    "    count += 1"
   ]
  },
  {
   "cell_type": "markdown",
   "metadata": {},
   "source": [
    "**Дамми модель**\n",
    "\n",
    "1. DummyRegression обучена с целью предоставления базового уровня качества модели\n",
    "2. Используемая стратегия: 'mean'\n",
    "3. Модель демонстрирует значение RMSE:\n",
    "    - регион 1 = 44.25\n",
    "    - регион 2 = 45.96\n",
    "    - регион 3 = 44.67"
   ]
  },
  {
   "cell_type": "markdown",
   "metadata": {},
   "source": [
    "### Обучение модели и оценка результатов"
   ]
  },
  {
   "cell_type": "markdown",
   "metadata": {},
   "source": [
    "**Сетка гиперпараметров**"
   ]
  },
  {
   "cell_type": "code",
   "execution_count": 16,
   "metadata": {},
   "outputs": [],
   "source": [
    "# гиперпараметры для RandomizedSearchCV\n",
    "params_grid = [\n",
    "    {\n",
    "        'preprocessor': [StandardScaler(), MinMaxScaler(), RobustScaler(), 'passthrough'],  \n",
    "        'models': [LinearRegression()]\n",
    "    },\n",
    "    {\n",
    "        'preprocessor': [StandardScaler(), MinMaxScaler(), RobustScaler(), 'passthrough'],\n",
    "        'models': [Lasso(random_state=seed)],\n",
    "        'models__alpha': np.arange(0.1, 1.0, 0.1)\n",
    "    },\n",
    "    {\n",
    "        'preprocessor': [StandardScaler(), MinMaxScaler(), RobustScaler(), 'passthrough'],  \n",
    "        'models': [Ridge(random_state=seed)],\n",
    "        'models__alpha': np.arange(0.1, 1.0, 0.1)\n",
    "    }\n",
    "] "
   ]
  },
  {
   "cell_type": "markdown",
   "metadata": {},
   "source": [
    "**Обучение моделей и прогнозирование**"
   ]
  },
  {
   "cell_type": "code",
   "execution_count": 17,
   "metadata": {},
   "outputs": [],
   "source": [
    "rs = RandomizedSearchCV(\n",
    "    pipe_final, \n",
    "    params_grid, \n",
    "    cv = 5,\n",
    "    scoring=rmse_scorer,\n",
    "    n_jobs=-1\n",
    ")"
   ]
  },
  {
   "cell_type": "code",
   "execution_count": 18,
   "metadata": {},
   "outputs": [
    {
     "data": {
      "text/html": [
       "<div>\n",
       "<style scoped>\n",
       "    .dataframe tbody tr th:only-of-type {\n",
       "        vertical-align: middle;\n",
       "    }\n",
       "\n",
       "    .dataframe tbody tr th {\n",
       "        vertical-align: top;\n",
       "    }\n",
       "\n",
       "    .dataframe thead th {\n",
       "        text-align: right;\n",
       "    }\n",
       "</style>\n",
       "<table border=\"1\" class=\"dataframe\">\n",
       "  <thead>\n",
       "    <tr style=\"text-align: right;\">\n",
       "      <th></th>\n",
       "      <th>Регион 1</th>\n",
       "      <th>Регион 2</th>\n",
       "      <th>Регион 3</th>\n",
       "    </tr>\n",
       "  </thead>\n",
       "  <tbody>\n",
       "    <tr>\n",
       "      <th>Средний объем запасов нефти в скважине, тыс. баррелей</th>\n",
       "      <td>92.60</td>\n",
       "      <td>68.60</td>\n",
       "      <td>94.90</td>\n",
       "    </tr>\n",
       "    <tr>\n",
       "      <th>RMSE (train)</th>\n",
       "      <td>37.70</td>\n",
       "      <td>0.90</td>\n",
       "      <td>40.00</td>\n",
       "    </tr>\n",
       "    <tr>\n",
       "      <th>RMSE (val)</th>\n",
       "      <td>37.70</td>\n",
       "      <td>0.90</td>\n",
       "      <td>40.10</td>\n",
       "    </tr>\n",
       "    <tr>\n",
       "      <th>Средняя ошибка модели (val), %</th>\n",
       "      <td>40.70</td>\n",
       "      <td>1.30</td>\n",
       "      <td>42.30</td>\n",
       "    </tr>\n",
       "  </tbody>\n",
       "</table>\n",
       "</div>"
      ],
      "text/plain": [
       "                                                    Регион 1  Регион 2  \\\n",
       "Средний объем запасов нефти в скважине, тыс. ба...     92.60     68.60   \n",
       "RMSE (train)                                           37.70      0.90   \n",
       "RMSE (val)                                             37.70      0.90   \n",
       "Средняя ошибка модели (val), %                         40.70      1.30   \n",
       "\n",
       "                                                    Регион 3  \n",
       "Средний объем запасов нефти в скважине, тыс. ба...     94.90  \n",
       "RMSE (train)                                           40.00  \n",
       "RMSE (val)                                             40.10  \n",
       "Средняя ошибка модели (val), %                         42.30  "
      ]
     },
     "execution_count": 18,
     "metadata": {},
     "output_type": "execute_result"
    }
   ],
   "source": [
    "rss = {\n",
    "    'region_1_rs': None,\n",
    "    'region_2_rs': None,\n",
    "    'region_3_rs': None\n",
    "}\n",
    "\n",
    "results = {}\n",
    "\n",
    "count = 1\n",
    "\n",
    "\n",
    "for region, dfs in dfs_ready_to_go.items():\n",
    "    X_train = dfs[0]\n",
    "    X_val = dfs[1]\n",
    "    y_train = dfs[2]\n",
    "    y_val = dfs[3]\n",
    "    \n",
    "    # Обучим и предскажем\n",
    "    rs.fit(X_train, y_train)\n",
    "    y_pred = rs.predict(X_val)\n",
    "    \n",
    "    # Добавляем столбцы с фактами и предсказаниями только после предсказаний\n",
    "    X_val['fact'] = y_val   \n",
    "    X_val['prediction'] = y_pred   \n",
    "\n",
    "    # Посчитаем метрики\n",
    "    rmse_train = round(rs.best_score_, 1) * -1\n",
    "    rmse_val = round(root_mean_squared_error(y_val, y_pred), 1)\n",
    "    mean_oil_reserve = round(y_pred.mean(), 1)\n",
    "    mean_error_percent = round(rmse_val / mean_oil_reserve * 100, 1)\n",
    "    \n",
    "    # Сохранение результатов для текущего региона\n",
    "    results[f'Регион {count}'] = {\n",
    "        'Средний объем запасов нефти в скважине, тыс. баррелей': mean_oil_reserve,\n",
    "        'RMSE (train)': rmse_train,\n",
    "        'RMSE (val)': rmse_val,\n",
    "        'Средняя ошибка модели (val), %': mean_error_percent\n",
    "    }\n",
    "    \n",
    "    \n",
    "    \n",
    "    # Сохраним rs объекты в словарь\n",
    "    if count == 1:\n",
    "        rss['region_1_rs'] = rs\n",
    "    elif count == 2:\n",
    "        rss['region_2_rs'] = rs\n",
    "    else:\n",
    "        rss['region_3_rs'] = rs\n",
    "    \n",
    "    count += 1\n",
    "    \n",
    "results_df = pd.DataFrame(results)\n",
    "results_df"
   ]
  },
  {
   "cell_type": "markdown",
   "metadata": {},
   "source": [
    "**Обучение модели и оценка результатов**\n",
    "\n",
    "1. Модель линейной регрессии определена заказчиком\n",
    "2. Для моделей LinearRegression, Lasso и Ridge определена сетка гиперпараметров:\n",
    "    - этап подготовки данных (нормализация): StandardScaler, MinMaxScaler и RobustScaler\n",
    "    - гиперпарамтры моделей Lasso и Ridge: `alpha` в диапазоне от 0.1 до 1 с шагом 0.1\n",
    "3. Лучшая модель и гиперпараметры подобраны с помощью RandomizedSearchCV\n",
    "4. В результате, для каждого региона:\n",
    "\n",
    "    - определена и обучена лучшая модель\n",
    "    - спрогнозированы объемы запасов нефти в каждой скважине\n",
    "    - определены значения метрики RMSE на тренировочной и влидационной выборках\n",
    "    - определен средни1 запас нефти в скважинах\n",
    "5. В среднем в регионе 2 приходится меньше всего запасов нефти на свкажину - 69 тыс. баррелей против 93 и 95 тыс. баррелей в регионах 1 и 3 соотвесттвенно. Лучше всего модель справляется с прогнозом во втором регионе - значение RMSE составляет 1 тысяча баррелей или ~1,3% от среднего значения запаса в скважинах против ~41% и ~43% в регионах 1 и 3 соответственно."
   ]
  },
  {
   "cell_type": "markdown",
   "metadata": {},
   "source": [
    "### Промежуточные выводы"
   ]
  },
  {
   "cell_type": "markdown",
   "metadata": {},
   "source": [
    "**1. Подготовка данных и пайплайна**\n",
    "- Данные разделены на тренировочные (75%) и валидационные (25%) выборки.\n",
    "- Создан пайплайн для подготовки данных.\n",
    "\n",
    "**2. Метрика**\n",
    "- Метрика RMSE выбрана в соответствии с требованиями заказчика.\n",
    "\n",
    "**3. Дамми модель**\n",
    "- Для базовой оценки качества моделей обучена DummyRegression с использованием стратегии `mean`.\n",
    "- Результаты RMSE для DummyRegression:\n",
    "  - Регион 1: 44.25\n",
    "  - Регион 2: 45.96\n",
    "  - Регион 3: 44.67\n",
    "\n",
    "**4. Обучение модели и оценка результатов**\n",
    "- Заказчиком определено использование модели линейной регрессии.\n",
    "- Для моделей LinearRegression, Lasso и Ridge подобраны гиперпараметры с использованием RandomizedSearchCV:\n",
    "  - Этап нормализации данных: StandardScaler, MinMaxScaler, RobustScaler.\n",
    "  - Гиперпараметры для Lasso и Ridge: значение `alpha` в диапазоне от 0.1 до 1 с шагом 0.1.\n",
    "- Итоги обучения моделей:\n",
    "  - Для каждого региона определена лучшая модель и соответствующие гиперпараметры.\n",
    "  - Выполнено прогнозирование объемов запасов нефти в каждой скважине.\n",
    "  - Вычислены значения метрики RMSE на тренировочной и валидационной выборках.\n",
    "  - Определены средние запасы нефти на скважину.\n",
    "- Основные результаты:\n",
    "  - Регион 2 обладает наименьшим средним запасом нефти на скважину — 69 тыс. баррелей против 93 и 95 тыс. баррелей в регионах 1 и 3 соответственно.\n",
    "  - Модель наиболее успешно прогнозирует запасы нефти в регионе 2 — RMSE составляет всего 1 тыс. баррелей (~1.3% от среднего запаса в скважинах), в то время как в регионах 1 и 3 RMSE составляет около 41% и 43% от среднего значения запаса соответственно.\n",
    "  - Прогнозные значения моделей лучше прогнозов дамми моделей. Применение моделей обосновано."
   ]
  },
  {
   "cell_type": "markdown",
   "metadata": {},
   "source": [
    "## Подготовка к расчёту прибыли"
   ]
  },
  {
   "cell_type": "markdown",
   "metadata": {},
   "source": [
    "**Входные данные**"
   ]
  },
  {
   "cell_type": "code",
   "execution_count": 19,
   "metadata": {},
   "outputs": [],
   "source": [
    "# кол-во исследуемых скважин\n",
    "NUM_OF_WELLS_FOR_RESEARCH = 500\n",
    "\n",
    "# кол-во скважин к разработке\n",
    "NUM_OF_WELLS_FOR_DEVELOPMENT = 200\n",
    "\n",
    "# бюджет на разработку скважин\n",
    "BUDGET_RUB = 10_000_000_000\n",
    "\n",
    "# цена реализации 1000 баррелей\n",
    "INCOME_PER_UNIT_RUB = 450_000\n",
    "\n",
    "# доверителтельный интервал\n",
    "CONFIDENCE_INTERVAL = 0.95"
   ]
  },
  {
   "cell_type": "markdown",
   "metadata": {},
   "source": [
    "**Порог безубыточности скважины, тыс. баррелей**"
   ]
  },
  {
   "cell_type": "code",
   "execution_count": 20,
   "metadata": {},
   "outputs": [
    {
     "name": "stdout",
     "output_type": "stream",
     "text": [
      "Минимальное количество баррелей в скважине для безубыточной разработки 200 скважин 111 тыс. баррелей\n"
     ]
    }
   ],
   "source": [
    "break_even_threshold_rub = BUDGET_RUB / NUM_OF_WELLS_FOR_DEVELOPMENT / INCOME_PER_UNIT_RUB\n",
    "\n",
    "print(\n",
    "    'Минимальное количество баррелей в скважине для безубыточной разработки 200 скважин',\n",
    "    round(break_even_threshold_rub),\n",
    "    'тыс. баррелей'\n",
    ")"
   ]
  },
  {
   "cell_type": "markdown",
   "metadata": {},
   "source": [
    "### Промежуточные выводы"
   ]
  },
  {
   "cell_type": "markdown",
   "metadata": {},
   "source": [
    "1. Все ключевые значения для расчётов сохранены в отдельных переменных\n",
    "    - количество исследуемых скважин - 500 шт.\n",
    "    - количество скважин к разработке - 200 шт.\n",
    "    - бюджет - 10 млрд. руб.\n",
    "    - выручка за 1 тысю баррелей - 450 тыс. руб.\n",
    "    - значение доверительного интервала - 95%\n",
    "2. Рассчитан достаточный объём сырья для безубыточной разработки новой скважины - 111 тыс. баррелей, что выше средних значений полученных в результате прогноза: ~93, ~69 и ~95 тыс. баррелей в регионах 1, 2 и 3 соответственно"
   ]
  },
  {
   "cell_type": "markdown",
   "metadata": {},
   "source": [
    "## Расчёт прибыли и рисков "
   ]
  },
  {
   "cell_type": "markdown",
   "metadata": {},
   "source": [
    "**Функция для расчет прибыли**"
   ]
  },
  {
   "cell_type": "code",
   "execution_count": 21,
   "metadata": {},
   "outputs": [],
   "source": [
    "def profit(prediction, count):\n",
    "    wells_sorted = prediction[['fact', 'prediction']].sort_values(by='prediction', ascending=False)\n",
    "    selected = wells_sorted['fact'][:count]\n",
    "    return round(INCOME_PER_UNIT_RUB * selected.sum() - BUDGET_RUB)"
   ]
  },
  {
   "cell_type": "markdown",
   "metadata": {},
   "source": [
    "**Расчет максимально возможной прибыли**"
   ]
  },
  {
   "cell_type": "code",
   "execution_count": 22,
   "metadata": {},
   "outputs": [
    {
     "name": "stdout",
     "output_type": "stream",
     "text": [
      "Максимально возможная прибыль в регионе 1 по топ 200 скважинам составляет 3.5 млрд. рублей\n",
      "Максимально возможная прибыль в регионе 2 по топ 200 скважинам составляет 2.4 млрд. рублей\n",
      "Максимально возможная прибыль в регионе 3 по топ 200 скважинам составляет 2.4 млрд. рублей\n"
     ]
    }
   ],
   "source": [
    "count = 1\n",
    "\n",
    "for region, dfs in dfs_ready_to_go.items():\n",
    "    total_profit = profit(dfs[1][['fact', 'prediction']], 200)\n",
    "    \n",
    "    print(\n",
    "        f'Максимально возможная прибыль в регионе {count} по топ 200 скважинам составляет',\n",
    "        round(total_profit / 1_000_000_000, 1),\n",
    "        'млрд. рублей'\n",
    "    )\n",
    "    \n",
    "    count += 1"
   ]
  },
  {
   "cell_type": "markdown",
   "metadata": {},
   "source": [
    "### Промежуточные выводы"
   ]
  },
  {
   "cell_type": "markdown",
   "metadata": {},
   "source": [
    "Для каждого региона определена максимально возможная прибыль от разработки 200 скважин с максимальными запасами нефти определнные по результатам прогноза:\n",
    "   - регион 1 - 3.5 млрд. руб.\n",
    "   - регион 2 - 2,4 млрд. руб.\n",
    "   - регион 3 - 2,4 млрд. руб."
   ]
  },
  {
   "cell_type": "markdown",
   "metadata": {},
   "source": [
    "## Риски и прибыль"
   ]
  },
  {
   "cell_type": "markdown",
   "metadata": {},
   "source": [
    "**Статистический анализ средней прибыли и риска получить убыток для каждого региона методом bootstrap**"
   ]
  },
  {
   "cell_type": "code",
   "execution_count": 23,
   "metadata": {},
   "outputs": [
    {
     "data": {
      "text/html": [
       "<div>\n",
       "<style scoped>\n",
       "    .dataframe tbody tr th:only-of-type {\n",
       "        vertical-align: middle;\n",
       "    }\n",
       "\n",
       "    .dataframe tbody tr th {\n",
       "        vertical-align: top;\n",
       "    }\n",
       "\n",
       "    .dataframe thead th {\n",
       "        text-align: right;\n",
       "    }\n",
       "</style>\n",
       "<table border=\"1\" class=\"dataframe\">\n",
       "  <thead>\n",
       "    <tr style=\"text-align: right;\">\n",
       "      <th></th>\n",
       "      <th>Регион 1</th>\n",
       "      <th>Регион 2</th>\n",
       "      <th>Регион 3</th>\n",
       "    </tr>\n",
       "  </thead>\n",
       "  <tbody>\n",
       "    <tr>\n",
       "      <th>Средняя прибыль, руб.</th>\n",
       "      <td>402_752_815.00</td>\n",
       "      <td>440_177_804.00</td>\n",
       "      <td>368_939_058.00</td>\n",
       "    </tr>\n",
       "    <tr>\n",
       "      <th>Нижняя граница дов. интервала (2.5%) прибыли, руб.</th>\n",
       "      <td>-125_136_014.00</td>\n",
       "      <td>28_219_414.00</td>\n",
       "      <td>-171_243_342.00</td>\n",
       "    </tr>\n",
       "    <tr>\n",
       "      <th>Верхняя граница дов. интервала (97.5%) прибыли, руб.</th>\n",
       "      <td>387_219_454.00</td>\n",
       "      <td>423_869_443.00</td>\n",
       "      <td>354_297_755.00</td>\n",
       "    </tr>\n",
       "    <tr>\n",
       "      <th>Риск убытка, %</th>\n",
       "      <td>6.10</td>\n",
       "      <td>1.70</td>\n",
       "      <td>8.60</td>\n",
       "    </tr>\n",
       "  </tbody>\n",
       "</table>\n",
       "</div>"
      ],
      "text/plain": [
       "                                                          Регион 1  \\\n",
       "Средняя прибыль, руб.                               402_752_815.00   \n",
       "Нижняя граница дов. интервала (2.5%) прибыли, руб. -125_136_014.00   \n",
       "Верхняя граница дов. интервала (97.5%) прибыли,...  387_219_454.00   \n",
       "Риск убытка, %                                                6.10   \n",
       "\n",
       "                                                         Регион 2  \\\n",
       "Средняя прибыль, руб.                              440_177_804.00   \n",
       "Нижняя граница дов. интервала (2.5%) прибыли, руб.  28_219_414.00   \n",
       "Верхняя граница дов. интервала (97.5%) прибыли,... 423_869_443.00   \n",
       "Риск убытка, %                                               1.70   \n",
       "\n",
       "                                                          Регион 3  \n",
       "Средняя прибыль, руб.                               368_939_058.00  \n",
       "Нижняя граница дов. интервала (2.5%) прибыли, руб. -171_243_342.00  \n",
       "Верхняя граница дов. интервала (97.5%) прибыли,...  354_297_755.00  \n",
       "Риск убытка, %                                                8.60  "
      ]
     },
     "execution_count": 23,
     "metadata": {},
     "output_type": "execute_result"
    }
   ],
   "source": [
    "count = 1\n",
    "results = {}\n",
    "\n",
    "for region, dfs in dfs_ready_to_go.items():\n",
    "    profits = []\n",
    "    \n",
    "    # Генерация прибылей с бутстрэпом\n",
    "    for i in range(1000):\n",
    "        subsample = dfs[1][['fact', 'prediction']].sample(\n",
    "            n=500,\n",
    "            replace=False,\n",
    "            random_state=state\n",
    "        )\n",
    "        profits.append(profit(subsample, 200))\n",
    "    \n",
    "    # Преобразование прибылей в Series\n",
    "    profits = pd.Series(profits)\n",
    "    mean = round(profits.mean())\n",
    "    lower = round(profits.quantile((1-CONFIDENCE_INTERVAL) / 2))\n",
    "    upper = round(profits.quantile(1-(1-CONFIDENCE_INTERVAL / 2)))\n",
    "    \n",
    "    # Определение отрицательных элементов\n",
    "    negative_ratio = (profits < 0).mean() * 100\n",
    "    \n",
    "    # Сохранение результатов для текущего региона\n",
    "    results[f'Регион {count}'] = {\n",
    "        'Средняя прибыль, руб.': mean,\n",
    "        'Нижняя граница дов. интервала (2.5%) прибыли, руб.': lower,\n",
    "        'Верхняя граница дов. интервала (97.5%) прибыли, руб.': upper,\n",
    "        'Риск убытка, %': negative_ratio\n",
    "    }\n",
    "    \n",
    "    count += 1\n",
    "\n",
    "# Преобразование в DataFrame, где регионы — столбцы\n",
    "results_df = pd.DataFrame(results)\n",
    "results_df"
   ]
  },
  {
   "cell_type": "markdown",
   "metadata": {},
   "source": [
    "### Промежуточные выводы"
   ]
  },
  {
   "cell_type": "markdown",
   "metadata": {},
   "source": [
    "1. Для каждого региона методом bootstrap сформированы 1000 подвыборок размером 500 скважин каждая из которых случайным образом отобрано по 200 скважин с максимальными запасами нефти спрогнозированные моделью по которым расчитаны:\n",
    "   - средняя прибыль\n",
    "   - прибыль на границах доверительных интервалов (2,5 и 97,5 квантили)\n",
    "   - вероятность получения убытка\n",
    "2. Максимальная средняя прибыль, и минимальная вероятность получить убыток оказались в регионе 2: ~441 млн. руб. и ~2% соответственно. В 1 и 2 регионах вероятность понести убытки ~>7%, средняя прибыль ~369 и ~362 млн. руб. соотвествтенно.\n",
    "3. К разработке рекомендован регион 2 по причине наивысшей потенциальной доходности (441 млн. руб.) и наименьшего риска понести убытк (2%)."
   ]
  }
 ],
 "metadata": {
  "ExecuteTimeLog": [
   {
    "duration": 15358,
    "start_time": "2025-01-03T12:44:23.548Z"
   },
   {
    "duration": 2093,
    "start_time": "2025-01-03T12:45:14.155Z"
   },
   {
    "duration": 1281,
    "start_time": "2025-01-03T12:48:05.388Z"
   },
   {
    "duration": 28,
    "start_time": "2025-01-03T12:48:24.196Z"
   },
   {
    "duration": 101,
    "start_time": "2025-01-03T12:48:55.770Z"
   },
   {
    "duration": 7,
    "start_time": "2025-01-03T12:50:49.801Z"
   },
   {
    "duration": 1014,
    "start_time": "2025-01-03T12:50:59.710Z"
   },
   {
    "duration": 7,
    "start_time": "2025-01-03T12:53:45.081Z"
   },
   {
    "duration": 31,
    "start_time": "2025-01-03T13:00:41.278Z"
   },
   {
    "duration": 7,
    "start_time": "2025-01-03T13:01:14.484Z"
   },
   {
    "duration": 924,
    "start_time": "2025-01-03T13:01:15.165Z"
   },
   {
    "duration": 143,
    "start_time": "2025-01-03T13:02:22.587Z"
   },
   {
    "duration": 63,
    "start_time": "2025-01-03T13:02:28.587Z"
   },
   {
    "duration": 21,
    "start_time": "2025-01-03T13:02:57.013Z"
   },
   {
    "duration": 16,
    "start_time": "2025-01-03T13:03:02.397Z"
   },
   {
    "duration": 63,
    "start_time": "2025-01-03T13:04:12.962Z"
   },
   {
    "duration": 15,
    "start_time": "2025-01-03T13:04:13.347Z"
   },
   {
    "duration": 2,
    "start_time": "2025-01-03T13:04:32.249Z"
   },
   {
    "duration": 4,
    "start_time": "2025-01-03T13:04:50.483Z"
   },
   {
    "duration": 4,
    "start_time": "2025-01-03T13:05:10.347Z"
   },
   {
    "duration": 4,
    "start_time": "2025-01-03T13:05:19.849Z"
   },
   {
    "duration": 4,
    "start_time": "2025-01-03T13:05:23.386Z"
   },
   {
    "duration": 11,
    "start_time": "2025-01-03T13:09:52.475Z"
   },
   {
    "duration": 13,
    "start_time": "2025-01-03T13:13:18.963Z"
   },
   {
    "duration": 12,
    "start_time": "2025-01-03T13:13:32.236Z"
   },
   {
    "duration": 12,
    "start_time": "2025-01-03T13:13:47.988Z"
   },
   {
    "duration": 6,
    "start_time": "2025-01-03T13:14:36.215Z"
   },
   {
    "duration": 48,
    "start_time": "2025-01-03T13:14:42.467Z"
   },
   {
    "duration": 8098,
    "start_time": "2025-01-03T13:15:05.556Z"
   },
   {
    "duration": 1805,
    "start_time": "2025-01-03T13:15:13.656Z"
   },
   {
    "duration": 1070,
    "start_time": "2025-01-03T13:15:15.462Z"
   },
   {
    "duration": 41,
    "start_time": "2025-01-03T13:15:16.534Z"
   },
   {
    "duration": 7,
    "start_time": "2025-01-03T13:15:16.577Z"
   },
   {
    "duration": 971,
    "start_time": "2025-01-03T13:15:16.585Z"
   },
   {
    "duration": 63,
    "start_time": "2025-01-03T13:15:17.558Z"
   },
   {
    "duration": 4,
    "start_time": "2025-01-03T13:15:17.638Z"
   },
   {
    "duration": 171,
    "start_time": "2025-01-03T13:15:17.644Z"
   },
   {
    "duration": 92,
    "start_time": "2025-01-03T13:16:38.365Z"
   },
   {
    "duration": 163,
    "start_time": "2025-01-03T13:17:19.918Z"
   },
   {
    "duration": 159,
    "start_time": "2025-01-03T13:17:35.818Z"
   },
   {
    "duration": 118,
    "start_time": "2025-01-03T13:18:19.835Z"
   },
   {
    "duration": 23,
    "start_time": "2025-01-03T13:20:24.971Z"
   },
   {
    "duration": 21,
    "start_time": "2025-01-03T13:20:31.888Z"
   },
   {
    "duration": 473,
    "start_time": "2025-01-03T13:20:53.850Z"
   },
   {
    "duration": 458,
    "start_time": "2025-01-03T13:22:43.885Z"
   },
   {
    "duration": 86,
    "start_time": "2025-01-03T13:24:03.435Z"
   },
   {
    "duration": 474,
    "start_time": "2025-01-03T13:28:46.989Z"
   },
   {
    "duration": 22,
    "start_time": "2025-01-03T13:30:27.690Z"
   },
   {
    "duration": 45,
    "start_time": "2025-01-03T13:31:12.508Z"
   },
   {
    "duration": 17,
    "start_time": "2025-01-03T13:31:27.059Z"
   },
   {
    "duration": 38,
    "start_time": "2025-01-03T13:31:34.131Z"
   },
   {
    "duration": 8104,
    "start_time": "2025-01-03T13:31:42.995Z"
   },
   {
    "duration": 1778,
    "start_time": "2025-01-03T13:31:51.101Z"
   },
   {
    "duration": 1013,
    "start_time": "2025-01-03T13:31:52.880Z"
   },
   {
    "duration": 43,
    "start_time": "2025-01-03T13:31:53.895Z"
   },
   {
    "duration": 7,
    "start_time": "2025-01-03T13:31:53.939Z"
   },
   {
    "duration": 895,
    "start_time": "2025-01-03T13:31:53.947Z"
   },
   {
    "duration": 62,
    "start_time": "2025-01-03T13:31:54.843Z"
   },
   {
    "duration": 3,
    "start_time": "2025-01-03T13:31:54.907Z"
   },
   {
    "duration": 47,
    "start_time": "2025-01-03T13:31:54.912Z"
   },
   {
    "duration": 36,
    "start_time": "2025-01-03T13:32:23.556Z"
   },
   {
    "duration": 25,
    "start_time": "2025-01-03T13:32:32.412Z"
   },
   {
    "duration": 5,
    "start_time": "2025-01-03T13:36:42.128Z"
   },
   {
    "duration": 141,
    "start_time": "2025-01-03T13:36:47.208Z"
   },
   {
    "duration": 3,
    "start_time": "2025-01-03T13:36:49.119Z"
   },
   {
    "duration": 4,
    "start_time": "2025-01-03T13:36:51.741Z"
   },
   {
    "duration": 3,
    "start_time": "2025-01-03T13:37:26.961Z"
   },
   {
    "duration": 16,
    "start_time": "2025-01-03T13:37:44.849Z"
   },
   {
    "duration": 106,
    "start_time": "2025-01-03T13:38:21.488Z"
   },
   {
    "duration": 11,
    "start_time": "2025-01-03T13:38:29.611Z"
   },
   {
    "duration": 3,
    "start_time": "2025-01-03T13:38:40.572Z"
   },
   {
    "duration": 57,
    "start_time": "2025-01-03T13:38:47.381Z"
   },
   {
    "duration": 74,
    "start_time": "2025-01-03T13:39:14.901Z"
   },
   {
    "duration": 25,
    "start_time": "2025-01-03T13:39:51.819Z"
   },
   {
    "duration": 6,
    "start_time": "2025-01-03T13:40:00.452Z"
   },
   {
    "duration": 33,
    "start_time": "2025-01-03T13:41:49.499Z"
   },
   {
    "duration": 5,
    "start_time": "2025-01-03T13:41:49.873Z"
   },
   {
    "duration": 3,
    "start_time": "2025-01-03T13:42:27.743Z"
   },
   {
    "duration": 13,
    "start_time": "2025-01-03T14:03:00.395Z"
   },
   {
    "duration": 6,
    "start_time": "2025-01-03T14:03:32.458Z"
   },
   {
    "duration": 4,
    "start_time": "2025-01-03T14:04:40.152Z"
   },
   {
    "duration": 5,
    "start_time": "2025-01-03T14:05:04.643Z"
   },
   {
    "duration": 4,
    "start_time": "2025-01-03T14:05:26.113Z"
   },
   {
    "duration": 12,
    "start_time": "2025-01-03T14:06:26.395Z"
   },
   {
    "duration": 15336,
    "start_time": "2025-01-03T14:06:45.618Z"
   },
   {
    "duration": 50,
    "start_time": "2025-01-03T14:07:00.956Z"
   },
   {
    "duration": 1067,
    "start_time": "2025-01-03T14:07:04.815Z"
   },
   {
    "duration": 6,
    "start_time": "2025-01-03T14:09:50.824Z"
   },
   {
    "duration": 6,
    "start_time": "2025-01-03T14:09:55.180Z"
   },
   {
    "duration": 5,
    "start_time": "2025-01-03T14:09:59.801Z"
   },
   {
    "duration": 5,
    "start_time": "2025-01-03T14:10:09.210Z"
   },
   {
    "duration": 7,
    "start_time": "2025-01-03T14:13:56.619Z"
   },
   {
    "duration": 4,
    "start_time": "2025-01-03T14:14:04.631Z"
   },
   {
    "duration": 24,
    "start_time": "2025-01-03T14:15:23.082Z"
   },
   {
    "duration": 12,
    "start_time": "2025-01-03T14:18:11.877Z"
   },
   {
    "duration": 8,
    "start_time": "2025-01-03T14:18:23.012Z"
   },
   {
    "duration": 4,
    "start_time": "2025-01-03T14:18:38.062Z"
   },
   {
    "duration": 16,
    "start_time": "2025-01-03T14:19:51.014Z"
   },
   {
    "duration": 15,
    "start_time": "2025-01-03T14:19:56.198Z"
   },
   {
    "duration": 17,
    "start_time": "2025-01-03T14:20:21.953Z"
   },
   {
    "duration": 15,
    "start_time": "2025-01-03T14:20:50.103Z"
   },
   {
    "duration": 17,
    "start_time": "2025-01-03T14:22:00.258Z"
   },
   {
    "duration": 13,
    "start_time": "2025-01-03T14:22:45.881Z"
   },
   {
    "duration": 5,
    "start_time": "2025-01-03T14:22:52.381Z"
   },
   {
    "duration": 7,
    "start_time": "2025-01-03T14:22:57.172Z"
   },
   {
    "duration": 7,
    "start_time": "2025-01-03T14:23:31.410Z"
   },
   {
    "duration": 7,
    "start_time": "2025-01-03T14:23:42.266Z"
   },
   {
    "duration": 14,
    "start_time": "2025-01-03T14:25:59.241Z"
   },
   {
    "duration": 7,
    "start_time": "2025-01-03T14:26:06.419Z"
   },
   {
    "duration": 41,
    "start_time": "2025-01-03T14:28:23.367Z"
   },
   {
    "duration": 12,
    "start_time": "2025-01-03T14:30:09.892Z"
   },
   {
    "duration": 4,
    "start_time": "2025-01-03T14:30:12.539Z"
   },
   {
    "duration": 11,
    "start_time": "2025-01-03T14:30:13.059Z"
   },
   {
    "duration": 2,
    "start_time": "2025-01-03T14:30:58.903Z"
   },
   {
    "duration": 4,
    "start_time": "2025-01-03T14:30:59.280Z"
   },
   {
    "duration": 3,
    "start_time": "2025-01-03T14:30:59.573Z"
   },
   {
    "duration": 11,
    "start_time": "2025-01-03T14:40:11.743Z"
   },
   {
    "duration": 4,
    "start_time": "2025-01-03T14:40:32.232Z"
   },
   {
    "duration": 12,
    "start_time": "2025-01-03T14:42:21.867Z"
   },
   {
    "duration": 13,
    "start_time": "2025-01-03T14:42:25.218Z"
   },
   {
    "duration": 3,
    "start_time": "2025-01-03T14:42:32.326Z"
   },
   {
    "duration": 14,
    "start_time": "2025-01-03T14:42:33.430Z"
   },
   {
    "duration": 7,
    "start_time": "2025-01-03T14:42:33.724Z"
   },
   {
    "duration": 4,
    "start_time": "2025-01-03T14:42:34.856Z"
   },
   {
    "duration": 15,
    "start_time": "2025-01-03T14:42:35.667Z"
   },
   {
    "duration": 8328,
    "start_time": "2025-01-03T14:43:26.441Z"
   },
   {
    "duration": 4,
    "start_time": "2025-01-03T14:43:34.772Z"
   },
   {
    "duration": 4,
    "start_time": "2025-01-03T14:43:58.642Z"
   },
   {
    "duration": 204,
    "start_time": "2025-01-03T14:44:17.738Z"
   },
   {
    "duration": 4,
    "start_time": "2025-01-03T14:44:45.152Z"
   },
   {
    "duration": 6213,
    "start_time": "2025-01-03T14:44:45.629Z"
   },
   {
    "duration": 3,
    "start_time": "2025-01-03T14:48:06.273Z"
   },
   {
    "duration": 4,
    "start_time": "2025-01-03T14:48:14.130Z"
   },
   {
    "duration": 9336,
    "start_time": "2025-01-03T14:48:14.612Z"
   },
   {
    "duration": 2,
    "start_time": "2025-01-03T14:48:47.444Z"
   },
   {
    "duration": 3,
    "start_time": "2025-01-03T14:48:48.326Z"
   },
   {
    "duration": 9489,
    "start_time": "2025-01-03T14:48:48.755Z"
   },
   {
    "duration": 9674,
    "start_time": "2025-01-03T14:49:11.065Z"
   },
   {
    "duration": 9201,
    "start_time": "2025-01-03T15:39:20.643Z"
   },
   {
    "duration": 8292,
    "start_time": "2025-01-03T15:40:32.448Z"
   },
   {
    "duration": 1759,
    "start_time": "2025-01-03T15:40:40.742Z"
   },
   {
    "duration": 1050,
    "start_time": "2025-01-03T15:40:42.502Z"
   },
   {
    "duration": 37,
    "start_time": "2025-01-03T15:40:43.554Z"
   },
   {
    "duration": 7,
    "start_time": "2025-01-03T15:40:43.592Z"
   },
   {
    "duration": 900,
    "start_time": "2025-01-03T15:40:43.601Z"
   },
   {
    "duration": 76,
    "start_time": "2025-01-03T15:40:44.503Z"
   },
   {
    "duration": 4,
    "start_time": "2025-01-03T15:40:44.580Z"
   },
   {
    "duration": 44,
    "start_time": "2025-01-03T15:40:44.586Z"
   },
   {
    "duration": 5,
    "start_time": "2025-01-03T15:40:44.633Z"
   },
   {
    "duration": 4,
    "start_time": "2025-01-03T15:40:44.639Z"
   },
   {
    "duration": 157,
    "start_time": "2025-01-03T15:40:44.644Z"
   },
   {
    "duration": 1,
    "start_time": "2025-01-03T15:40:44.802Z"
   },
   {
    "duration": 0,
    "start_time": "2025-01-03T15:40:44.804Z"
   },
   {
    "duration": 0,
    "start_time": "2025-01-03T15:40:44.805Z"
   },
   {
    "duration": 0,
    "start_time": "2025-01-03T15:40:44.806Z"
   },
   {
    "duration": 0,
    "start_time": "2025-01-03T15:40:44.807Z"
   },
   {
    "duration": 0,
    "start_time": "2025-01-03T15:40:44.808Z"
   },
   {
    "duration": 0,
    "start_time": "2025-01-03T15:40:44.810Z"
   },
   {
    "duration": 4,
    "start_time": "2025-01-03T15:41:49.470Z"
   },
   {
    "duration": 12,
    "start_time": "2025-01-03T15:41:58.580Z"
   },
   {
    "duration": 1,
    "start_time": "2025-01-03T15:41:58.593Z"
   },
   {
    "duration": 0,
    "start_time": "2025-01-03T15:41:58.595Z"
   },
   {
    "duration": 83,
    "start_time": "2025-01-03T15:41:58.598Z"
   },
   {
    "duration": 28,
    "start_time": "2025-01-03T15:41:58.683Z"
   },
   {
    "duration": 12,
    "start_time": "2025-01-03T15:41:58.713Z"
   },
   {
    "duration": 0,
    "start_time": "2025-01-03T15:41:58.726Z"
   },
   {
    "duration": 0,
    "start_time": "2025-01-03T15:41:58.728Z"
   },
   {
    "duration": 5,
    "start_time": "2025-01-03T15:42:28.959Z"
   },
   {
    "duration": 4,
    "start_time": "2025-01-03T15:42:33.336Z"
   },
   {
    "duration": 2,
    "start_time": "2025-01-03T15:42:35.386Z"
   },
   {
    "duration": 3,
    "start_time": "2025-01-03T15:42:36.049Z"
   },
   {
    "duration": 11,
    "start_time": "2025-01-03T15:42:36.331Z"
   },
   {
    "duration": 3,
    "start_time": "2025-01-03T15:42:43.084Z"
   },
   {
    "duration": 11,
    "start_time": "2025-01-03T15:42:43.348Z"
   },
   {
    "duration": 11,
    "start_time": "2025-01-03T15:42:43.646Z"
   },
   {
    "duration": 10,
    "start_time": "2025-01-03T15:42:44.178Z"
   },
   {
    "duration": 4,
    "start_time": "2025-01-03T15:43:16.328Z"
   },
   {
    "duration": 12,
    "start_time": "2025-01-03T15:43:21.937Z"
   },
   {
    "duration": 6,
    "start_time": "2025-01-03T15:43:22.206Z"
   },
   {
    "duration": 2,
    "start_time": "2025-01-03T15:43:22.789Z"
   },
   {
    "duration": 4,
    "start_time": "2025-01-03T15:43:23.179Z"
   },
   {
    "duration": 13,
    "start_time": "2025-01-03T15:43:23.361Z"
   },
   {
    "duration": 3,
    "start_time": "2025-01-03T15:43:31.099Z"
   },
   {
    "duration": 3,
    "start_time": "2025-01-03T15:43:31.618Z"
   },
   {
    "duration": 2,
    "start_time": "2025-01-03T15:43:32.368Z"
   },
   {
    "duration": 13,
    "start_time": "2025-01-03T15:43:32.999Z"
   },
   {
    "duration": 6,
    "start_time": "2025-01-03T15:43:33.269Z"
   },
   {
    "duration": 3,
    "start_time": "2025-01-03T15:43:33.978Z"
   },
   {
    "duration": 4,
    "start_time": "2025-01-03T15:43:34.428Z"
   },
   {
    "duration": 9695,
    "start_time": "2025-01-03T15:43:34.649Z"
   },
   {
    "duration": 12,
    "start_time": "2025-01-03T15:47:53.739Z"
   },
   {
    "duration": 12,
    "start_time": "2025-01-03T15:48:03.469Z"
   },
   {
    "duration": 3,
    "start_time": "2025-01-03T15:51:42.472Z"
   },
   {
    "duration": 13,
    "start_time": "2025-01-03T15:51:43.965Z"
   },
   {
    "duration": 6,
    "start_time": "2025-01-03T15:51:44.182Z"
   },
   {
    "duration": 3,
    "start_time": "2025-01-03T15:51:45.236Z"
   },
   {
    "duration": 4,
    "start_time": "2025-01-03T15:52:29.209Z"
   },
   {
    "duration": 3,
    "start_time": "2025-01-03T15:52:41.501Z"
   },
   {
    "duration": 3,
    "start_time": "2025-01-03T15:52:53.062Z"
   },
   {
    "duration": 3,
    "start_time": "2025-01-03T15:52:53.600Z"
   },
   {
    "duration": 4,
    "start_time": "2025-01-03T15:53:46.731Z"
   },
   {
    "duration": 3,
    "start_time": "2025-01-03T15:53:53.507Z"
   },
   {
    "duration": 13,
    "start_time": "2025-01-03T15:53:57.950Z"
   },
   {
    "duration": 6,
    "start_time": "2025-01-03T15:53:58.368Z"
   },
   {
    "duration": 2,
    "start_time": "2025-01-03T15:54:00.170Z"
   },
   {
    "duration": 4,
    "start_time": "2025-01-03T15:54:01.167Z"
   },
   {
    "duration": 27,
    "start_time": "2025-01-03T15:54:01.666Z"
   },
   {
    "duration": 14,
    "start_time": "2025-01-03T15:54:04.842Z"
   },
   {
    "duration": 3,
    "start_time": "2025-01-03T15:54:51.368Z"
   },
   {
    "duration": 3,
    "start_time": "2025-01-03T15:55:00.099Z"
   },
   {
    "duration": 3,
    "start_time": "2025-01-03T15:55:11.282Z"
   },
   {
    "duration": 3,
    "start_time": "2025-01-03T15:55:11.535Z"
   },
   {
    "duration": 3,
    "start_time": "2025-01-03T15:55:48.475Z"
   },
   {
    "duration": 3,
    "start_time": "2025-01-03T15:55:49.009Z"
   },
   {
    "duration": 3,
    "start_time": "2025-01-03T15:55:49.547Z"
   },
   {
    "duration": 3,
    "start_time": "2025-01-03T15:55:50.053Z"
   },
   {
    "duration": 13,
    "start_time": "2025-01-03T15:55:51.674Z"
   },
   {
    "duration": 7,
    "start_time": "2025-01-03T15:55:52.132Z"
   },
   {
    "duration": 3,
    "start_time": "2025-01-03T15:55:54.624Z"
   },
   {
    "duration": 4,
    "start_time": "2025-01-03T15:55:56.007Z"
   },
   {
    "duration": 9405,
    "start_time": "2025-01-03T15:55:56.836Z"
   },
   {
    "duration": 11,
    "start_time": "2025-01-03T15:56:08.071Z"
   },
   {
    "duration": 31,
    "start_time": "2025-01-03T15:56:12.029Z"
   },
   {
    "duration": 50,
    "start_time": "2025-01-03T15:59:14.889Z"
   },
   {
    "duration": 78,
    "start_time": "2025-01-03T15:59:48.242Z"
   },
   {
    "duration": 17,
    "start_time": "2025-01-03T15:59:55.121Z"
   },
   {
    "duration": 6,
    "start_time": "2025-01-03T16:00:37.633Z"
   },
   {
    "duration": 10,
    "start_time": "2025-01-03T16:00:51.276Z"
   },
   {
    "duration": 8,
    "start_time": "2025-01-03T16:01:00.209Z"
   },
   {
    "duration": 70,
    "start_time": "2025-01-03T16:01:36.474Z"
   },
   {
    "duration": 9162,
    "start_time": "2025-01-03T16:01:41.186Z"
   },
   {
    "duration": 9631,
    "start_time": "2025-01-03T16:02:06.010Z"
   },
   {
    "duration": 117,
    "start_time": "2025-01-03T16:02:15.647Z"
   },
   {
    "duration": 8,
    "start_time": "2025-01-03T16:02:15.767Z"
   },
   {
    "duration": 6,
    "start_time": "2025-01-03T16:02:33.648Z"
   },
   {
    "duration": 13841,
    "start_time": "2025-01-06T11:55:44.766Z"
   },
   {
    "duration": 1937,
    "start_time": "2025-01-06T11:55:58.609Z"
   },
   {
    "duration": 1062,
    "start_time": "2025-01-06T11:56:00.547Z"
   },
   {
    "duration": 47,
    "start_time": "2025-01-06T11:56:01.611Z"
   },
   {
    "duration": 7,
    "start_time": "2025-01-06T11:56:01.660Z"
   },
   {
    "duration": 970,
    "start_time": "2025-01-06T11:56:01.668Z"
   },
   {
    "duration": 61,
    "start_time": "2025-01-06T11:56:02.640Z"
   },
   {
    "duration": 4,
    "start_time": "2025-01-06T11:56:02.703Z"
   },
   {
    "duration": 84,
    "start_time": "2025-01-06T11:56:02.708Z"
   },
   {
    "duration": 15,
    "start_time": "2025-01-06T11:56:02.795Z"
   },
   {
    "duration": 10,
    "start_time": "2025-01-06T11:56:02.811Z"
   },
   {
    "duration": 19,
    "start_time": "2025-01-06T11:56:02.823Z"
   },
   {
    "duration": 9,
    "start_time": "2025-01-06T11:56:02.843Z"
   },
   {
    "duration": 4,
    "start_time": "2025-01-06T11:56:02.853Z"
   },
   {
    "duration": 16,
    "start_time": "2025-01-06T11:56:02.858Z"
   },
   {
    "duration": 6,
    "start_time": "2025-01-06T11:56:02.876Z"
   },
   {
    "duration": 19,
    "start_time": "2025-01-06T11:56:02.883Z"
   },
   {
    "duration": 12,
    "start_time": "2025-01-06T11:56:02.904Z"
   },
   {
    "duration": 8913,
    "start_time": "2025-01-06T11:56:02.918Z"
   },
   {
    "duration": 28,
    "start_time": "2025-01-06T11:56:11.833Z"
   },
   {
    "duration": 22,
    "start_time": "2025-01-06T11:56:11.862Z"
   },
   {
    "duration": 29,
    "start_time": "2025-01-06T12:00:12.057Z"
   },
   {
    "duration": 139,
    "start_time": "2025-01-06T12:00:12.937Z"
   },
   {
    "duration": 10,
    "start_time": "2025-01-06T12:01:00.255Z"
   },
   {
    "duration": 27,
    "start_time": "2025-01-06T12:01:02.825Z"
   },
   {
    "duration": 12,
    "start_time": "2025-01-06T12:01:03.626Z"
   },
   {
    "duration": 26,
    "start_time": "2025-01-06T12:01:53.702Z"
   },
   {
    "duration": 9,
    "start_time": "2025-01-06T12:02:19.344Z"
   },
   {
    "duration": 24,
    "start_time": "2025-01-06T12:02:36.915Z"
   },
   {
    "duration": 12,
    "start_time": "2025-01-06T12:02:43.326Z"
   },
   {
    "duration": 10,
    "start_time": "2025-01-06T12:03:14.194Z"
   },
   {
    "duration": 5,
    "start_time": "2025-01-06T12:03:34.418Z"
   },
   {
    "duration": 5,
    "start_time": "2025-01-06T12:03:40.119Z"
   },
   {
    "duration": 5,
    "start_time": "2025-01-06T12:03:45.814Z"
   },
   {
    "duration": 12,
    "start_time": "2025-01-06T12:04:12.949Z"
   },
   {
    "duration": 10,
    "start_time": "2025-01-06T12:04:13.286Z"
   },
   {
    "duration": 3,
    "start_time": "2025-01-06T12:04:21.393Z"
   },
   {
    "duration": 8046,
    "start_time": "2025-01-06T12:04:46.297Z"
   },
   {
    "duration": 1843,
    "start_time": "2025-01-06T12:04:54.345Z"
   },
   {
    "duration": 1051,
    "start_time": "2025-01-06T12:04:56.190Z"
   },
   {
    "duration": 38,
    "start_time": "2025-01-06T12:04:57.242Z"
   },
   {
    "duration": 6,
    "start_time": "2025-01-06T12:04:57.283Z"
   },
   {
    "duration": 926,
    "start_time": "2025-01-06T12:04:57.291Z"
   },
   {
    "duration": 72,
    "start_time": "2025-01-06T12:04:58.218Z"
   },
   {
    "duration": 33,
    "start_time": "2025-01-06T12:04:58.292Z"
   },
   {
    "duration": 35,
    "start_time": "2025-01-06T12:04:58.327Z"
   },
   {
    "duration": 6,
    "start_time": "2025-01-06T12:04:58.364Z"
   },
   {
    "duration": 3,
    "start_time": "2025-01-06T12:04:58.372Z"
   },
   {
    "duration": 3,
    "start_time": "2025-01-06T12:04:58.376Z"
   },
   {
    "duration": 11,
    "start_time": "2025-01-06T12:04:58.381Z"
   },
   {
    "duration": 21,
    "start_time": "2025-01-06T12:04:58.395Z"
   },
   {
    "duration": 88,
    "start_time": "2025-01-06T12:04:58.417Z"
   },
   {
    "duration": 0,
    "start_time": "2025-01-06T12:04:58.507Z"
   },
   {
    "duration": 0,
    "start_time": "2025-01-06T12:04:58.508Z"
   },
   {
    "duration": 0,
    "start_time": "2025-01-06T12:04:58.510Z"
   },
   {
    "duration": 0,
    "start_time": "2025-01-06T12:04:58.511Z"
   },
   {
    "duration": 0,
    "start_time": "2025-01-06T12:04:58.512Z"
   },
   {
    "duration": 0,
    "start_time": "2025-01-06T12:04:58.514Z"
   },
   {
    "duration": 0,
    "start_time": "2025-01-06T12:04:58.515Z"
   },
   {
    "duration": 139,
    "start_time": "2025-01-06T12:07:13.935Z"
   },
   {
    "duration": 12,
    "start_time": "2025-01-06T12:07:20.927Z"
   },
   {
    "duration": 8108,
    "start_time": "2025-01-06T12:08:01.136Z"
   },
   {
    "duration": 1793,
    "start_time": "2025-01-06T12:08:09.247Z"
   },
   {
    "duration": 1153,
    "start_time": "2025-01-06T12:08:11.041Z"
   },
   {
    "duration": 41,
    "start_time": "2025-01-06T12:08:12.196Z"
   },
   {
    "duration": 60,
    "start_time": "2025-01-06T12:08:12.239Z"
   },
   {
    "duration": 965,
    "start_time": "2025-01-06T12:08:12.301Z"
   },
   {
    "duration": 81,
    "start_time": "2025-01-06T12:08:13.268Z"
   },
   {
    "duration": 3,
    "start_time": "2025-01-06T12:08:13.351Z"
   },
   {
    "duration": 165,
    "start_time": "2025-01-06T12:08:13.356Z"
   },
   {
    "duration": 0,
    "start_time": "2025-01-06T12:08:13.523Z"
   },
   {
    "duration": 0,
    "start_time": "2025-01-06T12:08:13.529Z"
   },
   {
    "duration": 0,
    "start_time": "2025-01-06T12:08:13.530Z"
   },
   {
    "duration": 0,
    "start_time": "2025-01-06T12:08:13.531Z"
   },
   {
    "duration": 0,
    "start_time": "2025-01-06T12:08:13.532Z"
   },
   {
    "duration": 0,
    "start_time": "2025-01-06T12:08:13.534Z"
   },
   {
    "duration": 0,
    "start_time": "2025-01-06T12:08:13.535Z"
   },
   {
    "duration": 0,
    "start_time": "2025-01-06T12:08:13.536Z"
   },
   {
    "duration": 0,
    "start_time": "2025-01-06T12:08:13.537Z"
   },
   {
    "duration": 0,
    "start_time": "2025-01-06T12:08:13.538Z"
   },
   {
    "duration": 0,
    "start_time": "2025-01-06T12:08:13.539Z"
   },
   {
    "duration": 0,
    "start_time": "2025-01-06T12:08:13.540Z"
   },
   {
    "duration": 30,
    "start_time": "2025-01-06T12:08:26.677Z"
   },
   {
    "duration": 11,
    "start_time": "2025-01-06T12:08:28.344Z"
   },
   {
    "duration": 28,
    "start_time": "2025-01-06T12:08:52.745Z"
   },
   {
    "duration": 20,
    "start_time": "2025-01-06T12:10:51.618Z"
   },
   {
    "duration": 18,
    "start_time": "2025-01-06T12:11:02.015Z"
   },
   {
    "duration": 8003,
    "start_time": "2025-01-06T12:11:16.625Z"
   },
   {
    "duration": 1843,
    "start_time": "2025-01-06T12:11:24.631Z"
   },
   {
    "duration": 1739,
    "start_time": "2025-01-06T12:11:26.475Z"
   },
   {
    "duration": 43,
    "start_time": "2025-01-06T12:11:28.216Z"
   },
   {
    "duration": 8,
    "start_time": "2025-01-06T12:11:28.260Z"
   },
   {
    "duration": 964,
    "start_time": "2025-01-06T12:11:28.269Z"
   },
   {
    "duration": 63,
    "start_time": "2025-01-06T12:11:29.235Z"
   },
   {
    "duration": 5,
    "start_time": "2025-01-06T12:11:29.299Z"
   },
   {
    "duration": 48,
    "start_time": "2025-01-06T12:11:29.306Z"
   },
   {
    "duration": 27,
    "start_time": "2025-01-06T12:11:29.357Z"
   },
   {
    "duration": 5,
    "start_time": "2025-01-06T12:11:29.386Z"
   },
   {
    "duration": 14,
    "start_time": "2025-01-06T12:11:29.393Z"
   },
   {
    "duration": 94,
    "start_time": "2025-01-06T12:11:29.408Z"
   },
   {
    "duration": 3,
    "start_time": "2025-01-06T12:11:29.504Z"
   },
   {
    "duration": 5,
    "start_time": "2025-01-06T12:11:29.509Z"
   },
   {
    "duration": 138,
    "start_time": "2025-01-06T12:11:29.516Z"
   },
   {
    "duration": 0,
    "start_time": "2025-01-06T12:11:29.656Z"
   },
   {
    "duration": 0,
    "start_time": "2025-01-06T12:11:29.657Z"
   },
   {
    "duration": 0,
    "start_time": "2025-01-06T12:11:29.658Z"
   },
   {
    "duration": 0,
    "start_time": "2025-01-06T12:11:29.659Z"
   },
   {
    "duration": 0,
    "start_time": "2025-01-06T12:11:29.660Z"
   },
   {
    "duration": 0,
    "start_time": "2025-01-06T12:11:29.661Z"
   },
   {
    "duration": 17,
    "start_time": "2025-01-06T12:13:31.963Z"
   },
   {
    "duration": 6,
    "start_time": "2025-01-06T12:13:34.366Z"
   },
   {
    "duration": 3,
    "start_time": "2025-01-06T12:13:36.544Z"
   },
   {
    "duration": 4,
    "start_time": "2025-01-06T12:13:37.783Z"
   },
   {
    "duration": 82,
    "start_time": "2025-01-06T12:13:38.206Z"
   },
   {
    "duration": 11,
    "start_time": "2025-01-06T12:13:38.955Z"
   },
   {
    "duration": 12,
    "start_time": "2025-01-06T12:13:39.363Z"
   },
   {
    "duration": 12,
    "start_time": "2025-01-06T12:15:42.152Z"
   },
   {
    "duration": 12,
    "start_time": "2025-01-06T12:16:34.947Z"
   },
   {
    "duration": 26878,
    "start_time": "2025-01-06T12:18:10.466Z"
   },
   {
    "duration": 26662,
    "start_time": "2025-01-06T12:19:16.276Z"
   },
   {
    "duration": 26027,
    "start_time": "2025-01-06T12:19:55.703Z"
   },
   {
    "duration": 11,
    "start_time": "2025-01-06T12:25:47.476Z"
   },
   {
    "duration": 11,
    "start_time": "2025-01-06T12:25:57.943Z"
   },
   {
    "duration": 13,
    "start_time": "2025-01-06T12:26:21.954Z"
   },
   {
    "duration": 3,
    "start_time": "2025-01-06T12:26:29.087Z"
   },
   {
    "duration": 4,
    "start_time": "2025-01-06T12:26:30.220Z"
   },
   {
    "duration": 28585,
    "start_time": "2025-01-06T12:26:30.546Z"
   },
   {
    "duration": 132,
    "start_time": "2025-01-06T12:26:59.134Z"
   },
   {
    "duration": 61,
    "start_time": "2025-01-06T12:26:59.268Z"
   },
   {
    "duration": 9282,
    "start_time": "2025-01-06T12:27:51.264Z"
   },
   {
    "duration": 25855,
    "start_time": "2025-01-06T12:28:11.976Z"
   },
   {
    "duration": 28585,
    "start_time": "2025-01-06T12:29:08.767Z"
   },
   {
    "duration": 13,
    "start_time": "2025-01-06T12:29:37.354Z"
   },
   {
    "duration": 10,
    "start_time": "2025-01-06T12:30:06.115Z"
   },
   {
    "duration": 26584,
    "start_time": "2025-01-06T12:30:39.648Z"
   },
   {
    "duration": 101,
    "start_time": "2025-01-06T12:31:06.235Z"
   },
   {
    "duration": 27917,
    "start_time": "2025-01-06T12:33:52.621Z"
   },
   {
    "duration": 207,
    "start_time": "2025-01-06T12:34:20.540Z"
   },
   {
    "duration": 10,
    "start_time": "2025-01-06T12:34:42.469Z"
   },
   {
    "duration": 8046,
    "start_time": "2025-01-06T13:26:08.392Z"
   },
   {
    "duration": 6,
    "start_time": "2025-01-06T13:26:16.440Z"
   },
   {
    "duration": 1019,
    "start_time": "2025-01-06T13:26:16.448Z"
   },
   {
    "duration": 35,
    "start_time": "2025-01-06T13:26:17.470Z"
   },
   {
    "duration": 27,
    "start_time": "2025-01-06T13:26:17.507Z"
   },
   {
    "duration": 921,
    "start_time": "2025-01-06T13:26:17.536Z"
   },
   {
    "duration": 87,
    "start_time": "2025-01-06T13:26:18.458Z"
   },
   {
    "duration": 4,
    "start_time": "2025-01-06T13:26:18.547Z"
   },
   {
    "duration": 32,
    "start_time": "2025-01-06T13:26:18.552Z"
   },
   {
    "duration": 6,
    "start_time": "2025-01-06T13:26:18.586Z"
   },
   {
    "duration": 6,
    "start_time": "2025-01-06T13:26:18.593Z"
   },
   {
    "duration": 30,
    "start_time": "2025-01-06T13:26:18.600Z"
   },
   {
    "duration": 5,
    "start_time": "2025-01-06T13:26:18.632Z"
   },
   {
    "duration": 17,
    "start_time": "2025-01-06T13:26:18.639Z"
   },
   {
    "duration": 17,
    "start_time": "2025-01-06T13:26:18.658Z"
   },
   {
    "duration": 3,
    "start_time": "2025-01-06T13:26:18.677Z"
   },
   {
    "duration": 46,
    "start_time": "2025-01-06T13:26:18.682Z"
   },
   {
    "duration": 26712,
    "start_time": "2025-01-06T13:26:18.729Z"
   },
   {
    "duration": 113,
    "start_time": "2025-01-06T13:26:45.443Z"
   },
   {
    "duration": 66,
    "start_time": "2025-01-06T13:26:45.558Z"
   },
   {
    "duration": 80,
    "start_time": "2025-01-06T13:33:04.587Z"
   },
   {
    "duration": 76,
    "start_time": "2025-01-06T13:33:14.448Z"
   },
   {
    "duration": 27,
    "start_time": "2025-01-06T13:36:01.520Z"
   },
   {
    "duration": 27399,
    "start_time": "2025-01-06T13:37:56.037Z"
   },
   {
    "duration": 26597,
    "start_time": "2025-01-06T13:44:32.934Z"
   },
   {
    "duration": 27724,
    "start_time": "2025-01-06T13:45:37.606Z"
   },
   {
    "duration": 27903,
    "start_time": "2025-01-06T13:46:16.728Z"
   },
   {
    "duration": 26440,
    "start_time": "2025-01-06T13:47:28.399Z"
   },
   {
    "duration": 3,
    "start_time": "2025-01-06T13:49:37.698Z"
   },
   {
    "duration": 27258,
    "start_time": "2025-01-06T13:49:38.780Z"
   },
   {
    "duration": 28605,
    "start_time": "2025-01-06T13:53:51.030Z"
   },
   {
    "duration": 17,
    "start_time": "2025-01-06T13:55:18.371Z"
   },
   {
    "duration": 14,
    "start_time": "2025-01-06T13:55:38.063Z"
   },
   {
    "duration": 9592,
    "start_time": "2025-01-06T13:56:03.459Z"
   },
   {
    "duration": 0,
    "start_time": "2025-01-06T13:56:13.052Z"
   },
   {
    "duration": 8030,
    "start_time": "2025-01-06T13:56:45.460Z"
   },
   {
    "duration": 1759,
    "start_time": "2025-01-06T13:56:53.492Z"
   },
   {
    "duration": 1066,
    "start_time": "2025-01-06T13:56:55.252Z"
   },
   {
    "duration": 38,
    "start_time": "2025-01-06T13:56:56.320Z"
   },
   {
    "duration": 7,
    "start_time": "2025-01-06T13:56:56.360Z"
   },
   {
    "duration": 941,
    "start_time": "2025-01-06T13:56:56.369Z"
   },
   {
    "duration": 73,
    "start_time": "2025-01-06T13:56:57.311Z"
   },
   {
    "duration": 5,
    "start_time": "2025-01-06T13:56:57.385Z"
   },
   {
    "duration": 44,
    "start_time": "2025-01-06T13:56:57.391Z"
   },
   {
    "duration": 7,
    "start_time": "2025-01-06T13:56:57.437Z"
   },
   {
    "duration": 4,
    "start_time": "2025-01-06T13:56:57.445Z"
   },
   {
    "duration": 5,
    "start_time": "2025-01-06T13:56:57.450Z"
   },
   {
    "duration": 3,
    "start_time": "2025-01-06T13:56:57.456Z"
   },
   {
    "duration": 9,
    "start_time": "2025-01-06T13:56:57.460Z"
   },
   {
    "duration": 10,
    "start_time": "2025-01-06T13:56:57.471Z"
   },
   {
    "duration": 3,
    "start_time": "2025-01-06T13:56:57.482Z"
   },
   {
    "duration": 8,
    "start_time": "2025-01-06T13:56:57.486Z"
   },
   {
    "duration": 2,
    "start_time": "2025-01-06T13:56:57.531Z"
   },
   {
    "duration": 153,
    "start_time": "2025-01-06T13:56:57.535Z"
   },
   {
    "duration": 0,
    "start_time": "2025-01-06T13:56:57.690Z"
   },
   {
    "duration": 8804,
    "start_time": "2025-01-06T13:57:40.328Z"
   },
   {
    "duration": 9281,
    "start_time": "2025-01-06T13:58:24.168Z"
   },
   {
    "duration": 10147,
    "start_time": "2025-01-06T13:59:26.992Z"
   },
   {
    "duration": 8743,
    "start_time": "2025-01-06T14:02:29.092Z"
   },
   {
    "duration": 8452,
    "start_time": "2025-01-06T14:03:11.705Z"
   },
   {
    "duration": 8176,
    "start_time": "2025-01-06T14:03:31.613Z"
   },
   {
    "duration": 1741,
    "start_time": "2025-01-06T14:03:39.792Z"
   },
   {
    "duration": 983,
    "start_time": "2025-01-06T14:03:41.535Z"
   },
   {
    "duration": 36,
    "start_time": "2025-01-06T14:03:42.520Z"
   },
   {
    "duration": 26,
    "start_time": "2025-01-06T14:03:42.558Z"
   },
   {
    "duration": 914,
    "start_time": "2025-01-06T14:03:42.585Z"
   },
   {
    "duration": 77,
    "start_time": "2025-01-06T14:03:43.501Z"
   },
   {
    "duration": 5,
    "start_time": "2025-01-06T14:03:43.579Z"
   },
   {
    "duration": 41,
    "start_time": "2025-01-06T14:03:43.585Z"
   },
   {
    "duration": 5,
    "start_time": "2025-01-06T14:03:43.631Z"
   },
   {
    "duration": 50,
    "start_time": "2025-01-06T14:03:43.638Z"
   },
   {
    "duration": 26,
    "start_time": "2025-01-06T14:03:43.689Z"
   },
   {
    "duration": 96,
    "start_time": "2025-01-06T14:03:43.717Z"
   },
   {
    "duration": 9,
    "start_time": "2025-01-06T14:03:43.815Z"
   },
   {
    "duration": 11,
    "start_time": "2025-01-06T14:03:43.826Z"
   },
   {
    "duration": 2,
    "start_time": "2025-01-06T14:03:43.839Z"
   },
   {
    "duration": 19,
    "start_time": "2025-01-06T14:03:43.843Z"
   },
   {
    "duration": 55,
    "start_time": "2025-01-06T14:03:43.864Z"
   },
   {
    "duration": 29017,
    "start_time": "2025-01-06T14:03:43.921Z"
   },
   {
    "duration": 91,
    "start_time": "2025-01-06T14:04:12.940Z"
   },
   {
    "duration": 8010,
    "start_time": "2025-01-06T14:07:51.181Z"
   },
   {
    "duration": 7971,
    "start_time": "2025-01-06T14:08:24.000Z"
   },
   {
    "duration": 1690,
    "start_time": "2025-01-06T14:08:31.974Z"
   },
   {
    "duration": 874,
    "start_time": "2025-01-06T14:08:33.666Z"
   },
   {
    "duration": 36,
    "start_time": "2025-01-06T14:08:34.543Z"
   },
   {
    "duration": 16,
    "start_time": "2025-01-06T14:08:34.581Z"
   },
   {
    "duration": 946,
    "start_time": "2025-01-06T14:08:34.599Z"
   },
   {
    "duration": 63,
    "start_time": "2025-01-06T14:08:35.547Z"
   },
   {
    "duration": 20,
    "start_time": "2025-01-06T14:08:35.612Z"
   },
   {
    "duration": 53,
    "start_time": "2025-01-06T14:08:35.634Z"
   },
   {
    "duration": 12,
    "start_time": "2025-01-06T14:08:35.689Z"
   },
   {
    "duration": 27,
    "start_time": "2025-01-06T14:08:35.703Z"
   },
   {
    "duration": 87,
    "start_time": "2025-01-06T14:08:35.732Z"
   },
   {
    "duration": 37,
    "start_time": "2025-01-06T14:08:35.821Z"
   },
   {
    "duration": 47,
    "start_time": "2025-01-06T14:08:35.860Z"
   },
   {
    "duration": 49,
    "start_time": "2025-01-06T14:08:35.909Z"
   },
   {
    "duration": 9,
    "start_time": "2025-01-06T14:08:35.960Z"
   },
   {
    "duration": 13,
    "start_time": "2025-01-06T14:08:35.970Z"
   },
   {
    "duration": 17,
    "start_time": "2025-01-06T14:08:35.985Z"
   },
   {
    "duration": 27827,
    "start_time": "2025-01-06T14:08:36.003Z"
   },
   {
    "duration": 181,
    "start_time": "2025-01-06T14:09:03.832Z"
   },
   {
    "duration": 9729,
    "start_time": "2025-01-06T14:10:19.812Z"
   },
   {
    "duration": 8066,
    "start_time": "2025-01-06T14:10:41.968Z"
   },
   {
    "duration": 1791,
    "start_time": "2025-01-06T14:10:50.036Z"
   },
   {
    "duration": 995,
    "start_time": "2025-01-06T14:10:51.830Z"
   },
   {
    "duration": 38,
    "start_time": "2025-01-06T14:10:52.827Z"
   },
   {
    "duration": 7,
    "start_time": "2025-01-06T14:10:52.867Z"
   },
   {
    "duration": 937,
    "start_time": "2025-01-06T14:10:52.876Z"
   },
   {
    "duration": 68,
    "start_time": "2025-01-06T14:10:53.815Z"
   },
   {
    "duration": 5,
    "start_time": "2025-01-06T14:10:53.884Z"
   },
   {
    "duration": 45,
    "start_time": "2025-01-06T14:10:53.890Z"
   },
   {
    "duration": 6,
    "start_time": "2025-01-06T14:10:53.938Z"
   },
   {
    "duration": 73,
    "start_time": "2025-01-06T14:10:53.945Z"
   },
   {
    "duration": 13,
    "start_time": "2025-01-06T14:10:54.019Z"
   },
   {
    "duration": 6,
    "start_time": "2025-01-06T14:10:54.033Z"
   },
   {
    "duration": 19,
    "start_time": "2025-01-06T14:10:54.040Z"
   },
   {
    "duration": 37,
    "start_time": "2025-01-06T14:10:54.060Z"
   },
   {
    "duration": 3,
    "start_time": "2025-01-06T14:10:54.099Z"
   },
   {
    "duration": 7,
    "start_time": "2025-01-06T14:10:54.104Z"
   },
   {
    "duration": 4,
    "start_time": "2025-01-06T14:10:54.113Z"
   },
   {
    "duration": 28312,
    "start_time": "2025-01-06T14:10:54.119Z"
   },
   {
    "duration": 242,
    "start_time": "2025-01-06T14:11:22.434Z"
   },
   {
    "duration": 8726,
    "start_time": "2025-01-06T14:12:00.522Z"
   },
   {
    "duration": 1782,
    "start_time": "2025-01-06T14:12:09.250Z"
   },
   {
    "duration": 919,
    "start_time": "2025-01-06T14:12:11.033Z"
   },
   {
    "duration": 43,
    "start_time": "2025-01-06T14:12:11.954Z"
   },
   {
    "duration": 44,
    "start_time": "2025-01-06T14:12:11.998Z"
   },
   {
    "duration": 875,
    "start_time": "2025-01-06T14:12:12.044Z"
   },
   {
    "duration": 60,
    "start_time": "2025-01-06T14:12:12.930Z"
   },
   {
    "duration": 3,
    "start_time": "2025-01-06T14:12:12.992Z"
   },
   {
    "duration": 47,
    "start_time": "2025-01-06T14:12:12.997Z"
   },
   {
    "duration": 6,
    "start_time": "2025-01-06T14:12:13.046Z"
   },
   {
    "duration": 6,
    "start_time": "2025-01-06T14:12:13.053Z"
   },
   {
    "duration": 6,
    "start_time": "2025-01-06T14:12:13.060Z"
   },
   {
    "duration": 11,
    "start_time": "2025-01-06T14:12:13.068Z"
   },
   {
    "duration": 22,
    "start_time": "2025-01-06T14:12:13.080Z"
   },
   {
    "duration": 11,
    "start_time": "2025-01-06T14:12:13.103Z"
   },
   {
    "duration": 2,
    "start_time": "2025-01-06T14:12:13.116Z"
   },
   {
    "duration": 11,
    "start_time": "2025-01-06T14:12:13.120Z"
   },
   {
    "duration": 5,
    "start_time": "2025-01-06T14:12:13.132Z"
   },
   {
    "duration": 26900,
    "start_time": "2025-01-06T14:12:13.138Z"
   },
   {
    "duration": 315,
    "start_time": "2025-01-06T14:12:40.039Z"
   },
   {
    "duration": 7870,
    "start_time": "2025-01-06T14:12:48.249Z"
   },
   {
    "duration": 1893,
    "start_time": "2025-01-06T14:12:56.121Z"
   },
   {
    "duration": 841,
    "start_time": "2025-01-06T14:12:58.015Z"
   },
   {
    "duration": 37,
    "start_time": "2025-01-06T14:12:58.858Z"
   },
   {
    "duration": 7,
    "start_time": "2025-01-06T14:12:58.896Z"
   },
   {
    "duration": 904,
    "start_time": "2025-01-06T14:12:58.905Z"
   },
   {
    "duration": 63,
    "start_time": "2025-01-06T14:12:59.811Z"
   },
   {
    "duration": 4,
    "start_time": "2025-01-06T14:12:59.876Z"
   },
   {
    "duration": 49,
    "start_time": "2025-01-06T14:12:59.882Z"
   },
   {
    "duration": 4,
    "start_time": "2025-01-06T14:12:59.934Z"
   },
   {
    "duration": 6,
    "start_time": "2025-01-06T14:12:59.939Z"
   },
   {
    "duration": 15,
    "start_time": "2025-01-06T14:12:59.946Z"
   },
   {
    "duration": 22,
    "start_time": "2025-01-06T14:12:59.962Z"
   },
   {
    "duration": 13,
    "start_time": "2025-01-06T14:12:59.986Z"
   },
   {
    "duration": 31,
    "start_time": "2025-01-06T14:13:00.001Z"
   },
   {
    "duration": 36,
    "start_time": "2025-01-06T14:13:00.033Z"
   },
   {
    "duration": 50,
    "start_time": "2025-01-06T14:13:00.071Z"
   },
   {
    "duration": 31,
    "start_time": "2025-01-06T14:13:00.123Z"
   },
   {
    "duration": 27279,
    "start_time": "2025-01-06T14:13:00.155Z"
   },
   {
    "duration": 242,
    "start_time": "2025-01-06T14:13:27.436Z"
   },
   {
    "duration": 3,
    "start_time": "2025-01-06T14:19:11.903Z"
   },
   {
    "duration": 3,
    "start_time": "2025-01-06T14:20:45.605Z"
   },
   {
    "duration": 5,
    "start_time": "2025-01-06T14:24:10.161Z"
   },
   {
    "duration": 3,
    "start_time": "2025-01-06T14:24:35.160Z"
   },
   {
    "duration": 4,
    "start_time": "2025-01-06T14:24:42.015Z"
   },
   {
    "duration": 4,
    "start_time": "2025-01-06T14:25:52.024Z"
   },
   {
    "duration": 10,
    "start_time": "2025-01-06T14:26:23.898Z"
   },
   {
    "duration": 3,
    "start_time": "2025-01-06T14:26:27.236Z"
   },
   {
    "duration": 3,
    "start_time": "2025-01-06T14:26:27.689Z"
   },
   {
    "duration": 4,
    "start_time": "2025-01-06T14:26:46.439Z"
   },
   {
    "duration": 4,
    "start_time": "2025-01-06T14:26:55.427Z"
   },
   {
    "duration": 4,
    "start_time": "2025-01-06T14:27:07.314Z"
   },
   {
    "duration": 4,
    "start_time": "2025-01-06T14:29:38.875Z"
   },
   {
    "duration": 113,
    "start_time": "2025-01-06T14:29:51.513Z"
   },
   {
    "duration": 3,
    "start_time": "2025-01-06T14:29:56.320Z"
   },
   {
    "duration": 4,
    "start_time": "2025-01-06T14:30:29.240Z"
   },
   {
    "duration": 4,
    "start_time": "2025-01-06T14:30:34.906Z"
   },
   {
    "duration": 4,
    "start_time": "2025-01-06T14:30:57.512Z"
   },
   {
    "duration": 3,
    "start_time": "2025-01-06T14:34:10.708Z"
   },
   {
    "duration": 3,
    "start_time": "2025-01-06T14:36:04.811Z"
   },
   {
    "duration": 11,
    "start_time": "2025-01-06T14:36:38.746Z"
   },
   {
    "duration": 11,
    "start_time": "2025-01-06T14:36:44.802Z"
   },
   {
    "duration": 12,
    "start_time": "2025-01-06T14:37:10.237Z"
   },
   {
    "duration": 3,
    "start_time": "2025-01-06T14:37:11.015Z"
   },
   {
    "duration": 2,
    "start_time": "2025-01-06T14:37:11.841Z"
   },
   {
    "duration": 3,
    "start_time": "2025-01-06T14:37:12.123Z"
   },
   {
    "duration": 3,
    "start_time": "2025-01-06T14:37:12.339Z"
   },
   {
    "duration": 3,
    "start_time": "2025-01-06T14:37:12.480Z"
   },
   {
    "duration": 8107,
    "start_time": "2025-01-06T14:37:18.828Z"
   },
   {
    "duration": 1813,
    "start_time": "2025-01-06T14:37:26.938Z"
   },
   {
    "duration": 803,
    "start_time": "2025-01-06T14:37:28.753Z"
   },
   {
    "duration": 40,
    "start_time": "2025-01-06T14:37:29.559Z"
   },
   {
    "duration": 32,
    "start_time": "2025-01-06T14:37:29.600Z"
   },
   {
    "duration": 945,
    "start_time": "2025-01-06T14:37:29.634Z"
   },
   {
    "duration": 72,
    "start_time": "2025-01-06T14:37:30.581Z"
   },
   {
    "duration": 5,
    "start_time": "2025-01-06T14:37:30.654Z"
   },
   {
    "duration": 31,
    "start_time": "2025-01-06T14:37:30.661Z"
   },
   {
    "duration": 6,
    "start_time": "2025-01-06T14:37:30.694Z"
   },
   {
    "duration": 37,
    "start_time": "2025-01-06T14:37:30.702Z"
   },
   {
    "duration": 18,
    "start_time": "2025-01-06T14:37:30.741Z"
   },
   {
    "duration": 5,
    "start_time": "2025-01-06T14:37:30.761Z"
   },
   {
    "duration": 15,
    "start_time": "2025-01-06T14:37:30.767Z"
   },
   {
    "duration": 41,
    "start_time": "2025-01-06T14:37:30.784Z"
   },
   {
    "duration": 8,
    "start_time": "2025-01-06T14:37:30.827Z"
   },
   {
    "duration": 14,
    "start_time": "2025-01-06T14:37:30.837Z"
   },
   {
    "duration": 3,
    "start_time": "2025-01-06T14:37:30.853Z"
   },
   {
    "duration": 28273,
    "start_time": "2025-01-06T14:37:30.858Z"
   },
   {
    "duration": 4,
    "start_time": "2025-01-06T14:37:59.132Z"
   },
   {
    "duration": 5,
    "start_time": "2025-01-06T14:37:59.137Z"
   },
   {
    "duration": 3,
    "start_time": "2025-01-06T14:37:59.144Z"
   },
   {
    "duration": 185,
    "start_time": "2025-01-06T14:37:59.149Z"
   },
   {
    "duration": 15,
    "start_time": "2025-01-06T14:38:09.522Z"
   },
   {
    "duration": 3,
    "start_time": "2025-01-06T14:38:29.383Z"
   },
   {
    "duration": 7,
    "start_time": "2025-01-06T14:38:33.533Z"
   },
   {
    "duration": 3,
    "start_time": "2025-01-06T14:38:43.031Z"
   },
   {
    "duration": 7,
    "start_time": "2025-01-06T14:38:43.283Z"
   },
   {
    "duration": 11,
    "start_time": "2025-01-06T14:39:17.301Z"
   },
   {
    "duration": 11,
    "start_time": "2025-01-06T14:39:38.111Z"
   },
   {
    "duration": 14,
    "start_time": "2025-01-06T14:39:45.653Z"
   },
   {
    "duration": 3,
    "start_time": "2025-01-06T14:40:08.143Z"
   },
   {
    "duration": 118,
    "start_time": "2025-01-06T14:40:18.159Z"
   },
   {
    "duration": 88,
    "start_time": "2025-01-06T14:41:00.893Z"
   },
   {
    "duration": 12,
    "start_time": "2025-01-06T14:42:04.435Z"
   },
   {
    "duration": 12,
    "start_time": "2025-01-06T14:42:12.991Z"
   },
   {
    "duration": 121,
    "start_time": "2025-01-06T14:42:24.814Z"
   },
   {
    "duration": 13,
    "start_time": "2025-01-06T14:42:28.805Z"
   },
   {
    "duration": 3,
    "start_time": "2025-01-06T14:44:04.361Z"
   },
   {
    "duration": 14,
    "start_time": "2025-01-06T14:44:04.671Z"
   },
   {
    "duration": 3,
    "start_time": "2025-01-06T14:44:40.295Z"
   },
   {
    "duration": 13,
    "start_time": "2025-01-06T14:44:40.991Z"
   },
   {
    "duration": 3,
    "start_time": "2025-01-06T14:46:36.701Z"
   },
   {
    "duration": 15,
    "start_time": "2025-01-06T14:46:37.753Z"
   },
   {
    "duration": 14,
    "start_time": "2025-01-06T14:47:10.211Z"
   },
   {
    "duration": 13,
    "start_time": "2025-01-06T14:49:55.091Z"
   },
   {
    "duration": 3,
    "start_time": "2025-01-06T14:50:48.020Z"
   },
   {
    "duration": 18,
    "start_time": "2025-01-06T15:07:56.012Z"
   },
   {
    "duration": 74,
    "start_time": "2025-01-06T15:11:34.179Z"
   },
   {
    "duration": 439,
    "start_time": "2025-01-06T15:11:38.879Z"
   },
   {
    "duration": 431,
    "start_time": "2025-01-06T15:11:53.275Z"
   },
   {
    "duration": 425,
    "start_time": "2025-01-06T15:12:22.740Z"
   },
   {
    "duration": 424,
    "start_time": "2025-01-06T15:13:47.807Z"
   },
   {
    "duration": 429,
    "start_time": "2025-01-06T15:14:06.062Z"
   },
   {
    "duration": 14,
    "start_time": "2025-01-06T15:15:17.084Z"
   },
   {
    "duration": 13,
    "start_time": "2025-01-06T15:15:22.062Z"
   },
   {
    "duration": 15,
    "start_time": "2025-01-06T15:15:59.319Z"
   },
   {
    "duration": 14,
    "start_time": "2025-01-06T15:16:03.770Z"
   },
   {
    "duration": 3,
    "start_time": "2025-01-06T15:16:35.482Z"
   },
   {
    "duration": 14,
    "start_time": "2025-01-06T15:16:36.330Z"
   },
   {
    "duration": 420,
    "start_time": "2025-01-06T15:16:38.712Z"
   },
   {
    "duration": 1232,
    "start_time": "2025-01-06T15:16:50.565Z"
   },
   {
    "duration": 1254,
    "start_time": "2025-01-06T15:18:04.339Z"
   },
   {
    "duration": 1256,
    "start_time": "2025-01-06T15:19:21.902Z"
   },
   {
    "duration": 1225,
    "start_time": "2025-01-06T15:19:43.953Z"
   },
   {
    "duration": 1320,
    "start_time": "2025-01-06T15:21:06.176Z"
   },
   {
    "duration": 1241,
    "start_time": "2025-01-06T15:21:18.379Z"
   },
   {
    "duration": 1266,
    "start_time": "2025-01-06T15:24:21.580Z"
   },
   {
    "duration": 1255,
    "start_time": "2025-01-06T15:24:44.141Z"
   },
   {
    "duration": 1232,
    "start_time": "2025-01-06T15:24:57.509Z"
   },
   {
    "duration": 1218,
    "start_time": "2025-01-06T15:28:53.380Z"
   },
   {
    "duration": 1241,
    "start_time": "2025-01-06T15:29:09.647Z"
   },
   {
    "duration": 1235,
    "start_time": "2025-01-06T15:30:32.543Z"
   },
   {
    "duration": 5,
    "start_time": "2025-01-06T15:33:04.835Z"
   },
   {
    "duration": 5,
    "start_time": "2025-01-06T15:33:10.770Z"
   },
   {
    "duration": 969,
    "start_time": "2025-01-06T15:33:10.779Z"
   },
   {
    "duration": 30,
    "start_time": "2025-01-06T15:33:11.750Z"
   },
   {
    "duration": 6,
    "start_time": "2025-01-06T15:33:11.782Z"
   },
   {
    "duration": 991,
    "start_time": "2025-01-06T15:33:11.791Z"
   },
   {
    "duration": 83,
    "start_time": "2025-01-06T15:33:12.784Z"
   },
   {
    "duration": 4,
    "start_time": "2025-01-06T15:33:12.868Z"
   },
   {
    "duration": 58,
    "start_time": "2025-01-06T15:33:12.874Z"
   },
   {
    "duration": 6,
    "start_time": "2025-01-06T15:33:12.933Z"
   },
   {
    "duration": 14,
    "start_time": "2025-01-06T15:33:12.940Z"
   },
   {
    "duration": 4,
    "start_time": "2025-01-06T15:33:12.956Z"
   },
   {
    "duration": 15,
    "start_time": "2025-01-06T15:33:12.961Z"
   },
   {
    "duration": 23,
    "start_time": "2025-01-06T15:33:12.978Z"
   },
   {
    "duration": 12,
    "start_time": "2025-01-06T15:33:13.002Z"
   },
   {
    "duration": 13,
    "start_time": "2025-01-06T15:33:13.016Z"
   },
   {
    "duration": 7,
    "start_time": "2025-01-06T15:33:13.030Z"
   },
   {
    "duration": 10,
    "start_time": "2025-01-06T15:33:13.039Z"
   },
   {
    "duration": 27188,
    "start_time": "2025-01-06T15:33:13.050Z"
   },
   {
    "duration": 4,
    "start_time": "2025-01-06T15:33:40.330Z"
   },
   {
    "duration": 106,
    "start_time": "2025-01-06T15:33:40.336Z"
   },
   {
    "duration": 9,
    "start_time": "2025-01-06T15:33:40.444Z"
   },
   {
    "duration": 15,
    "start_time": "2025-01-06T15:33:40.454Z"
   },
   {
    "duration": 1265,
    "start_time": "2025-01-06T15:33:40.470Z"
   },
   {
    "duration": 5,
    "start_time": "2025-01-06T15:34:02.951Z"
   },
   {
    "duration": 912,
    "start_time": "2025-01-06T15:34:02.958Z"
   },
   {
    "duration": 31,
    "start_time": "2025-01-06T15:34:03.872Z"
   },
   {
    "duration": 28,
    "start_time": "2025-01-06T15:34:03.904Z"
   },
   {
    "duration": 936,
    "start_time": "2025-01-06T15:34:03.934Z"
   },
   {
    "duration": 80,
    "start_time": "2025-01-06T15:34:04.871Z"
   },
   {
    "duration": 4,
    "start_time": "2025-01-06T15:34:04.953Z"
   },
   {
    "duration": 36,
    "start_time": "2025-01-06T15:34:04.958Z"
   },
   {
    "duration": 10,
    "start_time": "2025-01-06T15:34:04.996Z"
   },
   {
    "duration": 29,
    "start_time": "2025-01-06T15:34:05.008Z"
   },
   {
    "duration": 5,
    "start_time": "2025-01-06T15:34:05.040Z"
   },
   {
    "duration": 8,
    "start_time": "2025-01-06T15:34:05.046Z"
   },
   {
    "duration": 8,
    "start_time": "2025-01-06T15:34:05.055Z"
   },
   {
    "duration": 15,
    "start_time": "2025-01-06T15:34:05.065Z"
   },
   {
    "duration": 4,
    "start_time": "2025-01-06T15:34:05.082Z"
   },
   {
    "duration": 31,
    "start_time": "2025-01-06T15:34:05.087Z"
   },
   {
    "duration": 51,
    "start_time": "2025-01-06T15:34:05.120Z"
   },
   {
    "duration": 28763,
    "start_time": "2025-01-06T15:34:05.172Z"
   },
   {
    "duration": 92,
    "start_time": "2025-01-06T15:34:33.937Z"
   },
   {
    "duration": 23,
    "start_time": "2025-01-06T15:34:34.031Z"
   },
   {
    "duration": 4,
    "start_time": "2025-01-06T15:34:34.055Z"
   },
   {
    "duration": 17,
    "start_time": "2025-01-06T15:34:34.060Z"
   },
   {
    "duration": 1253,
    "start_time": "2025-01-06T15:34:34.078Z"
   },
   {
    "duration": 1282,
    "start_time": "2025-01-06T15:35:15.176Z"
   },
   {
    "duration": 1301,
    "start_time": "2025-01-06T15:35:31.631Z"
   },
   {
    "duration": 1253,
    "start_time": "2025-01-06T15:35:37.282Z"
   },
   {
    "duration": 8167,
    "start_time": "2025-01-06T15:36:46.655Z"
   },
   {
    "duration": 1801,
    "start_time": "2025-01-06T15:36:54.825Z"
   },
   {
    "duration": 821,
    "start_time": "2025-01-06T15:36:56.627Z"
   },
   {
    "duration": 33,
    "start_time": "2025-01-06T15:36:57.450Z"
   },
   {
    "duration": 8,
    "start_time": "2025-01-06T15:36:57.485Z"
   },
   {
    "duration": 928,
    "start_time": "2025-01-06T15:36:57.494Z"
   },
   {
    "duration": 62,
    "start_time": "2025-01-06T15:36:58.430Z"
   },
   {
    "duration": 4,
    "start_time": "2025-01-06T15:36:58.494Z"
   },
   {
    "duration": 55,
    "start_time": "2025-01-06T15:36:58.500Z"
   },
   {
    "duration": 5,
    "start_time": "2025-01-06T15:36:58.557Z"
   },
   {
    "duration": 14,
    "start_time": "2025-01-06T15:36:58.564Z"
   },
   {
    "duration": 4,
    "start_time": "2025-01-06T15:36:58.580Z"
   },
   {
    "duration": 7,
    "start_time": "2025-01-06T15:36:58.586Z"
   },
   {
    "duration": 10,
    "start_time": "2025-01-06T15:36:58.596Z"
   },
   {
    "duration": 16,
    "start_time": "2025-01-06T15:36:58.607Z"
   },
   {
    "duration": 4,
    "start_time": "2025-01-06T15:36:58.625Z"
   },
   {
    "duration": 35,
    "start_time": "2025-01-06T15:36:58.630Z"
   },
   {
    "duration": 9,
    "start_time": "2025-01-06T15:36:58.666Z"
   },
   {
    "duration": 26071,
    "start_time": "2025-01-06T15:36:58.676Z"
   },
   {
    "duration": 83,
    "start_time": "2025-01-06T15:37:24.749Z"
   },
   {
    "duration": 106,
    "start_time": "2025-01-06T15:37:24.834Z"
   },
   {
    "duration": 22,
    "start_time": "2025-01-06T15:37:24.942Z"
   },
   {
    "duration": 152,
    "start_time": "2025-01-06T15:37:24.966Z"
   },
   {
    "duration": 0,
    "start_time": "2025-01-06T15:37:25.120Z"
   },
   {
    "duration": 14,
    "start_time": "2025-01-06T15:37:43.288Z"
   },
   {
    "duration": 14,
    "start_time": "2025-01-06T15:37:45.408Z"
   },
   {
    "duration": 1291,
    "start_time": "2025-01-06T15:37:55.489Z"
   },
   {
    "duration": 7967,
    "start_time": "2025-01-06T15:38:05.244Z"
   },
   {
    "duration": 1864,
    "start_time": "2025-01-06T15:38:13.213Z"
   },
   {
    "duration": 852,
    "start_time": "2025-01-06T15:38:15.078Z"
   },
   {
    "duration": 35,
    "start_time": "2025-01-06T15:38:15.932Z"
   },
   {
    "duration": 7,
    "start_time": "2025-01-06T15:38:15.970Z"
   },
   {
    "duration": 932,
    "start_time": "2025-01-06T15:38:15.979Z"
   },
   {
    "duration": 68,
    "start_time": "2025-01-06T15:38:16.913Z"
   },
   {
    "duration": 4,
    "start_time": "2025-01-06T15:38:16.983Z"
   },
   {
    "duration": 44,
    "start_time": "2025-01-06T15:38:16.988Z"
   },
   {
    "duration": 6,
    "start_time": "2025-01-06T15:38:17.034Z"
   },
   {
    "duration": 10,
    "start_time": "2025-01-06T15:38:17.041Z"
   },
   {
    "duration": 17,
    "start_time": "2025-01-06T15:38:17.052Z"
   },
   {
    "duration": 10,
    "start_time": "2025-01-06T15:38:17.071Z"
   },
   {
    "duration": 44,
    "start_time": "2025-01-06T15:38:17.084Z"
   },
   {
    "duration": 28,
    "start_time": "2025-01-06T15:38:17.129Z"
   },
   {
    "duration": 3,
    "start_time": "2025-01-06T15:38:17.159Z"
   },
   {
    "duration": 43,
    "start_time": "2025-01-06T15:38:17.163Z"
   },
   {
    "duration": 55,
    "start_time": "2025-01-06T15:38:17.208Z"
   },
   {
    "duration": 27466,
    "start_time": "2025-01-06T15:38:17.265Z"
   },
   {
    "duration": 94,
    "start_time": "2025-01-06T15:38:44.738Z"
   },
   {
    "duration": 10,
    "start_time": "2025-01-06T15:38:44.834Z"
   },
   {
    "duration": 5,
    "start_time": "2025-01-06T15:38:44.845Z"
   },
   {
    "duration": 32,
    "start_time": "2025-01-06T15:38:44.851Z"
   },
   {
    "duration": 1309,
    "start_time": "2025-01-06T15:38:44.884Z"
   },
   {
    "duration": 4,
    "start_time": "2025-01-06T15:40:46.792Z"
   },
   {
    "duration": 3,
    "start_time": "2025-01-06T15:41:01.233Z"
   },
   {
    "duration": 4,
    "start_time": "2025-01-06T15:41:05.791Z"
   },
   {
    "duration": 14,
    "start_time": "2025-01-06T15:41:21.690Z"
   },
   {
    "duration": 13,
    "start_time": "2025-01-06T15:41:24.324Z"
   },
   {
    "duration": 10290,
    "start_time": "2025-01-06T15:42:13.294Z"
   },
   {
    "duration": 8086,
    "start_time": "2025-01-06T15:42:41.523Z"
   },
   {
    "duration": 1743,
    "start_time": "2025-01-06T15:42:49.612Z"
   },
   {
    "duration": 974,
    "start_time": "2025-01-06T15:42:51.357Z"
   },
   {
    "duration": 33,
    "start_time": "2025-01-06T15:42:52.334Z"
   },
   {
    "duration": 34,
    "start_time": "2025-01-06T15:42:52.369Z"
   },
   {
    "duration": 888,
    "start_time": "2025-01-06T15:42:52.405Z"
   },
   {
    "duration": 77,
    "start_time": "2025-01-06T15:42:53.295Z"
   },
   {
    "duration": 4,
    "start_time": "2025-01-06T15:42:53.374Z"
   },
   {
    "duration": 33,
    "start_time": "2025-01-06T15:42:53.379Z"
   },
   {
    "duration": 15,
    "start_time": "2025-01-06T15:42:53.415Z"
   },
   {
    "duration": 3,
    "start_time": "2025-01-06T15:42:53.431Z"
   },
   {
    "duration": 3,
    "start_time": "2025-01-06T15:42:53.436Z"
   },
   {
    "duration": 6,
    "start_time": "2025-01-06T15:42:53.440Z"
   },
   {
    "duration": 23,
    "start_time": "2025-01-06T15:42:53.447Z"
   },
   {
    "duration": 12,
    "start_time": "2025-01-06T15:42:53.471Z"
   },
   {
    "duration": 4,
    "start_time": "2025-01-06T15:42:53.484Z"
   },
   {
    "duration": 4,
    "start_time": "2025-01-06T15:42:53.490Z"
   },
   {
    "duration": 10,
    "start_time": "2025-01-06T15:42:53.496Z"
   },
   {
    "duration": 25632,
    "start_time": "2025-01-06T15:42:53.507Z"
   },
   {
    "duration": 99,
    "start_time": "2025-01-06T15:43:19.140Z"
   },
   {
    "duration": 23,
    "start_time": "2025-01-06T15:43:19.330Z"
   },
   {
    "duration": 27,
    "start_time": "2025-01-06T15:43:19.355Z"
   },
   {
    "duration": 34,
    "start_time": "2025-01-06T15:43:19.383Z"
   },
   {
    "duration": 1243,
    "start_time": "2025-01-06T15:43:19.419Z"
   },
   {
    "duration": 3015,
    "start_time": "2025-01-06T15:43:55.592Z"
   },
   {
    "duration": 6,
    "start_time": "2025-01-06T15:44:28.280Z"
   },
   {
    "duration": 4,
    "start_time": "2025-01-06T15:44:37.174Z"
   },
   {
    "duration": 1252,
    "start_time": "2025-01-06T15:45:10.288Z"
   },
   {
    "duration": 5,
    "start_time": "2025-01-06T15:45:24.514Z"
   },
   {
    "duration": 1257,
    "start_time": "2025-01-06T15:45:38.323Z"
   },
   {
    "duration": 3270,
    "start_time": "2025-01-06T15:45:46.682Z"
   },
   {
    "duration": 1807,
    "start_time": "2025-01-06T15:45:49.955Z"
   },
   {
    "duration": 790,
    "start_time": "2025-01-06T15:45:51.764Z"
   },
   {
    "duration": 34,
    "start_time": "2025-01-06T15:45:52.556Z"
   },
   {
    "duration": 8,
    "start_time": "2025-01-06T15:45:52.592Z"
   },
   {
    "duration": 942,
    "start_time": "2025-01-06T15:45:52.602Z"
   },
   {
    "duration": 59,
    "start_time": "2025-01-06T15:45:53.546Z"
   },
   {
    "duration": 4,
    "start_time": "2025-01-06T15:45:53.607Z"
   },
   {
    "duration": 31,
    "start_time": "2025-01-06T15:45:53.629Z"
   },
   {
    "duration": 6,
    "start_time": "2025-01-06T15:45:53.662Z"
   },
   {
    "duration": 2,
    "start_time": "2025-01-06T15:45:53.670Z"
   },
   {
    "duration": 3,
    "start_time": "2025-01-06T15:45:53.674Z"
   },
   {
    "duration": 5,
    "start_time": "2025-01-06T15:45:53.679Z"
   },
   {
    "duration": 6,
    "start_time": "2025-01-06T15:45:53.686Z"
   },
   {
    "duration": 42,
    "start_time": "2025-01-06T15:45:53.693Z"
   },
   {
    "duration": 3,
    "start_time": "2025-01-06T15:45:53.737Z"
   },
   {
    "duration": 4,
    "start_time": "2025-01-06T15:45:53.742Z"
   },
   {
    "duration": 3,
    "start_time": "2025-01-06T15:45:53.748Z"
   },
   {
    "duration": 28384,
    "start_time": "2025-01-06T15:45:53.753Z"
   },
   {
    "duration": 91,
    "start_time": "2025-01-06T15:46:22.140Z"
   },
   {
    "duration": 102,
    "start_time": "2025-01-06T15:46:22.233Z"
   },
   {
    "duration": 4,
    "start_time": "2025-01-06T15:46:22.336Z"
   },
   {
    "duration": 17,
    "start_time": "2025-01-06T15:46:22.341Z"
   },
   {
    "duration": 1248,
    "start_time": "2025-01-06T15:46:22.360Z"
   },
   {
    "duration": 1255,
    "start_time": "2025-01-06T15:47:15.884Z"
   },
   {
    "duration": 1253,
    "start_time": "2025-01-06T15:48:03.399Z"
   },
   {
    "duration": 1249,
    "start_time": "2025-01-06T15:48:24.124Z"
   },
   {
    "duration": 1244,
    "start_time": "2025-01-06T15:48:43.438Z"
   },
   {
    "duration": 1273,
    "start_time": "2025-01-06T15:48:45.912Z"
   },
   {
    "duration": 1232,
    "start_time": "2025-01-06T15:48:48.338Z"
   },
   {
    "duration": 1241,
    "start_time": "2025-01-06T15:48:50.663Z"
   },
   {
    "duration": 3102,
    "start_time": "2025-01-06T15:49:03.180Z"
   },
   {
    "duration": 1755,
    "start_time": "2025-01-06T15:49:06.285Z"
   },
   {
    "duration": 859,
    "start_time": "2025-01-06T15:49:08.042Z"
   },
   {
    "duration": 45,
    "start_time": "2025-01-06T15:49:08.903Z"
   },
   {
    "duration": 8,
    "start_time": "2025-01-06T15:49:08.950Z"
   },
   {
    "duration": 925,
    "start_time": "2025-01-06T15:49:08.960Z"
   },
   {
    "duration": 69,
    "start_time": "2025-01-06T15:49:09.887Z"
   },
   {
    "duration": 4,
    "start_time": "2025-01-06T15:49:09.958Z"
   },
   {
    "duration": 32,
    "start_time": "2025-01-06T15:49:09.964Z"
   },
   {
    "duration": 7,
    "start_time": "2025-01-06T15:49:09.998Z"
   },
   {
    "duration": 8,
    "start_time": "2025-01-06T15:49:10.006Z"
   },
   {
    "duration": 4,
    "start_time": "2025-01-06T15:49:10.030Z"
   },
   {
    "duration": 17,
    "start_time": "2025-01-06T15:49:10.036Z"
   },
   {
    "duration": 21,
    "start_time": "2025-01-06T15:49:10.055Z"
   },
   {
    "duration": 32,
    "start_time": "2025-01-06T15:49:10.078Z"
   },
   {
    "duration": 8,
    "start_time": "2025-01-06T15:49:10.112Z"
   },
   {
    "duration": 7,
    "start_time": "2025-01-06T15:49:10.122Z"
   },
   {
    "duration": 6,
    "start_time": "2025-01-06T15:49:10.130Z"
   },
   {
    "duration": 27606,
    "start_time": "2025-01-06T15:49:10.137Z"
   },
   {
    "duration": 90,
    "start_time": "2025-01-06T15:49:37.744Z"
   },
   {
    "duration": 97,
    "start_time": "2025-01-06T15:49:37.838Z"
   },
   {
    "duration": 23,
    "start_time": "2025-01-06T15:49:37.937Z"
   },
   {
    "duration": 24,
    "start_time": "2025-01-06T15:49:37.962Z"
   },
   {
    "duration": 1267,
    "start_time": "2025-01-06T15:49:37.988Z"
   },
   {
    "duration": 14,
    "start_time": "2025-01-06T15:50:24.898Z"
   },
   {
    "duration": 16,
    "start_time": "2025-01-06T15:50:57.294Z"
   },
   {
    "duration": 14,
    "start_time": "2025-01-06T15:51:11.342Z"
   },
   {
    "duration": 100,
    "start_time": "2025-01-06T15:51:29.303Z"
   },
   {
    "duration": 14,
    "start_time": "2025-01-06T15:51:34.236Z"
   },
   {
    "duration": 15,
    "start_time": "2025-01-06T15:52:14.854Z"
   },
   {
    "duration": 3020,
    "start_time": "2025-01-06T15:52:38.450Z"
   },
   {
    "duration": 1891,
    "start_time": "2025-01-06T15:52:44.897Z"
   },
   {
    "duration": 938,
    "start_time": "2025-01-06T15:52:46.790Z"
   },
   {
    "duration": 33,
    "start_time": "2025-01-06T15:52:47.729Z"
   },
   {
    "duration": 8,
    "start_time": "2025-01-06T15:52:47.764Z"
   },
   {
    "duration": 967,
    "start_time": "2025-01-06T15:52:47.774Z"
   },
   {
    "duration": 64,
    "start_time": "2025-01-06T15:52:48.743Z"
   },
   {
    "duration": 4,
    "start_time": "2025-01-06T15:52:48.809Z"
   },
   {
    "duration": 31,
    "start_time": "2025-01-06T15:52:48.831Z"
   },
   {
    "duration": 47,
    "start_time": "2025-01-06T15:52:48.864Z"
   },
   {
    "duration": 13,
    "start_time": "2025-01-06T15:52:48.912Z"
   },
   {
    "duration": 4,
    "start_time": "2025-01-06T15:52:48.926Z"
   },
   {
    "duration": 4,
    "start_time": "2025-01-06T15:52:48.932Z"
   },
   {
    "duration": 14,
    "start_time": "2025-01-06T15:52:48.937Z"
   },
   {
    "duration": 11,
    "start_time": "2025-01-06T15:52:48.953Z"
   },
   {
    "duration": 3,
    "start_time": "2025-01-06T15:52:48.966Z"
   },
   {
    "duration": 6,
    "start_time": "2025-01-06T15:52:48.970Z"
   },
   {
    "duration": 6,
    "start_time": "2025-01-06T15:52:48.978Z"
   },
   {
    "duration": 26846,
    "start_time": "2025-01-06T15:52:48.986Z"
   },
   {
    "duration": 94,
    "start_time": "2025-01-06T15:53:15.835Z"
   },
   {
    "duration": 28,
    "start_time": "2025-01-06T15:53:15.931Z"
   },
   {
    "duration": 9,
    "start_time": "2025-01-06T15:53:15.961Z"
   },
   {
    "duration": 25,
    "start_time": "2025-01-06T15:53:15.972Z"
   },
   {
    "duration": 1291,
    "start_time": "2025-01-06T15:53:15.999Z"
   },
   {
    "duration": 126,
    "start_time": "2025-01-06T15:56:25.891Z"
   },
   {
    "duration": 3,
    "start_time": "2025-01-06T15:56:32.349Z"
   },
   {
    "duration": 4,
    "start_time": "2025-01-06T15:56:45.020Z"
   },
   {
    "duration": 4,
    "start_time": "2025-01-06T15:56:50.230Z"
   },
   {
    "duration": 1219,
    "start_time": "2025-01-06T15:57:32.331Z"
   },
   {
    "duration": 1217,
    "start_time": "2025-01-06T15:57:38.724Z"
   },
   {
    "duration": 1248,
    "start_time": "2025-01-06T15:57:46.114Z"
   },
   {
    "duration": 1235,
    "start_time": "2025-01-06T15:57:50.609Z"
   },
   {
    "duration": 2450,
    "start_time": "2025-01-06T15:58:06.203Z"
   },
   {
    "duration": 2473,
    "start_time": "2025-01-06T15:58:11.468Z"
   },
   {
    "duration": 2438,
    "start_time": "2025-01-06T15:58:16.244Z"
   },
   {
    "duration": 2425,
    "start_time": "2025-01-06T15:58:22.342Z"
   },
   {
    "duration": 2514,
    "start_time": "2025-01-06T15:58:35.695Z"
   },
   {
    "duration": 2521,
    "start_time": "2025-01-06T15:58:41.258Z"
   },
   {
    "duration": 2503,
    "start_time": "2025-01-06T15:58:51.042Z"
   },
   {
    "duration": 3,
    "start_time": "2025-01-06T15:59:37.125Z"
   },
   {
    "duration": 3130,
    "start_time": "2025-01-06T16:00:38.102Z"
   },
   {
    "duration": 1822,
    "start_time": "2025-01-06T16:00:41.235Z"
   },
   {
    "duration": 919,
    "start_time": "2025-01-06T16:00:43.059Z"
   },
   {
    "duration": 32,
    "start_time": "2025-01-06T16:00:43.980Z"
   },
   {
    "duration": 20,
    "start_time": "2025-01-06T16:00:44.014Z"
   },
   {
    "duration": 918,
    "start_time": "2025-01-06T16:00:44.036Z"
   },
   {
    "duration": 79,
    "start_time": "2025-01-06T16:00:44.956Z"
   },
   {
    "duration": 5,
    "start_time": "2025-01-06T16:00:45.036Z"
   },
   {
    "duration": 54,
    "start_time": "2025-01-06T16:00:45.042Z"
   },
   {
    "duration": 8,
    "start_time": "2025-01-06T16:00:45.098Z"
   },
   {
    "duration": 24,
    "start_time": "2025-01-06T16:00:45.108Z"
   },
   {
    "duration": 47,
    "start_time": "2025-01-06T16:00:45.133Z"
   },
   {
    "duration": 28,
    "start_time": "2025-01-06T16:00:45.181Z"
   },
   {
    "duration": 19,
    "start_time": "2025-01-06T16:00:45.211Z"
   },
   {
    "duration": 27,
    "start_time": "2025-01-06T16:00:45.232Z"
   },
   {
    "duration": 4,
    "start_time": "2025-01-06T16:00:45.260Z"
   },
   {
    "duration": 13,
    "start_time": "2025-01-06T16:00:45.265Z"
   },
   {
    "duration": 65,
    "start_time": "2025-01-06T16:00:45.280Z"
   },
   {
    "duration": 26893,
    "start_time": "2025-01-06T16:00:45.346Z"
   },
   {
    "duration": 3,
    "start_time": "2025-01-06T16:01:12.331Z"
   },
   {
    "duration": 90,
    "start_time": "2025-01-06T16:01:12.336Z"
   },
   {
    "duration": 32,
    "start_time": "2025-01-06T16:01:12.427Z"
   },
   {
    "duration": 115,
    "start_time": "2025-01-06T16:01:12.461Z"
   },
   {
    "duration": 992,
    "start_time": "2025-01-06T16:01:12.578Z"
   },
   {
    "duration": 2547,
    "start_time": "2025-01-06T16:01:55.332Z"
   },
   {
    "duration": 3194,
    "start_time": "2025-01-06T16:02:19.634Z"
   },
   {
    "duration": 2017,
    "start_time": "2025-01-06T16:02:22.831Z"
   },
   {
    "duration": 924,
    "start_time": "2025-01-06T16:02:24.851Z"
   },
   {
    "duration": 33,
    "start_time": "2025-01-06T16:02:25.777Z"
   },
   {
    "duration": 20,
    "start_time": "2025-01-06T16:02:25.812Z"
   },
   {
    "duration": 1008,
    "start_time": "2025-01-06T16:02:25.834Z"
   },
   {
    "duration": 61,
    "start_time": "2025-01-06T16:02:26.844Z"
   },
   {
    "duration": 4,
    "start_time": "2025-01-06T16:02:26.907Z"
   },
   {
    "duration": 95,
    "start_time": "2025-01-06T16:02:26.912Z"
   },
   {
    "duration": 6,
    "start_time": "2025-01-06T16:02:27.010Z"
   },
   {
    "duration": 16,
    "start_time": "2025-01-06T16:02:27.018Z"
   },
   {
    "duration": 23,
    "start_time": "2025-01-06T16:02:27.036Z"
   },
   {
    "duration": 13,
    "start_time": "2025-01-06T16:02:27.061Z"
   },
   {
    "duration": 11,
    "start_time": "2025-01-06T16:02:27.076Z"
   },
   {
    "duration": 20,
    "start_time": "2025-01-06T16:02:27.088Z"
   },
   {
    "duration": 3,
    "start_time": "2025-01-06T16:02:27.110Z"
   },
   {
    "duration": 4,
    "start_time": "2025-01-06T16:02:27.115Z"
   },
   {
    "duration": 7,
    "start_time": "2025-01-06T16:02:27.121Z"
   },
   {
    "duration": 30209,
    "start_time": "2025-01-06T16:02:27.130Z"
   },
   {
    "duration": 89,
    "start_time": "2025-01-06T16:02:57.342Z"
   },
   {
    "duration": 73,
    "start_time": "2025-01-06T16:02:57.433Z"
   },
   {
    "duration": 17,
    "start_time": "2025-01-06T16:02:57.508Z"
   },
   {
    "duration": 23,
    "start_time": "2025-01-06T16:02:57.527Z"
   },
   {
    "duration": 2532,
    "start_time": "2025-01-06T16:02:57.551Z"
   },
   {
    "duration": 6345,
    "start_time": "2025-01-08T10:13:03.599Z"
   },
   {
    "duration": 1360,
    "start_time": "2025-01-08T10:13:09.946Z"
   },
   {
    "duration": 0,
    "start_time": "2025-01-08T10:13:11.307Z"
   },
   {
    "duration": 0,
    "start_time": "2025-01-08T10:13:11.309Z"
   },
   {
    "duration": 0,
    "start_time": "2025-01-08T10:13:11.310Z"
   },
   {
    "duration": 0,
    "start_time": "2025-01-08T10:13:11.311Z"
   },
   {
    "duration": 0,
    "start_time": "2025-01-08T10:13:11.312Z"
   },
   {
    "duration": 0,
    "start_time": "2025-01-08T10:13:11.313Z"
   },
   {
    "duration": 0,
    "start_time": "2025-01-08T10:13:11.321Z"
   },
   {
    "duration": 0,
    "start_time": "2025-01-08T10:13:11.322Z"
   },
   {
    "duration": 0,
    "start_time": "2025-01-08T10:13:11.323Z"
   },
   {
    "duration": 0,
    "start_time": "2025-01-08T10:13:11.324Z"
   },
   {
    "duration": 0,
    "start_time": "2025-01-08T10:13:11.325Z"
   },
   {
    "duration": 0,
    "start_time": "2025-01-08T10:13:11.327Z"
   },
   {
    "duration": 0,
    "start_time": "2025-01-08T10:13:11.328Z"
   },
   {
    "duration": 0,
    "start_time": "2025-01-08T10:13:11.328Z"
   },
   {
    "duration": 0,
    "start_time": "2025-01-08T10:13:11.329Z"
   },
   {
    "duration": 0,
    "start_time": "2025-01-08T10:13:11.331Z"
   },
   {
    "duration": 0,
    "start_time": "2025-01-08T10:13:11.332Z"
   },
   {
    "duration": 0,
    "start_time": "2025-01-08T10:13:11.333Z"
   },
   {
    "duration": 0,
    "start_time": "2025-01-08T10:13:11.334Z"
   },
   {
    "duration": 0,
    "start_time": "2025-01-08T10:13:11.335Z"
   },
   {
    "duration": 0,
    "start_time": "2025-01-08T10:13:11.336Z"
   },
   {
    "duration": 0,
    "start_time": "2025-01-08T10:13:11.337Z"
   },
   {
    "duration": 2906,
    "start_time": "2025-01-08T10:13:35.470Z"
   },
   {
    "duration": 1144,
    "start_time": "2025-01-08T10:13:38.378Z"
   },
   {
    "duration": 981,
    "start_time": "2025-01-08T10:13:39.524Z"
   },
   {
    "duration": 35,
    "start_time": "2025-01-08T10:13:40.506Z"
   },
   {
    "duration": 8,
    "start_time": "2025-01-08T10:13:40.544Z"
   },
   {
    "duration": 823,
    "start_time": "2025-01-08T10:13:40.554Z"
   },
   {
    "duration": 68,
    "start_time": "2025-01-08T10:13:41.379Z"
   },
   {
    "duration": 4,
    "start_time": "2025-01-08T10:13:41.449Z"
   },
   {
    "duration": 41,
    "start_time": "2025-01-08T10:13:41.454Z"
   },
   {
    "duration": 82,
    "start_time": "2025-01-08T10:13:41.497Z"
   },
   {
    "duration": 5,
    "start_time": "2025-01-08T10:13:41.581Z"
   },
   {
    "duration": 7,
    "start_time": "2025-01-08T10:13:41.587Z"
   },
   {
    "duration": 17,
    "start_time": "2025-01-08T10:13:41.595Z"
   },
   {
    "duration": 24,
    "start_time": "2025-01-08T10:13:41.614Z"
   },
   {
    "duration": 13,
    "start_time": "2025-01-08T10:13:41.639Z"
   },
   {
    "duration": 2,
    "start_time": "2025-01-08T10:13:41.654Z"
   },
   {
    "duration": 5,
    "start_time": "2025-01-08T10:13:41.657Z"
   },
   {
    "duration": 40,
    "start_time": "2025-01-08T10:13:41.663Z"
   },
   {
    "duration": 26422,
    "start_time": "2025-01-08T10:13:41.704Z"
   },
   {
    "duration": 3,
    "start_time": "2025-01-08T10:14:08.128Z"
   },
   {
    "duration": 97,
    "start_time": "2025-01-08T10:14:08.133Z"
   },
   {
    "duration": 17,
    "start_time": "2025-01-08T10:14:08.232Z"
   },
   {
    "duration": 30,
    "start_time": "2025-01-08T10:14:08.251Z"
   },
   {
    "duration": 2442,
    "start_time": "2025-01-08T10:14:08.283Z"
   },
   {
    "duration": 1245,
    "start_time": "2025-01-08T11:24:02.792Z"
   },
   {
    "duration": 977,
    "start_time": "2025-01-08T11:24:04.039Z"
   },
   {
    "duration": 31,
    "start_time": "2025-01-08T11:24:05.017Z"
   },
   {
    "duration": 14,
    "start_time": "2025-01-08T11:24:05.050Z"
   },
   {
    "duration": 888,
    "start_time": "2025-01-08T11:24:05.065Z"
   },
   {
    "duration": 110,
    "start_time": "2025-01-08T11:24:05.955Z"
   },
   {
    "duration": 4,
    "start_time": "2025-01-08T11:24:06.121Z"
   },
   {
    "duration": 53,
    "start_time": "2025-01-08T11:24:06.127Z"
   },
   {
    "duration": 32,
    "start_time": "2025-01-08T11:24:06.221Z"
   },
   {
    "duration": 66,
    "start_time": "2025-01-08T11:24:06.256Z"
   },
   {
    "duration": 32,
    "start_time": "2025-01-08T11:24:06.324Z"
   },
   {
    "duration": 65,
    "start_time": "2025-01-08T11:24:06.357Z"
   },
   {
    "duration": 60,
    "start_time": "2025-01-08T11:24:06.423Z"
   },
   {
    "duration": 89,
    "start_time": "2025-01-08T11:24:06.485Z"
   },
   {
    "duration": 46,
    "start_time": "2025-01-08T11:24:06.576Z"
   },
   {
    "duration": 41,
    "start_time": "2025-01-08T11:24:06.623Z"
   },
   {
    "duration": 38,
    "start_time": "2025-01-08T11:24:06.666Z"
   },
   {
    "duration": 25605,
    "start_time": "2025-01-08T11:24:06.722Z"
   },
   {
    "duration": 3,
    "start_time": "2025-01-08T11:24:32.329Z"
   },
   {
    "duration": 9,
    "start_time": "2025-01-08T11:24:32.333Z"
   },
   {
    "duration": 8,
    "start_time": "2025-01-08T11:24:32.343Z"
   },
   {
    "duration": 19,
    "start_time": "2025-01-08T11:24:32.421Z"
   },
   {
    "duration": 2483,
    "start_time": "2025-01-08T11:24:32.442Z"
   },
   {
    "duration": 909,
    "start_time": "2025-01-08T11:25:38.722Z"
   },
   {
    "duration": 796,
    "start_time": "2025-01-08T11:25:39.633Z"
   },
   {
    "duration": 30,
    "start_time": "2025-01-08T11:25:40.431Z"
   },
   {
    "duration": 47,
    "start_time": "2025-01-08T11:25:40.463Z"
   },
   {
    "duration": 795,
    "start_time": "2025-01-08T11:25:40.511Z"
   },
   {
    "duration": 63,
    "start_time": "2025-01-08T11:25:41.307Z"
   },
   {
    "duration": 4,
    "start_time": "2025-01-08T11:25:41.372Z"
   },
   {
    "duration": 49,
    "start_time": "2025-01-08T11:25:41.378Z"
   },
   {
    "duration": 6,
    "start_time": "2025-01-08T11:25:41.429Z"
   },
   {
    "duration": 11,
    "start_time": "2025-01-08T11:25:41.438Z"
   },
   {
    "duration": 12,
    "start_time": "2025-01-08T11:25:41.450Z"
   },
   {
    "duration": 9,
    "start_time": "2025-01-08T11:25:41.463Z"
   },
   {
    "duration": 9,
    "start_time": "2025-01-08T11:25:41.473Z"
   },
   {
    "duration": 14,
    "start_time": "2025-01-08T11:25:41.483Z"
   },
   {
    "duration": 3,
    "start_time": "2025-01-08T11:25:41.499Z"
   },
   {
    "duration": 12,
    "start_time": "2025-01-08T11:25:41.503Z"
   },
   {
    "duration": 25,
    "start_time": "2025-01-08T11:25:41.517Z"
   },
   {
    "duration": 27384,
    "start_time": "2025-01-08T11:25:41.544Z"
   },
   {
    "duration": 3,
    "start_time": "2025-01-08T11:26:08.931Z"
   },
   {
    "duration": 89,
    "start_time": "2025-01-08T11:26:08.936Z"
   },
   {
    "duration": 96,
    "start_time": "2025-01-08T11:26:09.026Z"
   },
   {
    "duration": 16,
    "start_time": "2025-01-08T11:26:09.123Z"
   },
   {
    "duration": 2356,
    "start_time": "2025-01-08T11:26:09.141Z"
   },
   {
    "duration": 74,
    "start_time": "2025-01-08T11:55:37.290Z"
   },
   {
    "duration": 8670,
    "start_time": "2025-01-08T12:13:59.157Z"
   },
   {
    "duration": 8602,
    "start_time": "2025-01-08T12:15:18.935Z"
   },
   {
    "duration": 860,
    "start_time": "2025-01-08T12:16:26.854Z"
   },
   {
    "duration": 954,
    "start_time": "2025-01-08T12:16:27.715Z"
   },
   {
    "duration": 32,
    "start_time": "2025-01-08T12:16:28.671Z"
   },
   {
    "duration": 6,
    "start_time": "2025-01-08T12:16:28.721Z"
   },
   {
    "duration": 1509,
    "start_time": "2025-01-08T12:16:28.729Z"
   },
   {
    "duration": 54,
    "start_time": "2025-01-08T12:16:30.240Z"
   },
   {
    "duration": 34,
    "start_time": "2025-01-08T12:16:30.295Z"
   },
   {
    "duration": 96,
    "start_time": "2025-01-08T12:16:30.331Z"
   },
   {
    "duration": 38,
    "start_time": "2025-01-08T12:16:30.429Z"
   },
   {
    "duration": 25,
    "start_time": "2025-01-08T12:16:30.469Z"
   },
   {
    "duration": 26,
    "start_time": "2025-01-08T12:16:30.495Z"
   },
   {
    "duration": 29,
    "start_time": "2025-01-08T12:16:30.522Z"
   },
   {
    "duration": 24,
    "start_time": "2025-01-08T12:16:30.553Z"
   },
   {
    "duration": 22,
    "start_time": "2025-01-08T12:16:30.578Z"
   },
   {
    "duration": 46,
    "start_time": "2025-01-08T12:16:30.602Z"
   },
   {
    "duration": 4,
    "start_time": "2025-01-08T12:16:30.650Z"
   },
   {
    "duration": 24,
    "start_time": "2025-01-08T12:16:30.655Z"
   },
   {
    "duration": 9619,
    "start_time": "2025-01-08T12:16:30.681Z"
   },
   {
    "duration": 0,
    "start_time": "2025-01-08T12:16:40.302Z"
   },
   {
    "duration": 0,
    "start_time": "2025-01-08T12:16:40.303Z"
   },
   {
    "duration": 0,
    "start_time": "2025-01-08T12:16:40.304Z"
   },
   {
    "duration": 0,
    "start_time": "2025-01-08T12:16:40.305Z"
   },
   {
    "duration": 0,
    "start_time": "2025-01-08T12:16:40.306Z"
   },
   {
    "duration": 9915,
    "start_time": "2025-01-08T12:16:49.313Z"
   },
   {
    "duration": 1432,
    "start_time": "2025-01-08T12:19:33.991Z"
   },
   {
    "duration": 1515,
    "start_time": "2025-01-08T12:19:35.425Z"
   },
   {
    "duration": 84,
    "start_time": "2025-01-08T12:19:36.942Z"
   },
   {
    "duration": 6,
    "start_time": "2025-01-08T12:19:37.028Z"
   },
   {
    "duration": 910,
    "start_time": "2025-01-08T12:19:37.036Z"
   },
   {
    "duration": 74,
    "start_time": "2025-01-08T12:19:37.947Z"
   },
   {
    "duration": 4,
    "start_time": "2025-01-08T12:19:38.023Z"
   },
   {
    "duration": 42,
    "start_time": "2025-01-08T12:19:38.029Z"
   },
   {
    "duration": 6,
    "start_time": "2025-01-08T12:19:38.073Z"
   },
   {
    "duration": 13,
    "start_time": "2025-01-08T12:19:38.081Z"
   },
   {
    "duration": 7,
    "start_time": "2025-01-08T12:19:38.096Z"
   },
   {
    "duration": 17,
    "start_time": "2025-01-08T12:19:38.105Z"
   },
   {
    "duration": 18,
    "start_time": "2025-01-08T12:19:38.124Z"
   },
   {
    "duration": 20,
    "start_time": "2025-01-08T12:19:38.145Z"
   },
   {
    "duration": 12,
    "start_time": "2025-01-08T12:19:38.166Z"
   },
   {
    "duration": 4,
    "start_time": "2025-01-08T12:19:38.179Z"
   },
   {
    "duration": 39,
    "start_time": "2025-01-08T12:19:38.185Z"
   },
   {
    "duration": 24897,
    "start_time": "2025-01-08T12:19:38.226Z"
   },
   {
    "duration": 4,
    "start_time": "2025-01-08T12:20:03.126Z"
   },
   {
    "duration": 90,
    "start_time": "2025-01-08T12:20:03.133Z"
   },
   {
    "duration": 40,
    "start_time": "2025-01-08T12:20:03.225Z"
   },
   {
    "duration": 15,
    "start_time": "2025-01-08T12:20:03.267Z"
   },
   {
    "duration": 2347,
    "start_time": "2025-01-08T12:20:03.284Z"
   },
   {
    "duration": 8953,
    "start_time": "2025-01-08T12:22:50.681Z"
   },
   {
    "duration": 8528,
    "start_time": "2025-01-08T12:23:01.097Z"
   },
   {
    "duration": 1634,
    "start_time": "2025-01-08T12:23:26.789Z"
   },
   {
    "duration": 1118,
    "start_time": "2025-01-08T12:23:28.425Z"
   },
   {
    "duration": 94,
    "start_time": "2025-01-08T12:23:29.544Z"
   },
   {
    "duration": 6,
    "start_time": "2025-01-08T12:23:29.640Z"
   },
   {
    "duration": 1331,
    "start_time": "2025-01-08T12:23:29.648Z"
   },
   {
    "duration": 79,
    "start_time": "2025-01-08T12:23:30.981Z"
   },
   {
    "duration": 4,
    "start_time": "2025-01-08T12:23:31.062Z"
   },
   {
    "duration": 73,
    "start_time": "2025-01-08T12:23:31.067Z"
   },
   {
    "duration": 7,
    "start_time": "2025-01-08T12:23:31.142Z"
   },
   {
    "duration": 26,
    "start_time": "2025-01-08T12:23:31.152Z"
   },
   {
    "duration": 31,
    "start_time": "2025-01-08T12:23:31.179Z"
   },
   {
    "duration": 30,
    "start_time": "2025-01-08T12:23:31.212Z"
   },
   {
    "duration": 25,
    "start_time": "2025-01-08T12:23:31.243Z"
   },
   {
    "duration": 30,
    "start_time": "2025-01-08T12:23:31.269Z"
   },
   {
    "duration": 25,
    "start_time": "2025-01-08T12:23:31.301Z"
   },
   {
    "duration": 8,
    "start_time": "2025-01-08T12:23:31.327Z"
   },
   {
    "duration": 18,
    "start_time": "2025-01-08T12:23:31.336Z"
   },
   {
    "duration": 26673,
    "start_time": "2025-01-08T12:23:31.356Z"
   },
   {
    "duration": 90,
    "start_time": "2025-01-08T12:23:58.032Z"
   },
   {
    "duration": 20,
    "start_time": "2025-01-08T12:23:58.124Z"
   },
   {
    "duration": 40,
    "start_time": "2025-01-08T12:23:58.146Z"
   },
   {
    "duration": 21,
    "start_time": "2025-01-08T12:23:58.187Z"
   },
   {
    "duration": 2466,
    "start_time": "2025-01-08T12:23:58.209Z"
   },
   {
    "duration": 88,
    "start_time": "2025-01-08T12:35:31.544Z"
   },
   {
    "duration": 7,
    "start_time": "2025-01-08T12:37:32.695Z"
   },
   {
    "duration": 10337,
    "start_time": "2025-01-08T12:41:24.499Z"
   },
   {
    "duration": 937,
    "start_time": "2025-01-08T12:41:48.496Z"
   },
   {
    "duration": 1099,
    "start_time": "2025-01-08T12:41:49.435Z"
   },
   {
    "duration": 34,
    "start_time": "2025-01-08T12:41:50.536Z"
   },
   {
    "duration": 6,
    "start_time": "2025-01-08T12:41:50.572Z"
   },
   {
    "duration": 900,
    "start_time": "2025-01-08T12:41:50.580Z"
   },
   {
    "duration": 71,
    "start_time": "2025-01-08T12:41:51.482Z"
   },
   {
    "duration": 5,
    "start_time": "2025-01-08T12:41:51.555Z"
   },
   {
    "duration": 56,
    "start_time": "2025-01-08T12:41:51.563Z"
   },
   {
    "duration": 12,
    "start_time": "2025-01-08T12:41:51.620Z"
   },
   {
    "duration": 61,
    "start_time": "2025-01-08T12:41:51.636Z"
   },
   {
    "duration": 44,
    "start_time": "2025-01-08T12:41:51.698Z"
   },
   {
    "duration": 7,
    "start_time": "2025-01-08T12:41:51.744Z"
   },
   {
    "duration": 79,
    "start_time": "2025-01-08T12:41:51.753Z"
   },
   {
    "duration": 57,
    "start_time": "2025-01-08T12:41:51.833Z"
   },
   {
    "duration": 16,
    "start_time": "2025-01-08T12:41:51.892Z"
   },
   {
    "duration": 21,
    "start_time": "2025-01-08T12:41:51.910Z"
   },
   {
    "duration": 30,
    "start_time": "2025-01-08T12:41:51.933Z"
   },
   {
    "duration": 28561,
    "start_time": "2025-01-08T12:41:51.965Z"
   },
   {
    "duration": 3,
    "start_time": "2025-01-08T12:42:20.528Z"
   },
   {
    "duration": 90,
    "start_time": "2025-01-08T12:42:20.533Z"
   },
   {
    "duration": 25,
    "start_time": "2025-01-08T12:42:20.624Z"
   },
   {
    "duration": 27,
    "start_time": "2025-01-08T12:42:20.650Z"
   },
   {
    "duration": 2350,
    "start_time": "2025-01-08T12:42:20.678Z"
   },
   {
    "duration": 8906,
    "start_time": "2025-01-08T12:53:27.821Z"
   },
   {
    "duration": 0,
    "start_time": "2025-01-08T12:54:44.630Z"
   },
   {
    "duration": 0,
    "start_time": "2025-01-08T12:54:44.631Z"
   },
   {
    "duration": 0,
    "start_time": "2025-01-08T12:54:44.632Z"
   },
   {
    "duration": 0,
    "start_time": "2025-01-08T12:54:44.633Z"
   },
   {
    "duration": 0,
    "start_time": "2025-01-08T12:54:44.634Z"
   },
   {
    "duration": 0,
    "start_time": "2025-01-08T12:54:44.635Z"
   },
   {
    "duration": 0,
    "start_time": "2025-01-08T12:54:44.636Z"
   },
   {
    "duration": 0,
    "start_time": "2025-01-08T12:54:44.637Z"
   },
   {
    "duration": 0,
    "start_time": "2025-01-08T12:54:44.638Z"
   },
   {
    "duration": 0,
    "start_time": "2025-01-08T12:54:44.639Z"
   },
   {
    "duration": 0,
    "start_time": "2025-01-08T12:54:44.640Z"
   },
   {
    "duration": 0,
    "start_time": "2025-01-08T12:54:44.641Z"
   },
   {
    "duration": 0,
    "start_time": "2025-01-08T12:54:44.642Z"
   },
   {
    "duration": 0,
    "start_time": "2025-01-08T12:54:44.643Z"
   },
   {
    "duration": 0,
    "start_time": "2025-01-08T12:54:44.644Z"
   },
   {
    "duration": 0,
    "start_time": "2025-01-08T12:54:44.645Z"
   },
   {
    "duration": 1,
    "start_time": "2025-01-08T12:54:44.646Z"
   },
   {
    "duration": 0,
    "start_time": "2025-01-08T12:54:44.649Z"
   },
   {
    "duration": 0,
    "start_time": "2025-01-08T12:54:44.649Z"
   },
   {
    "duration": 0,
    "start_time": "2025-01-08T12:54:44.650Z"
   },
   {
    "duration": 0,
    "start_time": "2025-01-08T12:54:44.651Z"
   },
   {
    "duration": 0,
    "start_time": "2025-01-08T12:54:44.653Z"
   },
   {
    "duration": 0,
    "start_time": "2025-01-08T12:54:44.654Z"
   },
   {
    "duration": 4,
    "start_time": "2025-01-08T12:54:53.792Z"
   },
   {
    "duration": 866,
    "start_time": "2025-01-08T12:54:53.798Z"
   },
   {
    "duration": 26,
    "start_time": "2025-01-08T12:54:54.666Z"
   },
   {
    "duration": 9,
    "start_time": "2025-01-08T12:54:54.694Z"
   },
   {
    "duration": 907,
    "start_time": "2025-01-08T12:54:54.705Z"
   },
   {
    "duration": 64,
    "start_time": "2025-01-08T12:54:55.613Z"
   },
   {
    "duration": 4,
    "start_time": "2025-01-08T12:54:55.678Z"
   },
   {
    "duration": 40,
    "start_time": "2025-01-08T12:54:55.684Z"
   },
   {
    "duration": 5,
    "start_time": "2025-01-08T12:54:55.726Z"
   },
   {
    "duration": 18,
    "start_time": "2025-01-08T12:54:55.732Z"
   },
   {
    "duration": 23,
    "start_time": "2025-01-08T12:54:55.751Z"
   },
   {
    "duration": 20,
    "start_time": "2025-01-08T12:54:55.776Z"
   },
   {
    "duration": 18,
    "start_time": "2025-01-08T12:54:55.797Z"
   },
   {
    "duration": 12,
    "start_time": "2025-01-08T12:54:55.817Z"
   },
   {
    "duration": 51,
    "start_time": "2025-01-08T12:54:55.831Z"
   },
   {
    "duration": 5,
    "start_time": "2025-01-08T12:54:55.883Z"
   },
   {
    "duration": 12,
    "start_time": "2025-01-08T12:54:55.889Z"
   },
   {
    "duration": 25432,
    "start_time": "2025-01-08T12:54:55.902Z"
   },
   {
    "duration": 0,
    "start_time": "2025-01-08T12:55:21.336Z"
   },
   {
    "duration": 0,
    "start_time": "2025-01-08T12:55:21.342Z"
   },
   {
    "duration": 0,
    "start_time": "2025-01-08T12:55:21.343Z"
   },
   {
    "duration": 0,
    "start_time": "2025-01-08T12:55:21.344Z"
   },
   {
    "duration": 0,
    "start_time": "2025-01-08T12:55:21.422Z"
   },
   {
    "duration": 10368,
    "start_time": "2025-01-08T12:55:27.464Z"
   },
   {
    "duration": 120,
    "start_time": "2025-01-08T12:57:32.785Z"
   },
   {
    "duration": 971,
    "start_time": "2025-01-08T12:57:49.857Z"
   },
   {
    "duration": 792,
    "start_time": "2025-01-08T12:57:50.830Z"
   },
   {
    "duration": 35,
    "start_time": "2025-01-08T12:57:51.623Z"
   },
   {
    "duration": 6,
    "start_time": "2025-01-08T12:57:51.661Z"
   },
   {
    "duration": 928,
    "start_time": "2025-01-08T12:57:51.669Z"
   },
   {
    "duration": 73,
    "start_time": "2025-01-08T12:57:52.598Z"
   },
   {
    "duration": 4,
    "start_time": "2025-01-08T12:57:52.672Z"
   },
   {
    "duration": 46,
    "start_time": "2025-01-08T12:57:52.678Z"
   },
   {
    "duration": 6,
    "start_time": "2025-01-08T12:57:52.726Z"
   },
   {
    "duration": 3,
    "start_time": "2025-01-08T12:57:52.735Z"
   },
   {
    "duration": 12,
    "start_time": "2025-01-08T12:57:52.739Z"
   },
   {
    "duration": 24,
    "start_time": "2025-01-08T12:57:52.753Z"
   },
   {
    "duration": 23,
    "start_time": "2025-01-08T12:57:52.779Z"
   },
   {
    "duration": 19,
    "start_time": "2025-01-08T12:57:52.803Z"
   },
   {
    "duration": 16,
    "start_time": "2025-01-08T12:57:52.824Z"
   },
   {
    "duration": 15,
    "start_time": "2025-01-08T12:57:52.842Z"
   },
   {
    "duration": 8,
    "start_time": "2025-01-08T12:57:52.858Z"
   },
   {
    "duration": 27856,
    "start_time": "2025-01-08T12:57:52.867Z"
   },
   {
    "duration": 3,
    "start_time": "2025-01-08T12:58:20.724Z"
   },
   {
    "duration": 17,
    "start_time": "2025-01-08T12:58:20.729Z"
   },
   {
    "duration": 27,
    "start_time": "2025-01-08T12:58:20.748Z"
   },
   {
    "duration": 24,
    "start_time": "2025-01-08T12:58:20.776Z"
   },
   {
    "duration": 2324,
    "start_time": "2025-01-08T12:58:20.822Z"
   },
   {
    "duration": 87,
    "start_time": "2025-01-08T13:10:02.128Z"
   },
   {
    "duration": 2245,
    "start_time": "2025-01-08T13:21:25.159Z"
   },
   {
    "duration": 915,
    "start_time": "2025-01-08T13:38:18.919Z"
   },
   {
    "duration": 1031,
    "start_time": "2025-01-08T13:38:19.836Z"
   },
   {
    "duration": 35,
    "start_time": "2025-01-08T13:38:20.868Z"
   },
   {
    "duration": 23,
    "start_time": "2025-01-08T13:38:20.905Z"
   },
   {
    "duration": 826,
    "start_time": "2025-01-08T13:38:20.930Z"
   },
   {
    "duration": 66,
    "start_time": "2025-01-08T13:38:21.758Z"
   },
   {
    "duration": 4,
    "start_time": "2025-01-08T13:38:21.826Z"
   },
   {
    "duration": 35,
    "start_time": "2025-01-08T13:38:21.831Z"
   },
   {
    "duration": 6,
    "start_time": "2025-01-08T13:38:21.867Z"
   },
   {
    "duration": 5,
    "start_time": "2025-01-08T13:38:21.874Z"
   },
   {
    "duration": 25,
    "start_time": "2025-01-08T13:38:21.880Z"
   },
   {
    "duration": 25,
    "start_time": "2025-01-08T13:38:21.906Z"
   },
   {
    "duration": 22,
    "start_time": "2025-01-08T13:38:21.933Z"
   },
   {
    "duration": 14,
    "start_time": "2025-01-08T13:38:21.958Z"
   },
   {
    "duration": 12,
    "start_time": "2025-01-08T13:38:21.973Z"
   },
   {
    "duration": 4,
    "start_time": "2025-01-08T13:38:21.986Z"
   },
   {
    "duration": 9,
    "start_time": "2025-01-08T13:38:21.992Z"
   },
   {
    "duration": 27321,
    "start_time": "2025-01-08T13:38:22.002Z"
   },
   {
    "duration": 4,
    "start_time": "2025-01-08T13:38:49.325Z"
   },
   {
    "duration": 96,
    "start_time": "2025-01-08T13:38:49.330Z"
   },
   {
    "duration": 30,
    "start_time": "2025-01-08T13:38:49.427Z"
   },
   {
    "duration": 18,
    "start_time": "2025-01-08T13:38:49.458Z"
   },
   {
    "duration": 2321,
    "start_time": "2025-01-08T13:38:49.478Z"
   },
   {
    "duration": 924,
    "start_time": "2025-01-08T13:54:20.797Z"
   },
   {
    "duration": 910,
    "start_time": "2025-01-08T13:54:21.723Z"
   },
   {
    "duration": 34,
    "start_time": "2025-01-08T13:54:22.634Z"
   },
   {
    "duration": 59,
    "start_time": "2025-01-08T13:54:22.670Z"
   },
   {
    "duration": 901,
    "start_time": "2025-01-08T13:54:22.731Z"
   },
   {
    "duration": 51,
    "start_time": "2025-01-08T13:54:23.634Z"
   },
   {
    "duration": 4,
    "start_time": "2025-01-08T13:54:23.686Z"
   },
   {
    "duration": 51,
    "start_time": "2025-01-08T13:54:23.691Z"
   },
   {
    "duration": 38,
    "start_time": "2025-01-08T13:54:23.744Z"
   },
   {
    "duration": 36,
    "start_time": "2025-01-08T13:54:23.783Z"
   },
   {
    "duration": 8,
    "start_time": "2025-01-08T13:54:23.820Z"
   },
   {
    "duration": 4,
    "start_time": "2025-01-08T13:54:23.829Z"
   },
   {
    "duration": 30,
    "start_time": "2025-01-08T13:54:23.834Z"
   },
   {
    "duration": 30,
    "start_time": "2025-01-08T13:54:23.866Z"
   },
   {
    "duration": 12,
    "start_time": "2025-01-08T13:54:23.898Z"
   },
   {
    "duration": 3,
    "start_time": "2025-01-08T13:54:23.912Z"
   },
   {
    "duration": 5,
    "start_time": "2025-01-08T13:54:23.917Z"
   },
   {
    "duration": 25414,
    "start_time": "2025-01-08T13:54:23.924Z"
   },
   {
    "duration": 3,
    "start_time": "2025-01-08T13:54:49.422Z"
   },
   {
    "duration": 5,
    "start_time": "2025-01-08T13:54:49.427Z"
   },
   {
    "duration": 12,
    "start_time": "2025-01-08T13:54:49.434Z"
   },
   {
    "duration": 83,
    "start_time": "2025-01-08T13:54:49.448Z"
   },
   {
    "duration": 2427,
    "start_time": "2025-01-08T13:54:49.533Z"
   },
   {
    "duration": 83,
    "start_time": "2025-01-08T15:44:25.026Z"
   },
   {
    "duration": 1005,
    "start_time": "2025-01-08T16:12:09.028Z"
   },
   {
    "duration": 1197,
    "start_time": "2025-01-08T16:12:10.036Z"
   },
   {
    "duration": 32,
    "start_time": "2025-01-08T16:12:11.234Z"
   },
   {
    "duration": 6,
    "start_time": "2025-01-08T16:12:11.268Z"
   },
   {
    "duration": 904,
    "start_time": "2025-01-08T16:12:11.275Z"
   },
   {
    "duration": 63,
    "start_time": "2025-01-08T16:12:12.181Z"
   },
   {
    "duration": 20,
    "start_time": "2025-01-08T16:12:12.246Z"
   },
   {
    "duration": 67,
    "start_time": "2025-01-08T16:12:12.267Z"
   },
   {
    "duration": 5,
    "start_time": "2025-01-08T16:12:12.336Z"
   },
   {
    "duration": 14,
    "start_time": "2025-01-08T16:12:12.344Z"
   },
   {
    "duration": 31,
    "start_time": "2025-01-08T16:12:12.360Z"
   },
   {
    "duration": 24,
    "start_time": "2025-01-08T16:12:12.394Z"
   },
   {
    "duration": 42,
    "start_time": "2025-01-08T16:12:12.421Z"
   },
   {
    "duration": 24,
    "start_time": "2025-01-08T16:12:12.465Z"
   },
   {
    "duration": 20,
    "start_time": "2025-01-08T16:12:12.490Z"
   },
   {
    "duration": 5,
    "start_time": "2025-01-08T16:12:12.511Z"
   },
   {
    "duration": 21,
    "start_time": "2025-01-08T16:12:12.517Z"
   },
   {
    "duration": 27995,
    "start_time": "2025-01-08T16:12:12.540Z"
   },
   {
    "duration": 3,
    "start_time": "2025-01-08T16:12:40.537Z"
   },
   {
    "duration": 100,
    "start_time": "2025-01-08T16:12:40.621Z"
   },
   {
    "duration": 3,
    "start_time": "2025-01-08T16:12:40.723Z"
   },
   {
    "duration": 39,
    "start_time": "2025-01-08T16:12:40.727Z"
   },
   {
    "duration": 2366,
    "start_time": "2025-01-08T16:12:40.767Z"
   },
   {
    "duration": 993,
    "start_time": "2025-01-08T16:13:06.344Z"
   },
   {
    "duration": 954,
    "start_time": "2025-01-08T16:13:07.339Z"
   },
   {
    "duration": 45,
    "start_time": "2025-01-08T16:13:08.295Z"
   },
   {
    "duration": 14,
    "start_time": "2025-01-08T16:13:08.342Z"
   },
   {
    "duration": 909,
    "start_time": "2025-01-08T16:13:08.357Z"
   },
   {
    "duration": 76,
    "start_time": "2025-01-08T16:13:09.268Z"
   },
   {
    "duration": 4,
    "start_time": "2025-01-08T16:13:09.346Z"
   },
   {
    "duration": 41,
    "start_time": "2025-01-08T16:13:09.351Z"
   },
   {
    "duration": 6,
    "start_time": "2025-01-08T16:13:09.394Z"
   },
   {
    "duration": 9,
    "start_time": "2025-01-08T16:13:09.402Z"
   },
   {
    "duration": 3,
    "start_time": "2025-01-08T16:13:09.422Z"
   },
   {
    "duration": 4,
    "start_time": "2025-01-08T16:13:09.426Z"
   },
   {
    "duration": 21,
    "start_time": "2025-01-08T16:13:09.431Z"
   },
   {
    "duration": 10,
    "start_time": "2025-01-08T16:13:09.454Z"
   },
   {
    "duration": 12,
    "start_time": "2025-01-08T16:13:09.465Z"
   },
   {
    "duration": 4,
    "start_time": "2025-01-08T16:13:09.479Z"
   },
   {
    "duration": 3,
    "start_time": "2025-01-08T16:13:09.484Z"
   },
   {
    "duration": 26544,
    "start_time": "2025-01-08T16:13:09.489Z"
   },
   {
    "duration": 4,
    "start_time": "2025-01-08T16:13:36.035Z"
   },
   {
    "duration": 54,
    "start_time": "2025-01-08T16:13:36.041Z"
   },
   {
    "duration": 57,
    "start_time": "2025-01-08T16:13:36.097Z"
   },
   {
    "duration": 100,
    "start_time": "2025-01-08T16:13:36.156Z"
   },
   {
    "duration": 2426,
    "start_time": "2025-01-08T16:13:36.258Z"
   },
   {
    "duration": 8,
    "start_time": "2025-01-09T07:41:24.559Z"
   },
   {
    "duration": 69,
    "start_time": "2025-01-09T07:44:29.194Z"
   },
   {
    "duration": 1162,
    "start_time": "2025-01-09T07:44:36.874Z"
   },
   {
    "duration": 0,
    "start_time": "2025-01-09T07:44:38.038Z"
   },
   {
    "duration": 0,
    "start_time": "2025-01-09T07:44:38.040Z"
   },
   {
    "duration": 0,
    "start_time": "2025-01-09T07:44:38.041Z"
   },
   {
    "duration": 0,
    "start_time": "2025-01-09T07:44:38.043Z"
   },
   {
    "duration": 0,
    "start_time": "2025-01-09T07:44:38.044Z"
   },
   {
    "duration": 0,
    "start_time": "2025-01-09T07:44:38.046Z"
   },
   {
    "duration": 0,
    "start_time": "2025-01-09T07:44:38.047Z"
   },
   {
    "duration": 0,
    "start_time": "2025-01-09T07:44:38.049Z"
   },
   {
    "duration": 0,
    "start_time": "2025-01-09T07:44:38.052Z"
   },
   {
    "duration": 0,
    "start_time": "2025-01-09T07:44:38.053Z"
   },
   {
    "duration": 0,
    "start_time": "2025-01-09T07:44:38.055Z"
   },
   {
    "duration": 0,
    "start_time": "2025-01-09T07:44:38.056Z"
   },
   {
    "duration": 0,
    "start_time": "2025-01-09T07:44:38.058Z"
   },
   {
    "duration": 0,
    "start_time": "2025-01-09T07:44:38.059Z"
   },
   {
    "duration": 0,
    "start_time": "2025-01-09T07:44:38.060Z"
   },
   {
    "duration": 0,
    "start_time": "2025-01-09T07:44:38.062Z"
   },
   {
    "duration": 0,
    "start_time": "2025-01-09T07:44:38.064Z"
   },
   {
    "duration": 0,
    "start_time": "2025-01-09T07:44:38.065Z"
   },
   {
    "duration": 0,
    "start_time": "2025-01-09T07:44:38.067Z"
   },
   {
    "duration": 0,
    "start_time": "2025-01-09T07:44:38.068Z"
   },
   {
    "duration": 0,
    "start_time": "2025-01-09T07:44:38.070Z"
   },
   {
    "duration": 0,
    "start_time": "2025-01-09T07:44:38.071Z"
   },
   {
    "duration": 1218,
    "start_time": "2025-01-09T07:45:33.137Z"
   },
   {
    "duration": 0,
    "start_time": "2025-01-09T07:45:34.357Z"
   },
   {
    "duration": 0,
    "start_time": "2025-01-09T07:45:34.358Z"
   },
   {
    "duration": 0,
    "start_time": "2025-01-09T07:45:34.358Z"
   },
   {
    "duration": 0,
    "start_time": "2025-01-09T07:45:34.359Z"
   },
   {
    "duration": 0,
    "start_time": "2025-01-09T07:45:34.360Z"
   },
   {
    "duration": 0,
    "start_time": "2025-01-09T07:45:34.361Z"
   },
   {
    "duration": 0,
    "start_time": "2025-01-09T07:45:34.363Z"
   },
   {
    "duration": 0,
    "start_time": "2025-01-09T07:45:34.365Z"
   },
   {
    "duration": 0,
    "start_time": "2025-01-09T07:45:34.366Z"
   },
   {
    "duration": 0,
    "start_time": "2025-01-09T07:45:34.368Z"
   },
   {
    "duration": 0,
    "start_time": "2025-01-09T07:45:34.369Z"
   },
   {
    "duration": 0,
    "start_time": "2025-01-09T07:45:34.369Z"
   },
   {
    "duration": 0,
    "start_time": "2025-01-09T07:45:34.370Z"
   },
   {
    "duration": 0,
    "start_time": "2025-01-09T07:45:34.371Z"
   },
   {
    "duration": 0,
    "start_time": "2025-01-09T07:45:34.372Z"
   },
   {
    "duration": 0,
    "start_time": "2025-01-09T07:45:34.373Z"
   },
   {
    "duration": 0,
    "start_time": "2025-01-09T07:45:34.374Z"
   },
   {
    "duration": 0,
    "start_time": "2025-01-09T07:45:34.375Z"
   },
   {
    "duration": 0,
    "start_time": "2025-01-09T07:45:34.375Z"
   },
   {
    "duration": 0,
    "start_time": "2025-01-09T07:45:34.377Z"
   },
   {
    "duration": 0,
    "start_time": "2025-01-09T07:45:34.377Z"
   },
   {
    "duration": 0,
    "start_time": "2025-01-09T07:45:34.378Z"
   },
   {
    "duration": 7000,
    "start_time": "2025-01-09T07:47:46.827Z"
   },
   {
    "duration": 15,
    "start_time": "2025-01-09T07:47:54.821Z"
   },
   {
    "duration": 5,
    "start_time": "2025-01-09T07:48:46.260Z"
   },
   {
    "duration": 970,
    "start_time": "2025-01-09T07:48:59.777Z"
   },
   {
    "duration": 1023,
    "start_time": "2025-01-09T07:49:00.749Z"
   },
   {
    "duration": 35,
    "start_time": "2025-01-09T07:49:01.774Z"
   },
   {
    "duration": 6,
    "start_time": "2025-01-09T07:49:01.831Z"
   },
   {
    "duration": 923,
    "start_time": "2025-01-09T07:49:01.839Z"
   },
   {
    "duration": 71,
    "start_time": "2025-01-09T07:49:02.763Z"
   },
   {
    "duration": 37,
    "start_time": "2025-01-09T07:49:02.835Z"
   },
   {
    "duration": 71,
    "start_time": "2025-01-09T07:49:02.873Z"
   },
   {
    "duration": 13,
    "start_time": "2025-01-09T07:49:02.946Z"
   },
   {
    "duration": 4,
    "start_time": "2025-01-09T07:49:02.962Z"
   },
   {
    "duration": 8,
    "start_time": "2025-01-09T07:49:02.968Z"
   },
   {
    "duration": 40,
    "start_time": "2025-01-09T07:49:02.977Z"
   },
   {
    "duration": 24,
    "start_time": "2025-01-09T07:49:03.019Z"
   },
   {
    "duration": 113,
    "start_time": "2025-01-09T07:49:03.044Z"
   },
   {
    "duration": 0,
    "start_time": "2025-01-09T07:49:03.158Z"
   },
   {
    "duration": 1,
    "start_time": "2025-01-09T07:49:03.159Z"
   },
   {
    "duration": 0,
    "start_time": "2025-01-09T07:49:03.161Z"
   },
   {
    "duration": 0,
    "start_time": "2025-01-09T07:49:03.162Z"
   },
   {
    "duration": 0,
    "start_time": "2025-01-09T07:49:03.163Z"
   },
   {
    "duration": 0,
    "start_time": "2025-01-09T07:49:03.164Z"
   },
   {
    "duration": 0,
    "start_time": "2025-01-09T07:49:03.165Z"
   },
   {
    "duration": 0,
    "start_time": "2025-01-09T07:49:03.166Z"
   },
   {
    "duration": 0,
    "start_time": "2025-01-09T07:49:03.167Z"
   },
   {
    "duration": 102,
    "start_time": "2025-01-09T07:49:19.466Z"
   },
   {
    "duration": 13,
    "start_time": "2025-01-09T07:49:29.449Z"
   },
   {
    "duration": 9,
    "start_time": "2025-01-09T07:49:59.795Z"
   },
   {
    "duration": 5,
    "start_time": "2025-01-09T07:50:07.163Z"
   },
   {
    "duration": 896,
    "start_time": "2025-01-09T07:50:10.587Z"
   },
   {
    "duration": 45,
    "start_time": "2025-01-09T07:50:11.485Z"
   },
   {
    "duration": 968,
    "start_time": "2025-01-09T07:50:19.163Z"
   },
   {
    "duration": 798,
    "start_time": "2025-01-09T07:50:20.133Z"
   },
   {
    "duration": 38,
    "start_time": "2025-01-09T07:50:20.933Z"
   },
   {
    "duration": 7,
    "start_time": "2025-01-09T07:50:20.974Z"
   },
   {
    "duration": 933,
    "start_time": "2025-01-09T07:50:20.983Z"
   },
   {
    "duration": 72,
    "start_time": "2025-01-09T07:50:21.918Z"
   },
   {
    "duration": 4,
    "start_time": "2025-01-09T07:50:21.991Z"
   },
   {
    "duration": 53,
    "start_time": "2025-01-09T07:50:21.996Z"
   },
   {
    "duration": 10,
    "start_time": "2025-01-09T07:50:22.052Z"
   },
   {
    "duration": 3,
    "start_time": "2025-01-09T07:50:22.065Z"
   },
   {
    "duration": 5,
    "start_time": "2025-01-09T07:50:22.070Z"
   },
   {
    "duration": 4,
    "start_time": "2025-01-09T07:50:22.076Z"
   },
   {
    "duration": 3,
    "start_time": "2025-01-09T07:50:22.082Z"
   },
   {
    "duration": 4,
    "start_time": "2025-01-09T07:50:22.087Z"
   },
   {
    "duration": 45,
    "start_time": "2025-01-09T07:50:22.093Z"
   },
   {
    "duration": 5,
    "start_time": "2025-01-09T07:50:22.140Z"
   },
   {
    "duration": 37,
    "start_time": "2025-01-09T07:50:22.147Z"
   },
   {
    "duration": 27161,
    "start_time": "2025-01-09T07:50:22.186Z"
   },
   {
    "duration": 4,
    "start_time": "2025-01-09T07:50:49.349Z"
   },
   {
    "duration": 13,
    "start_time": "2025-01-09T07:50:49.354Z"
   },
   {
    "duration": 21,
    "start_time": "2025-01-09T07:50:49.369Z"
   },
   {
    "duration": 138,
    "start_time": "2025-01-09T07:50:49.392Z"
   },
   {
    "duration": 0,
    "start_time": "2025-01-09T07:50:49.532Z"
   },
   {
    "duration": 9436,
    "start_time": "2025-01-09T07:51:14.799Z"
   },
   {
    "duration": 9979,
    "start_time": "2025-01-09T07:51:26.351Z"
   },
   {
    "duration": 1029,
    "start_time": "2025-01-09T07:51:47.231Z"
   },
   {
    "duration": 778,
    "start_time": "2025-01-09T07:51:48.262Z"
   },
   {
    "duration": 37,
    "start_time": "2025-01-09T07:51:49.041Z"
   },
   {
    "duration": 7,
    "start_time": "2025-01-09T07:51:49.079Z"
   },
   {
    "duration": 891,
    "start_time": "2025-01-09T07:51:49.088Z"
   },
   {
    "duration": 78,
    "start_time": "2025-01-09T07:51:49.981Z"
   },
   {
    "duration": 4,
    "start_time": "2025-01-09T07:51:50.061Z"
   },
   {
    "duration": 29,
    "start_time": "2025-01-09T07:51:50.066Z"
   },
   {
    "duration": 36,
    "start_time": "2025-01-09T07:51:50.096Z"
   },
   {
    "duration": 4,
    "start_time": "2025-01-09T07:51:50.134Z"
   },
   {
    "duration": 13,
    "start_time": "2025-01-09T07:51:50.139Z"
   },
   {
    "duration": 5,
    "start_time": "2025-01-09T07:51:50.153Z"
   },
   {
    "duration": 12,
    "start_time": "2025-01-09T07:51:50.159Z"
   },
   {
    "duration": 6,
    "start_time": "2025-01-09T07:51:50.174Z"
   },
   {
    "duration": 22,
    "start_time": "2025-01-09T07:51:50.181Z"
   },
   {
    "duration": 5,
    "start_time": "2025-01-09T07:51:50.205Z"
   },
   {
    "duration": 17,
    "start_time": "2025-01-09T07:51:50.212Z"
   },
   {
    "duration": 27411,
    "start_time": "2025-01-09T07:51:50.230Z"
   },
   {
    "duration": 3,
    "start_time": "2025-01-09T07:52:17.731Z"
   },
   {
    "duration": 37,
    "start_time": "2025-01-09T07:52:17.735Z"
   },
   {
    "duration": 16,
    "start_time": "2025-01-09T07:52:17.774Z"
   },
   {
    "duration": 127,
    "start_time": "2025-01-09T07:52:17.792Z"
   },
   {
    "duration": 0,
    "start_time": "2025-01-09T07:52:17.921Z"
   },
   {
    "duration": 3,
    "start_time": "2025-01-09T07:52:39.101Z"
   },
   {
    "duration": 15,
    "start_time": "2025-01-09T07:52:39.839Z"
   },
   {
    "duration": 852,
    "start_time": "2025-01-09T07:52:43.049Z"
   },
   {
    "duration": 2580,
    "start_time": "2025-01-09T07:53:15.926Z"
   },
   {
    "duration": 2542,
    "start_time": "2025-01-09T07:53:22.578Z"
   },
   {
    "duration": 2508,
    "start_time": "2025-01-09T07:53:29.068Z"
   },
   {
    "duration": 2590,
    "start_time": "2025-01-09T07:53:40.297Z"
   },
   {
    "duration": 2645,
    "start_time": "2025-01-09T07:53:45.623Z"
   },
   {
    "duration": 2588,
    "start_time": "2025-01-09T07:53:50.977Z"
   },
   {
    "duration": 2519,
    "start_time": "2025-01-09T07:53:57.006Z"
   },
   {
    "duration": 2513,
    "start_time": "2025-01-09T07:54:08.498Z"
   },
   {
    "duration": 3,
    "start_time": "2025-01-09T07:55:56.908Z"
   },
   {
    "duration": 1054,
    "start_time": "2025-01-09T07:55:59.059Z"
   },
   {
    "duration": 1040,
    "start_time": "2025-01-09T07:56:22.249Z"
   },
   {
    "duration": 3,
    "start_time": "2025-01-09T07:57:20.196Z"
   },
   {
    "duration": 20,
    "start_time": "2025-01-09T07:57:21.263Z"
   },
   {
    "duration": 3,
    "start_time": "2025-01-09T07:58:05.496Z"
   },
   {
    "duration": 19,
    "start_time": "2025-01-09T07:58:06.285Z"
   },
   {
    "duration": 6168,
    "start_time": "2025-01-09T07:58:21.440Z"
   },
   {
    "duration": 6039,
    "start_time": "2025-01-09T07:58:40.113Z"
   },
   {
    "duration": 5963,
    "start_time": "2025-01-09T07:58:52.294Z"
   },
   {
    "duration": 6021,
    "start_time": "2025-01-09T07:59:29.510Z"
   },
   {
    "duration": 6047,
    "start_time": "2025-01-09T07:59:44.824Z"
   },
   {
    "duration": 1018,
    "start_time": "2025-01-09T08:12:41.744Z"
   },
   {
    "duration": 1027,
    "start_time": "2025-01-09T08:12:42.764Z"
   },
   {
    "duration": 47,
    "start_time": "2025-01-09T08:12:43.793Z"
   },
   {
    "duration": 7,
    "start_time": "2025-01-09T08:12:43.843Z"
   },
   {
    "duration": 936,
    "start_time": "2025-01-09T08:12:43.852Z"
   },
   {
    "duration": 79,
    "start_time": "2025-01-09T08:12:44.789Z"
   },
   {
    "duration": 5,
    "start_time": "2025-01-09T08:12:44.869Z"
   },
   {
    "duration": 82,
    "start_time": "2025-01-09T08:12:44.875Z"
   },
   {
    "duration": 6,
    "start_time": "2025-01-09T08:12:44.959Z"
   },
   {
    "duration": 3,
    "start_time": "2025-01-09T08:12:44.967Z"
   },
   {
    "duration": 8,
    "start_time": "2025-01-09T08:12:44.971Z"
   },
   {
    "duration": 7,
    "start_time": "2025-01-09T08:12:44.980Z"
   },
   {
    "duration": 11,
    "start_time": "2025-01-09T08:12:44.988Z"
   },
   {
    "duration": 23,
    "start_time": "2025-01-09T08:12:45.000Z"
   },
   {
    "duration": 65,
    "start_time": "2025-01-09T08:12:45.025Z"
   },
   {
    "duration": 17,
    "start_time": "2025-01-09T08:12:45.092Z"
   },
   {
    "duration": 6,
    "start_time": "2025-01-09T08:12:45.111Z"
   },
   {
    "duration": 28513,
    "start_time": "2025-01-09T08:12:45.119Z"
   },
   {
    "duration": 3,
    "start_time": "2025-01-09T08:13:13.634Z"
   },
   {
    "duration": 91,
    "start_time": "2025-01-09T08:13:13.639Z"
   },
   {
    "duration": 4,
    "start_time": "2025-01-09T08:13:13.732Z"
   },
   {
    "duration": 26,
    "start_time": "2025-01-09T08:13:13.737Z"
   },
   {
    "duration": 6516,
    "start_time": "2025-01-09T08:13:13.765Z"
   },
   {
    "duration": 1033,
    "start_time": "2025-01-09T08:15:01.276Z"
   },
   {
    "duration": 1022,
    "start_time": "2025-01-09T08:15:02.311Z"
   },
   {
    "duration": 37,
    "start_time": "2025-01-09T08:15:03.335Z"
   },
   {
    "duration": 7,
    "start_time": "2025-01-09T08:15:03.375Z"
   },
   {
    "duration": 1036,
    "start_time": "2025-01-09T08:15:03.384Z"
   },
   {
    "duration": 65,
    "start_time": "2025-01-09T08:15:04.431Z"
   },
   {
    "duration": 43,
    "start_time": "2025-01-09T08:15:04.498Z"
   },
   {
    "duration": 34,
    "start_time": "2025-01-09T08:15:04.543Z"
   },
   {
    "duration": 6,
    "start_time": "2025-01-09T08:15:04.579Z"
   },
   {
    "duration": 39,
    "start_time": "2025-01-09T08:15:04.587Z"
   },
   {
    "duration": 12,
    "start_time": "2025-01-09T08:15:04.628Z"
   },
   {
    "duration": 14,
    "start_time": "2025-01-09T08:15:04.642Z"
   },
   {
    "duration": 19,
    "start_time": "2025-01-09T08:15:04.658Z"
   },
   {
    "duration": 45,
    "start_time": "2025-01-09T08:15:04.678Z"
   },
   {
    "duration": 42,
    "start_time": "2025-01-09T08:15:04.725Z"
   },
   {
    "duration": 8,
    "start_time": "2025-01-09T08:15:04.769Z"
   },
   {
    "duration": 43,
    "start_time": "2025-01-09T08:15:04.778Z"
   },
   {
    "duration": 5933,
    "start_time": "2025-01-10T06:06:10.594Z"
   },
   {
    "duration": 0,
    "start_time": "2025-01-10T06:06:16.530Z"
   },
   {
    "duration": 0,
    "start_time": "2025-01-10T06:06:16.531Z"
   },
   {
    "duration": 0,
    "start_time": "2025-01-10T06:06:16.532Z"
   },
   {
    "duration": 0,
    "start_time": "2025-01-10T06:06:16.533Z"
   },
   {
    "duration": 0,
    "start_time": "2025-01-10T06:06:16.534Z"
   },
   {
    "duration": 0,
    "start_time": "2025-01-10T06:06:16.535Z"
   },
   {
    "duration": 0,
    "start_time": "2025-01-10T06:06:16.536Z"
   },
   {
    "duration": 0,
    "start_time": "2025-01-10T06:06:16.538Z"
   },
   {
    "duration": 0,
    "start_time": "2025-01-10T06:06:16.539Z"
   },
   {
    "duration": 0,
    "start_time": "2025-01-10T06:06:16.540Z"
   },
   {
    "duration": 0,
    "start_time": "2025-01-10T06:06:16.542Z"
   },
   {
    "duration": 0,
    "start_time": "2025-01-10T06:06:16.543Z"
   },
   {
    "duration": 0,
    "start_time": "2025-01-10T06:06:16.543Z"
   },
   {
    "duration": 0,
    "start_time": "2025-01-10T06:06:16.545Z"
   },
   {
    "duration": 0,
    "start_time": "2025-01-10T06:06:16.546Z"
   },
   {
    "duration": 0,
    "start_time": "2025-01-10T06:06:16.547Z"
   },
   {
    "duration": 0,
    "start_time": "2025-01-10T06:06:16.548Z"
   },
   {
    "duration": 0,
    "start_time": "2025-01-10T06:06:16.549Z"
   },
   {
    "duration": 0,
    "start_time": "2025-01-10T06:06:16.550Z"
   },
   {
    "duration": 0,
    "start_time": "2025-01-10T06:06:16.551Z"
   },
   {
    "duration": 0,
    "start_time": "2025-01-10T06:06:16.552Z"
   },
   {
    "duration": 0,
    "start_time": "2025-01-10T06:06:16.553Z"
   },
   {
    "duration": 5,
    "start_time": "2025-01-10T06:07:05.342Z"
   },
   {
    "duration": 1268,
    "start_time": "2025-01-10T06:07:08.464Z"
   },
   {
    "duration": 38,
    "start_time": "2025-01-10T06:07:09.735Z"
   },
   {
    "duration": 6,
    "start_time": "2025-01-10T06:07:10.588Z"
   },
   {
    "duration": 916,
    "start_time": "2025-01-10T06:07:10.854Z"
   },
   {
    "duration": 68,
    "start_time": "2025-01-10T06:07:11.772Z"
   },
   {
    "duration": 56,
    "start_time": "2025-01-10T06:07:11.841Z"
   },
   {
    "duration": 31,
    "start_time": "2025-01-10T06:07:13.852Z"
   },
   {
    "duration": 5,
    "start_time": "2025-01-10T06:07:14.155Z"
   },
   {
    "duration": 3,
    "start_time": "2025-01-10T06:07:14.847Z"
   },
   {
    "duration": 3,
    "start_time": "2025-01-10T06:07:15.285Z"
   },
   {
    "duration": 2,
    "start_time": "2025-01-10T06:07:16.075Z"
   },
   {
    "duration": 3,
    "start_time": "2025-01-10T06:07:16.937Z"
   },
   {
    "duration": 9,
    "start_time": "2025-01-10T06:07:18.388Z"
   },
   {
    "duration": 11,
    "start_time": "2025-01-10T06:07:25.165Z"
   },
   {
    "duration": 9,
    "start_time": "2025-01-10T06:07:45.460Z"
   },
   {
    "duration": 9,
    "start_time": "2025-01-10T06:07:47.714Z"
   },
   {
    "duration": 2,
    "start_time": "2025-01-10T06:07:51.418Z"
   },
   {
    "duration": 2,
    "start_time": "2025-01-10T06:08:00.030Z"
   },
   {
    "duration": 4,
    "start_time": "2025-01-10T06:08:01.190Z"
   },
   {
    "duration": 10,
    "start_time": "2025-01-10T06:08:02.251Z"
   },
   {
    "duration": 4,
    "start_time": "2025-01-10T06:08:05.455Z"
   },
   {
    "duration": 3,
    "start_time": "2025-01-10T06:08:05.869Z"
   },
   {
    "duration": 25490,
    "start_time": "2025-01-10T06:08:06.049Z"
   },
   {
    "duration": 3,
    "start_time": "2025-01-10T06:08:31.631Z"
   },
   {
    "duration": 31,
    "start_time": "2025-01-10T06:08:31.636Z"
   },
   {
    "duration": 19,
    "start_time": "2025-01-10T06:08:31.669Z"
   },
   {
    "duration": 60,
    "start_time": "2025-01-10T06:08:31.689Z"
   },
   {
    "duration": 6163,
    "start_time": "2025-01-10T06:08:31.751Z"
   }
  ],
  "kernelspec": {
   "display_name": "Python 3 (ipykernel)",
   "language": "python",
   "name": "python3"
  },
  "language_info": {
   "codemirror_mode": {
    "name": "ipython",
    "version": 3
   },
   "file_extension": ".py",
   "mimetype": "text/x-python",
   "name": "python",
   "nbconvert_exporter": "python",
   "pygments_lexer": "ipython3",
   "version": "3.9.21"
  },
  "toc": {
   "base_numbering": 1,
   "nav_menu": {},
   "number_sections": true,
   "sideBar": true,
   "skip_h1_title": true,
   "title_cell": "Table of Contents",
   "title_sidebar": "Contents",
   "toc_cell": false,
   "toc_position": {
    "height": "911.25px",
    "left": "45px",
    "top": "291.855px",
    "width": "333.73px"
   },
   "toc_section_display": true,
   "toc_window_display": false
  },
  "widgets": {
   "application/vnd.jupyter.widget-state+json": {
    "state": {},
    "version_major": 2,
    "version_minor": 0
   }
  }
 },
 "nbformat": 4,
 "nbformat_minor": 4
}
