{
 "cells": [
  {
   "cell_type": "markdown",
   "metadata": {},
   "source": [
    "## Описание проекта"
   ]
  },
  {
   "cell_type": "markdown",
   "metadata": {},
   "source": [
    "### 🎯 Задача\n",
    "\n",
    "Обучить модель классифицировать комментарии как **токсичные** или **нетоксичные**.  \n",
    "В распоряжении — набор размеченных данных.\n",
    "\n",
    "> 📌 Целевая метрика: **F1-score**  \n",
    "> 🎯 Требование: значение **F1** должно быть **не меньше 0.75**\n",
    "\n",
    "**Исходные данные**  \n",
    "Файл: `toxic_comments.csv`  \n",
    "- `text` — текст комментария  \n",
    "- `toxic` — целевой признак (1 — токсичный, 0 — нетоксичный)\n",
    "\n",
    "---\n",
    "\n",
    "### 🧭 План исследования\n",
    "\n",
    "Будут протестированы 3 подхода:\n",
    "\n",
    "1. **Spacy (лемматизация) + TF-IDF + LogisticRegression**\n",
    "2. **BERT (базовая модель) + LogisticRegression**\n",
    "3. **BERT (после файнтюна)**\n",
    "\n",
    "> ⚙️ Модель №3 обучалась на арендованном сервере:  \n",
    "> GPU: `1×V100 32GB`, CPU: `20 vCPU`, RAM: `64 GB`, SSD: `400 GB`\n",
    "\n",
    "---\n",
    "\n",
    "### 📚 Содержание\n",
    "\n",
    "#### Импорт библиотек\n",
    "\n",
    "#### Подготовка\n",
    "- 2.1 Загрузка данных  \n",
    "- 2.2 Подготовка датасета для TF-IDF  \n",
    "  - 2.2.1 Spacy  \n",
    "  - 2.2.2 NLTK  \n",
    "  - 2.2.3 Пайплайн  \n",
    "- 2.3 Подготовка BERT (базовая модель)\n",
    "\n",
    "#### Обучение\n",
    "- 3.1 TF-IDF  \n",
    "- 3.2 BERT (базовая модель)  \n",
    "  - 3.2.1 Код эмбединга моделью BERT  \n",
    "- 3.3 BERT (после файнтюна)  \n",
    "  - 3.3.1 Код файнтюна модели BERT  \n",
    "  - 3.3.2 Код инференса\n",
    "\n",
    "#### Выводы\n",
    "\n",
    "---\n",
    "\n",
    "### 🧾 Итоговый вывод\n",
    "\n",
    "В ходе проекта были рассмотрены три подхода к классификации токсичных комментариев:\n",
    "\n",
    "- **Spacy + TF-IDF + LogisticRegression** — простая и быстрая, но недостаточно точная модель.\n",
    "- **BERT (базовая модель) + LogisticRegression** — улучшение качества, но без дообучения ограничены возможности.\n",
    "- **BERT (дообученный)** — достигнуто требуемое значение метрики F1 = **0.82**, что превышает порог 0.75.\n",
    "\n",
    "Дообучение модели BERT оказалось наиболее эффективным решением, обеспечив качество, приемлемое для заказчика. Однако стоит учитывать высокие вычислительные затраты и время обучения (около 4.5 часов на мощном сервере).\n",
    "\n",
    "Таким образом, баланс между качеством и ресурсами остаётся важным фактором при выборе подхода, и в текущем случае преимущества дообученной модели BERT перевешивают её недостатки.\n",
    "\n",
    "---\n",
    "\n",
    "**Рекомендация:** Для дальнейших проектов стоит рассмотреть упрощённые модели или оптимизацию процесса дообучения, чтобы снизить ресурсоёмкость без значительной потери качества.\n"
   ]
  },
  {
   "cell_type": "code",
   "execution_count": 1,
   "metadata": {},
   "outputs": [],
   "source": [
    "!pip install gdown -q"
   ]
  },
  {
   "cell_type": "markdown",
   "metadata": {},
   "source": [
    "## Импорт бибилиотек"
   ]
  },
  {
   "cell_type": "code",
   "execution_count": 2,
   "metadata": {},
   "outputs": [],
   "source": [
    "import pandas as pd\n",
    "import numpy as np\n",
    "import seaborn as sns\n",
    "import matplotlib.pyplot as plt\n",
    "import nltk\n",
    "import re\n",
    "import spacy\n",
    "import torch \n",
    "import transformers\n",
    "import time\n",
    "import gdown\n",
    "\n",
    "from tqdm import tqdm\n",
    "from nltk.stem import WordNetLemmatizer\n",
    "from nltk.corpus import stopwords, wordnet\n",
    "from nltk import pos_tag, word_tokenize\n",
    "from sklearn.feature_extraction.text import TfidfVectorizer\n",
    "from sklearn.decomposition import TruncatedSVD\n",
    "from sklearn.pipeline import Pipeline\n",
    "from sklearn.model_selection import train_test_split, GridSearchCV\n",
    "from sklearn.linear_model import LogisticRegression\n",
    "from lightgbm import LGBMClassifier\n",
    "from sklearn.model_selection import StratifiedKFold\n",
    "from sklearn.metrics import (\n",
    "    f1_score,\n",
    "    recall_score, \n",
    "    precision_score,\n",
    "    confusion_matrix\n",
    ")\n",
    "\n",
    "seed = 42"
   ]
  },
  {
   "cell_type": "markdown",
   "metadata": {},
   "source": [
    "## Подготовка"
   ]
  },
  {
   "cell_type": "markdown",
   "metadata": {},
   "source": [
    "### Загрузка данных"
   ]
  },
  {
   "cell_type": "markdown",
   "metadata": {},
   "source": [
    "Загружаем 3 варианта данных под каждый вариант:\n",
    "1. сырой датасет (df) для варианта TF-IDF\n",
    "2. датасет с эмбедингами базовой моделью BERT (bert_basic_features)\n",
    "3. предсказания на тестовой выборке моделью BERT finetuned (bert_finetuned_prediction)"
   ]
  },
  {
   "cell_type": "code",
   "execution_count": 3,
   "metadata": {},
   "outputs": [
    {
     "name": "stdout",
     "output_type": "stream",
     "text": [
      "✅ Сырой датасет загружен:\n"
     ]
    },
    {
     "data": {
      "text/html": [
       "<div>\n",
       "<style scoped>\n",
       "    .dataframe tbody tr th:only-of-type {\n",
       "        vertical-align: middle;\n",
       "    }\n",
       "\n",
       "    .dataframe tbody tr th {\n",
       "        vertical-align: top;\n",
       "    }\n",
       "\n",
       "    .dataframe thead th {\n",
       "        text-align: right;\n",
       "    }\n",
       "</style>\n",
       "<table border=\"1\" class=\"dataframe\">\n",
       "  <thead>\n",
       "    <tr style=\"text-align: right;\">\n",
       "      <th></th>\n",
       "      <th>Unnamed: 0</th>\n",
       "      <th>text</th>\n",
       "      <th>toxic</th>\n",
       "    </tr>\n",
       "  </thead>\n",
       "  <tbody>\n",
       "    <tr>\n",
       "      <th>0</th>\n",
       "      <td>0</td>\n",
       "      <td>Explanation\\nWhy the edits made under my usern...</td>\n",
       "      <td>0</td>\n",
       "    </tr>\n",
       "    <tr>\n",
       "      <th>1</th>\n",
       "      <td>1</td>\n",
       "      <td>D'aww! He matches this background colour I'm s...</td>\n",
       "      <td>0</td>\n",
       "    </tr>\n",
       "    <tr>\n",
       "      <th>2</th>\n",
       "      <td>2</td>\n",
       "      <td>Hey man, I'm really not trying to edit war. It...</td>\n",
       "      <td>0</td>\n",
       "    </tr>\n",
       "    <tr>\n",
       "      <th>3</th>\n",
       "      <td>3</td>\n",
       "      <td>\"\\nMore\\nI can't make any real suggestions on ...</td>\n",
       "      <td>0</td>\n",
       "    </tr>\n",
       "    <tr>\n",
       "      <th>4</th>\n",
       "      <td>4</td>\n",
       "      <td>You, sir, are my hero. Any chance you remember...</td>\n",
       "      <td>0</td>\n",
       "    </tr>\n",
       "  </tbody>\n",
       "</table>\n",
       "</div>"
      ],
      "text/plain": [
       "   Unnamed: 0                                               text  toxic\n",
       "0           0  Explanation\\nWhy the edits made under my usern...      0\n",
       "1           1  D'aww! He matches this background colour I'm s...      0\n",
       "2           2  Hey man, I'm really not trying to edit war. It...      0\n",
       "3           3  \"\\nMore\\nI can't make any real suggestions on ...      0\n",
       "4           4  You, sir, are my hero. Any chance you remember...      0"
      ]
     },
     "metadata": {},
     "output_type": "display_data"
    },
    {
     "name": "stdout",
     "output_type": "stream",
     "text": [
      "✅ Предсказания BERT валидация загружены:\n"
     ]
    },
    {
     "data": {
      "text/html": [
       "<div>\n",
       "<style scoped>\n",
       "    .dataframe tbody tr th:only-of-type {\n",
       "        vertical-align: middle;\n",
       "    }\n",
       "\n",
       "    .dataframe tbody tr th {\n",
       "        vertical-align: top;\n",
       "    }\n",
       "\n",
       "    .dataframe thead th {\n",
       "        text-align: right;\n",
       "    }\n",
       "</style>\n",
       "<table border=\"1\" class=\"dataframe\">\n",
       "  <thead>\n",
       "    <tr style=\"text-align: right;\">\n",
       "      <th></th>\n",
       "      <th>text</th>\n",
       "      <th>true_label</th>\n",
       "      <th>predicted_label</th>\n",
       "      <th>logit_class_0</th>\n",
       "      <th>logit_class_1</th>\n",
       "    </tr>\n",
       "  </thead>\n",
       "  <tbody>\n",
       "    <tr>\n",
       "      <th>0</th>\n",
       "      <td>He can go fuck himself sideways with a spiky s...</td>\n",
       "      <td>1</td>\n",
       "      <td>1</td>\n",
       "      <td>-1.777386</td>\n",
       "      <td>1.081903</td>\n",
       "    </tr>\n",
       "    <tr>\n",
       "      <th>1</th>\n",
       "      <td>However: if what you mean is that you want to ...</td>\n",
       "      <td>0</td>\n",
       "      <td>0</td>\n",
       "      <td>2.607142</td>\n",
       "      <td>-1.885007</td>\n",
       "    </tr>\n",
       "    <tr>\n",
       "      <th>2</th>\n",
       "      <td>Thanks for the welcome!\\nHello Cobaltbluetony....</td>\n",
       "      <td>0</td>\n",
       "      <td>0</td>\n",
       "      <td>2.607144</td>\n",
       "      <td>-1.885006</td>\n",
       "    </tr>\n",
       "    <tr>\n",
       "      <th>3</th>\n",
       "      <td>Too many citations \\n\\nDuncan, I trimmed some ...</td>\n",
       "      <td>0</td>\n",
       "      <td>0</td>\n",
       "      <td>2.607143</td>\n",
       "      <td>-1.885007</td>\n",
       "    </tr>\n",
       "    <tr>\n",
       "      <th>4</th>\n",
       "      <td>No it is not reasonable to assume. In fact, vi...</td>\n",
       "      <td>0</td>\n",
       "      <td>0</td>\n",
       "      <td>2.607142</td>\n",
       "      <td>-1.885007</td>\n",
       "    </tr>\n",
       "  </tbody>\n",
       "</table>\n",
       "</div>"
      ],
      "text/plain": [
       "                                                text  true_label  \\\n",
       "0  He can go fuck himself sideways with a spiky s...           1   \n",
       "1  However: if what you mean is that you want to ...           0   \n",
       "2  Thanks for the welcome!\\nHello Cobaltbluetony....           0   \n",
       "3  Too many citations \\n\\nDuncan, I trimmed some ...           0   \n",
       "4  No it is not reasonable to assume. In fact, vi...           0   \n",
       "\n",
       "   predicted_label  logit_class_0  logit_class_1  \n",
       "0                1      -1.777386       1.081903  \n",
       "1                0       2.607142      -1.885007  \n",
       "2                0       2.607144      -1.885006  \n",
       "3                0       2.607143      -1.885007  \n",
       "4                0       2.607142      -1.885007  "
      ]
     },
     "metadata": {},
     "output_type": "display_data"
    },
    {
     "name": "stdout",
     "output_type": "stream",
     "text": [
      "✅ Предсказания BERT тест загружены:\n"
     ]
    },
    {
     "data": {
      "text/html": [
       "<div>\n",
       "<style scoped>\n",
       "    .dataframe tbody tr th:only-of-type {\n",
       "        vertical-align: middle;\n",
       "    }\n",
       "\n",
       "    .dataframe tbody tr th {\n",
       "        vertical-align: top;\n",
       "    }\n",
       "\n",
       "    .dataframe thead th {\n",
       "        text-align: right;\n",
       "    }\n",
       "</style>\n",
       "<table border=\"1\" class=\"dataframe\">\n",
       "  <thead>\n",
       "    <tr style=\"text-align: right;\">\n",
       "      <th></th>\n",
       "      <th>text</th>\n",
       "      <th>true_label</th>\n",
       "      <th>predicted_label</th>\n",
       "      <th>logit_class_0</th>\n",
       "      <th>logit_class_1</th>\n",
       "    </tr>\n",
       "  </thead>\n",
       "  <tbody>\n",
       "    <tr>\n",
       "      <th>0</th>\n",
       "      <td>\"\\n Ok, an seems pretty clear by now what edit...</td>\n",
       "      <td>0</td>\n",
       "      <td>0</td>\n",
       "      <td>2.607143</td>\n",
       "      <td>-1.885006</td>\n",
       "    </tr>\n",
       "    <tr>\n",
       "      <th>1</th>\n",
       "      <td>Proposal for standard infobox for History of [...</td>\n",
       "      <td>0</td>\n",
       "      <td>0</td>\n",
       "      <td>2.607144</td>\n",
       "      <td>-1.885006</td>\n",
       "    </tr>\n",
       "    <tr>\n",
       "      <th>2</th>\n",
       "      <td>\"\\n\\n Hi, Pompous Ass!  ;) \\n\\nI know you thin...</td>\n",
       "      <td>1</td>\n",
       "      <td>1</td>\n",
       "      <td>-1.776320</td>\n",
       "      <td>1.082370</td>\n",
       "    </tr>\n",
       "    <tr>\n",
       "      <th>3</th>\n",
       "      <td>I am under attack! \\n\\nYou guys are censoring ...</td>\n",
       "      <td>0</td>\n",
       "      <td>1</td>\n",
       "      <td>-1.728215</td>\n",
       "      <td>1.096051</td>\n",
       "    </tr>\n",
       "    <tr>\n",
       "      <th>4</th>\n",
       "      <td>Why include Peter and Emerich?==\\n\\nPeter the ...</td>\n",
       "      <td>0</td>\n",
       "      <td>0</td>\n",
       "      <td>2.607143</td>\n",
       "      <td>-1.885006</td>\n",
       "    </tr>\n",
       "  </tbody>\n",
       "</table>\n",
       "</div>"
      ],
      "text/plain": [
       "                                                text  true_label  \\\n",
       "0  \"\\n Ok, an seems pretty clear by now what edit...           0   \n",
       "1  Proposal for standard infobox for History of [...           0   \n",
       "2  \"\\n\\n Hi, Pompous Ass!  ;) \\n\\nI know you thin...           1   \n",
       "3  I am under attack! \\n\\nYou guys are censoring ...           0   \n",
       "4  Why include Peter and Emerich?==\\n\\nPeter the ...           0   \n",
       "\n",
       "   predicted_label  logit_class_0  logit_class_1  \n",
       "0                0       2.607143      -1.885006  \n",
       "1                0       2.607144      -1.885006  \n",
       "2                1      -1.776320       1.082370  \n",
       "3                1      -1.728215       1.096051  \n",
       "4                0       2.607143      -1.885006  "
      ]
     },
     "metadata": {},
     "output_type": "display_data"
    },
    {
     "name": "stderr",
     "output_type": "stream",
     "text": [
      "Downloading...\n",
      "From (original): https://drive.google.com/uc?id=1sOAFvqh25epbD2hygxm4YgXpIX3cM14-\n",
      "From (redirected): https://drive.google.com/uc?id=1sOAFvqh25epbD2hygxm4YgXpIX3cM14-&confirm=t&uuid=6d85bccf-f190-41e2-9f47-4cb1d06ea58f\n",
      "To: /home/jovyan/work/bert_features.npy\n",
      "100%|██████████| 489M/489M [00:06<00:00, 75.7MB/s] \n"
     ]
    },
    {
     "name": "stdout",
     "output_type": "stream",
     "text": [
      "✅ Признаки эмбединги загружены:\n",
      "(159292, 768)\n"
     ]
    }
   ],
   "source": [
    "# 1. сырой датасет\n",
    "df = pd.read_csv('https://code.s3.yandex.net/datasets/toxic_comments.csv')\n",
    "print(\"✅ Сырой датасет загружен:\")\n",
    "display(df.head())\n",
    "\n",
    "\n",
    "# 2. предсказания берта на валидации после файнтюна\n",
    "csv_url = \"https://drive.google.com/uc?export=download&id=1NUbZWztWcmzge784nic5y5I6vwg9aczi\"\n",
    "bert_finetuned_prediction_val = pd.read_csv(csv_url)\n",
    "print(\"✅ Предсказания BERT валидация загружены:\")\n",
    "display(bert_finetuned_prediction_val.head())\n",
    "\n",
    "\n",
    "# 3. предсказания берта на тесте после файнтюна\n",
    "csv_url = \"https://drive.google.com/uc?export=download&id=18zaoWg5QeXOgAc7yA9Y8Lb3xDu4Sw4az\"\n",
    "bert_finetuned_prediction_test = pd.read_csv(csv_url)\n",
    "print(\"✅ Предсказания BERT тест загружены:\")\n",
    "display(bert_finetuned_prediction_test.head())\n",
    "\n",
    "# 4. принаки после эмбединга базовой моделью берт\n",
    "npy_file_id = \"1sOAFvqh25epbD2hygxm4YgXpIX3cM14-\"\n",
    "npy_url = f\"https://drive.google.com/uc?id={npy_file_id}\"\n",
    "npy_filename = \"bert_features.npy\"\n",
    "\n",
    "# Скачиваем корректно через gdown\n",
    "gdown.download(npy_url, npy_filename, quiet=False)\n",
    "\n",
    "bert_basic_features = np.load(npy_filename, allow_pickle=True)\n",
    "print(\"✅ Признаки эмбединги загружены:\")\n",
    "print(bert_basic_features.shape)\n",
    "\n",
    "corpus = df['text']\n",
    "y = df['toxic']\n",
    "bert_corpus = pd.DataFrame(bert_basic_features)"
   ]
  },
  {
   "cell_type": "markdown",
   "metadata": {},
   "source": [
    "### Подготовка датасета для TF-IDF"
   ]
  },
  {
   "cell_type": "code",
   "execution_count": 4,
   "metadata": {},
   "outputs": [],
   "source": [
    "# Датасет с результатами\n",
    "results = pd.DataFrame(columns=(\n",
    "    'Lemm method',\n",
    "    'F1 val',\n",
    "    'F1 test',\n",
    "    'Precision val',\n",
    "    'Precision test',\n",
    "    'Recall val',\n",
    "    'Recall test',\n",
    "    'Training time (s)')\n",
    ")"
   ]
  },
  {
   "cell_type": "markdown",
   "metadata": {},
   "source": [
    "#### Spacy"
   ]
  },
  {
   "cell_type": "code",
   "execution_count": 7,
   "metadata": {},
   "outputs": [
    {
     "data": {
      "text/plain": [
       "0    Explanation\\nWhy the edits made under my usern...\n",
       "1    D'aww! He matches this background colour I'm s...\n",
       "2    Hey man, I'm really not trying to edit war. It...\n",
       "3    \"\\nMore\\nI can't make any real suggestions on ...\n",
       "4    You, sir, are my hero. Any chance you remember...\n",
       "Name: text, dtype: object"
      ]
     },
     "execution_count": 7,
     "metadata": {},
     "output_type": "execute_result"
    }
   ],
   "source": [
    "corpus = corpus[:5]\n",
    "corpus"
   ]
  },
  {
   "cell_type": "code",
   "execution_count": 8,
   "metadata": {
    "scrolled": true
   },
   "outputs": [
    {
     "name": "stderr",
     "output_type": "stream",
     "text": [
      "Lemmatizing: 100%|██████████| 5/5 [00:00<00:00, 116.06it/s]"
     ]
    },
    {
     "name": "stdout",
     "output_type": "stream",
     "text": [
      "Время лемматизации spacy: 0.04584813117980957\n"
     ]
    },
    {
     "name": "stderr",
     "output_type": "stream",
     "text": [
      "\n"
     ]
    }
   ],
   "source": [
    "# Токенизация / лемматизация бибилотекоый Spacy\n",
    "nlp = spacy.load(\"en_core_web_sm\", disable=['parser', 'ner', 'textcat', 'attribute_role'])\n",
    "\n",
    "def spacy_clean_batch(texts):\n",
    "    # Оборачиваем генератор в tqdm для отображения прогресса\n",
    "    for doc in tqdm(nlp.pipe(texts, batch_size=1000, n_process=1), total=len(texts), desc=\"Lemmatizing\"):\n",
    "        yield ' '.join(\n",
    "            token.lemma_.lower()\n",
    "            for token in doc\n",
    "            if not token.is_stop        # исключаем стоп-слова\n",
    "            and not token.is_punct      # исключаем пунктуацию\n",
    "            and not token.like_url      # исключаем ссылки\n",
    "            and not token.like_email    # исключаем email'ы\n",
    "            and not token.is_space      # исключаем пробелы\n",
    "            and not token.is_digit      # исключаем чисто цифровые токены\n",
    "            and token.is_alpha          # оставляем только буквенные токены\n",
    "        )\n",
    "\n",
    "# корпус должен быть списком строк, а не pandas Series\n",
    "spacy_start = time.time()\n",
    "lemmatized_corpus = list(spacy_clean_batch(corpus.tolist()))\n",
    "spacy_lemm_time = time.time() - spacy_start\n",
    "print(f'Время лемматизации spacy: {spacy_lemm_time}')"
   ]
  },
  {
   "cell_type": "code",
   "execution_count": 9,
   "metadata": {
    "scrolled": true
   },
   "outputs": [
    {
     "data": {
      "text/plain": [
       "0    Explanation\\nWhy the edits made under my usern...\n",
       "1    D'aww! He matches this background colour I'm s...\n",
       "2    Hey man, I'm really not trying to edit war. It...\n",
       "3    \"\\nMore\\nI can't make any real suggestions on ...\n",
       "4    You, sir, are my hero. Any chance you remember...\n",
       "Name: text, dtype: object"
      ]
     },
     "execution_count": 9,
     "metadata": {},
     "output_type": "execute_result"
    }
   ],
   "source": [
    "# Сохраним результат в файл csv\n",
    "lc_spacy_out = pd.DataFrame({'lemmatized_text': lemmatized_corpus})\n",
    "corpus.head()"
   ]
  },
  {
   "cell_type": "code",
   "execution_count": 7,
   "metadata": {},
   "outputs": [],
   "source": [
    "# Разделение на train / test\n",
    "X_trainval_tf_idf_spacy, X_test_tf_idf_spacy, y_trainval_tf_idf_spacy, y_test_tf_idf_spacy  = train_test_split(\n",
    "    lemmatized_corpus, y, test_size=0.10, stratify=y, random_state=seed\n",
    ")"
   ]
  },
  {
   "cell_type": "markdown",
   "metadata": {},
   "source": [
    "#### NLTK"
   ]
  },
  {
   "cell_type": "code",
   "execution_count": 10,
   "metadata": {},
   "outputs": [
    {
     "name": "stderr",
     "output_type": "stream",
     "text": [
      "[nltk_data] Downloading package punkt to /home/jovyan/nltk_data...\n",
      "[nltk_data]   Package punkt is already up-to-date!\n",
      "[nltk_data] Downloading package wordnet to /home/jovyan/nltk_data...\n",
      "[nltk_data]   Package wordnet is already up-to-date!\n",
      "[nltk_data] Downloading package averaged_perceptron_tagger to\n",
      "[nltk_data]     /home/jovyan/nltk_data...\n",
      "[nltk_data]   Unzipping taggers/averaged_perceptron_tagger.zip.\n",
      "[nltk_data] Downloading package stopwords to /home/jovyan/nltk_data...\n",
      "[nltk_data]   Unzipping corpora/stopwords.zip.\n"
     ]
    },
    {
     "name": "stdout",
     "output_type": "stream",
     "text": [
      "Время лемматизации nltk: 1.6695582866668701\n"
     ]
    }
   ],
   "source": [
    "# Загружаем ресурсы\n",
    "# Скачивает токенизатор Punkt — нужен для разбиения текста на слова (word_tokenize)\n",
    "nltk.download('punkt')\n",
    "# Скачивает словарь WordNet — используется для лемматизации WordNetLemmatizer\n",
    "nltk.download('wordnet')\n",
    "# Скачивает модель POS-теггера — определяет часть речи для каждого слова (nltk.pos_tag)\n",
    "nltk.download('averaged_perceptron_tagger')\n",
    "# Скачивает список английских стоп-слов — используется для фильтрации (stopwords.words('english'))\n",
    "nltk.download('stopwords')\n",
    "\n",
    "\n",
    "lemmatizer = WordNetLemmatizer()\n",
    "stops = set(stopwords.words('english'))\n",
    "pattern = re.compile(r'\\b[a-zA-Z]{2,}\\b')\n",
    "\n",
    "# Функция сопоставления POS\n",
    "def get_wordnet_pos(tag):\n",
    "    if tag.startswith('J'):\n",
    "        return wordnet.ADJ\n",
    "    elif tag.startswith('V'):\n",
    "        return wordnet.VERB\n",
    "    elif tag.startswith('N'):\n",
    "        return wordnet.NOUN\n",
    "    elif tag.startswith('R'):\n",
    "        return wordnet.ADV\n",
    "    else:\n",
    "        return wordnet.NOUN  # по умолчанию\n",
    "\n",
    "# Функция лемматизации текста\n",
    "def fast_lemmatize(texts):\n",
    "    results = []\n",
    "    for text in texts:\n",
    "        tokens = pattern.findall(text.lower())  # только слова\n",
    "        tagged = pos_tag(tokens)                # POS-теги\n",
    "        lemmas = [\n",
    "            lemmatizer.lemmatize(word, get_wordnet_pos(pos))\n",
    "            for word, pos in tagged\n",
    "            if word not in stops\n",
    "        ]\n",
    "        results.append(' '.join(lemmas))\n",
    "    return results\n",
    "\n",
    "# Пример использования (если corpus — Series, делайте .astype(str))\n",
    "nltk_start = time.time()\n",
    "lemmatized_corpus_nltk = fast_lemmatize(corpus)\n",
    "nltk_lemm_time = time.time() - nltk_start\n",
    "print(f'Время лемматизации nltk: {nltk_lemm_time}')"
   ]
  },
  {
   "cell_type": "code",
   "execution_count": 11,
   "metadata": {},
   "outputs": [],
   "source": [
    "# Сохраним результат в файл csv\n",
    "lc_nltk_out = pd.DataFrame({'lemmatized_text': lemmatized_corpus})"
   ]
  },
  {
   "cell_type": "code",
   "execution_count": 12,
   "metadata": {},
   "outputs": [
    {
     "data": {
      "text/html": [
       "<div>\n",
       "<style scoped>\n",
       "    .dataframe tbody tr th:only-of-type {\n",
       "        vertical-align: middle;\n",
       "    }\n",
       "\n",
       "    .dataframe tbody tr th {\n",
       "        vertical-align: top;\n",
       "    }\n",
       "\n",
       "    .dataframe thead th {\n",
       "        text-align: right;\n",
       "    }\n",
       "</style>\n",
       "<table border=\"1\" class=\"dataframe\">\n",
       "  <thead>\n",
       "    <tr style=\"text-align: right;\">\n",
       "      <th></th>\n",
       "      <th>lemmatized_text</th>\n",
       "    </tr>\n",
       "  </thead>\n",
       "  <tbody>\n",
       "    <tr>\n",
       "      <th>0</th>\n",
       "      <td>explanation edit username hardcore metallica f...</td>\n",
       "    </tr>\n",
       "    <tr>\n",
       "      <th>1</th>\n",
       "      <td>match background colour seemingly stuck thank ...</td>\n",
       "    </tr>\n",
       "    <tr>\n",
       "      <th>2</th>\n",
       "      <td>hey man try edit war guy constantly remove rel...</td>\n",
       "    </tr>\n",
       "    <tr>\n",
       "      <th>3</th>\n",
       "      <td>real suggestion improvement wonder section sta...</td>\n",
       "    </tr>\n",
       "    <tr>\n",
       "      <th>4</th>\n",
       "      <td>sir hero chance remember page</td>\n",
       "    </tr>\n",
       "  </tbody>\n",
       "</table>\n",
       "</div>"
      ],
      "text/plain": [
       "                                     lemmatized_text\n",
       "0  explanation edit username hardcore metallica f...\n",
       "1  match background colour seemingly stuck thank ...\n",
       "2  hey man try edit war guy constantly remove rel...\n",
       "3  real suggestion improvement wonder section sta...\n",
       "4                      sir hero chance remember page"
      ]
     },
     "execution_count": 12,
     "metadata": {},
     "output_type": "execute_result"
    }
   ],
   "source": [
    "lc_nltk_out.head()"
   ]
  },
  {
   "cell_type": "code",
   "execution_count": 11,
   "metadata": {},
   "outputs": [],
   "source": [
    "# Разделение на train / test\n",
    "X_trainval_tf_idf_nltk, X_test_tf_idf_nltk, y_trainval_tf_idf_nltk, y_test_tf_idf_nltk  = train_test_split(\n",
    "    lemmatized_corpus_nltk, y, test_size=0.10, stratify=y, random_state=seed\n",
    ")"
   ]
  },
  {
   "cell_type": "markdown",
   "metadata": {},
   "source": [
    "#### Пайплайн"
   ]
  },
  {
   "cell_type": "code",
   "execution_count": 12,
   "metadata": {},
   "outputs": [],
   "source": [
    "# пайплайн (для корректной подготовки данных без утечек)\n",
    "pipeline_tf_idf = Pipeline([\n",
    "    ('tfidf', TfidfVectorizer(ngram_range=(1, 1))),\n",
    "    ('svd', TruncatedSVD(n_components=200, random_state=seed)), \n",
    "    ('clf', LogisticRegression(class_weight='balanced', penalty='l1', solver='saga', random_state=seed))\n",
    "])\n",
    "\n",
    "param_distributions_tf_idf = {\n",
    "    'clf': [LogisticRegression(class_weight='balanced', penalty='l1', solver='saga', random_state=seed)]\n",
    "}"
   ]
  },
  {
   "cell_type": "markdown",
   "metadata": {},
   "source": [
    "### Подготовка BERT (базовая модель)"
   ]
  },
  {
   "cell_type": "code",
   "execution_count": 13,
   "metadata": {},
   "outputs": [
    {
     "data": {
      "text/plain": [
       "(143362, 768)"
      ]
     },
     "execution_count": 13,
     "metadata": {},
     "output_type": "execute_result"
    }
   ],
   "source": [
    "# Разделение на train / test\n",
    "X_trainval_bert_basic, X_test_bert_basic, y_trainval_bert_basic, y_test_bert_basic = train_test_split(\n",
    "    bert_basic_features, y, test_size=0.10, stratify=y, random_state=seed\n",
    ")\n",
    "\n",
    "X_trainval_bert_basic.shape"
   ]
  },
  {
   "cell_type": "code",
   "execution_count": 14,
   "metadata": {},
   "outputs": [],
   "source": [
    "# Параметры для GridSearch\n",
    "param_distributions_bert_basic = {\n",
    "    'C': np.arange(.5, 1, .5)\n",
    "}"
   ]
  },
  {
   "cell_type": "markdown",
   "metadata": {},
   "source": [
    "## Обучение"
   ]
  },
  {
   "cell_type": "code",
   "execution_count": 15,
   "metadata": {},
   "outputs": [],
   "source": [
    "cv = StratifiedKFold(n_splits=2, shuffle=True, random_state=seed)"
   ]
  },
  {
   "cell_type": "code",
   "execution_count": 16,
   "metadata": {},
   "outputs": [],
   "source": [
    "scoring = {\n",
    "    'f1': 'f1',\n",
    "    'roc_auc': 'roc_auc',\n",
    "    'precision': 'precision',\n",
    "    'recall': 'recall'\n",
    "}"
   ]
  },
  {
   "cell_type": "markdown",
   "metadata": {},
   "source": [
    "### TF_IDF"
   ]
  },
  {
   "cell_type": "code",
   "execution_count": 21,
   "metadata": {},
   "outputs": [],
   "source": [
    "# обучение GridSearchCV\n",
    "def tf_idf_training(name, X_trainval, X_test, y_trainval, y_test):\n",
    "    global results\n",
    "    \n",
    "    start = time.time()\n",
    "    rs = GridSearchCV(\n",
    "        pipeline_tf_idf,\n",
    "        param_grid=param_distributions_tf_idf,\n",
    "        scoring=scoring,\n",
    "        cv=cv,\n",
    "        n_jobs=-1,\n",
    "        refit='f1'\n",
    "    )\n",
    "    \n",
    "    rs.fit(X_trainval, y_trainval)\n",
    "    rs_search_time = time.time() - start\n",
    "\n",
    "    # Извлекаем индекс лучшей модели\n",
    "    best_idx = rs.best_index_\n",
    "    cv_results_df = pd.DataFrame(rs.cv_results_)\n",
    "\n",
    "    # Предсказание\n",
    "    preds = rs.predict(X_test)\n",
    "    \n",
    "    # Собираем метрики в словарь\n",
    "    row = {\n",
    "        'Lemm method': name,\n",
    "        'F1 val': round(rs.best_score_, 2),\n",
    "        'Precision val': round(cv_results_df.loc[best_idx, 'mean_test_precision'], 2),\n",
    "        'Recall val': round(cv_results_df.loc[best_idx, 'mean_test_recall'], 2),\n",
    "        'F1 test': round(f1_score(y_test, preds), 2),\n",
    "        'Precision test': round(precision_score(y_test, preds), 2),\n",
    "        'Recall test': round(recall_score(y_test, preds), 2),\n",
    "        'Training time (s)': round(rs_search_time, 2)\n",
    "    }\n",
    "\n",
    "    # Добавляем строку к датафрейсу\n",
    "    results = pd.concat([results, pd.DataFrame([row])], ignore_index=True)"
   ]
  },
  {
   "cell_type": "code",
   "execution_count": 22,
   "metadata": {},
   "outputs": [
    {
     "name": "stderr",
     "output_type": "stream",
     "text": [
      "C:\\Users\\Vladimir\\anaconda3\\envs\\practicum\\lib\\site-packages\\sklearn\\linear_model\\_sag.py:328: ConvergenceWarning: The max_iter was reached which means the coef_ did not converge\n",
      "  warnings.warn(\"The max_iter was reached which means \"\n",
      "C:\\Users\\Vladimir\\anaconda3\\envs\\practicum\\lib\\site-packages\\sklearn\\linear_model\\_sag.py:328: ConvergenceWarning: The max_iter was reached which means the coef_ did not converge\n",
      "  warnings.warn(\"The max_iter was reached which means \"\n"
     ]
    }
   ],
   "source": [
    "tf_idf_training(\n",
    "    'NLTK + TF-IDF + Logreg', \n",
    "    X_trainval_tf_idf_nltk, \n",
    "    X_test_tf_idf_nltk, \n",
    "    y_trainval_tf_idf_nltk, \n",
    "    y_test_tf_idf_nltk\n",
    ")\n",
    "\n",
    "tf_idf_training(\n",
    "    'SPACY + TF-IDF + Logreg', \n",
    "    X_trainval_tf_idf_spacy, \n",
    "    X_test_tf_idf_spacy, \n",
    "    y_trainval_tf_idf_spacy, \n",
    "    y_test_tf_idf_spacy\n",
    ")"
   ]
  },
  {
   "cell_type": "code",
   "execution_count": 23,
   "metadata": {},
   "outputs": [
    {
     "data": {
      "text/html": [
       "<div>\n",
       "<style scoped>\n",
       "    .dataframe tbody tr th:only-of-type {\n",
       "        vertical-align: middle;\n",
       "    }\n",
       "\n",
       "    .dataframe tbody tr th {\n",
       "        vertical-align: top;\n",
       "    }\n",
       "\n",
       "    .dataframe thead th {\n",
       "        text-align: right;\n",
       "    }\n",
       "</style>\n",
       "<table border=\"1\" class=\"dataframe\">\n",
       "  <thead>\n",
       "    <tr style=\"text-align: right;\">\n",
       "      <th></th>\n",
       "      <th>Lemm method</th>\n",
       "      <th>F1 val</th>\n",
       "      <th>F1 test</th>\n",
       "      <th>Precision val</th>\n",
       "      <th>Precision test</th>\n",
       "      <th>Recall val</th>\n",
       "      <th>Recall test</th>\n",
       "      <th>Training time (s)</th>\n",
       "    </tr>\n",
       "  </thead>\n",
       "  <tbody>\n",
       "    <tr>\n",
       "      <th>0</th>\n",
       "      <td>NLTK + TF-IDF + Logreg</td>\n",
       "      <td>0.63</td>\n",
       "      <td>0.64</td>\n",
       "      <td>0.51</td>\n",
       "      <td>0.52</td>\n",
       "      <td>0.84</td>\n",
       "      <td>0.85</td>\n",
       "      <td>224.33</td>\n",
       "    </tr>\n",
       "    <tr>\n",
       "      <th>1</th>\n",
       "      <td>SPACY + TF-IDF + Logreg</td>\n",
       "      <td>0.64</td>\n",
       "      <td>0.66</td>\n",
       "      <td>0.52</td>\n",
       "      <td>0.54</td>\n",
       "      <td>0.83</td>\n",
       "      <td>0.85</td>\n",
       "      <td>194.52</td>\n",
       "    </tr>\n",
       "  </tbody>\n",
       "</table>\n",
       "</div>"
      ],
      "text/plain": [
       "               Lemm method  F1 val  F1 test  Precision val  Precision test  \\\n",
       "0   NLTK + TF-IDF + Logreg    0.63     0.64           0.51            0.52   \n",
       "1  SPACY + TF-IDF + Logreg    0.64     0.66           0.52            0.54   \n",
       "\n",
       "   Recall val  Recall test  Training time (s)  \n",
       "0        0.84         0.85             224.33  \n",
       "1        0.83         0.85             194.52  "
      ]
     },
     "execution_count": 23,
     "metadata": {},
     "output_type": "execute_result"
    }
   ],
   "source": [
    "results"
   ]
  },
  {
   "cell_type": "markdown",
   "metadata": {},
   "source": [
    "### BERT (базовая модель)"
   ]
  },
  {
   "cell_type": "code",
   "execution_count": 24,
   "metadata": {},
   "outputs": [],
   "source": [
    "# обучение GridSearchCV\n",
    "start = time.time()\n",
    "\n",
    "bert_basic_rs = GridSearchCV(\n",
    "    LogisticRegression(class_weight='balanced', penalty='l1', solver='saga', random_state=seed),\n",
    "    param_grid=param_distributions_bert_basic,\n",
    "    scoring=scoring,\n",
    "    cv=cv,\n",
    "    n_jobs=-1,\n",
    "    refit='f1'\n",
    ")\n",
    "\n",
    "bert_basic_rs.fit(X_trainval_bert_basic, y_trainval_bert_basic)\n",
    "\n",
    "bert_basic_rs_search_time = time.time() - start\n",
    "\n",
    "preds_bert_basic = bert_basic_rs.predict(X_test_bert_basic)\n",
    "\n",
    "# Извлекаем индекс лучшей модели\n",
    "best_idx = bert_basic_rs.best_index_\n",
    "cv_results_df = pd.DataFrame(bert_basic_rs.cv_results_)\n",
    "\n",
    "# Собираем метрики в строку\n",
    "row = {\n",
    "    'Lemm method': 'BERT_embedding + Logreg',\n",
    "    'F1 val': round(bert_basic_rs.best_score_, 2),\n",
    "    'Precision val': round(cv_results_df.loc[best_idx, 'mean_test_precision'], 2),\n",
    "    'Recall val': round(cv_results_df.loc[best_idx, 'mean_test_recall'], 2),\n",
    "    'F1 test': round(f1_score(y_test_bert_basic, preds_bert_basic), 2),\n",
    "    'Precision test': round(precision_score(y_test_bert_basic, preds_bert_basic), 2),\n",
    "    'Recall test': round(recall_score(y_test_bert_basic, preds_bert_basic), 2),\n",
    "    'Training time (s)': round(bert_basic_rs_search_time, 2)\n",
    "}\n",
    "\n",
    "# Добавляем строку к датафрейсу\n",
    "results = pd.concat([results, pd.DataFrame([row])], ignore_index=True)"
   ]
  },
  {
   "cell_type": "code",
   "execution_count": 25,
   "metadata": {},
   "outputs": [
    {
     "data": {
      "text/html": [
       "<div>\n",
       "<style scoped>\n",
       "    .dataframe tbody tr th:only-of-type {\n",
       "        vertical-align: middle;\n",
       "    }\n",
       "\n",
       "    .dataframe tbody tr th {\n",
       "        vertical-align: top;\n",
       "    }\n",
       "\n",
       "    .dataframe thead th {\n",
       "        text-align: right;\n",
       "    }\n",
       "</style>\n",
       "<table border=\"1\" class=\"dataframe\">\n",
       "  <thead>\n",
       "    <tr style=\"text-align: right;\">\n",
       "      <th></th>\n",
       "      <th>Lemm method</th>\n",
       "      <th>F1 val</th>\n",
       "      <th>F1 test</th>\n",
       "      <th>Precision val</th>\n",
       "      <th>Precision test</th>\n",
       "      <th>Recall val</th>\n",
       "      <th>Recall test</th>\n",
       "      <th>Training time (s)</th>\n",
       "    </tr>\n",
       "  </thead>\n",
       "  <tbody>\n",
       "    <tr>\n",
       "      <th>0</th>\n",
       "      <td>NLTK + TF-IDF + Logreg</td>\n",
       "      <td>0.63</td>\n",
       "      <td>0.64</td>\n",
       "      <td>0.51</td>\n",
       "      <td>0.52</td>\n",
       "      <td>0.84</td>\n",
       "      <td>0.85</td>\n",
       "      <td>224.33</td>\n",
       "    </tr>\n",
       "    <tr>\n",
       "      <th>1</th>\n",
       "      <td>SPACY + TF-IDF + Logreg</td>\n",
       "      <td>0.64</td>\n",
       "      <td>0.66</td>\n",
       "      <td>0.52</td>\n",
       "      <td>0.54</td>\n",
       "      <td>0.83</td>\n",
       "      <td>0.85</td>\n",
       "      <td>194.52</td>\n",
       "    </tr>\n",
       "    <tr>\n",
       "      <th>2</th>\n",
       "      <td>BERT_embedding + Logreg</td>\n",
       "      <td>0.65</td>\n",
       "      <td>0.65</td>\n",
       "      <td>0.51</td>\n",
       "      <td>0.51</td>\n",
       "      <td>0.88</td>\n",
       "      <td>0.89</td>\n",
       "      <td>358.74</td>\n",
       "    </tr>\n",
       "  </tbody>\n",
       "</table>\n",
       "</div>"
      ],
      "text/plain": [
       "               Lemm method  F1 val  F1 test  Precision val  Precision test  \\\n",
       "0   NLTK + TF-IDF + Logreg    0.63     0.64           0.51            0.52   \n",
       "1  SPACY + TF-IDF + Logreg    0.64     0.66           0.52            0.54   \n",
       "2  BERT_embedding + Logreg    0.65     0.65           0.51            0.51   \n",
       "\n",
       "   Recall val  Recall test  Training time (s)  \n",
       "0        0.84         0.85             224.33  \n",
       "1        0.83         0.85             194.52  \n",
       "2        0.88         0.89             358.74  "
      ]
     },
     "execution_count": 25,
     "metadata": {},
     "output_type": "execute_result"
    }
   ],
   "source": [
    "results"
   ]
  },
  {
   "cell_type": "markdown",
   "metadata": {},
   "source": [
    "#### Код эмбединга моделью берт"
   ]
  },
  {
   "cell_type": "code",
   "execution_count": 26,
   "metadata": {},
   "outputs": [],
   "source": [
    "# import pandas as pd\n",
    "# import numpy as np\n",
    "# import torch\n",
    "# import transformers\n",
    "# from tqdm import tqdm\n",
    "\n",
    "# Установка сидов\n",
    "# SEED = 42\n",
    "# torch.manual_seed(SEED)\n",
    "# np.random.seed(SEED)\n",
    "\n",
    "# Подключаем GPU, если есть\n",
    "# device = torch.device(\"cuda\" if torch.cuda.is_available() else \"cpu\")\n",
    "# print(f\"Using device: {device}\")\n",
    "\n",
    "# Загружаем модель и токенизатор\n",
    "# MODEL_NAME = \"bert-base-uncased\"\n",
    "# tokenizer = transformers.AutoTokenizer.from_pretrained(MODEL_NAME)\n",
    "# model = transformers.AutoModel.from_pretrained(MODEL_NAME)\n",
    "# model.to(device)\n",
    "# model.eval()\n",
    "\n",
    "# Загружаем данные\n",
    "# df = pd.read_csv(\"toxic_comments.csv\")\n",
    "# texts = df[\"text\"].astype(str).tolist()\n",
    "\n",
    "# Токенизация с обрезкой до 512\n",
    "# print(\"Tokenizing...\")\n",
    "# encoded = tokenizer.batch_encode_plus(\n",
    "#    texts,\n",
    "#    add_special_tokens=True,\n",
    "#    max_length=512,\n",
    "#    truncation=True,\n",
    "#    padding=\"longest\",  # padding до самого длинного в батче\n",
    "#    return_attention_mask=True,\n",
    "#    return_tensors=\"pt\"\n",
    "# )\n",
    "\n",
    "# input_ids = encoded[\"input_ids\"]\n",
    "# attention_mask = encoded[\"attention_mask\"]\n",
    "\n",
    "# Переносим на GPU\n",
    "# input_ids = input_ids.to(device)\n",
    "# attention_mask = attention_mask.to(device)\n",
    "\n",
    "# Эмбеддинг\n",
    "# batch_size = 32\n",
    "# embeddings = []\n",
    "\n",
    "# print(\"Generating embeddings...\")\n",
    "# with torch.no_grad():\n",
    "#    for i in tqdm(range(0, input_ids.size(0), batch_size)):\n",
    "#        input_batch = input_ids[i:i + batch_size]\n",
    "#        mask_batch = attention_mask[i:i + batch_size]\n",
    "\n",
    "#        outputs = model(input_batch, attention_mask=mask_batch)\n",
    "#        cls_embeddings = outputs.last_hidden_state[0][:, 0, :]  # [CLS] токен\n",
    "#        embeddings.append(cls_embeddings.cpu().numpy())\n",
    "\n",
    "# Сохраняем в файл\n",
    "# features = np.concatenate(embeddings, axis=0)\n",
    "# np.save(\"bert_features.npy\", features)\n",
    "\n",
    "# print(f\"Done! Embeddings shape: {features.shape}\")"
   ]
  },
  {
   "cell_type": "markdown",
   "metadata": {},
   "source": [
    "### BERT (после файнтюна)"
   ]
  },
  {
   "cell_type": "code",
   "execution_count": 27,
   "metadata": {},
   "outputs": [],
   "source": [
    "# Предсказания на валидации и тесте\n",
    "y_true_val_bert = bert_finetuned_prediction_val['true_label']\n",
    "y_pred_val_bert = bert_finetuned_prediction_val['predicted_label']\n",
    "\n",
    "y_true_test_bert = bert_finetuned_prediction_test['true_label']\n",
    "y_pred_test_bert = bert_finetuned_prediction_test['predicted_label']\n",
    "\n",
    "\n",
    "# Собираем метрики в строку\n",
    "row = {\n",
    "    'Lemm method': 'BERT_finetuning + BERT',\n",
    "    'F1 val': round(f1_score(y_true_val_bert, y_pred_val_bert), 2),\n",
    "    'Precision val': round(precision_score(y_true_val_bert, y_pred_val_bert), 2),\n",
    "    'Recall val': round(recall_score(y_true_val_bert, y_pred_val_bert), 2),\n",
    "    'F1 test': round(f1_score(y_true_test_bert, y_pred_test_bert), 2),\n",
    "    'Precision test': round(precision_score(y_true_test_bert, y_pred_test_bert), 2),\n",
    "    'Recall test': round(recall_score(y_true_test_bert, y_pred_test_bert), 2),\n",
    "    'Training time (s)': round(16200, 2)\n",
    "}\n",
    "\n",
    "# Добавляем строку к датафрейсу\n",
    "results = pd.concat([results, pd.DataFrame([row])], ignore_index=True)"
   ]
  },
  {
   "cell_type": "code",
   "execution_count": 28,
   "metadata": {},
   "outputs": [
    {
     "data": {
      "text/html": [
       "<div>\n",
       "<style scoped>\n",
       "    .dataframe tbody tr th:only-of-type {\n",
       "        vertical-align: middle;\n",
       "    }\n",
       "\n",
       "    .dataframe tbody tr th {\n",
       "        vertical-align: top;\n",
       "    }\n",
       "\n",
       "    .dataframe thead th {\n",
       "        text-align: right;\n",
       "    }\n",
       "</style>\n",
       "<table border=\"1\" class=\"dataframe\">\n",
       "  <thead>\n",
       "    <tr style=\"text-align: right;\">\n",
       "      <th></th>\n",
       "      <th>Lemm method</th>\n",
       "      <th>F1 val</th>\n",
       "      <th>F1 test</th>\n",
       "      <th>Precision val</th>\n",
       "      <th>Precision test</th>\n",
       "      <th>Recall val</th>\n",
       "      <th>Recall test</th>\n",
       "      <th>Training time (s)</th>\n",
       "    </tr>\n",
       "  </thead>\n",
       "  <tbody>\n",
       "    <tr>\n",
       "      <th>3</th>\n",
       "      <td>BERT_finetuning + BERT</td>\n",
       "      <td>0.83</td>\n",
       "      <td>0.82</td>\n",
       "      <td>0.86</td>\n",
       "      <td>0.86</td>\n",
       "      <td>0.79</td>\n",
       "      <td>0.78</td>\n",
       "      <td>16200.00</td>\n",
       "    </tr>\n",
       "    <tr>\n",
       "      <th>2</th>\n",
       "      <td>BERT_embedding + Logreg</td>\n",
       "      <td>0.65</td>\n",
       "      <td>0.65</td>\n",
       "      <td>0.51</td>\n",
       "      <td>0.51</td>\n",
       "      <td>0.88</td>\n",
       "      <td>0.89</td>\n",
       "      <td>358.74</td>\n",
       "    </tr>\n",
       "    <tr>\n",
       "      <th>1</th>\n",
       "      <td>SPACY + TF-IDF + Logreg</td>\n",
       "      <td>0.64</td>\n",
       "      <td>0.66</td>\n",
       "      <td>0.52</td>\n",
       "      <td>0.54</td>\n",
       "      <td>0.83</td>\n",
       "      <td>0.85</td>\n",
       "      <td>194.52</td>\n",
       "    </tr>\n",
       "    <tr>\n",
       "      <th>0</th>\n",
       "      <td>NLTK + TF-IDF + Logreg</td>\n",
       "      <td>0.63</td>\n",
       "      <td>0.64</td>\n",
       "      <td>0.51</td>\n",
       "      <td>0.52</td>\n",
       "      <td>0.84</td>\n",
       "      <td>0.85</td>\n",
       "      <td>224.33</td>\n",
       "    </tr>\n",
       "  </tbody>\n",
       "</table>\n",
       "</div>"
      ],
      "text/plain": [
       "               Lemm method  F1 val  F1 test  Precision val  Precision test  \\\n",
       "3   BERT_finetuning + BERT    0.83     0.82           0.86            0.86   \n",
       "2  BERT_embedding + Logreg    0.65     0.65           0.51            0.51   \n",
       "1  SPACY + TF-IDF + Logreg    0.64     0.66           0.52            0.54   \n",
       "0   NLTK + TF-IDF + Logreg    0.63     0.64           0.51            0.52   \n",
       "\n",
       "   Recall val  Recall test  Training time (s)  \n",
       "3        0.79         0.78           16200.00  \n",
       "2        0.88         0.89             358.74  \n",
       "1        0.83         0.85             194.52  \n",
       "0        0.84         0.85             224.33  "
      ]
     },
     "execution_count": 28,
     "metadata": {},
     "output_type": "execute_result"
    }
   ],
   "source": [
    "results.sort_values(by='F1 val', ascending=False)"
   ]
  },
  {
   "cell_type": "markdown",
   "metadata": {},
   "source": [
    "Итого, для решения годится только вариант дообучения модели BERT результат которой удовлетворяет требованию Заказчика к значению метрики (F1 score) на уровне не менее 0.75."
   ]
  },
  {
   "cell_type": "markdown",
   "metadata": {},
   "source": [
    "#### Код файнтюна модели берт"
   ]
  },
  {
   "cell_type": "code",
   "execution_count": 29,
   "metadata": {},
   "outputs": [],
   "source": [
    "#import pandas as pd\n",
    "#import torch\n",
    "#import time\n",
    "#from datasets import Dataset\n",
    "#from transformers import (\n",
    "#    BertTokenizerFast,\n",
    "#    BertForSequenceClassification,\n",
    "#    TrainingArguments,\n",
    "#    Trainer\n",
    "#)\n",
    "#from sklearn.model_selection import train_test_split\n",
    "#from sklearn.metrics import accuracy_score, precision_score, recall_score, f1_score, roc_auc_score\n",
    "\n",
    "#start_total = time.time()\n",
    "\n",
    "# 1. Загрузка данных\n",
    "#start = time.time()\n",
    "#df = pd.read_csv(\"/toxic_comments.csv\")\n",
    "#df[\"label\"] = df[\"toxic\"].astype(int)\n",
    "#print(f\"[1] Data loading time: {time.time() - start:.2f} sec\")\n",
    "\n",
    "# 2. Разделение на train / val / test\n",
    "#start = time.time()\n",
    "#df_trainval, df_test = train_test_split(\n",
    "#    df, test_size=0.10, stratify=df[\"label\"], random_state=42\n",
    "#)\n",
    "#df_train, df_val = train_test_split(\n",
    "#    df_trainval, test_size=0.111, stratify=df_trainval[\"label\"], random_state=42\n",
    "#)\n",
    "#print(f\"[2] Data splitting time: {time.time() - start:.2f} sec\")\n",
    "\n",
    "# 3. Загрузка токенизатора\n",
    "#start = time.time()\n",
    "#tokenizer = BertTokenizerFast.from_pretrained(\"bert-base-uncased\")\n",
    "#print(f\"[3] Tokenizer loading time: {time.time() - start:.2f} sec\")\n",
    "\n",
    "#def tokenize_function(examples):\n",
    "#    return tokenizer(examples[\"text\"], truncation=True, padding=\"max_length\", max_length=512)\n",
    "\n",
    "# 4. Преобразование в Dataset и токенизация\n",
    "#start = time.time()\n",
    "#train_dataset = Dataset.from_pandas(df_train).map(tokenize_function, batched=True)\n",
    "#val_dataset = Dataset.from_pandas(df_val).map(tokenize_function, batched=True)\n",
    "#test_dataset = Dataset.from_pandas(df_test).map(tokenize_function, batched=True)\n",
    "\n",
    "#for ds in [train_dataset, val_dataset, test_dataset]:\n",
    "#    ds.set_format(type=\"torch\", columns=[\"input_ids\", \"attention_mask\", \"label\"])\n",
    "#print(f\"[4] Tokenization time: {time.time() - start:.2f} sec\")\n",
    "\n",
    "# 5. Загрузка модели\n",
    "#start = time.time()\n",
    "#model = BertForSequenceClassification.from_pretrained(\"bert-base-uncased\", num_labels=2)\n",
    "#print(f\"[5] Model loading time: {time.time() - start:.2f} sec\")\n",
    "\n",
    "# 6. Метрики\n",
    "#def compute_metrics(eval_pred):\n",
    "#    logits, labels = eval_pred\n",
    "#    probs = torch.nn.functional.softmax(torch.tensor(logits), dim=1)[:, 1].numpy()\n",
    "#    preds = logits.argmax(axis=1)\n",
    "#    return {\n",
    "#        \"accuracy\": accuracy_score(labels, preds),\n",
    "#        \"precision\": precision_score(labels, preds),\n",
    "#        \"recall\": recall_score(labels, preds),\n",
    "#        \"f1\": f1_score(labels, preds),\n",
    "#        \"roc_auc\": roc_auc_score(labels, probs),\n",
    "#    }\n",
    "\n",
    "# 7. Аргументы обучения\n",
    "#training_args = TrainingArguments(\n",
    "#    output_dir=\"./bert_results\",\n",
    "#    evaluation_strategy=\"epoch\",\n",
    "#    save_strategy=\"epoch\",\n",
    "#    logging_strategy=\"epoch\",\n",
    "#    num_train_epochs=3,\n",
    "#    per_device_train_batch_size=16,\n",
    "#    per_device_eval_batch_size=32,\n",
    "#    learning_rate=2e-5,\n",
    "#    weight_decay=0.01,\n",
    "#    load_best_model_at_end=True,\n",
    "#    metric_for_best_model=\"f1\",\n",
    "#    fp16=True,\n",
    "#    report_to=\"none\",\n",
    "#)\n",
    "\n",
    "# 8. Тренировка\n",
    "#start = time.time()\n",
    "#trainer = Trainer(\n",
    "#    model=model,\n",
    "#    args=training_args,\n",
    "#    train_dataset=train_dataset,\n",
    "#    eval_dataset=val_dataset,\n",
    "#    compute_metrics=compute_metrics,\n",
    "#)\n",
    "#trainer.train()\n",
    "#print(f\"[8] Training time: {time.time() - start:.2f} sec\")\n",
    "\n",
    "# 9. Финальная оценка на отложенном тесте\n",
    "#start = time.time()\n",
    "#test_results = trainer.evaluate(eval_dataset=test_dataset)\n",
    "#print(\"\\nFinal test metrics:\", test_results)\n",
    "#print(f\"[9] Final evaluation time: {time.time() - start:.2f} sec\")\n",
    "\n",
    "# 10. Сохранение модели и токенизатора\n",
    "#start = time.time()\n",
    "#model.save_pretrained(\"./bert_model_finetuned\")\n",
    "#tokenizer.save_pretrained(\"./bert_model_finetuned\")\n",
    "#print(f\"[10] Save time: {time.time() - start:.2f} sec\")\n",
    "\n",
    "#print(f\"\\nTotal time: {time.time() - start_total:.2f} sec\")"
   ]
  },
  {
   "cell_type": "markdown",
   "metadata": {},
   "source": [
    "#### Код инференса"
   ]
  },
  {
   "cell_type": "code",
   "execution_count": 30,
   "metadata": {},
   "outputs": [],
   "source": [
    "#import time\n",
    "#import torch\n",
    "#import transformers\n",
    "#import pandas as pd\n",
    "#from sklearn.model_selection import train_test_split\n",
    "#from sklearn.metrics import f1_score, precision_score, recall_score\n",
    "#from torch.utils.data import DataLoader, TensorDataset\n",
    "\n",
    "# Пути к модели и данным\n",
    "#model_path = \"./арендаgpu/bert_finetune/model_for_sending_to_hf/\"\n",
    "\n",
    "# Загружаем токенайзер и модель\n",
    "#tokenizer = transformers.BertTokenizer.from_pretrained(model_path)\n",
    "#model = transformers.BertForSequenceClassification.from_pretrained(model_path)\n",
    "#model.eval()\n",
    "\n",
    "# Определяем устройство\n",
    "#device = torch.device(\"cuda\" if torch.cuda.is_available() else \"cpu\")\n",
    "#model.to(device)\n",
    "\n",
    "# Загружаем данные\n",
    "#df = pd.read_csv('./toxic_comments.csv')\n",
    "\n",
    "# Разделение\n",
    "#df_trainval_bert, df_test_bert = train_test_split(\n",
    "#    df, test_size=0.10, stratify=df[\"toxic\"], random_state=42\n",
    "#)\n",
    "\n",
    "#X_test_bert = df_test_bert['text'].tolist()\n",
    "#y_test_bert = df_test_bert['toxic'].tolist()\n",
    "\n",
    "# Токенизация\n",
    "#inputs = tokenizer(\n",
    "#    X_test_bert,\n",
    "#    padding=True,\n",
    "#    truncation=True,\n",
    "#    max_length=512,\n",
    "#    return_tensors=\"pt\"\n",
    "#)\n",
    "\n",
    "# Создаем DataLoader для батчей (размер батча можно подобрать под память GPU)\n",
    "#batch_size = 32\n",
    "#dataset = TensorDataset(inputs['input_ids'], inputs['attention_mask'])\n",
    "#dataloader = DataLoader(dataset, batch_size=batch_size)\n",
    "\n",
    "#all_logits = []\n",
    "#all_predictions = []\n",
    "#start_time = time.time()\n",
    "\n",
    "#with torch.no_grad():\n",
    "#    for input_ids_batch, attention_mask_batch in dataloader:\n",
    "#        input_ids_batch = input_ids_batch.to(device)\n",
    "#        attention_mask_batch = attention_mask_batch.to(device)\n",
    "\n",
    "#        outputs = model(input_ids=input_ids_batch, attention_mask=attention_mask_batch)\n",
    "#        logits = outputs.logits\n",
    "\n",
    "#        probs = torch.softmax(logits, dim=1)\n",
    "#        preds = torch.argmax(probs, dim=1)\n",
    "\n",
    "#        all_logits.append(logits.cpu())\n",
    "#        all_predictions.extend(preds.cpu().tolist())\n",
    "\n",
    "#elapsed_time = time.time() - start_time\n",
    "\n",
    "# Объединяем все логииты в один тензор\n",
    "#all_logits = torch.cat(all_logits, dim=0).numpy()\n",
    "\n",
    "# Формируем DataFrame для выгрузки\n",
    "#results_df = pd.DataFrame({\n",
    "#    \"text\": X_test_bert,\n",
    "#    \"true_label\": y_test_bert,\n",
    "#    \"predicted_label\": all_predictions,\n",
    "#})\n",
    "\n",
    "# Добавляем колонки с логитами по классам\n",
    "#for i in range(all_logits.shape[1]):\n",
    "#    results_df[f\"logit_class_{i}\"] = all_logits[:, i]\n",
    "\n",
    "# Сохраняем в CSV\n",
    "#results_df.to_csv(\"bert_inference_results.csv\", index=False)\n",
    "\n",
    "# Метрики\n",
    "#f1_test_bert = f1_score(y_test_bert, all_predictions, average='binary')\n",
    "#precision_bert = precision_score(y_test_bert, all_predictions, average='binary')\n",
    "#recall_bert = recall_score(y_test_bert, all_predictions, average='binary')\n",
    "\n",
    "#print(f\"F1 Score: {f1_test_bert:.4f}\")\n",
    "#print(f\"Precision: {precision_bert:.4f}\")\n",
    "#print(f\"Recall: {recall_bert:.4f}\")\n",
    "#print(f\"Время выполнения предсказаний: {elapsed_time:.4f} секунд\")\n",
    "#print(\"Результаты сохранены в bert_inference_results.csv\")"
   ]
  },
  {
   "cell_type": "markdown",
   "metadata": {},
   "source": [
    "## Выводы"
   ]
  },
  {
   "cell_type": "markdown",
   "metadata": {},
   "source": [
    "Рассмотрено три варианта решения задачи, удачным из которых оказался только один - файнтюнинг модели BERT. Требуемое заказчиком значение целевой метрики на уровне не ниже 0.75 достигнуто и равно 0.82, однако необходимо отметить ресурсоемкость данного решения для которого потребовалость 4.5 часа файнтюна на сервере со следующими характеристиками: gpu - 1xV100 32GB, CPU - 20 VCPU, RAM - 64Гб, SSD - 400Гб.\n",
    "\n",
    "Все же складывается ощущуение, что решить задачу можно было намного проще... Сложность решения, в данном случае, скорее минус чем плюс."
   ]
  },
  {
   "cell_type": "markdown",
   "metadata": {},
   "source": [
    "## Итоговый вывод"
   ]
  },
  {
   "cell_type": "markdown",
   "metadata": {},
   "source": [
    "В ходе проекта были рассмотрены три подхода к классификации токсичных комментариев:\n",
    "\n",
    "- **Spacy + TF-IDF + LogisticRegression** — простая и быстрая, но недостаточно точная модель.\n",
    "- **BERT (базовая модель) + LogisticRegression** — улучшение качества, но без дообучения ограничены возможности.\n",
    "- **BERT (дообученный)** — достигнуто требуемое значение метрики F1 = **0.82**, что превышает порог 0.75.\n",
    "\n",
    "Дообучение модели BERT оказалось наиболее эффективным решением, обеспечив качество, приемлемое для заказчика. Однако стоит учитывать высокие вычислительные затраты и время обучения (около 4.5 часов на мощном сервере).\n",
    "\n",
    "Таким образом, баланс между качеством и ресурсами остаётся важным фактором при выборе подхода, и в текущем случае преимущества дообученной модели BERT перевешивают её недостатки.\n",
    "\n",
    "---\n",
    "\n",
    "**Рекомендация:** Для дальнейших проектов стоит рассмотреть упрощённые модели или оптимизацию процесса дообучения, чтобы снизить ресурсоёмкость без значительной потери качества.\n"
   ]
  }
 ],
 "metadata": {
  "ExecuteTimeLog": [
   {
    "duration": 3,
    "start_time": "2025-07-28T07:14:35.011Z"
   },
   {
    "duration": 21809,
    "start_time": "2025-07-28T07:14:35.016Z"
   },
   {
    "duration": 0,
    "start_time": "2025-07-28T07:14:56.827Z"
   },
   {
    "duration": 3329,
    "start_time": "2025-07-31T07:00:09.521Z"
   },
   {
    "duration": 20007,
    "start_time": "2025-07-31T07:00:12.853Z"
   },
   {
    "duration": 49681,
    "start_time": "2025-07-31T07:01:09.479Z"
   },
   {
    "duration": 6,
    "start_time": "2025-07-31T07:02:03.005Z"
   },
   {
    "duration": 7,
    "start_time": "2025-07-31T07:02:32.964Z"
   },
   {
    "duration": 4,
    "start_time": "2025-07-31T07:02:44.203Z"
   },
   {
    "duration": 5,
    "start_time": "2025-07-31T07:03:11.374Z"
   },
   {
    "duration": 954,
    "start_time": "2025-07-31T07:04:05.612Z"
   },
   {
    "duration": 6,
    "start_time": "2025-07-31T07:04:10.783Z"
   },
   {
    "duration": 2220,
    "start_time": "2025-07-31T07:08:29.589Z"
   },
   {
    "duration": 370,
    "start_time": "2025-07-31T07:08:37.261Z"
   },
   {
    "duration": 7,
    "start_time": "2025-07-31T07:09:04.394Z"
   }
  ],
  "kernelspec": {
   "display_name": "Python 3 (ipykernel)",
   "language": "python",
   "name": "python3"
  },
  "language_info": {
   "codemirror_mode": {
    "name": "ipython",
    "version": 3
   },
   "file_extension": ".py",
   "mimetype": "text/x-python",
   "name": "python",
   "nbconvert_exporter": "python",
   "pygments_lexer": "ipython3",
   "version": "3.9.21"
  },
  "toc": {
   "base_numbering": 1,
   "nav_menu": {},
   "number_sections": true,
   "sideBar": true,
   "skip_h1_title": true,
   "title_cell": "Содержание",
   "title_sidebar": "Contents",
   "toc_cell": true,
   "toc_position": {
    "height": "calc(100% - 180px)",
    "left": "10px",
    "top": "150px",
    "width": "302.391px"
   },
   "toc_section_display": true,
   "toc_window_display": true
  },
  "widgets": {
   "application/vnd.jupyter.widget-state+json": {
    "state": {},
    "version_major": 2,
    "version_minor": 0
   }
  }
 },
 "nbformat": 4,
 "nbformat_minor": 4
}
