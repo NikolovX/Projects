{
 "cells": [
  {
   "cell_type": "markdown",
   "id": "GEqQaHzsZ_bA",
   "metadata": {
    "id": "GEqQaHzsZ_bA"
   },
   "source": [
    "## Задача исследования"
   ]
  },
  {
   "cell_type": "markdown",
   "id": "c988c03d",
   "metadata": {},
   "source": [
    "**Задача** — предсказать медианную стоимость дома в жилом массиве (`median_house_value`) на основе данных о жилье в Калифорнии в 1990 году.  \n",
    "\n",
    "Для оценки качества модели используются **метрики**:  \n",
    "- RMSE  \n",
    "- MAE  \n",
    "- R²  \n",
    "\n",
    "---\n",
    "\n",
    "**Описание признаков датасета:**\n",
    "\n",
    "- `longitude` — долгота  \n",
    "- `latitude` — широта  \n",
    "- `housing_median_age` — медианный возраст жителей жилого массива  \n",
    "- `total_rooms` — общее количество комнат в домах жилого массива  \n",
    "- `total_bedrooms` — общее количество спален в домах жилого массива  \n",
    "- `population` — количество человек, которые проживают в жилом массиве  \n",
    "- `households` — количество домовладений в жилом массиве  \n",
    "- `median_income` — медианный доход жителей жилого массива  \n",
    "- `median_house_value` — медианная стоимость дома в жилом массиве *(целевой признак)*  \n",
    "- `ocean_proximity` — близость к океану  "
   ]
  },
  {
   "cell_type": "markdown",
   "id": "f2449485",
   "metadata": {},
   "source": [
    "## Этапы исследования и выводы"
   ]
  },
  {
   "cell_type": "markdown",
   "id": "7a22355b",
   "metadata": {},
   "source": [
    "1. **Загрузка данных и библиотек.**  \n",
    "   Проведена инициализация окружения, импортированы необходимые библиотеки для анализа и построения модели.  \n",
    "\n",
    "2. **Подготовка данных.**  \n",
    "   - Данные разделены на обучающую и тестовую выборки.  \n",
    "   - В признаке `total_bedrooms` были пропуски. Для их заполнения использован географический принцип: жилые массивы сгруппированы по широте и долготе, и в пределах каждой группы пропуски заменены на медианные значения.  \n",
    "   - Решение основано на предположении, что соседние жилые массивы обладают схожими характеристиками.  \n",
    "\n",
    "3. **Формирование признаков.**  \n",
    "   - В предобработке применены стандартные методы: `OneHotEncoder` для категориального признака `ocean_proximity` и `StandardScaler` для числовых признаков.  \n",
    "   - Пайплайн построен максимально простым, без кастомных классов.  \n",
    "\n",
    "4. **Обучение модели.**  \n",
    "   - Реализован единый пайплайн для обучения и оценки качества.  \n",
    "   - Проведено обучение на разных наборах признаков (все признаки / только числовые).  \n",
    "   - Добавление категориального признака дало прирост метрик качества на **5–10%**, что подтверждает его ценность.  \n",
    "\n",
    "**Вывод (по шагу 2):** данные успешно подготовлены, модель обучена, подтверждено, что категориальный признак `ocean_proximity` вносит значимый вклад в предсказания и его необходимо сохранять в итоговом датасете.  "
   ]
  },
  {
   "cell_type": "markdown",
   "id": "42b85bca",
   "metadata": {},
   "source": [
    "## Загрузка библиотек и данных, инициализация сессии"
   ]
  },
  {
   "cell_type": "code",
   "execution_count": 1,
   "id": "7d3494f6",
   "metadata": {},
   "outputs": [],
   "source": [
    "import numpy as np\n",
    "import pandas as pd\n",
    "import seaborn as sns\n",
    "import matplotlib as plt\n",
    "import pyspark\n",
    "import pyspark.sql.functions as F\n",
    "\n",
    "from pyspark.sql import SparkSession, Row, Column\n",
    "from pyspark.sql.types import *\n",
    "from pyspark.ml.feature import (\n",
    "    Bucketizer,\n",
    "    StringIndexer,\n",
    "    OneHotEncoder,\n",
    "    VectorAssembler, \n",
    "    StandardScaler\n",
    ")\n",
    "\n",
    "from pyspark.sql.window import Window\n",
    "\n",
    "from pyspark.ml import Pipeline, PipelineModel\n",
    "\n",
    "from pyspark.ml.regression import LinearRegression\n",
    "\n",
    "from pyspark.ml.evaluation import RegressionEvaluator\n",
    "\n",
    "# Настройка размеров графиков по умолчанию\n",
    "plt.rcParams['figure.figsize'] = (10,5)"
   ]
  },
  {
   "cell_type": "code",
   "execution_count": 2,
   "id": "c9c91d1e",
   "metadata": {},
   "outputs": [],
   "source": [
    "spark = SparkSession.builder \\\n",
    "                    .master(\"local\") \\\n",
    "                    .appName(\"ML_project_in_spark\") \\\n",
    "                    .getOrCreate()"
   ]
  },
  {
   "cell_type": "code",
   "execution_count": 3,
   "id": "5c8be8ec",
   "metadata": {},
   "outputs": [
    {
     "name": "stderr",
     "output_type": "stream",
     "text": [
      "                                                                                \r"
     ]
    },
    {
     "name": "stdout",
     "output_type": "stream",
     "text": [
      "root\n",
      " |-- longitude: double (nullable = true)\n",
      " |-- latitude: double (nullable = true)\n",
      " |-- housing_median_age: double (nullable = true)\n",
      " |-- total_rooms: double (nullable = true)\n",
      " |-- total_bedrooms: double (nullable = true)\n",
      " |-- population: double (nullable = true)\n",
      " |-- households: double (nullable = true)\n",
      " |-- median_income: double (nullable = true)\n",
      " |-- median_house_value: double (nullable = true)\n",
      " |-- ocean_proximity: string (nullable = true)\n",
      "\n",
      "+---------+--------+------------------+-----------+--------------+----------+----------+-------------+------------------+---------------+\n",
      "|longitude|latitude|housing_median_age|total_rooms|total_bedrooms|population|households|median_income|median_house_value|ocean_proximity|\n",
      "+---------+--------+------------------+-----------+--------------+----------+----------+-------------+------------------+---------------+\n",
      "|  -122.23|   37.88|              41.0|      880.0|         129.0|     322.0|     126.0|       8.3252|          452600.0|       NEAR BAY|\n",
      "|  -122.22|   37.86|              21.0|     7099.0|        1106.0|    2401.0|    1138.0|       8.3014|          358500.0|       NEAR BAY|\n",
      "|  -122.24|   37.85|              52.0|     1467.0|         190.0|     496.0|     177.0|       7.2574|          352100.0|       NEAR BAY|\n",
      "|  -122.25|   37.85|              52.0|     1274.0|         235.0|     558.0|     219.0|       5.6431|          341300.0|       NEAR BAY|\n",
      "|  -122.25|   37.85|              52.0|     1627.0|         280.0|     565.0|     259.0|       3.8462|          342200.0|       NEAR BAY|\n",
      "+---------+--------+------------------+-----------+--------------+----------+----------+-------------+------------------+---------------+\n",
      "only showing top 5 rows\n",
      "\n"
     ]
    }
   ],
   "source": [
    "df = spark.read.load('/datasets/housing.csv', format=\"csv\", sep=\",\", inferSchema=True, header=\"true\")\n",
    "df.printSchema()\n",
    "df.show(5)"
   ]
  },
  {
   "cell_type": "code",
   "execution_count": 4,
   "id": "a28ed57e",
   "metadata": {
    "scrolled": true
   },
   "outputs": [
    {
     "name": "stderr",
     "output_type": "stream",
     "text": [
      "                                                                                \r"
     ]
    },
    {
     "data": {
      "text/html": [
       "<div>\n",
       "<style scoped>\n",
       "    .dataframe tbody tr th:only-of-type {\n",
       "        vertical-align: middle;\n",
       "    }\n",
       "\n",
       "    .dataframe tbody tr th {\n",
       "        vertical-align: top;\n",
       "    }\n",
       "\n",
       "    .dataframe thead th {\n",
       "        text-align: right;\n",
       "    }\n",
       "</style>\n",
       "<table border=\"1\" class=\"dataframe\">\n",
       "  <thead>\n",
       "    <tr style=\"text-align: right;\">\n",
       "      <th></th>\n",
       "      <th>summary</th>\n",
       "      <th>longitude</th>\n",
       "      <th>latitude</th>\n",
       "      <th>housing_median_age</th>\n",
       "      <th>total_rooms</th>\n",
       "      <th>total_bedrooms</th>\n",
       "      <th>population</th>\n",
       "      <th>households</th>\n",
       "      <th>median_income</th>\n",
       "      <th>median_house_value</th>\n",
       "      <th>ocean_proximity</th>\n",
       "    </tr>\n",
       "  </thead>\n",
       "  <tbody>\n",
       "    <tr>\n",
       "      <th>0</th>\n",
       "      <td>count</td>\n",
       "      <td>20640</td>\n",
       "      <td>20640</td>\n",
       "      <td>20640</td>\n",
       "      <td>20640</td>\n",
       "      <td>20433</td>\n",
       "      <td>20640</td>\n",
       "      <td>20640</td>\n",
       "      <td>20640</td>\n",
       "      <td>20640</td>\n",
       "      <td>20640</td>\n",
       "    </tr>\n",
       "    <tr>\n",
       "      <th>1</th>\n",
       "      <td>mean</td>\n",
       "      <td>-119.56970445736148</td>\n",
       "      <td>35.6318614341087</td>\n",
       "      <td>28.639486434108527</td>\n",
       "      <td>2635.7630813953488</td>\n",
       "      <td>537.8705525375618</td>\n",
       "      <td>1425.4767441860465</td>\n",
       "      <td>499.5396802325581</td>\n",
       "      <td>3.8706710029070246</td>\n",
       "      <td>206855.81690891474</td>\n",
       "      <td>None</td>\n",
       "    </tr>\n",
       "    <tr>\n",
       "      <th>2</th>\n",
       "      <td>stddev</td>\n",
       "      <td>2.003531723502584</td>\n",
       "      <td>2.135952397457101</td>\n",
       "      <td>12.58555761211163</td>\n",
       "      <td>2181.6152515827944</td>\n",
       "      <td>421.38507007403115</td>\n",
       "      <td>1132.46212176534</td>\n",
       "      <td>382.3297528316098</td>\n",
       "      <td>1.899821717945263</td>\n",
       "      <td>115395.61587441359</td>\n",
       "      <td>None</td>\n",
       "    </tr>\n",
       "    <tr>\n",
       "      <th>3</th>\n",
       "      <td>min</td>\n",
       "      <td>-124.35</td>\n",
       "      <td>32.54</td>\n",
       "      <td>1.0</td>\n",
       "      <td>2.0</td>\n",
       "      <td>1.0</td>\n",
       "      <td>3.0</td>\n",
       "      <td>1.0</td>\n",
       "      <td>0.4999</td>\n",
       "      <td>14999.0</td>\n",
       "      <td>&lt;1H OCEAN</td>\n",
       "    </tr>\n",
       "    <tr>\n",
       "      <th>4</th>\n",
       "      <td>max</td>\n",
       "      <td>-114.31</td>\n",
       "      <td>41.95</td>\n",
       "      <td>52.0</td>\n",
       "      <td>39320.0</td>\n",
       "      <td>6445.0</td>\n",
       "      <td>35682.0</td>\n",
       "      <td>6082.0</td>\n",
       "      <td>15.0001</td>\n",
       "      <td>500001.0</td>\n",
       "      <td>NEAR OCEAN</td>\n",
       "    </tr>\n",
       "  </tbody>\n",
       "</table>\n",
       "</div>"
      ],
      "text/plain": [
       "  summary            longitude           latitude  housing_median_age  \\\n",
       "0   count                20640              20640               20640   \n",
       "1    mean  -119.56970445736148   35.6318614341087  28.639486434108527   \n",
       "2  stddev    2.003531723502584  2.135952397457101   12.58555761211163   \n",
       "3     min              -124.35              32.54                 1.0   \n",
       "4     max              -114.31              41.95                52.0   \n",
       "\n",
       "          total_rooms      total_bedrooms          population  \\\n",
       "0               20640               20433               20640   \n",
       "1  2635.7630813953488   537.8705525375618  1425.4767441860465   \n",
       "2  2181.6152515827944  421.38507007403115    1132.46212176534   \n",
       "3                 2.0                 1.0                 3.0   \n",
       "4             39320.0              6445.0             35682.0   \n",
       "\n",
       "          households       median_income  median_house_value ocean_proximity  \n",
       "0              20640               20640               20640           20640  \n",
       "1  499.5396802325581  3.8706710029070246  206855.81690891474            None  \n",
       "2  382.3297528316098   1.899821717945263  115395.61587441359            None  \n",
       "3                1.0              0.4999             14999.0       <1H OCEAN  \n",
       "4             6082.0             15.0001            500001.0      NEAR OCEAN  "
      ]
     },
     "execution_count": 4,
     "metadata": {},
     "output_type": "execute_result"
    }
   ],
   "source": [
    "df.describe().toPandas()"
   ]
  },
  {
   "cell_type": "markdown",
   "id": "53871372",
   "metadata": {
    "id": "53871372"
   },
   "source": [
    "## Подготовка данных"
   ]
  },
  {
   "cell_type": "markdown",
   "id": "486376bc",
   "metadata": {},
   "source": [
    "**Разбиение данных на тренировочную и тестовую выборки**"
   ]
  },
  {
   "cell_type": "code",
   "execution_count": 5,
   "id": "bddb08c4",
   "metadata": {
    "id": "bddb08c4"
   },
   "outputs": [
    {
     "name": "stderr",
     "output_type": "stream",
     "text": [
      "                                                                                \r"
     ]
    },
    {
     "name": "stdout",
     "output_type": "stream",
     "text": [
      "16560 4080\n"
     ]
    }
   ],
   "source": [
    "# разделение данных на тренировочную и тестовую выборки\n",
    "train, test = df.randomSplit([0.8, 0.2], seed=42)\n",
    "print(train.count(), test.count()) "
   ]
  },
  {
   "cell_type": "markdown",
   "id": "80294eae",
   "metadata": {},
   "source": [
    "**Заполнение пропусков**"
   ]
  },
  {
   "cell_type": "code",
   "execution_count": 6,
   "id": "68fb14d6",
   "metadata": {},
   "outputs": [
    {
     "name": "stdout",
     "output_type": "stream",
     "text": [
      "longitude 0\n",
      "latitude 0\n",
      "housing_median_age 0\n",
      "total_rooms 0\n",
      "total_bedrooms 207\n",
      "population 0\n",
      "households 0\n",
      "median_income 0\n",
      "median_house_value 0\n",
      "ocean_proximity 0\n"
     ]
    }
   ],
   "source": [
    "# пропущенные значения\n",
    "columns = df.columns\n",
    "\n",
    "for column in columns:\n",
    "    check_col = F.isnan(column) | F.isnull(column)\n",
    "    print(column, df.filter(check_col).count())"
   ]
  },
  {
   "cell_type": "markdown",
   "id": "15e90dfc",
   "metadata": {},
   "source": [
    "Согласно данным каждая строка содержит агрегированную статистику о жилом массиве, а жилой массив — минимальная географическая единица с населением от 600 до 3000 человек в зависимости от штата. Предполоижим, что жилые массивы обладают схожими характеристиками со своими соседями. Исходя их этого пропуски в признаке total_bedrooms можно заполнить медианным значением группы соседствующих жилых массивов. Группы сформируем по георафическому принципу воспользовавшись широтой и долготой.\n",
    "Соберем группы \"топорным\" методом - разобъем значения широты и долготы на группы в рамках каждого признака которые, конкатенацией, соберем в группы широта-долгота. Также не будем из функции с логикой заполнения пропусков создавать класс с целью включения его в пайплайн. Т.к. в задаче используем одну модель, пайплайн будет включать в себя только предобработку признаков стандартными методами OneHotEncoder и StandardScaler."
   ]
  },
  {
   "cell_type": "code",
   "execution_count": 7,
   "id": "f1af0a00",
   "metadata": {},
   "outputs": [
    {
     "name": "stdout",
     "output_type": "stream",
     "text": [
      "+-------+-------------------+-----------------+\n",
      "|summary|          longitude|         latitude|\n",
      "+-------+-------------------+-----------------+\n",
      "|  count|              20640|            20640|\n",
      "|   mean|-119.56970445736148| 35.6318614341087|\n",
      "| stddev|  2.003531723502584|2.135952397457101|\n",
      "|    min|            -124.35|            32.54|\n",
      "|    max|            -114.31|            41.95|\n",
      "+-------+-------------------+-----------------+\n",
      "\n"
     ]
    }
   ],
   "source": [
    "# диапозон географичеких координат\n",
    "df.select(['longitude', 'latitude']).describe().show()"
   ]
  },
  {
   "cell_type": "code",
   "execution_count": 8,
   "id": "c9beef7e",
   "metadata": {},
   "outputs": [],
   "source": [
    "# функция заполнения пропусков в признаке total_bedrooms\n",
    "def filling_total_beds(df):\n",
    "    # разбиение географичеких координат на корзины\n",
    "    to_bins = {\n",
    "    'longitude': [-float('inf'), -124, -123, -122, -121, -120, -119, -118, -117, -116, -115, -114,  float('inf')],\n",
    "    'latitude': [-float('inf'), 32, 33, 34, 35, 36, 37, 38, 39, 40, 41, float('inf')]\n",
    "    }\n",
    "\n",
    "    for key, val in to_bins.items():\n",
    "        bucketizer = Bucketizer(\n",
    "            splits=val,\n",
    "            inputCol=key,\n",
    "            outputCol=f\"{key}_bins\"\n",
    "        )\n",
    "        df = bucketizer.transform(df)\n",
    "        \n",
    "        \n",
    "    # координаты групп жилых массивов\n",
    "    df = df.withColumn('geo_tag_bins', F.concat(F.col('longitude_bins'), F.col('latitude_bins')))\n",
    "    \n",
    "    # расчет медианных значений признака total_bedrooms в группах жилых массивов\n",
    "    geo_bins_window = Window.partitionBy('geo_tag_bins')\n",
    "\n",
    "    df = df.withColumn(\n",
    "        'median_bedrooms',\n",
    "        F.expr('percentile_approx(total_bedrooms, 0.5)').over(geo_bins_window) # expr - парсит строку (медианы в F не работает; percentile_approx считает приближенную медиану)\n",
    "    )\n",
    "    \n",
    "    # признак total_bedrooms без пропусков\n",
    "    df = df.withColumn(\n",
    "        'total_bedrooms_filled',\n",
    "        F.when(F.col('total_bedrooms').isNull() | F.isnan('total_bedrooms'), F.col('median_bedrooms'))\n",
    "        .otherwise(F.col('total_bedrooms'))\n",
    "    )\n",
    "    \n",
    "    return df"
   ]
  },
  {
   "cell_type": "code",
   "execution_count": 9,
   "id": "301d7671",
   "metadata": {},
   "outputs": [],
   "source": [
    "# заполнение пропусков в тренировочной и тестовой выборках\n",
    "train_filled = filling_total_beds(train)\n",
    "test_filled = filling_total_beds(test)"
   ]
  },
  {
   "cell_type": "code",
   "execution_count": 10,
   "id": "27d2237d",
   "metadata": {},
   "outputs": [
    {
     "name": "stdout",
     "output_type": "stream",
     "text": [
      "Тренировочный датасет\n",
      "longitude 0\n",
      "latitude 0\n",
      "housing_median_age 0\n",
      "total_rooms 0\n",
      "total_bedrooms 157\n",
      "population 0\n",
      "households 0\n",
      "median_income 0\n",
      "median_house_value 0\n",
      "ocean_proximity 0\n",
      "longitude_bins 0\n",
      "latitude_bins 0\n",
      "geo_tag_bins 0\n"
     ]
    },
    {
     "name": "stderr",
     "output_type": "stream",
     "text": [
      "                                                                                \r"
     ]
    },
    {
     "name": "stdout",
     "output_type": "stream",
     "text": [
      "median_bedrooms 0\n"
     ]
    },
    {
     "name": "stderr",
     "output_type": "stream",
     "text": [
      "                                                                                \r"
     ]
    },
    {
     "name": "stdout",
     "output_type": "stream",
     "text": [
      "total_bedrooms_filled 0\n",
      "Тестовый датасет\n",
      "longitude 0\n",
      "latitude 0\n",
      "housing_median_age 0\n",
      "total_rooms 0\n",
      "total_bedrooms 50\n",
      "population 0\n",
      "households 0\n",
      "median_income 0\n",
      "median_house_value 0\n",
      "ocean_proximity 0\n",
      "longitude_bins 0\n",
      "latitude_bins 0\n",
      "geo_tag_bins 0\n"
     ]
    },
    {
     "name": "stderr",
     "output_type": "stream",
     "text": [
      "                                                                                \r"
     ]
    },
    {
     "name": "stdout",
     "output_type": "stream",
     "text": [
      "median_bedrooms 0\n"
     ]
    },
    {
     "name": "stderr",
     "output_type": "stream",
     "text": [
      "[Stage 93:===============================================>      (177 + 1) / 200]\r"
     ]
    },
    {
     "name": "stdout",
     "output_type": "stream",
     "text": [
      "total_bedrooms_filled 0\n"
     ]
    },
    {
     "name": "stderr",
     "output_type": "stream",
     "text": [
      "                                                                                \r"
     ]
    }
   ],
   "source": [
    "# проверка заполнения пропущенных значений\n",
    "columns = train_filled.columns\n",
    "\n",
    "print('Тренировочный датасет')\n",
    "for column in columns:\n",
    "    check_col = F.isnan(column) | F.isnull(column)\n",
    "    print(column, train_filled.filter(check_col).count())\n",
    "\n",
    "print('Тестовый датасет')\n",
    "for column in columns:\n",
    "    check_col = F.isnan(column) | F.isnull(column)\n",
    "    print(column, test_filled.filter(check_col).count())"
   ]
  },
  {
   "cell_type": "markdown",
   "id": "f11b1d94",
   "metadata": {},
   "source": [
    "**Датасеты без пропусков**"
   ]
  },
  {
   "cell_type": "code",
   "execution_count": 11,
   "id": "4198399d",
   "metadata": {},
   "outputs": [],
   "source": [
    "# сборка датасета без служебных признаков\n",
    "tr_fin = train_filled.select([\n",
    "    'longitude',\n",
    "    'latitude',\n",
    "    'housing_median_age',\n",
    "    'total_rooms',\n",
    "    'total_bedrooms_filled',\n",
    "    'population',\n",
    "    'households',\n",
    "    'median_income',\n",
    "    'median_house_value',\n",
    "    'ocean_proximity',\n",
    "    'geo_tag_bins'\n",
    "])\n",
    "\n",
    "\n",
    "te_fin = test_filled.select([\n",
    "    'longitude',\n",
    "    'latitude',\n",
    "    'housing_median_age',\n",
    "    'total_rooms',\n",
    "    'total_bedrooms_filled',\n",
    "    'population',\n",
    "    'households',\n",
    "    'median_income',\n",
    "    'median_house_value',\n",
    "    'ocean_proximity',\n",
    "    'geo_tag_bins'\n",
    "])"
   ]
  },
  {
   "cell_type": "markdown",
   "id": "9f0a82f3",
   "metadata": {
    "id": "9f0a82f3"
   },
   "source": [
    "## Обучение модели"
   ]
  },
  {
   "cell_type": "markdown",
   "id": "55aa321b",
   "metadata": {},
   "source": [
    "**Пайплайн обработки признаков (OneHotEncoder  StandardScaler)**"
   ]
  },
  {
   "cell_type": "code",
   "execution_count": 12,
   "id": "11be5219",
   "metadata": {},
   "outputs": [],
   "source": [
    "# разделение признаков на группы\n",
    "target = 'median_house_value'\n",
    "cat_cols = [col[0] for col in tr_fin.dtypes if col[1] == 'string']\n",
    "num_cols = [col[0] for col in tr_fin.dtypes if col[1] in ['int', 'double'] and col[0] != 'median_house_value']"
   ]
  },
  {
   "cell_type": "code",
   "execution_count": 13,
   "id": "ee6abc45",
   "metadata": {},
   "outputs": [],
   "source": [
    "# кодирование категориальных признаков OneHotEncoder\n",
    "indexers = [StringIndexer(inputCol=c, outputCol=c+'_idx',\n",
    "                          handleInvalid='keep') for c in cat_cols\n",
    "] # handleInvalid - обработка неизвестных значений (сохраняем в колонку numLabels)\n",
    "\n",
    "encoders = [OneHotEncoder(inputCol=c+'_idx', outputCol=c+'_ohe') for c in cat_cols]\n",
    "\n",
    "cat_pipeline = Pipeline(stages=indexers + encoders)"
   ]
  },
  {
   "cell_type": "code",
   "execution_count": 14,
   "id": "7386a3fb",
   "metadata": {},
   "outputs": [],
   "source": [
    "# масштабирование числовых признаков\n",
    "assembler_num = VectorAssembler(inputCols=num_cols, outputCol='num_features')\n",
    "\n",
    "scaler = StandardScaler(inputCol='num_features', outputCol='num_scaled')\n",
    "\n",
    "num_pipeline = Pipeline(stages=[assembler_num, scaler])"
   ]
  },
  {
   "cell_type": "code",
   "execution_count": 15,
   "id": "6a35bc51",
   "metadata": {},
   "outputs": [],
   "source": [
    "# сборка преобразованных признаков в один\n",
    "assembler_final = VectorAssembler(\n",
    "    inputCols=[c+'_ohe' for c in cat_cols] + ['num_scaled'], \n",
    "    outputCol='features'\n",
    ")"
   ]
  },
  {
   "cell_type": "markdown",
   "id": "a6a34259",
   "metadata": {},
   "source": [
    "**функция тренировки, обучения модели и оценка метрик**"
   ]
  },
  {
   "cell_type": "code",
   "execution_count": 16,
   "id": "c7ad1ebb",
   "metadata": {},
   "outputs": [],
   "source": [
    "# пустой DataFrame для метрик\n",
    "metrics_df = pd.DataFrame(columns=['Feature', 'RMSE', 'MAE', 'R²'])\n",
    "predictions_dict = {}\n",
    "models = {}\n",
    "\n",
    "# Функция оценки модели\n",
    "def evaluate_model(tr_fin, te_fin, feature, target):\n",
    "    global metrics_df, predictions_dict, models  # глобальная переменная, чтобы обновлять таблицу\n",
    "\n",
    "    # Определяем модель линейной регрессии\n",
    "    lr = LinearRegression(\n",
    "        featuresCol=feature,  # Всегда используем закодированные признаки\n",
    "        regParam=1,\n",
    "        elasticNetParam=0,\n",
    "        labelCol=target\n",
    "    )\n",
    "\n",
    "    # Финальный пайплайн обработки данных\n",
    "    final_pipeline = Pipeline(stages=[cat_pipeline, num_pipeline, assembler_final, lr])\n",
    "\n",
    "    # Обучаем модель\n",
    "    model = final_pipeline.fit(tr_fin)\n",
    "    models[feature] = model\n",
    "    \n",
    "    # Делаем предсказания\n",
    "    predictions = model.transform(te_fin)\n",
    "    predictions_dict[feature] = predictions#.toPandas()\n",
    "    \n",
    "    # Оценка метрик\n",
    "    evaluator = RegressionEvaluator(labelCol=target, predictionCol='prediction')\n",
    "\n",
    "    rmse = evaluator.setMetricName(\"rmse\").evaluate(predictions)\n",
    "    mae = evaluator.setMetricName(\"mae\").evaluate(predictions)\n",
    "    r2 = evaluator.setMetricName(\"r2\").evaluate(predictions)\n",
    "\n",
    "    # Добавляем строку в DataFrame\n",
    "    new_row = pd.DataFrame({\"Feature\": [feature], \"RMSE\": [rmse], \"MAE\": [mae], \"R²\": [r2]})\n",
    "    metrics_df = pd.concat([metrics_df, new_row], ignore_index=True)"
   ]
  },
  {
   "cell_type": "markdown",
   "id": "27cf2564",
   "metadata": {},
   "source": [
    "**Обучениие, прогноз и оценка метрик на всех/ числовых признаках**"
   ]
  },
  {
   "cell_type": "code",
   "execution_count": 17,
   "id": "8ce36453",
   "metadata": {
    "scrolled": true
   },
   "outputs": [
    {
     "name": "stderr",
     "output_type": "stream",
     "text": [
      "25/10/01 17:08:13 WARN BLAS: Failed to load implementation from: com.github.fommil.netlib.NativeSystemBLAS\n",
      "25/10/01 17:08:13 WARN BLAS: Failed to load implementation from: com.github.fommil.netlib.NativeRefBLAS\n",
      "25/10/01 17:08:17 WARN LAPACK: Failed to load implementation from: com.github.fommil.netlib.NativeSystemLAPACK\n",
      "25/10/01 17:08:17 WARN LAPACK: Failed to load implementation from: com.github.fommil.netlib.NativeRefLAPACK\n",
      "[Stage 141:===================================================> (193 + 1) / 200]\r"
     ]
    },
    {
     "name": "stdout",
     "output_type": "stream",
     "text": [
      "      Feature          RMSE           MAE        R²\n",
      "0  num_scaled  71796.560226  51808.485650  0.627436\n",
      "1    features  66221.646405  46681.485129  0.683048\n"
     ]
    },
    {
     "name": "stderr",
     "output_type": "stream",
     "text": [
      "                                                                                \r"
     ]
    }
   ],
   "source": [
    "evaluate_model(tr_fin, te_fin, 'num_scaled', target)\n",
    "evaluate_model(tr_fin, te_fin, 'features', target)\n",
    "\n",
    "print(metrics_df)"
   ]
  },
  {
   "cell_type": "markdown",
   "id": "f83c68dc",
   "metadata": {},
   "source": [
    "Метрики говорят нам о том, что единственный категориальный признак несет полезную информацию в себе, дающую прирост метрик от 5% до 10%. Исключать его из прогнозного датасета нецелесообразно."
   ]
  },
  {
   "cell_type": "markdown",
   "id": "757fd103",
   "metadata": {
    "id": "757fd103"
   },
   "source": [
    "## Анализ результатов"
   ]
  },
  {
   "cell_type": "code",
   "execution_count": 18,
   "id": "882cfd9d",
   "metadata": {},
   "outputs": [],
   "source": [
    "# ощибки предсказаний\n",
    "predictions_dict['features'] = predictions_dict['features'].withColumn(\n",
    "    'diff_%',\n",
    "    (F.col('median_house_value') - F.col('prediction')) / F.col('median_house_value')\n",
    ")\n",
    "\n",
    "predictions_dict['features'] = predictions_dict['features'].withColumn(\n",
    "    'diff_abs',\n",
    "    F.col('median_house_value') - F.col('prediction')\n",
    ")"
   ]
  },
  {
   "cell_type": "code",
   "execution_count": 19,
   "id": "4348a5ac",
   "metadata": {},
   "outputs": [
    {
     "name": "stderr",
     "output_type": "stream",
     "text": [
      "                                                                                \r"
     ]
    },
    {
     "data": {
      "image/png": "[encoded data removed]",
      "text/plain": [
       "<Figure size 720x360 with 1 Axes>"
      ]
     },
     "metadata": {
      "needs_background": "light"
     },
     "output_type": "display_data"
    }
   ],
   "source": [
    "# диаграмма рассеинея остатков\n",
    "df_pandas = predictions_dict['features'].toPandas()\n",
    "sns.scatterplot(x=df_pandas['prediction'], y=df_pandas['diff_abs']);\n",
    "\n",
    "# добавить title, подпись осей, сетку - поиск решения"
   ]
  },
  {
   "cell_type": "code",
   "execution_count": 20,
   "id": "37a014c5",
   "metadata": {},
   "outputs": [
    {
     "data": {
      "image/png": "[encoded data removed]",
      "text/plain": [
       "<Figure size 720x360 with 1 Axes>"
      ]
     },
     "metadata": {
      "needs_background": "light"
     },
     "output_type": "display_data"
    }
   ],
   "source": [
    "# гистограмма остатков\n",
    "sns.histplot(df_pandas['diff_abs']);"
   ]
  },
  {
   "cell_type": "code",
   "execution_count": 21,
   "id": "5da1b44e",
   "metadata": {},
   "outputs": [
    {
     "data": {
      "image/png": "[encoded data removed]",
      "text/plain": [
       "<Figure size 720x360 with 1 Axes>"
      ]
     },
     "metadata": {
      "needs_background": "light"
     },
     "output_type": "display_data"
    }
   ],
   "source": [
    "# диаграмма фактические значения против предсказаний\n",
    "sns.scatterplot(x=df_pandas['median_house_value'], y=df_pandas['prediction']);"
   ]
  },
  {
   "cell_type": "code",
   "execution_count": 22,
   "id": "57bd4ca8",
   "metadata": {},
   "outputs": [],
   "source": [
    "# завершим сессию\n",
    "spark.stop()"
   ]
  },
  {
   "cell_type": "markdown",
   "id": "99f4f315",
   "metadata": {},
   "source": [
    "1. Диспресия остоков не равномерна на всем интервале, также наблюдается кластер значения которого расположились в линию (аномальные объекты стоимостью 490к+)\n",
    "2. Длинный правый хвост на гистограмме остатков как и отрицательные предсказания говорят о наличии выбросов\n",
    "3. Отрицательные значения предсказаний вероятно обусловлены наличием ряда очень дорогих объектов\n",
    "\n",
    "В результате, можно заключить что модель не очень пригодня для использования. Причиной посредственного качества модели являются данные требующие очистки от выбросов и аномальных значений. "
   ]
  },
  {
   "cell_type": "markdown",
   "id": "3a33463c",
   "metadata": {},
   "source": [
    "## Выводы"
   ]
  },
  {
   "cell_type": "markdown",
   "id": "0f99442e",
   "metadata": {},
   "source": [
    "1. Анализ остатков показал **неравномерную дисперсию** и наличие кластеров с аномально высокими значениями (особенно объекты с ценой **490k+**).  \n",
    "2. Гистограмма остатков демонстрирует длинный правый хвост, а также отрицательные предсказания, что свидетельствует о выбросах в данных.  \n",
    "3. Отрицательные прогнозные значения вероятно связаны с присутствием в датасете очень дорогих объектов, выбивающихся из общей структуры.  \n",
    "\n",
    "**Итоговый вывод:** текущая модель в её виде непригодна для практического применения. Ключевая причина посредственного качества — наличие выбросов и аномальных значений в данных. Для улучшения прогноза требуется очистка выборки и более тщательная предобработка.  "
   ]
  }
 ],
 "metadata": {
  "ExecuteTimeLog": [
   {
    "duration": 756,
    "start_time": "2025-03-17T06:56:52.155Z"
   },
   {
    "duration": 15567,
    "start_time": "2025-03-17T06:56:52.913Z"
   },
   {
    "duration": 9086,
    "start_time": "2025-03-17T06:57:08.482Z"
   },
   {
    "duration": 5895,
    "start_time": "2025-03-17T06:57:17.571Z"
   },
   {
    "duration": 1096,
    "start_time": "2025-03-17T06:57:23.468Z"
   },
   {
    "duration": 698,
    "start_time": "2025-03-17T06:57:24.566Z"
   },
   {
    "duration": 424,
    "start_time": "2025-03-17T06:57:25.266Z"
   },
   {
    "duration": 11593,
    "start_time": "2025-03-17T06:57:25.691Z"
   },
   {
    "duration": 95,
    "start_time": "2025-03-17T06:57:37.286Z"
   },
   {
    "duration": 2580,
    "start_time": "2025-03-17T06:57:37.384Z"
   },
   {
    "duration": 3702,
    "start_time": "2025-03-17T06:57:39.966Z"
   },
   {
    "duration": 6,
    "start_time": "2025-03-17T07:00:20.463Z"
   },
   {
    "duration": 86,
    "start_time": "2025-03-17T07:01:38.363Z"
   },
   {
    "duration": 4094,
    "start_time": "2025-03-17T07:01:51.192Z"
   },
   {
    "duration": 3284,
    "start_time": "2025-03-17T07:03:10.742Z"
   },
   {
    "duration": 2,
    "start_time": "2025-03-17T07:19:32.937Z"
   },
   {
    "duration": 5,
    "start_time": "2025-03-17T07:19:45.949Z"
   },
   {
    "duration": 3,
    "start_time": "2025-03-17T07:20:33.132Z"
   },
   {
    "duration": 4,
    "start_time": "2025-03-17T07:20:35.651Z"
   },
   {
    "duration": 3,
    "start_time": "2025-03-17T07:20:45.738Z"
   },
   {
    "duration": 4,
    "start_time": "2025-03-17T07:20:46.302Z"
   },
   {
    "duration": 8,
    "start_time": "2025-03-17T07:20:51.540Z"
   },
   {
    "duration": 7,
    "start_time": "2025-03-17T07:20:53.799Z"
   },
   {
    "duration": 3,
    "start_time": "2025-03-17T07:21:08.309Z"
   },
   {
    "duration": 5,
    "start_time": "2025-03-17T07:23:40.190Z"
   },
   {
    "duration": 73,
    "start_time": "2025-03-17T07:23:49.503Z"
   },
   {
    "duration": 4,
    "start_time": "2025-03-17T07:23:53.460Z"
   },
   {
    "duration": 4,
    "start_time": "2025-03-17T07:23:56.599Z"
   },
   {
    "duration": 3,
    "start_time": "2025-03-17T07:25:26.530Z"
   },
   {
    "duration": 9,
    "start_time": "2025-03-17T07:27:30.411Z"
   },
   {
    "duration": 5,
    "start_time": "2025-03-17T07:28:08.111Z"
   },
   {
    "duration": 4,
    "start_time": "2025-03-17T07:28:46.067Z"
   },
   {
    "duration": 3,
    "start_time": "2025-03-17T07:28:54.921Z"
   },
   {
    "duration": 26,
    "start_time": "2025-03-17T07:28:59.731Z"
   },
   {
    "duration": 28,
    "start_time": "2025-03-17T07:33:25.571Z"
   },
   {
    "duration": 27,
    "start_time": "2025-03-17T07:33:48.658Z"
   },
   {
    "duration": 312,
    "start_time": "2025-03-17T07:33:59.479Z"
   },
   {
    "duration": 9,
    "start_time": "2025-03-17T07:34:50.311Z"
   },
   {
    "duration": 33,
    "start_time": "2025-03-17T07:35:08.826Z"
   },
   {
    "duration": 14,
    "start_time": "2025-03-17T07:36:40.936Z"
   },
   {
    "duration": 1497,
    "start_time": "2025-03-17T07:38:31.172Z"
   },
   {
    "duration": 217,
    "start_time": "2025-03-17T07:38:42.879Z"
   },
   {
    "duration": 179,
    "start_time": "2025-03-17T07:38:54.590Z"
   },
   {
    "duration": 145,
    "start_time": "2025-03-17T07:39:17.413Z"
   },
   {
    "duration": 9,
    "start_time": "2025-03-17T07:39:39.653Z"
   },
   {
    "duration": 4,
    "start_time": "2025-03-17T07:39:46.657Z"
   },
   {
    "duration": 6,
    "start_time": "2025-03-17T07:39:46.662Z"
   },
   {
    "duration": 626,
    "start_time": "2025-03-17T07:39:46.669Z"
   },
   {
    "duration": 1780,
    "start_time": "2025-03-17T07:39:47.297Z"
   },
   {
    "duration": 283,
    "start_time": "2025-03-17T07:39:49.079Z"
   },
   {
    "duration": 232,
    "start_time": "2025-03-17T07:39:49.364Z"
   },
   {
    "duration": 184,
    "start_time": "2025-03-17T07:39:49.598Z"
   },
   {
    "duration": 6112,
    "start_time": "2025-03-17T07:39:49.784Z"
   },
   {
    "duration": 18,
    "start_time": "2025-03-17T07:39:55.958Z"
   },
   {
    "duration": 2086,
    "start_time": "2025-03-17T07:39:55.979Z"
   },
   {
    "duration": 2922,
    "start_time": "2025-03-17T07:39:58.067Z"
   },
   {
    "duration": 3198,
    "start_time": "2025-03-17T07:40:00.991Z"
   },
   {
    "duration": 6,
    "start_time": "2025-03-17T07:40:04.191Z"
   },
   {
    "duration": 66,
    "start_time": "2025-03-17T07:40:04.198Z"
   },
   {
    "duration": 26,
    "start_time": "2025-03-17T07:40:04.266Z"
   },
   {
    "duration": 3,
    "start_time": "2025-03-17T07:43:56.884Z"
   },
   {
    "duration": 21,
    "start_time": "2025-03-17T07:43:57.566Z"
   },
   {
    "duration": 68,
    "start_time": "2025-03-17T07:44:07.342Z"
   },
   {
    "duration": 4,
    "start_time": "2025-03-17T07:44:10.366Z"
   },
   {
    "duration": 21,
    "start_time": "2025-03-17T07:50:00.781Z"
   },
   {
    "duration": 20,
    "start_time": "2025-03-17T07:52:08.591Z"
   },
   {
    "duration": 13,
    "start_time": "2025-03-17T07:54:13.168Z"
   },
   {
    "duration": 3,
    "start_time": "2025-03-17T07:54:30.756Z"
   },
   {
    "duration": 8,
    "start_time": "2025-03-17T07:54:34.782Z"
   },
   {
    "duration": 27,
    "start_time": "2025-03-17T07:54:43.446Z"
   },
   {
    "duration": 20,
    "start_time": "2025-03-17T07:55:24.854Z"
   },
   {
    "duration": 22,
    "start_time": "2025-03-17T07:56:47.844Z"
   },
   {
    "duration": 779,
    "start_time": "2025-03-17T07:57:37.128Z"
   },
   {
    "duration": 15559,
    "start_time": "2025-03-17T07:57:37.909Z"
   },
   {
    "duration": 9417,
    "start_time": "2025-03-17T07:57:53.470Z"
   },
   {
    "duration": 5578,
    "start_time": "2025-03-17T07:58:02.890Z"
   },
   {
    "duration": 1198,
    "start_time": "2025-03-17T07:58:08.470Z"
   },
   {
    "duration": 719,
    "start_time": "2025-03-17T07:58:09.670Z"
   },
   {
    "duration": 480,
    "start_time": "2025-03-17T07:58:10.391Z"
   },
   {
    "duration": 11317,
    "start_time": "2025-03-17T07:58:10.873Z"
   },
   {
    "duration": 166,
    "start_time": "2025-03-17T07:58:22.192Z"
   },
   {
    "duration": 2604,
    "start_time": "2025-03-17T07:58:22.361Z"
   },
   {
    "duration": 3618,
    "start_time": "2025-03-17T07:58:24.967Z"
   },
   {
    "duration": 4472,
    "start_time": "2025-03-17T07:58:28.586Z"
   },
   {
    "duration": 7,
    "start_time": "2025-03-17T07:58:33.060Z"
   },
   {
    "duration": 32,
    "start_time": "2025-03-17T07:58:33.068Z"
   },
   {
    "duration": 258,
    "start_time": "2025-03-17T07:58:33.101Z"
   },
   {
    "duration": 4,
    "start_time": "2025-03-17T07:59:31.049Z"
   },
   {
    "duration": 16,
    "start_time": "2025-03-17T08:00:42.225Z"
   },
   {
    "duration": 22,
    "start_time": "2025-03-17T08:00:50.776Z"
   },
   {
    "duration": 12,
    "start_time": "2025-03-17T08:02:27.805Z"
   },
   {
    "duration": 22,
    "start_time": "2025-03-17T08:02:43.279Z"
   },
   {
    "duration": 21,
    "start_time": "2025-03-17T08:04:31.767Z"
   },
   {
    "duration": 81,
    "start_time": "2025-03-17T08:04:42.946Z"
   },
   {
    "duration": 21,
    "start_time": "2025-03-17T08:04:47.297Z"
   },
   {
    "duration": 21,
    "start_time": "2025-03-17T08:06:27.369Z"
   },
   {
    "duration": 26,
    "start_time": "2025-03-17T08:09:39.622Z"
   },
   {
    "duration": 21,
    "start_time": "2025-03-17T08:09:49.439Z"
   },
   {
    "duration": 25,
    "start_time": "2025-03-17T08:10:09.033Z"
   },
   {
    "duration": 4,
    "start_time": "2025-03-17T08:10:20.234Z"
   },
   {
    "duration": 45,
    "start_time": "2025-03-17T08:10:23.281Z"
   },
   {
    "duration": 10,
    "start_time": "2025-03-17T08:15:32.677Z"
   },
   {
    "duration": 26,
    "start_time": "2025-03-17T08:15:44.065Z"
   },
   {
    "duration": 6,
    "start_time": "2025-03-17T08:15:46.623Z"
   },
   {
    "duration": 5,
    "start_time": "2025-03-17T08:16:16.164Z"
   },
   {
    "duration": 17,
    "start_time": "2025-03-17T08:16:19.292Z"
   },
   {
    "duration": 33,
    "start_time": "2025-03-17T08:16:25.179Z"
   },
   {
    "duration": 5,
    "start_time": "2025-03-17T08:16:37.495Z"
   },
   {
    "duration": 3452,
    "start_time": "2025-03-17T08:16:41.666Z"
   },
   {
    "duration": 865,
    "start_time": "2025-03-17T08:16:57.624Z"
   },
   {
    "duration": 4,
    "start_time": "2025-03-17T08:17:11.783Z"
   },
   {
    "duration": 3,
    "start_time": "2025-03-17T08:17:11.789Z"
   },
   {
    "duration": 606,
    "start_time": "2025-03-17T08:17:11.794Z"
   },
   {
    "duration": 1943,
    "start_time": "2025-03-17T08:17:12.402Z"
   },
   {
    "duration": 341,
    "start_time": "2025-03-17T08:17:14.347Z"
   },
   {
    "duration": 285,
    "start_time": "2025-03-17T08:17:14.691Z"
   },
   {
    "duration": 229,
    "start_time": "2025-03-17T08:17:14.979Z"
   },
   {
    "duration": 5198,
    "start_time": "2025-03-17T08:17:15.211Z"
   },
   {
    "duration": 65,
    "start_time": "2025-03-17T08:17:20.412Z"
   },
   {
    "duration": 1811,
    "start_time": "2025-03-17T08:17:20.479Z"
   },
   {
    "duration": 3085,
    "start_time": "2025-03-17T08:17:22.291Z"
   },
   {
    "duration": 95,
    "start_time": "2025-03-17T08:17:25.379Z"
   },
   {
    "duration": 807,
    "start_time": "2025-03-17T08:17:25.475Z"
   },
   {
    "duration": 32,
    "start_time": "2025-03-17T08:17:34.413Z"
   },
   {
    "duration": 634,
    "start_time": "2025-03-17T08:17:35.233Z"
   },
   {
    "duration": 4,
    "start_time": "2025-03-17T08:17:42.395Z"
   },
   {
    "duration": 4,
    "start_time": "2025-03-17T08:17:44.203Z"
   },
   {
    "duration": 119,
    "start_time": "2025-03-17T08:18:35.943Z"
   },
   {
    "duration": 34,
    "start_time": "2025-03-17T08:19:29.750Z"
   },
   {
    "duration": 29,
    "start_time": "2025-03-17T08:19:39.002Z"
   },
   {
    "duration": 3,
    "start_time": "2025-03-17T08:20:02.926Z"
   },
   {
    "duration": 2466,
    "start_time": "2025-03-17T08:20:03.718Z"
   },
   {
    "duration": 3,
    "start_time": "2025-03-17T08:20:38.723Z"
   },
   {
    "duration": 4,
    "start_time": "2025-03-17T08:20:38.728Z"
   },
   {
    "duration": 546,
    "start_time": "2025-03-17T08:20:38.739Z"
   },
   {
    "duration": 1885,
    "start_time": "2025-03-17T08:20:39.287Z"
   },
   {
    "duration": 226,
    "start_time": "2025-03-17T08:20:41.174Z"
   },
   {
    "duration": 281,
    "start_time": "2025-03-17T08:20:41.402Z"
   },
   {
    "duration": 135,
    "start_time": "2025-03-17T08:20:41.685Z"
   },
   {
    "duration": 4498,
    "start_time": "2025-03-17T08:20:41.822Z"
   },
   {
    "duration": 61,
    "start_time": "2025-03-17T08:20:46.322Z"
   },
   {
    "duration": 1398,
    "start_time": "2025-03-17T08:20:46.386Z"
   },
   {
    "duration": 2179,
    "start_time": "2025-03-17T08:20:47.786Z"
   },
   {
    "duration": 31,
    "start_time": "2025-03-17T08:20:49.967Z"
   },
   {
    "duration": 6,
    "start_time": "2025-03-17T08:20:50.058Z"
   },
   {
    "duration": 4,
    "start_time": "2025-03-17T08:20:50.066Z"
   },
   {
    "duration": 126,
    "start_time": "2025-03-17T08:20:50.071Z"
   },
   {
    "duration": 108,
    "start_time": "2025-03-17T08:21:03.445Z"
   },
   {
    "duration": 1118,
    "start_time": "2025-03-17T08:21:16.870Z"
   },
   {
    "duration": 5,
    "start_time": "2025-03-17T09:57:46.929Z"
   },
   {
    "duration": 128,
    "start_time": "2025-03-17T09:59:13.568Z"
   },
   {
    "duration": 4,
    "start_time": "2025-03-17T09:59:26.335Z"
   },
   {
    "duration": 7,
    "start_time": "2025-03-17T09:59:30.615Z"
   },
   {
    "duration": 7,
    "start_time": "2025-03-17T09:59:34.894Z"
   },
   {
    "duration": 9,
    "start_time": "2025-03-17T09:59:36.949Z"
   },
   {
    "duration": 11,
    "start_time": "2025-03-17T10:01:09.184Z"
   },
   {
    "duration": 3,
    "start_time": "2025-03-17T10:05:16.908Z"
   },
   {
    "duration": 8,
    "start_time": "2025-03-17T10:05:21.718Z"
   },
   {
    "duration": 7,
    "start_time": "2025-03-17T10:05:29.271Z"
   },
   {
    "duration": 38,
    "start_time": "2025-03-17T10:07:27.131Z"
   },
   {
    "duration": 12,
    "start_time": "2025-03-17T10:07:40.344Z"
   },
   {
    "duration": 11,
    "start_time": "2025-03-17T10:08:04.128Z"
   },
   {
    "duration": 11,
    "start_time": "2025-03-17T10:08:43.479Z"
   },
   {
    "duration": 11,
    "start_time": "2025-03-17T10:08:55.639Z"
   },
   {
    "duration": 5289,
    "start_time": "2025-03-17T10:11:16.585Z"
   },
   {
    "duration": 5385,
    "start_time": "2025-03-17T10:11:30.486Z"
   },
   {
    "duration": 3908,
    "start_time": "2025-03-17T10:12:02.575Z"
   },
   {
    "duration": 146,
    "start_time": "2025-03-17T10:12:36.226Z"
   },
   {
    "duration": 694,
    "start_time": "2025-03-17T10:12:49.117Z"
   },
   {
    "duration": 15674,
    "start_time": "2025-03-17T10:12:49.813Z"
   },
   {
    "duration": 9599,
    "start_time": "2025-03-17T10:13:05.490Z"
   },
   {
    "duration": 5336,
    "start_time": "2025-03-17T10:13:15.159Z"
   },
   {
    "duration": 1079,
    "start_time": "2025-03-17T10:13:20.497Z"
   },
   {
    "duration": 693,
    "start_time": "2025-03-17T10:13:21.578Z"
   },
   {
    "duration": 445,
    "start_time": "2025-03-17T10:13:22.272Z"
   },
   {
    "duration": 11150,
    "start_time": "2025-03-17T10:13:22.719Z"
   },
   {
    "duration": 109,
    "start_time": "2025-03-17T10:13:33.872Z"
   },
   {
    "duration": 2704,
    "start_time": "2025-03-17T10:13:33.983Z"
   },
   {
    "duration": 3694,
    "start_time": "2025-03-17T10:13:36.689Z"
   },
   {
    "duration": 81,
    "start_time": "2025-03-17T10:13:40.385Z"
   },
   {
    "duration": 7,
    "start_time": "2025-03-17T10:13:40.468Z"
   },
   {
    "duration": 11,
    "start_time": "2025-03-17T10:13:40.477Z"
   },
   {
    "duration": 26,
    "start_time": "2025-03-17T10:13:40.490Z"
   },
   {
    "duration": 19,
    "start_time": "2025-03-17T10:13:40.557Z"
   },
   {
    "duration": 7581,
    "start_time": "2025-03-17T10:13:40.577Z"
   },
   {
    "duration": 401,
    "start_time": "2025-03-17T10:13:48.160Z"
   },
   {
    "duration": 14,
    "start_time": "2025-03-17T10:16:25.241Z"
   },
   {
    "duration": 1245,
    "start_time": "2025-03-17T10:16:31.739Z"
   },
   {
    "duration": 1027,
    "start_time": "2025-03-17T10:18:02.333Z"
   },
   {
    "duration": 8,
    "start_time": "2025-03-17T10:18:25.646Z"
   },
   {
    "duration": 5666,
    "start_time": "2025-03-17T10:18:46.723Z"
   },
   {
    "duration": 6214,
    "start_time": "2025-03-17T10:18:59.067Z"
   },
   {
    "duration": 3954,
    "start_time": "2025-03-17T10:19:15.315Z"
   },
   {
    "duration": 4106,
    "start_time": "2025-03-17T10:19:32.970Z"
   },
   {
    "duration": 536,
    "start_time": "2025-03-17T10:19:48.224Z"
   },
   {
    "duration": 10,
    "start_time": "2025-03-17T10:20:22.179Z"
   },
   {
    "duration": 565,
    "start_time": "2025-03-17T10:21:18.617Z"
   },
   {
    "duration": 528,
    "start_time": "2025-03-17T10:21:22.265Z"
   },
   {
    "duration": 10,
    "start_time": "2025-03-17T10:21:26.565Z"
   },
   {
    "duration": 17,
    "start_time": "2025-03-17T10:22:37.119Z"
   },
   {
    "duration": 18,
    "start_time": "2025-03-17T10:22:46.626Z"
   },
   {
    "duration": 12272,
    "start_time": "2025-03-17T10:23:55.308Z"
   },
   {
    "duration": 17,
    "start_time": "2025-03-17T10:24:42.812Z"
   },
   {
    "duration": 19,
    "start_time": "2025-03-17T10:26:12.260Z"
   },
   {
    "duration": 8,
    "start_time": "2025-03-17T10:26:22.082Z"
   },
   {
    "duration": 1157,
    "start_time": "2025-03-17T10:26:28.622Z"
   },
   {
    "duration": 16,
    "start_time": "2025-03-17T10:27:25.137Z"
   },
   {
    "duration": 510,
    "start_time": "2025-03-17T10:27:29.865Z"
   },
   {
    "duration": 7916,
    "start_time": "2025-03-17T10:27:45.170Z"
   },
   {
    "duration": 981,
    "start_time": "2025-03-17T10:27:53.088Z"
   },
   {
    "duration": 428,
    "start_time": "2025-03-17T10:28:17.403Z"
   },
   {
    "duration": 5858,
    "start_time": "2025-03-17T10:28:21.550Z"
   },
   {
    "duration": 56,
    "start_time": "2025-03-17T10:28:27.410Z"
   },
   {
    "duration": 7104,
    "start_time": "2025-03-17T10:29:18.324Z"
   },
   {
    "duration": 19,
    "start_time": "2025-03-17T10:29:50.859Z"
   },
   {
    "duration": 18,
    "start_time": "2025-03-17T10:31:29.638Z"
   },
   {
    "duration": 18,
    "start_time": "2025-03-17T10:31:52.976Z"
   },
   {
    "duration": 3,
    "start_time": "2025-03-17T10:33:29.323Z"
   },
   {
    "duration": 16751,
    "start_time": "2025-03-17T10:33:33.527Z"
   },
   {
    "duration": 12221,
    "start_time": "2025-03-17T10:34:42.864Z"
   },
   {
    "duration": 438,
    "start_time": "2025-03-17T10:38:13.957Z"
   },
   {
    "duration": 409,
    "start_time": "2025-03-17T10:39:02.412Z"
   },
   {
    "duration": 13933,
    "start_time": "2025-03-17T10:40:08.042Z"
   },
   {
    "duration": 11321,
    "start_time": "2025-03-17T10:41:03.502Z"
   },
   {
    "duration": 13886,
    "start_time": "2025-03-17T10:41:30.341Z"
   },
   {
    "duration": 11034,
    "start_time": "2025-03-17T10:47:18.703Z"
   },
   {
    "duration": 89,
    "start_time": "2025-03-17T11:06:22.464Z"
   },
   {
    "duration": 137,
    "start_time": "2025-03-17T11:06:25.858Z"
   },
   {
    "duration": 12277,
    "start_time": "2025-03-17T11:12:13.418Z"
   },
   {
    "duration": 12134,
    "start_time": "2025-03-17T11:12:25.697Z"
   },
   {
    "duration": 720,
    "start_time": "2025-03-19T09:55:43.981Z"
   },
   {
    "duration": 15056,
    "start_time": "2025-03-19T09:55:44.703Z"
   },
   {
    "duration": 8715,
    "start_time": "2025-03-19T09:55:59.761Z"
   },
   {
    "duration": 5015,
    "start_time": "2025-03-19T09:56:08.478Z"
   },
   {
    "duration": 1071,
    "start_time": "2025-03-19T09:56:13.495Z"
   },
   {
    "duration": 695,
    "start_time": "2025-03-19T09:56:14.568Z"
   },
   {
    "duration": 492,
    "start_time": "2025-03-19T09:56:15.265Z"
   },
   {
    "duration": 10425,
    "start_time": "2025-03-19T09:56:15.759Z"
   },
   {
    "duration": 90,
    "start_time": "2025-03-19T09:56:26.185Z"
   },
   {
    "duration": 2721,
    "start_time": "2025-03-19T09:56:26.278Z"
   },
   {
    "duration": 3776,
    "start_time": "2025-03-19T09:56:29.001Z"
   },
   {
    "duration": 82,
    "start_time": "2025-03-19T09:56:32.779Z"
   },
   {
    "duration": 7,
    "start_time": "2025-03-19T09:56:32.863Z"
   },
   {
    "duration": 26,
    "start_time": "2025-03-19T09:56:32.871Z"
   },
   {
    "duration": 22,
    "start_time": "2025-03-19T09:56:32.899Z"
   },
   {
    "duration": 40,
    "start_time": "2025-03-19T09:56:32.922Z"
   },
   {
    "duration": 7516,
    "start_time": "2025-03-19T09:56:32.964Z"
   },
   {
    "duration": 1314,
    "start_time": "2025-03-19T09:56:40.482Z"
   },
   {
    "duration": 999,
    "start_time": "2025-03-19T09:56:41.858Z"
   },
   {
    "duration": 17798,
    "start_time": "2025-03-19T09:56:42.859Z"
   },
   {
    "duration": 28145,
    "start_time": "2025-03-19T09:57:00.659Z"
   },
   {
    "duration": 20803,
    "start_time": "2025-03-19T09:57:28.858Z"
   },
   {
    "duration": 3,
    "start_time": "2025-03-19T10:11:42.344Z"
   },
   {
    "duration": 9439,
    "start_time": "2025-03-19T10:16:12.173Z"
   },
   {
    "duration": 3,
    "start_time": "2025-03-19T10:16:43.569Z"
   },
   {
    "duration": 81,
    "start_time": "2025-03-19T10:17:44.872Z"
   },
   {
    "duration": 78,
    "start_time": "2025-03-19T10:17:51.325Z"
   },
   {
    "duration": 15,
    "start_time": "2025-03-19T10:18:41.150Z"
   },
   {
    "duration": 7,
    "start_time": "2025-03-19T10:20:45.483Z"
   },
   {
    "duration": 4,
    "start_time": "2025-03-19T10:21:06.835Z"
   },
   {
    "duration": 3,
    "start_time": "2025-03-19T10:21:21.974Z"
   },
   {
    "duration": 8,
    "start_time": "2025-03-19T10:21:26.929Z"
   },
   {
    "duration": 58,
    "start_time": "2025-03-19T10:21:35.330Z"
   },
   {
    "duration": 23,
    "start_time": "2025-03-19T10:21:39.161Z"
   },
   {
    "duration": 924,
    "start_time": "2025-03-19T10:21:48.081Z"
   },
   {
    "duration": 93,
    "start_time": "2025-03-19T10:21:55.869Z"
   },
   {
    "duration": 4,
    "start_time": "2025-03-19T10:22:18.202Z"
   },
   {
    "duration": 3,
    "start_time": "2025-03-19T10:22:22.543Z"
   },
   {
    "duration": 8,
    "start_time": "2025-03-19T10:22:27.709Z"
   },
   {
    "duration": 87,
    "start_time": "2025-03-19T10:24:32.207Z"
   },
   {
    "duration": 51,
    "start_time": "2025-03-19T10:25:37.859Z"
   },
   {
    "duration": 64,
    "start_time": "2025-03-19T10:26:40.794Z"
   },
   {
    "duration": 102,
    "start_time": "2025-03-19T10:27:04.963Z"
   },
   {
    "duration": 59,
    "start_time": "2025-03-19T10:27:24.883Z"
   },
   {
    "duration": 93,
    "start_time": "2025-03-19T10:27:33.525Z"
   },
   {
    "duration": 21615,
    "start_time": "2025-03-19T10:28:34.171Z"
   },
   {
    "duration": 54,
    "start_time": "2025-03-19T10:28:58.633Z"
   },
   {
    "duration": 60,
    "start_time": "2025-03-19T10:29:06.835Z"
   },
   {
    "duration": 83,
    "start_time": "2025-03-19T10:29:27.193Z"
   },
   {
    "duration": 89,
    "start_time": "2025-03-19T10:29:34.089Z"
   },
   {
    "duration": 7982,
    "start_time": "2025-03-19T10:35:49.682Z"
   },
   {
    "duration": 846,
    "start_time": "2025-03-19T10:36:03.521Z"
   },
   {
    "duration": 11,
    "start_time": "2025-03-19T10:36:13.162Z"
   },
   {
    "duration": 4,
    "start_time": "2025-03-19T10:36:15.183Z"
   },
   {
    "duration": 127,
    "start_time": "2025-03-19T10:36:23.036Z"
   },
   {
    "duration": 7262,
    "start_time": "2025-03-19T10:38:02.841Z"
   },
   {
    "duration": 21,
    "start_time": "2025-03-19T10:38:20.693Z"
   },
   {
    "duration": 4,
    "start_time": "2025-03-19T10:38:22.243Z"
   },
   {
    "duration": 10,
    "start_time": "2025-03-19T10:38:22.697Z"
   },
   {
    "duration": 11,
    "start_time": "2025-03-19T10:38:23.063Z"
   },
   {
    "duration": 8,
    "start_time": "2025-03-19T10:38:23.475Z"
   },
   {
    "duration": 3642,
    "start_time": "2025-03-19T10:38:23.817Z"
   },
   {
    "duration": 905,
    "start_time": "2025-03-19T10:38:27.461Z"
   },
   {
    "duration": 534,
    "start_time": "2025-03-19T10:38:28.368Z"
   },
   {
    "duration": 7206,
    "start_time": "2025-03-19T10:38:28.904Z"
   },
   {
    "duration": 168,
    "start_time": "2025-03-19T10:38:36.112Z"
   },
   {
    "duration": 0,
    "start_time": "2025-03-19T10:38:36.281Z"
   },
   {
    "duration": 0,
    "start_time": "2025-03-19T10:38:36.282Z"
   },
   {
    "duration": 0,
    "start_time": "2025-03-19T10:38:36.284Z"
   },
   {
    "duration": 80,
    "start_time": "2025-03-19T10:39:37.743Z"
   },
   {
    "duration": 3,
    "start_time": "2025-03-19T10:39:41.290Z"
   },
   {
    "duration": 20,
    "start_time": "2025-03-19T10:39:44.473Z"
   },
   {
    "duration": 4,
    "start_time": "2025-03-19T10:40:04.004Z"
   },
   {
    "duration": 11,
    "start_time": "2025-03-19T10:40:04.999Z"
   },
   {
    "duration": 11,
    "start_time": "2025-03-19T10:40:05.591Z"
   },
   {
    "duration": 8,
    "start_time": "2025-03-19T10:40:06.074Z"
   },
   {
    "duration": 2879,
    "start_time": "2025-03-19T10:40:06.483Z"
   },
   {
    "duration": 1022,
    "start_time": "2025-03-19T10:40:09.365Z"
   },
   {
    "duration": 491,
    "start_time": "2025-03-19T10:40:10.389Z"
   },
   {
    "duration": 7484,
    "start_time": "2025-03-19T10:40:16.173Z"
   },
   {
    "duration": 12109,
    "start_time": "2025-03-19T10:40:23.659Z"
   },
   {
    "duration": 11336,
    "start_time": "2025-03-19T10:40:35.770Z"
   },
   {
    "duration": 18708,
    "start_time": "2025-03-19T10:40:47.110Z"
   },
   {
    "duration": 98,
    "start_time": "2025-03-19T10:41:05.820Z"
   },
   {
    "duration": 4,
    "start_time": "2025-03-19T10:42:24.127Z"
   },
   {
    "duration": 3,
    "start_time": "2025-03-19T10:42:38.499Z"
   },
   {
    "duration": 4,
    "start_time": "2025-03-19T10:42:39.123Z"
   },
   {
    "duration": 4,
    "start_time": "2025-03-19T10:42:42.918Z"
   },
   {
    "duration": 3,
    "start_time": "2025-03-19T10:42:43.289Z"
   },
   {
    "duration": 4,
    "start_time": "2025-03-19T10:42:56.580Z"
   },
   {
    "duration": 3,
    "start_time": "2025-03-19T10:42:57.093Z"
   },
   {
    "duration": 3,
    "start_time": "2025-03-19T10:43:12.689Z"
   },
   {
    "duration": 3,
    "start_time": "2025-03-19T10:43:13.102Z"
   },
   {
    "duration": 4,
    "start_time": "2025-03-19T10:43:19.218Z"
   },
   {
    "duration": 11,
    "start_time": "2025-03-19T10:43:19.800Z"
   },
   {
    "duration": 11,
    "start_time": "2025-03-19T10:43:20.223Z"
   },
   {
    "duration": 11,
    "start_time": "2025-03-19T10:43:20.669Z"
   },
   {
    "duration": 2733,
    "start_time": "2025-03-19T10:43:21.133Z"
   },
   {
    "duration": 940,
    "start_time": "2025-03-19T10:43:23.869Z"
   },
   {
    "duration": 413,
    "start_time": "2025-03-19T10:43:24.811Z"
   },
   {
    "duration": 7135,
    "start_time": "2025-03-19T10:43:25.226Z"
   },
   {
    "duration": 11053,
    "start_time": "2025-03-19T10:43:32.363Z"
   },
   {
    "duration": 10898,
    "start_time": "2025-03-19T10:43:43.417Z"
   },
   {
    "duration": 19298,
    "start_time": "2025-03-19T10:43:54.316Z"
   },
   {
    "duration": 82,
    "start_time": "2025-03-19T10:44:13.616Z"
   },
   {
    "duration": 8,
    "start_time": "2025-03-19T10:48:46.341Z"
   },
   {
    "duration": 2467,
    "start_time": "2025-03-19T10:54:00.029Z"
   },
   {
    "duration": 365,
    "start_time": "2025-03-19T10:54:04.016Z"
   },
   {
    "duration": 2132,
    "start_time": "2025-03-19T10:54:55.658Z"
   },
   {
    "duration": 8,
    "start_time": "2025-03-19T10:55:26.400Z"
   },
   {
    "duration": 7,
    "start_time": "2025-03-19T10:56:00.655Z"
   },
   {
    "duration": 2475,
    "start_time": "2025-03-19T10:56:01.206Z"
   },
   {
    "duration": 9,
    "start_time": "2025-03-19T10:56:03.684Z"
   },
   {
    "duration": 13,
    "start_time": "2025-03-19T10:58:43.398Z"
   },
   {
    "duration": 9,
    "start_time": "2025-03-19T11:00:15.753Z"
   },
   {
    "duration": 4,
    "start_time": "2025-03-19T11:00:23.536Z"
   },
   {
    "duration": 7,
    "start_time": "2025-03-19T11:01:10.262Z"
   },
   {
    "duration": 8,
    "start_time": "2025-03-19T11:01:13.491Z"
   },
   {
    "duration": 8,
    "start_time": "2025-03-19T11:05:12.586Z"
   },
   {
    "duration": 7,
    "start_time": "2025-03-19T11:05:47.038Z"
   },
   {
    "duration": 2150,
    "start_time": "2025-03-19T11:05:52.345Z"
   },
   {
    "duration": 5948,
    "start_time": "2025-03-19T11:06:42.359Z"
   },
   {
    "duration": 19491,
    "start_time": "2025-03-19T11:20:24.481Z"
   },
   {
    "duration": 5854,
    "start_time": "2025-03-19T11:21:06.710Z"
   },
   {
    "duration": 16042,
    "start_time": "2025-03-19T11:21:27.541Z"
   },
   {
    "duration": 15094,
    "start_time": "2025-03-19T11:22:18.964Z"
   },
   {
    "duration": 15143,
    "start_time": "2025-03-19T11:22:39.280Z"
   },
   {
    "duration": 6,
    "start_time": "2025-03-19T11:27:34.344Z"
   },
   {
    "duration": 245,
    "start_time": "2025-03-19T11:27:48.096Z"
   },
   {
    "duration": 3,
    "start_time": "2025-03-19T11:28:10.839Z"
   },
   {
    "duration": 4,
    "start_time": "2025-03-19T11:28:11.179Z"
   },
   {
    "duration": 649,
    "start_time": "2025-03-19T11:28:11.546Z"
   },
   {
    "duration": 1289,
    "start_time": "2025-03-19T11:28:12.198Z"
   },
   {
    "duration": 6743,
    "start_time": "2025-03-19T11:28:13.557Z"
   },
   {
    "duration": 1499,
    "start_time": "2025-03-19T11:28:20.302Z"
   },
   {
    "duration": 561,
    "start_time": "2025-03-19T11:28:21.802Z"
   },
   {
    "duration": 6,
    "start_time": "2025-03-19T11:28:22.365Z"
   },
   {
    "duration": 370,
    "start_time": "2025-03-19T11:28:22.373Z"
   },
   {
    "duration": 262,
    "start_time": "2025-03-19T11:30:37.758Z"
   },
   {
    "duration": 6169,
    "start_time": "2025-03-19T11:33:37.250Z"
   },
   {
    "duration": 312,
    "start_time": "2025-03-19T11:33:48.813Z"
   },
   {
    "duration": 6,
    "start_time": "2025-03-19T11:34:11.550Z"
   },
   {
    "duration": 4,
    "start_time": "2025-03-19T11:34:28.771Z"
   },
   {
    "duration": 3,
    "start_time": "2025-03-19T11:34:29.142Z"
   },
   {
    "duration": 366,
    "start_time": "2025-03-19T11:34:29.949Z"
   },
   {
    "duration": 828,
    "start_time": "2025-03-19T11:34:31.370Z"
   },
   {
    "duration": 5669,
    "start_time": "2025-03-19T11:34:33.310Z"
   },
   {
    "duration": 1457,
    "start_time": "2025-03-19T11:34:38.980Z"
   },
   {
    "duration": 170,
    "start_time": "2025-03-19T11:34:40.439Z"
   },
   {
    "duration": 255,
    "start_time": "2025-03-19T11:34:40.658Z"
   },
   {
    "duration": 6,
    "start_time": "2025-03-19T11:35:08.849Z"
   },
   {
    "duration": 4,
    "start_time": "2025-03-19T11:35:23.027Z"
   },
   {
    "duration": 4,
    "start_time": "2025-03-19T11:35:23.378Z"
   },
   {
    "duration": 297,
    "start_time": "2025-03-19T11:35:23.670Z"
   },
   {
    "duration": 750,
    "start_time": "2025-03-19T11:35:24.037Z"
   },
   {
    "duration": 5879,
    "start_time": "2025-03-19T11:35:25.897Z"
   },
   {
    "duration": 1170,
    "start_time": "2025-03-19T11:35:31.779Z"
   },
   {
    "duration": 206,
    "start_time": "2025-03-19T11:35:32.951Z"
   },
   {
    "duration": 5,
    "start_time": "2025-03-19T11:35:39.530Z"
   },
   {
    "duration": 749,
    "start_time": "2025-03-19T11:36:00.048Z"
   },
   {
    "duration": 15433,
    "start_time": "2025-03-19T11:36:01.625Z"
   },
   {
    "duration": 8802,
    "start_time": "2025-03-19T11:36:17.061Z"
   },
   {
    "duration": 3992,
    "start_time": "2025-03-19T11:36:25.865Z"
   },
   {
    "duration": 75,
    "start_time": "2025-03-19T11:36:29.859Z"
   },
   {
    "duration": 0,
    "start_time": "2025-03-19T11:36:29.936Z"
   },
   {
    "duration": 0,
    "start_time": "2025-03-19T11:36:29.937Z"
   },
   {
    "duration": 1780,
    "start_time": "2025-03-19T11:36:37.895Z"
   },
   {
    "duration": 3298,
    "start_time": "2025-03-19T11:36:42.509Z"
   },
   {
    "duration": 567,
    "start_time": "2025-03-19T11:36:46.390Z"
   },
   {
    "duration": 6,
    "start_time": "2025-03-19T11:36:50.726Z"
   },
   {
    "duration": 750,
    "start_time": "2025-03-19T11:36:57.316Z"
   },
   {
    "duration": 5,
    "start_time": "2025-03-19T11:37:04.499Z"
   },
   {
    "duration": 83,
    "start_time": "2025-03-19T11:37:13.579Z"
   },
   {
    "duration": 406,
    "start_time": "2025-03-19T11:37:16.768Z"
   },
   {
    "duration": 191,
    "start_time": "2025-03-19T11:38:04.870Z"
   },
   {
    "duration": 1845,
    "start_time": "2025-03-19T11:38:10.338Z"
   },
   {
    "duration": 9,
    "start_time": "2025-03-19T11:38:27.606Z"
   },
   {
    "duration": 3877,
    "start_time": "2025-03-19T11:38:56.580Z"
   },
   {
    "duration": 1081,
    "start_time": "2025-03-19T11:39:08.379Z"
   },
   {
    "duration": 12704,
    "start_time": "2025-03-19T11:39:20.757Z"
   },
   {
    "duration": 340,
    "start_time": "2025-03-19T11:46:04.760Z"
   },
   {
    "duration": 10,
    "start_time": "2025-03-19T11:46:45.241Z"
   },
   {
    "duration": 722,
    "start_time": "2025-03-19T11:47:12.766Z"
   },
   {
    "duration": 14993,
    "start_time": "2025-03-19T11:47:13.490Z"
   },
   {
    "duration": 8594,
    "start_time": "2025-03-19T11:47:28.485Z"
   },
   {
    "duration": 4116,
    "start_time": "2025-03-19T11:47:37.082Z"
   },
   {
    "duration": 1687,
    "start_time": "2025-03-19T11:47:41.200Z"
   },
   {
    "duration": 3593,
    "start_time": "2025-03-19T11:47:42.889Z"
   },
   {
    "duration": 594,
    "start_time": "2025-03-19T11:47:46.484Z"
   },
   {
    "duration": 8,
    "start_time": "2025-03-19T11:47:47.080Z"
   },
   {
    "duration": 932,
    "start_time": "2025-03-19T11:47:47.156Z"
   },
   {
    "duration": 183,
    "start_time": "2025-03-19T11:47:48.090Z"
   },
   {
    "duration": 15476,
    "start_time": "2025-03-19T11:48:08.628Z"
   },
   {
    "duration": 17775,
    "start_time": "2025-03-19T11:49:23.489Z"
   },
   {
    "duration": 12787,
    "start_time": "2025-03-19T11:50:13.817Z"
   },
   {
    "duration": 36,
    "start_time": "2025-03-19T11:52:22.604Z"
   },
   {
    "duration": 12,
    "start_time": "2025-03-19T11:52:33.287Z"
   },
   {
    "duration": 4,
    "start_time": "2025-03-19T11:52:44.156Z"
   },
   {
    "duration": 28,
    "start_time": "2025-03-19T11:52:53.934Z"
   },
   {
    "duration": 18,
    "start_time": "2025-03-19T11:52:56.656Z"
   },
   {
    "duration": 8,
    "start_time": "2025-03-19T11:52:59.499Z"
   },
   {
    "duration": 6434,
    "start_time": "2025-03-19T11:53:28.435Z"
   },
   {
    "duration": 4909,
    "start_time": "2025-03-19T11:53:49.669Z"
   },
   {
    "duration": 10,
    "start_time": "2025-03-19T11:54:11.897Z"
   },
   {
    "duration": 5,
    "start_time": "2025-03-19T11:55:54.935Z"
   },
   {
    "duration": 213,
    "start_time": "2025-03-19T11:56:05.995Z"
   },
   {
    "duration": 10678,
    "start_time": "2025-03-19T11:56:27.204Z"
   },
   {
    "duration": 7364,
    "start_time": "2025-03-19T11:57:01.603Z"
   },
   {
    "duration": 16047,
    "start_time": "2025-03-19T11:57:19.715Z"
   },
   {
    "duration": 919,
    "start_time": "2025-03-19T11:57:35.764Z"
   },
   {
    "duration": 75,
    "start_time": "2025-03-19T12:01:26.849Z"
   },
   {
    "duration": 724,
    "start_time": "2025-03-19T12:01:43.376Z"
   },
   {
    "duration": 14987,
    "start_time": "2025-03-19T12:01:44.102Z"
   },
   {
    "duration": 8668,
    "start_time": "2025-03-19T12:01:59.092Z"
   },
   {
    "duration": 3922,
    "start_time": "2025-03-19T12:02:07.763Z"
   },
   {
    "duration": 1870,
    "start_time": "2025-03-19T12:02:11.687Z"
   },
   {
    "duration": 4099,
    "start_time": "2025-03-19T12:02:13.560Z"
   },
   {
    "duration": 609,
    "start_time": "2025-03-19T12:02:17.661Z"
   },
   {
    "duration": 10,
    "start_time": "2025-03-19T12:02:18.272Z"
   },
   {
    "duration": 1107,
    "start_time": "2025-03-19T12:02:18.284Z"
   },
   {
    "duration": 26468,
    "start_time": "2025-03-19T12:02:19.394Z"
   },
   {
    "duration": 123,
    "start_time": "2025-03-19T12:02:45.863Z"
   },
   {
    "duration": 4,
    "start_time": "2025-03-19T12:02:45.988Z"
   },
   {
    "duration": 87,
    "start_time": "2025-03-19T12:02:45.994Z"
   },
   {
    "duration": 15,
    "start_time": "2025-03-19T12:02:46.083Z"
   },
   {
    "duration": 65,
    "start_time": "2025-03-19T12:02:46.100Z"
   },
   {
    "duration": 7619,
    "start_time": "2025-03-19T12:02:46.167Z"
   },
   {
    "duration": 75,
    "start_time": "2025-03-19T12:02:53.787Z"
   },
   {
    "duration": 14509,
    "start_time": "2025-03-19T12:02:53.864Z"
   },
   {
    "duration": 10121,
    "start_time": "2025-03-19T12:03:08.375Z"
   },
   {
    "duration": 21245,
    "start_time": "2025-03-19T12:03:18.557Z"
   },
   {
    "duration": 1352,
    "start_time": "2025-03-19T12:03:39.804Z"
   },
   {
    "duration": 38,
    "start_time": "2025-03-19T12:03:59.851Z"
   },
   {
    "duration": 5,
    "start_time": "2025-03-19T12:04:03.936Z"
   },
   {
    "duration": 16,
    "start_time": "2025-03-19T12:04:04.163Z"
   },
   {
    "duration": 10,
    "start_time": "2025-03-19T12:04:04.462Z"
   },
   {
    "duration": 7,
    "start_time": "2025-03-19T12:04:04.681Z"
   },
   {
    "duration": 4809,
    "start_time": "2025-03-19T12:04:04.860Z"
   },
   {
    "duration": 9,
    "start_time": "2025-03-19T12:04:09.670Z"
   },
   {
    "duration": 7615,
    "start_time": "2025-03-19T12:04:09.758Z"
   },
   {
    "duration": 5604,
    "start_time": "2025-03-19T12:04:17.375Z"
   },
   {
    "duration": 14905,
    "start_time": "2025-03-19T12:04:22.980Z"
   },
   {
    "duration": 102,
    "start_time": "2025-03-19T12:04:37.887Z"
   },
   {
    "duration": 734,
    "start_time": "2025-03-23T16:22:53.370Z"
   },
   {
    "duration": 15164,
    "start_time": "2025-03-23T16:22:54.105Z"
   },
   {
    "duration": 9013,
    "start_time": "2025-03-23T16:23:09.271Z"
   },
   {
    "duration": 4171,
    "start_time": "2025-03-23T16:23:18.287Z"
   },
   {
    "duration": 1706,
    "start_time": "2025-03-23T16:23:22.460Z"
   },
   {
    "duration": 3805,
    "start_time": "2025-03-23T16:23:24.168Z"
   },
   {
    "duration": 692,
    "start_time": "2025-03-23T16:23:27.975Z"
   },
   {
    "duration": 8,
    "start_time": "2025-03-23T16:23:28.669Z"
   },
   {
    "duration": 1191,
    "start_time": "2025-03-23T16:23:28.678Z"
   },
   {
    "duration": 26549,
    "start_time": "2025-03-23T16:23:29.873Z"
   },
   {
    "duration": 39,
    "start_time": "2025-03-23T16:23:56.458Z"
   },
   {
    "duration": 7,
    "start_time": "2025-03-23T16:23:56.499Z"
   },
   {
    "duration": 67,
    "start_time": "2025-03-23T16:23:56.507Z"
   },
   {
    "duration": 15,
    "start_time": "2025-03-23T16:23:56.576Z"
   },
   {
    "duration": 6,
    "start_time": "2025-03-23T16:23:56.592Z"
   },
   {
    "duration": 8058,
    "start_time": "2025-03-23T16:23:56.600Z"
   },
   {
    "duration": 9,
    "start_time": "2025-03-23T16:24:04.660Z"
   },
   {
    "duration": 14430,
    "start_time": "2025-03-23T16:24:04.670Z"
   },
   {
    "duration": 9090,
    "start_time": "2025-03-23T16:24:19.101Z"
   },
   {
    "duration": 21421,
    "start_time": "2025-03-23T16:24:28.193Z"
   },
   {
    "duration": 1074,
    "start_time": "2025-03-23T16:24:49.616Z"
   },
   {
    "duration": 1011,
    "start_time": "2025-03-23T16:36:42.753Z"
   },
   {
    "duration": 4,
    "start_time": "2025-03-23T16:37:12.285Z"
   },
   {
    "duration": 6,
    "start_time": "2025-03-23T16:37:12.291Z"
   },
   {
    "duration": 588,
    "start_time": "2025-03-23T16:37:12.298Z"
   },
   {
    "duration": 1473,
    "start_time": "2025-03-23T16:37:12.888Z"
   },
   {
    "duration": 550,
    "start_time": "2025-03-23T16:37:14.363Z"
   },
   {
    "duration": 1668,
    "start_time": "2025-03-23T16:37:14.915Z"
   },
   {
    "duration": 394,
    "start_time": "2025-03-23T16:37:16.585Z"
   },
   {
    "duration": 766,
    "start_time": "2025-03-23T16:37:38.614Z"
   },
   {
    "duration": 81,
    "start_time": "2025-03-23T16:38:20.464Z"
   },
   {
    "duration": 9,
    "start_time": "2025-03-23T16:38:32.270Z"
   },
   {
    "duration": 8,
    "start_time": "2025-03-23T16:39:31.266Z"
   },
   {
    "duration": 13,
    "start_time": "2025-03-23T16:39:37.441Z"
   },
   {
    "duration": 14,
    "start_time": "2025-03-23T16:40:10.044Z"
   },
   {
    "duration": 11,
    "start_time": "2025-03-23T16:40:15.233Z"
   },
   {
    "duration": 15,
    "start_time": "2025-03-23T16:40:18.695Z"
   },
   {
    "duration": 14,
    "start_time": "2025-03-23T16:40:25.061Z"
   },
   {
    "duration": 1819,
    "start_time": "2025-03-23T16:40:47.064Z"
   },
   {
    "duration": 11,
    "start_time": "2025-03-23T16:42:04.398Z"
   },
   {
    "duration": 264,
    "start_time": "2025-03-23T16:42:06.921Z"
   },
   {
    "duration": 1606,
    "start_time": "2025-03-23T16:42:07.874Z"
   },
   {
    "duration": 15689,
    "start_time": "2025-03-23T16:42:09.482Z"
   },
   {
    "duration": 12535,
    "start_time": "2025-03-23T16:50:45.133Z"
   },
   {
    "duration": 12739,
    "start_time": "2025-03-23T16:51:10.447Z"
   },
   {
    "duration": 11719,
    "start_time": "2025-03-23T16:52:07.543Z"
   },
   {
    "duration": 12348,
    "start_time": "2025-03-23T16:52:27.659Z"
   },
   {
    "duration": 14514,
    "start_time": "2025-03-23T16:52:43.747Z"
   },
   {
    "duration": 11146,
    "start_time": "2025-03-23T16:53:05.925Z"
   },
   {
    "duration": 8,
    "start_time": "2025-03-23T16:54:53.769Z"
   },
   {
    "duration": 7,
    "start_time": "2025-03-23T16:55:17.363Z"
   },
   {
    "duration": 7,
    "start_time": "2025-03-23T16:55:20.842Z"
   },
   {
    "duration": 12,
    "start_time": "2025-03-23T16:58:09.101Z"
   },
   {
    "duration": 6406,
    "start_time": "2025-03-23T16:58:18.188Z"
   },
   {
    "duration": 13535,
    "start_time": "2025-03-23T16:59:57.772Z"
   },
   {
    "duration": 10,
    "start_time": "2025-03-23T17:04:33.018Z"
   },
   {
    "duration": 12,
    "start_time": "2025-03-23T17:06:03.355Z"
   },
   {
    "duration": 7,
    "start_time": "2025-03-23T17:06:29.107Z"
   },
   {
    "duration": 3551,
    "start_time": "2025-03-23T17:06:35.298Z"
   },
   {
    "duration": 3009,
    "start_time": "2025-03-23T17:12:56.395Z"
   },
   {
    "duration": 2661,
    "start_time": "2025-03-23T17:13:04.266Z"
   },
   {
    "duration": 18,
    "start_time": "2025-03-23T17:15:48.287Z"
   },
   {
    "duration": 24,
    "start_time": "2025-03-23T17:15:57.984Z"
   },
   {
    "duration": 18,
    "start_time": "2025-03-23T17:16:04.422Z"
   },
   {
    "duration": 12,
    "start_time": "2025-03-23T17:16:19.602Z"
   },
   {
    "duration": 2245,
    "start_time": "2025-03-23T17:16:25.161Z"
   },
   {
    "duration": 2005,
    "start_time": "2025-03-23T17:16:33.370Z"
   },
   {
    "duration": 2333,
    "start_time": "2025-03-23T17:17:24.300Z"
   },
   {
    "duration": 2268,
    "start_time": "2025-03-23T17:24:24.567Z"
   },
   {
    "duration": 1906,
    "start_time": "2025-03-23T17:25:14.093Z"
   },
   {
    "duration": 2302,
    "start_time": "2025-03-23T17:25:32.829Z"
   },
   {
    "duration": 2200,
    "start_time": "2025-03-23T17:25:51.026Z"
   },
   {
    "duration": 9,
    "start_time": "2025-03-23T17:26:21.513Z"
   },
   {
    "duration": 6124,
    "start_time": "2025-03-23T17:28:43.947Z"
   },
   {
    "duration": 1971,
    "start_time": "2025-03-23T17:29:08.997Z"
   },
   {
    "duration": 1875,
    "start_time": "2025-03-23T17:29:15.235Z"
   },
   {
    "duration": 2147,
    "start_time": "2025-03-23T17:29:17.574Z"
   },
   {
    "duration": 86,
    "start_time": "2025-03-23T17:29:37.115Z"
   },
   {
    "duration": 6852,
    "start_time": "2025-03-23T17:29:43.723Z"
   },
   {
    "duration": 181,
    "start_time": "2025-03-23T17:30:10.930Z"
   },
   {
    "duration": 6198,
    "start_time": "2025-03-23T17:30:50.407Z"
   },
   {
    "duration": 13,
    "start_time": "2025-03-23T17:31:37.553Z"
   },
   {
    "duration": 1789,
    "start_time": "2025-03-23T17:31:41.486Z"
   },
   {
    "duration": 1680,
    "start_time": "2025-03-23T17:36:29.606Z"
   },
   {
    "duration": 6101,
    "start_time": "2025-03-23T17:36:49.532Z"
   },
   {
    "duration": 1999,
    "start_time": "2025-03-23T17:37:26.776Z"
   },
   {
    "duration": 6875,
    "start_time": "2025-03-23T17:37:42.348Z"
   },
   {
    "duration": 2449,
    "start_time": "2025-03-23T17:39:36.319Z"
   },
   {
    "duration": 2580,
    "start_time": "2025-03-23T17:39:41.625Z"
   },
   {
    "duration": 116,
    "start_time": "2025-03-23T17:40:50.531Z"
   },
   {
    "duration": 124,
    "start_time": "2025-03-23T17:41:04.194Z"
   },
   {
    "duration": 19,
    "start_time": "2025-03-23T17:41:11.745Z"
   },
   {
    "duration": 21,
    "start_time": "2025-03-23T17:42:55.015Z"
   },
   {
    "duration": 24,
    "start_time": "2025-03-23T17:43:00.947Z"
   },
   {
    "duration": 38,
    "start_time": "2025-03-23T17:43:14.025Z"
   },
   {
    "duration": 84,
    "start_time": "2025-03-23T17:43:24.939Z"
   },
   {
    "duration": 23,
    "start_time": "2025-03-23T17:43:27.684Z"
   },
   {
    "duration": 1769,
    "start_time": "2025-03-23T17:43:42.791Z"
   },
   {
    "duration": 1758,
    "start_time": "2025-03-23T17:44:30.494Z"
   },
   {
    "duration": 771,
    "start_time": "2025-03-24T09:22:06.186Z"
   },
   {
    "duration": 15750,
    "start_time": "2025-03-24T09:22:06.959Z"
   },
   {
    "duration": 9327,
    "start_time": "2025-03-24T09:22:22.711Z"
   },
   {
    "duration": 4301,
    "start_time": "2025-03-24T09:22:32.105Z"
   },
   {
    "duration": 1797,
    "start_time": "2025-03-24T09:22:36.408Z"
   },
   {
    "duration": 3847,
    "start_time": "2025-03-24T09:22:38.207Z"
   },
   {
    "duration": 624,
    "start_time": "2025-03-24T09:22:42.104Z"
   },
   {
    "duration": 75,
    "start_time": "2025-03-24T09:22:42.729Z"
   },
   {
    "duration": 1113,
    "start_time": "2025-03-24T09:22:42.805Z"
   },
   {
    "duration": 27518,
    "start_time": "2025-03-24T09:22:43.921Z"
   },
   {
    "duration": 113,
    "start_time": "2025-03-24T09:23:11.506Z"
   },
   {
    "duration": 11,
    "start_time": "2025-03-24T09:23:11.620Z"
   },
   {
    "duration": 104,
    "start_time": "2025-03-24T09:23:11.632Z"
   },
   {
    "duration": 74,
    "start_time": "2025-03-24T09:23:11.737Z"
   },
   {
    "duration": 8,
    "start_time": "2025-03-24T09:23:11.813Z"
   },
   {
    "duration": 8994,
    "start_time": "2025-03-24T09:23:11.823Z"
   },
   {
    "duration": 86,
    "start_time": "2025-03-24T09:23:20.819Z"
   },
   {
    "duration": 16908,
    "start_time": "2025-03-24T09:23:20.907Z"
   },
   {
    "duration": 11901,
    "start_time": "2025-03-24T09:23:37.817Z"
   },
   {
    "duration": 21838,
    "start_time": "2025-03-24T09:23:49.720Z"
   },
   {
    "duration": 1153,
    "start_time": "2025-03-24T09:24:11.560Z"
   },
   {
    "duration": 4579,
    "start_time": "2025-03-24T09:24:12.715Z"
   },
   {
    "duration": 3308,
    "start_time": "2025-03-24T09:24:17.304Z"
   },
   {
    "duration": 2648,
    "start_time": "2025-03-24T09:24:20.615Z"
   },
   {
    "duration": 3032,
    "start_time": "2025-03-24T09:24:45.097Z"
   },
   {
    "duration": 2833,
    "start_time": "2025-03-24T09:25:48.209Z"
   },
   {
    "duration": 144,
    "start_time": "2025-03-24T09:28:31.137Z"
   },
   {
    "duration": 4777,
    "start_time": "2025-03-24T09:28:35.202Z"
   },
   {
    "duration": 4686,
    "start_time": "2025-03-24T09:29:03.605Z"
   },
   {
    "duration": 172,
    "start_time": "2025-03-24T09:29:57.179Z"
   },
   {
    "duration": 259,
    "start_time": "2025-03-24T09:30:03.632Z"
   },
   {
    "duration": 11,
    "start_time": "2025-03-24T09:30:31.492Z"
   },
   {
    "duration": 5,
    "start_time": "2025-03-24T09:31:13.288Z"
   },
   {
    "duration": 10,
    "start_time": "2025-03-24T09:31:50.399Z"
   },
   {
    "duration": 295,
    "start_time": "2025-03-24T09:32:04.617Z"
   },
   {
    "duration": 311,
    "start_time": "2025-03-24T09:32:10.000Z"
   },
   {
    "duration": 4,
    "start_time": "2025-03-24T09:32:31.583Z"
   },
   {
    "duration": 329,
    "start_time": "2025-03-24T09:32:39.250Z"
   },
   {
    "duration": 422,
    "start_time": "2025-03-24T09:32:43.659Z"
   },
   {
    "duration": 338,
    "start_time": "2025-03-24T09:32:57.345Z"
   },
   {
    "duration": 330,
    "start_time": "2025-03-24T09:34:00.721Z"
   },
   {
    "duration": 21,
    "start_time": "2025-03-24T09:34:45.049Z"
   },
   {
    "duration": 11,
    "start_time": "2025-03-24T09:34:54.038Z"
   },
   {
    "duration": 504,
    "start_time": "2025-03-24T09:35:07.977Z"
   },
   {
    "duration": 665,
    "start_time": "2025-03-24T09:35:16.638Z"
   },
   {
    "duration": 310,
    "start_time": "2025-03-24T09:35:28.797Z"
   },
   {
    "duration": 337,
    "start_time": "2025-03-24T09:35:43.010Z"
   },
   {
    "duration": 38,
    "start_time": "2025-03-24T09:40:05.122Z"
   },
   {
    "duration": 831,
    "start_time": "2025-03-24T09:40:16.807Z"
   },
   {
    "duration": 471,
    "start_time": "2025-03-24T09:40:34.978Z"
   },
   {
    "duration": 697,
    "start_time": "2025-03-24T09:41:08.649Z"
   },
   {
    "duration": 24,
    "start_time": "2025-03-24T09:42:00.059Z"
   },
   {
    "duration": 66,
    "start_time": "2025-03-24T09:43:24.836Z"
   },
   {
    "duration": 243,
    "start_time": "2025-03-24T09:43:38.096Z"
   },
   {
    "duration": 507,
    "start_time": "2025-03-24T09:43:42.655Z"
   },
   {
    "duration": 88,
    "start_time": "2025-03-24T09:43:58.957Z"
   },
   {
    "duration": 87,
    "start_time": "2025-03-24T09:44:02.177Z"
   },
   {
    "duration": 743,
    "start_time": "2025-03-24T09:44:04.789Z"
   },
   {
    "duration": 758,
    "start_time": "2025-03-24T09:44:38.478Z"
   },
   {
    "duration": 4,
    "start_time": "2025-03-24T09:45:09.197Z"
   },
   {
    "duration": 4,
    "start_time": "2025-03-24T09:45:24.627Z"
   },
   {
    "duration": 961,
    "start_time": "2025-03-24T09:45:28.862Z"
   },
   {
    "duration": 28,
    "start_time": "2025-03-24T09:45:38.241Z"
   },
   {
    "duration": 7212,
    "start_time": "2025-03-24T09:45:53.282Z"
   },
   {
    "duration": 155,
    "start_time": "2025-03-24T09:46:01.597Z"
   },
   {
    "duration": 152,
    "start_time": "2025-03-24T09:46:02.949Z"
   },
   {
    "duration": 482,
    "start_time": "2025-03-24T09:46:14.431Z"
   },
   {
    "duration": 5,
    "start_time": "2025-03-24T09:47:15.946Z"
   },
   {
    "duration": 659,
    "start_time": "2025-03-24T09:47:20.720Z"
   },
   {
    "duration": 540,
    "start_time": "2025-03-24T09:48:15.710Z"
   },
   {
    "duration": 173,
    "start_time": "2025-03-24T09:48:25.897Z"
   },
   {
    "duration": 173,
    "start_time": "2025-03-24T09:48:28.996Z"
   },
   {
    "duration": 181,
    "start_time": "2025-03-24T09:48:54.100Z"
   },
   {
    "duration": 173,
    "start_time": "2025-03-24T09:48:56.696Z"
   },
   {
    "duration": 171,
    "start_time": "2025-03-24T09:49:00.571Z"
   },
   {
    "duration": 28,
    "start_time": "2025-03-24T09:49:58.811Z"
   },
   {
    "duration": 5199,
    "start_time": "2025-03-24T09:50:12.611Z"
   },
   {
    "duration": 186,
    "start_time": "2025-03-24T09:50:29.410Z"
   },
   {
    "duration": 184,
    "start_time": "2025-03-24T09:51:01.400Z"
   },
   {
    "duration": 170,
    "start_time": "2025-03-24T09:53:44.740Z"
   },
   {
    "duration": 182,
    "start_time": "2025-03-24T09:53:49.341Z"
   },
   {
    "duration": 760,
    "start_time": "2025-03-24T09:53:52.539Z"
   },
   {
    "duration": 457,
    "start_time": "2025-03-24T09:53:55.994Z"
   },
   {
    "duration": 28,
    "start_time": "2025-03-24T09:54:48.521Z"
   },
   {
    "duration": 309,
    "start_time": "2025-03-24T09:54:52.946Z"
   },
   {
    "duration": 275,
    "start_time": "2025-03-24T09:55:08.761Z"
   },
   {
    "duration": 213,
    "start_time": "2025-03-24T09:55:19.643Z"
   },
   {
    "duration": 1355,
    "start_time": "2025-03-24T10:55:12.524Z"
   },
   {
    "duration": 16045,
    "start_time": "2025-03-24T10:55:13.880Z"
   },
   {
    "duration": 9394,
    "start_time": "2025-03-24T10:55:29.928Z"
   },
   {
    "duration": 4406,
    "start_time": "2025-03-24T10:55:39.324Z"
   },
   {
    "duration": 2003,
    "start_time": "2025-03-24T10:55:43.733Z"
   },
   {
    "duration": 3727,
    "start_time": "2025-03-24T10:55:45.805Z"
   },
   {
    "duration": 782,
    "start_time": "2025-03-24T10:55:49.534Z"
   },
   {
    "duration": 7,
    "start_time": "2025-03-24T10:55:50.318Z"
   },
   {
    "duration": 1099,
    "start_time": "2025-03-24T10:55:50.327Z"
   },
   {
    "duration": 28620,
    "start_time": "2025-03-24T10:55:51.428Z"
   },
   {
    "duration": 90,
    "start_time": "2025-03-24T10:56:20.049Z"
   },
   {
    "duration": 5,
    "start_time": "2025-03-24T10:56:20.141Z"
   },
   {
    "duration": 88,
    "start_time": "2025-03-24T10:56:20.148Z"
   },
   {
    "duration": 17,
    "start_time": "2025-03-24T10:56:20.239Z"
   },
   {
    "duration": 28,
    "start_time": "2025-03-24T10:56:20.258Z"
   },
   {
    "duration": 8437,
    "start_time": "2025-03-24T10:56:20.288Z"
   },
   {
    "duration": 78,
    "start_time": "2025-03-24T10:56:28.727Z"
   },
   {
    "duration": 14498,
    "start_time": "2025-03-24T10:56:28.806Z"
   },
   {
    "duration": 12139,
    "start_time": "2025-03-24T10:56:43.306Z"
   },
   {
    "duration": 26485,
    "start_time": "2025-03-24T10:56:55.446Z"
   },
   {
    "duration": 978,
    "start_time": "2025-03-24T10:57:21.932Z"
   },
   {
    "duration": 25,
    "start_time": "2025-03-24T10:57:22.912Z"
   },
   {
    "duration": 7614,
    "start_time": "2025-03-24T10:57:22.939Z"
   },
   {
    "duration": 215,
    "start_time": "2025-03-24T10:57:30.554Z"
   },
   {
    "duration": 184,
    "start_time": "2025-03-24T10:57:30.772Z"
   },
   {
    "duration": 560,
    "start_time": "2025-03-24T10:57:30.957Z"
   },
   {
    "duration": 605,
    "start_time": "2025-03-24T10:57:31.519Z"
   },
   {
    "duration": 306,
    "start_time": "2025-03-24T10:57:32.126Z"
   },
   {
    "duration": 9,
    "start_time": "2025-03-24T10:57:32.434Z"
   },
   {
    "duration": 105,
    "start_time": "2025-03-24T10:59:04.128Z"
   },
   {
    "duration": 8,
    "start_time": "2025-03-24T10:59:13.292Z"
   },
   {
    "duration": 10,
    "start_time": "2025-03-24T10:59:44.697Z"
   },
   {
    "duration": 108,
    "start_time": "2025-03-24T10:59:46.933Z"
   },
   {
    "duration": 13,
    "start_time": "2025-03-24T10:59:55.902Z"
   },
   {
    "duration": 131,
    "start_time": "2025-03-24T11:00:02.380Z"
   },
   {
    "duration": 2962,
    "start_time": "2025-03-24T11:00:16.859Z"
   },
   {
    "duration": 8,
    "start_time": "2025-03-24T11:00:36.240Z"
   },
   {
    "duration": 2937,
    "start_time": "2025-03-24T11:00:37.216Z"
   },
   {
    "duration": 2451,
    "start_time": "2025-03-24T11:00:47.496Z"
   },
   {
    "duration": 2459,
    "start_time": "2025-03-24T11:00:55.519Z"
   },
   {
    "duration": 20,
    "start_time": "2025-03-24T11:22:24.812Z"
   },
   {
    "duration": 227,
    "start_time": "2025-03-24T11:22:41.084Z"
   },
   {
    "duration": 11,
    "start_time": "2025-03-24T11:22:50.864Z"
   },
   {
    "duration": 19,
    "start_time": "2025-03-24T11:23:24.841Z"
   },
   {
    "duration": 20,
    "start_time": "2025-03-24T11:23:55.375Z"
   },
   {
    "duration": 2599,
    "start_time": "2025-03-24T11:23:57.152Z"
   },
   {
    "duration": 123,
    "start_time": "2025-03-24T11:24:13.698Z"
   },
   {
    "duration": 86,
    "start_time": "2025-03-24T11:24:22.833Z"
   },
   {
    "duration": 2177,
    "start_time": "2025-03-24T11:24:41.955Z"
   },
   {
    "duration": 23,
    "start_time": "2025-03-24T11:26:40.357Z"
   },
   {
    "duration": 10,
    "start_time": "2025-03-24T11:28:56.960Z"
   },
   {
    "duration": 4,
    "start_time": "2025-03-24T11:28:59.832Z"
   },
   {
    "duration": 10,
    "start_time": "2025-03-24T11:29:51.129Z"
   },
   {
    "duration": 8,
    "start_time": "2025-03-24T11:29:57.512Z"
   },
   {
    "duration": 9,
    "start_time": "2025-03-24T11:29:59.479Z"
   },
   {
    "duration": 3,
    "start_time": "2025-03-24T11:30:00.622Z"
   },
   {
    "duration": 9,
    "start_time": "2025-03-24T11:30:53.644Z"
   },
   {
    "duration": 4,
    "start_time": "2025-03-24T11:36:35.641Z"
   },
   {
    "duration": 12242,
    "start_time": "2025-03-24T11:37:06.989Z"
   },
   {
    "duration": 11171,
    "start_time": "2025-03-24T11:37:38.957Z"
   },
   {
    "duration": 133,
    "start_time": "2025-03-24T11:38:03.610Z"
   },
   {
    "duration": 4,
    "start_time": "2025-03-24T11:38:23.711Z"
   },
   {
    "duration": 131,
    "start_time": "2025-03-24T11:38:24.364Z"
   },
   {
    "duration": 3,
    "start_time": "2025-03-24T11:41:32.669Z"
   },
   {
    "duration": 9362,
    "start_time": "2025-03-24T11:41:34.295Z"
   },
   {
    "duration": 104,
    "start_time": "2025-03-24T11:43:30.151Z"
   },
   {
    "duration": 10,
    "start_time": "2025-03-24T11:43:30.578Z"
   },
   {
    "duration": 96,
    "start_time": "2025-03-24T11:43:39.864Z"
   },
   {
    "duration": 4,
    "start_time": "2025-03-24T11:44:56.653Z"
   },
   {
    "duration": 12,
    "start_time": "2025-03-24T11:45:00.117Z"
   },
   {
    "duration": 8821,
    "start_time": "2025-03-24T11:45:09.320Z"
   },
   {
    "duration": 6,
    "start_time": "2025-03-24T11:45:57.435Z"
   },
   {
    "duration": 8154,
    "start_time": "2025-03-24T11:45:58.609Z"
   },
   {
    "duration": 4,
    "start_time": "2025-03-24T11:46:26.650Z"
   },
   {
    "duration": 7879,
    "start_time": "2025-03-24T11:46:31.630Z"
   },
   {
    "duration": 8013,
    "start_time": "2025-03-24T11:46:49.324Z"
   },
   {
    "duration": 4,
    "start_time": "2025-03-24T11:47:23.870Z"
   },
   {
    "duration": 8405,
    "start_time": "2025-03-24T11:47:24.520Z"
   },
   {
    "duration": 8892,
    "start_time": "2025-03-24T11:48:44.749Z"
   },
   {
    "duration": 7,
    "start_time": "2025-03-24T11:49:37.989Z"
   },
   {
    "duration": 15887,
    "start_time": "2025-03-24T11:50:01.043Z"
   },
   {
    "duration": 15312,
    "start_time": "2025-03-24T11:50:26.023Z"
   },
   {
    "duration": 8,
    "start_time": "2025-03-24T11:54:37.496Z"
   },
   {
    "duration": 5200,
    "start_time": "2025-03-24T11:55:13.961Z"
   },
   {
    "duration": 47,
    "start_time": "2025-03-24T11:55:21.816Z"
   },
   {
    "duration": 10,
    "start_time": "2025-03-24T11:55:22.605Z"
   },
   {
    "duration": 19,
    "start_time": "2025-03-24T11:55:22.947Z"
   },
   {
    "duration": 12,
    "start_time": "2025-03-24T11:55:23.343Z"
   },
   {
    "duration": 7,
    "start_time": "2025-03-24T11:55:23.714Z"
   },
   {
    "duration": 5,
    "start_time": "2025-03-24T11:55:26.053Z"
   },
   {
    "duration": 14724,
    "start_time": "2025-03-24T11:55:28.060Z"
   },
   {
    "duration": 5,
    "start_time": "2025-03-24T11:58:35.614Z"
   },
   {
    "duration": 15367,
    "start_time": "2025-03-24T11:58:41.369Z"
   },
   {
    "duration": 13440,
    "start_time": "2025-03-24T11:59:00.078Z"
   },
   {
    "duration": 27303,
    "start_time": "2025-03-24T12:01:09.315Z"
   },
   {
    "duration": 2974,
    "start_time": "2025-03-24T12:09:45.356Z"
   },
   {
    "duration": 8,
    "start_time": "2025-03-24T12:10:09.315Z"
   },
   {
    "duration": 27711,
    "start_time": "2025-03-24T12:10:47.248Z"
   },
   {
    "duration": 8,
    "start_time": "2025-03-24T12:13:59.320Z"
   },
   {
    "duration": 26492,
    "start_time": "2025-03-24T12:14:00.335Z"
   },
   {
    "duration": 9,
    "start_time": "2025-03-24T12:14:36.657Z"
   },
   {
    "duration": 9,
    "start_time": "2025-03-24T12:14:42.058Z"
   },
   {
    "duration": 8,
    "start_time": "2025-03-24T12:15:13.123Z"
   },
   {
    "duration": 26648,
    "start_time": "2025-03-24T12:15:14.872Z"
   },
   {
    "duration": 4,
    "start_time": "2025-03-24T12:15:41.522Z"
   },
   {
    "duration": 8,
    "start_time": "2025-03-24T12:16:31.848Z"
   },
   {
    "duration": 27228,
    "start_time": "2025-03-24T12:16:31.858Z"
   },
   {
    "duration": 57,
    "start_time": "2025-03-24T12:16:59.104Z"
   },
   {
    "duration": 575,
    "start_time": "2025-03-24T12:17:04.169Z"
   },
   {
    "duration": 744,
    "start_time": "2025-03-24T12:17:45.489Z"
   },
   {
    "duration": 10,
    "start_time": "2025-03-24T12:20:08.776Z"
   },
   {
    "duration": 25822,
    "start_time": "2025-03-24T12:20:11.283Z"
   },
   {
    "duration": 10,
    "start_time": "2025-03-24T12:20:37.107Z"
   },
   {
    "duration": 6,
    "start_time": "2025-03-24T12:20:43.512Z"
   },
   {
    "duration": 9,
    "start_time": "2025-03-24T12:20:47.652Z"
   },
   {
    "duration": 5,
    "start_time": "2025-03-24T12:20:54.043Z"
   },
   {
    "duration": 8,
    "start_time": "2025-03-24T12:21:13.460Z"
   },
   {
    "duration": 8,
    "start_time": "2025-03-24T12:22:39.663Z"
   },
   {
    "duration": 8,
    "start_time": "2025-03-24T12:22:54.424Z"
   },
   {
    "duration": 25305,
    "start_time": "2025-03-24T12:22:58.413Z"
   },
   {
    "duration": 8,
    "start_time": "2025-03-24T12:23:25.912Z"
   },
   {
    "duration": 26031,
    "start_time": "2025-03-24T12:23:27.483Z"
   },
   {
    "duration": 52,
    "start_time": "2025-03-24T12:23:53.515Z"
   },
   {
    "duration": 524,
    "start_time": "2025-03-24T12:24:07.532Z"
   },
   {
    "duration": 25274,
    "start_time": "2025-03-24T12:24:21.281Z"
   },
   {
    "duration": 569,
    "start_time": "2025-03-24T12:24:46.557Z"
   },
   {
    "duration": 8,
    "start_time": "2025-03-24T12:26:25.593Z"
   },
   {
    "duration": 9620,
    "start_time": "2025-03-24T12:26:26.311Z"
   },
   {
    "duration": 8,
    "start_time": "2025-03-24T12:30:00.526Z"
   },
   {
    "duration": 32328,
    "start_time": "2025-03-24T12:30:01.305Z"
   },
   {
    "duration": 73,
    "start_time": "2025-03-24T12:31:06.645Z"
   },
   {
    "duration": 12,
    "start_time": "2025-03-24T12:41:38.272Z"
   },
   {
    "duration": 19,
    "start_time": "2025-03-24T12:42:04.952Z"
   },
   {
    "duration": 183,
    "start_time": "2025-03-24T12:43:35.312Z"
   },
   {
    "duration": 174,
    "start_time": "2025-03-24T12:43:44.183Z"
   },
   {
    "duration": 221,
    "start_time": "2025-03-24T12:43:57.392Z"
   },
   {
    "duration": 178,
    "start_time": "2025-03-24T12:44:22.971Z"
   },
   {
    "duration": 43,
    "start_time": "2025-03-24T12:47:07.392Z"
   },
   {
    "duration": 9,
    "start_time": "2025-03-24T12:48:34.426Z"
   },
   {
    "duration": 9,
    "start_time": "2025-03-24T12:48:40.568Z"
   },
   {
    "duration": 15479,
    "start_time": "2025-03-24T12:49:07.117Z"
   },
   {
    "duration": 7,
    "start_time": "2025-03-24T12:49:32.096Z"
   },
   {
    "duration": 32,
    "start_time": "2025-03-24T12:51:42.044Z"
   },
   {
    "duration": 507,
    "start_time": "2025-03-24T12:52:30.713Z"
   },
   {
    "duration": 5,
    "start_time": "2025-03-24T12:56:52.330Z"
   },
   {
    "duration": 524,
    "start_time": "2025-03-24T12:57:00.423Z"
   },
   {
    "duration": 9,
    "start_time": "2025-03-24T12:58:38.616Z"
   },
   {
    "duration": 31043,
    "start_time": "2025-03-24T12:59:12.225Z"
   },
   {
    "duration": 68,
    "start_time": "2025-03-24T12:59:43.270Z"
   },
   {
    "duration": 194,
    "start_time": "2025-03-24T12:59:43.340Z"
   },
   {
    "duration": 4,
    "start_time": "2025-03-24T12:59:43.536Z"
   },
   {
    "duration": 541,
    "start_time": "2025-03-24T12:59:43.542Z"
   },
   {
    "duration": 10,
    "start_time": "2025-03-24T13:00:05.965Z"
   },
   {
    "duration": 10,
    "start_time": "2025-03-24T13:01:17.956Z"
   },
   {
    "duration": 9,
    "start_time": "2025-03-24T13:02:12.566Z"
   },
   {
    "duration": 10,
    "start_time": "2025-03-24T13:04:55.716Z"
   },
   {
    "duration": 8,
    "start_time": "2025-03-24T13:12:18.956Z"
   },
   {
    "duration": 167,
    "start_time": "2025-03-24T13:12:28.847Z"
   },
   {
    "duration": 8,
    "start_time": "2025-03-24T13:12:41.376Z"
   },
   {
    "duration": 169,
    "start_time": "2025-03-24T13:12:47.029Z"
   },
   {
    "duration": 43,
    "start_time": "2025-03-24T13:13:17.724Z"
   },
   {
    "duration": 6,
    "start_time": "2025-03-24T13:13:27.119Z"
   },
   {
    "duration": 164,
    "start_time": "2025-03-24T13:13:29.558Z"
   },
   {
    "duration": 174,
    "start_time": "2025-03-24T13:14:15.699Z"
   },
   {
    "duration": 155,
    "start_time": "2025-03-24T13:14:33.526Z"
   },
   {
    "duration": 159,
    "start_time": "2025-03-24T13:19:18.127Z"
   },
   {
    "duration": 171,
    "start_time": "2025-03-24T13:19:32.258Z"
   },
   {
    "duration": 168,
    "start_time": "2025-03-24T13:21:55.148Z"
   },
   {
    "duration": 11,
    "start_time": "2025-03-24T13:22:48.721Z"
   },
   {
    "duration": 169,
    "start_time": "2025-03-24T13:22:52.275Z"
   },
   {
    "duration": 10,
    "start_time": "2025-03-24T13:25:11.791Z"
   },
   {
    "duration": 162,
    "start_time": "2025-03-24T13:26:52.561Z"
   },
   {
    "duration": 1498,
    "start_time": "2025-03-24T13:28:01.738Z"
   },
   {
    "duration": 172,
    "start_time": "2025-03-24T13:28:04.963Z"
   },
   {
    "duration": 179,
    "start_time": "2025-03-24T13:28:23.362Z"
   },
   {
    "duration": 157,
    "start_time": "2025-03-24T13:28:54.379Z"
   },
   {
    "duration": 155,
    "start_time": "2025-03-24T13:29:16.529Z"
   },
   {
    "duration": 170,
    "start_time": "2025-03-24T13:30:35.619Z"
   },
   {
    "duration": 9,
    "start_time": "2025-03-24T13:31:49.253Z"
   },
   {
    "duration": 84,
    "start_time": "2025-03-24T13:32:09.488Z"
   },
   {
    "duration": 164,
    "start_time": "2025-03-24T13:37:29.869Z"
   },
   {
    "duration": 78,
    "start_time": "2025-03-24T13:43:49.062Z"
   },
   {
    "duration": 44,
    "start_time": "2025-03-24T13:43:57.355Z"
   },
   {
    "duration": 679,
    "start_time": "2025-03-24T14:29:17.367Z"
   },
   {
    "duration": 346,
    "start_time": "2025-03-24T14:29:48.674Z"
   },
   {
    "duration": 344,
    "start_time": "2025-03-24T14:30:11.464Z"
   },
   {
    "duration": 176,
    "start_time": "2025-03-24T14:30:21.192Z"
   },
   {
    "duration": 166,
    "start_time": "2025-03-24T14:35:58.609Z"
   },
   {
    "duration": 171,
    "start_time": "2025-03-24T14:36:47.796Z"
   },
   {
    "duration": 112,
    "start_time": "2025-03-24T14:43:07.504Z"
   },
   {
    "duration": 6,
    "start_time": "2025-03-24T14:43:34.378Z"
   },
   {
    "duration": 49,
    "start_time": "2025-03-24T14:44:00.548Z"
   },
   {
    "duration": 47,
    "start_time": "2025-03-24T14:44:06.902Z"
   },
   {
    "duration": 5,
    "start_time": "2025-03-24T14:44:16.345Z"
   },
   {
    "duration": 48,
    "start_time": "2025-03-24T14:44:16.836Z"
   },
   {
    "duration": 165,
    "start_time": "2025-03-24T14:44:17.969Z"
   },
   {
    "duration": 343,
    "start_time": "2025-03-24T14:44:18.564Z"
   },
   {
    "duration": 167,
    "start_time": "2025-03-24T14:44:19.173Z"
   },
   {
    "duration": 44,
    "start_time": "2025-03-24T14:44:58.936Z"
   },
   {
    "duration": 1329,
    "start_time": "2025-03-24T14:54:48.863Z"
   },
   {
    "duration": 16731,
    "start_time": "2025-03-24T14:54:50.194Z"
   },
   {
    "duration": 10389,
    "start_time": "2025-03-24T14:55:06.928Z"
   },
   {
    "duration": 4506,
    "start_time": "2025-03-24T14:55:17.320Z"
   },
   {
    "duration": 1976,
    "start_time": "2025-03-24T14:55:21.829Z"
   },
   {
    "duration": 4396,
    "start_time": "2025-03-24T14:55:23.807Z"
   },
   {
    "duration": 1025,
    "start_time": "2025-03-24T14:55:28.205Z"
   },
   {
    "duration": 77,
    "start_time": "2025-03-24T14:55:29.233Z"
   },
   {
    "duration": 1510,
    "start_time": "2025-03-24T14:55:29.312Z"
   },
   {
    "duration": 31303,
    "start_time": "2025-03-24T14:55:30.826Z"
   },
   {
    "duration": 190,
    "start_time": "2025-03-24T14:56:02.132Z"
   },
   {
    "duration": 6,
    "start_time": "2025-03-24T14:56:02.324Z"
   },
   {
    "duration": 106,
    "start_time": "2025-03-24T14:56:02.332Z"
   },
   {
    "duration": 79,
    "start_time": "2025-03-24T14:56:02.441Z"
   },
   {
    "duration": 6,
    "start_time": "2025-03-24T14:56:02.522Z"
   },
   {
    "duration": 17,
    "start_time": "2025-03-24T14:56:02.530Z"
   },
   {
    "duration": 22689,
    "start_time": "2025-03-24T14:56:02.604Z"
   },
   {
    "duration": 0,
    "start_time": "2025-03-24T14:56:25.294Z"
   },
   {
    "duration": 0,
    "start_time": "2025-03-24T14:56:25.296Z"
   },
   {
    "duration": 0,
    "start_time": "2025-03-24T14:56:25.297Z"
   },
   {
    "duration": 0,
    "start_time": "2025-03-24T14:56:25.303Z"
   },
   {
    "duration": 0,
    "start_time": "2025-03-24T14:56:25.304Z"
   },
   {
    "duration": 0,
    "start_time": "2025-03-24T14:56:25.306Z"
   },
   {
    "duration": 9,
    "start_time": "2025-03-24T14:56:38.402Z"
   },
   {
    "duration": 62192,
    "start_time": "2025-03-24T14:56:40.084Z"
   },
   {
    "duration": 114,
    "start_time": "2025-03-24T14:59:28.273Z"
   },
   {
    "duration": 21,
    "start_time": "2025-03-24T14:59:58.940Z"
   },
   {
    "duration": 67,
    "start_time": "2025-03-24T14:59:59.133Z"
   },
   {
    "duration": 220,
    "start_time": "2025-03-24T14:59:59.331Z"
   },
   {
    "duration": 388,
    "start_time": "2025-03-24T14:59:59.577Z"
   },
   {
    "duration": 197,
    "start_time": "2025-03-24T14:59:59.967Z"
   },
   {
    "duration": 44,
    "start_time": "2025-03-24T15:00:00.317Z"
   },
   {
    "duration": 105,
    "start_time": "2025-03-24T15:04:52.473Z"
   },
   {
    "duration": 25,
    "start_time": "2025-03-24T15:05:11.242Z"
   },
   {
    "duration": 1475,
    "start_time": "2025-03-24T15:06:13.384Z"
   },
   {
    "duration": 17073,
    "start_time": "2025-03-24T15:06:14.861Z"
   },
   {
    "duration": 11966,
    "start_time": "2025-03-24T15:06:31.939Z"
   },
   {
    "duration": 5611,
    "start_time": "2025-03-24T15:06:43.910Z"
   },
   {
    "duration": 2096,
    "start_time": "2025-03-24T15:06:49.523Z"
   },
   {
    "duration": 4715,
    "start_time": "2025-03-24T15:06:51.621Z"
   },
   {
    "duration": 873,
    "start_time": "2025-03-24T15:06:56.338Z"
   },
   {
    "duration": 11,
    "start_time": "2025-03-24T15:06:57.212Z"
   },
   {
    "duration": 1307,
    "start_time": "2025-03-24T15:06:57.225Z"
   },
   {
    "duration": 33495,
    "start_time": "2025-03-24T15:06:58.535Z"
   },
   {
    "duration": 187,
    "start_time": "2025-03-24T15:07:32.034Z"
   },
   {
    "duration": 11,
    "start_time": "2025-03-24T15:07:32.223Z"
   },
   {
    "duration": 102,
    "start_time": "2025-03-24T15:07:32.235Z"
   },
   {
    "duration": 76,
    "start_time": "2025-03-24T15:07:32.339Z"
   },
   {
    "duration": 12,
    "start_time": "2025-03-24T15:07:32.419Z"
   },
   {
    "duration": 82,
    "start_time": "2025-03-24T15:07:32.433Z"
   },
   {
    "duration": 93336,
    "start_time": "2025-03-24T15:07:32.517Z"
   },
   {
    "duration": 11,
    "start_time": "2025-03-24T15:09:05.856Z"
   },
   {
    "duration": 116,
    "start_time": "2025-03-24T15:09:05.869Z"
   },
   {
    "duration": 222,
    "start_time": "2025-03-24T15:09:05.986Z"
   },
   {
    "duration": 380,
    "start_time": "2025-03-24T15:09:06.210Z"
   },
   {
    "duration": 193,
    "start_time": "2025-03-24T15:09:06.592Z"
   },
   {
    "duration": 44,
    "start_time": "2025-03-25T06:41:28.318Z"
   },
   {
    "duration": 1361,
    "start_time": "2025-03-25T06:42:34.632Z"
   },
   {
    "duration": 13907,
    "start_time": "2025-03-25T06:42:35.995Z"
   },
   {
    "duration": 7862,
    "start_time": "2025-03-25T06:42:49.904Z"
   },
   {
    "duration": 3796,
    "start_time": "2025-03-25T06:42:57.769Z"
   },
   {
    "duration": 1700,
    "start_time": "2025-03-25T06:43:01.567Z"
   },
   {
    "duration": 3522,
    "start_time": "2025-03-25T06:43:03.269Z"
   },
   {
    "duration": 692,
    "start_time": "2025-03-25T06:43:06.793Z"
   },
   {
    "duration": 77,
    "start_time": "2025-03-25T06:43:07.487Z"
   },
   {
    "duration": 1130,
    "start_time": "2025-03-25T06:43:07.566Z"
   },
   {
    "duration": 25207,
    "start_time": "2025-03-25T06:43:08.758Z"
   },
   {
    "duration": 104,
    "start_time": "2025-03-25T06:43:33.967Z"
   },
   {
    "duration": 5,
    "start_time": "2025-03-25T06:43:34.073Z"
   },
   {
    "duration": 97,
    "start_time": "2025-03-25T06:43:34.079Z"
   },
   {
    "duration": 23,
    "start_time": "2025-03-25T06:43:34.177Z"
   },
   {
    "duration": 8,
    "start_time": "2025-03-25T06:43:34.255Z"
   },
   {
    "duration": 26,
    "start_time": "2025-03-25T06:43:34.265Z"
   },
   {
    "duration": 49709,
    "start_time": "2025-03-25T06:43:34.293Z"
   },
   {
    "duration": 153,
    "start_time": "2025-03-25T06:44:24.004Z"
   },
   {
    "duration": 0,
    "start_time": "2025-03-25T06:44:24.159Z"
   },
   {
    "duration": 0,
    "start_time": "2025-03-25T06:44:24.161Z"
   },
   {
    "duration": 0,
    "start_time": "2025-03-25T06:44:24.162Z"
   },
   {
    "duration": 0,
    "start_time": "2025-03-25T06:44:24.163Z"
   },
   {
    "duration": 0,
    "start_time": "2025-03-25T06:44:24.164Z"
   },
   {
    "duration": 11,
    "start_time": "2025-03-25T06:46:10.750Z"
   },
   {
    "duration": 644,
    "start_time": "2025-03-25T06:46:14.812Z"
   },
   {
    "duration": 10,
    "start_time": "2025-03-25T06:48:11.134Z"
   },
   {
    "duration": 20,
    "start_time": "2025-03-25T06:48:23.632Z"
   },
   {
    "duration": 15960,
    "start_time": "2025-03-25T06:48:30.800Z"
   },
   {
    "duration": 13867,
    "start_time": "2025-03-25T06:48:52.222Z"
   },
   {
    "duration": 12861,
    "start_time": "2025-03-25T06:49:23.212Z"
   },
   {
    "duration": 20,
    "start_time": "2025-03-25T06:50:05.100Z"
   },
   {
    "duration": 3033,
    "start_time": "2025-03-25T06:51:21.770Z"
   },
   {
    "duration": 279,
    "start_time": "2025-03-25T06:51:37.090Z"
   },
   {
    "duration": 141,
    "start_time": "2025-03-25T06:51:45.691Z"
   },
   {
    "duration": 443,
    "start_time": "2025-03-25T06:51:48.153Z"
   },
   {
    "duration": 1117,
    "start_time": "2025-03-25T06:58:16.561Z"
   },
   {
    "duration": 14693,
    "start_time": "2025-03-25T06:58:17.680Z"
   },
   {
    "duration": 8505,
    "start_time": "2025-03-25T06:58:32.375Z"
   },
   {
    "duration": 3696,
    "start_time": "2025-03-25T06:58:40.883Z"
   },
   {
    "duration": 1591,
    "start_time": "2025-03-25T06:58:44.581Z"
   },
   {
    "duration": 3293,
    "start_time": "2025-03-25T06:58:46.174Z"
   },
   {
    "duration": 616,
    "start_time": "2025-03-25T06:58:49.469Z"
   },
   {
    "duration": 70,
    "start_time": "2025-03-25T06:58:50.086Z"
   },
   {
    "duration": 932,
    "start_time": "2025-03-25T06:58:50.158Z"
   },
   {
    "duration": 25292,
    "start_time": "2025-03-25T06:58:51.093Z"
   },
   {
    "duration": 109,
    "start_time": "2025-03-25T06:59:16.386Z"
   },
   {
    "duration": 60,
    "start_time": "2025-03-25T06:59:16.496Z"
   },
   {
    "duration": 35,
    "start_time": "2025-03-25T06:59:16.557Z"
   },
   {
    "duration": 12,
    "start_time": "2025-03-25T06:59:16.594Z"
   },
   {
    "duration": 19,
    "start_time": "2025-03-25T06:59:16.607Z"
   },
   {
    "duration": 7,
    "start_time": "2025-03-25T06:59:16.627Z"
   },
   {
    "duration": 48982,
    "start_time": "2025-03-25T06:59:16.636Z"
   },
   {
    "duration": 48,
    "start_time": "2025-03-25T07:00:05.619Z"
   },
   {
    "duration": 3920,
    "start_time": "2025-03-25T07:00:05.670Z"
   },
   {
    "duration": 434,
    "start_time": "2025-03-25T07:00:09.592Z"
   },
   {
    "duration": 156,
    "start_time": "2025-03-25T07:00:10.027Z"
   },
   {
    "duration": 302,
    "start_time": "2025-03-25T07:00:10.184Z"
   },
   {
    "duration": 116,
    "start_time": "2025-03-25T07:04:23.754Z"
   },
   {
    "duration": 1205,
    "start_time": "2025-03-25T07:12:50.225Z"
   },
   {
    "duration": 14730,
    "start_time": "2025-03-25T07:12:51.431Z"
   },
   {
    "duration": 8099,
    "start_time": "2025-03-25T07:13:06.162Z"
   },
   {
    "duration": 3605,
    "start_time": "2025-03-25T07:13:14.262Z"
   },
   {
    "duration": 1592,
    "start_time": "2025-03-25T07:13:17.868Z"
   },
   {
    "duration": 3713,
    "start_time": "2025-03-25T07:13:19.462Z"
   },
   {
    "duration": 592,
    "start_time": "2025-03-25T07:13:23.177Z"
   },
   {
    "duration": 6,
    "start_time": "2025-03-25T07:13:23.770Z"
   },
   {
    "duration": 898,
    "start_time": "2025-03-25T07:13:23.778Z"
   },
   {
    "duration": 22779,
    "start_time": "2025-03-25T07:13:24.678Z"
   },
   {
    "duration": 107,
    "start_time": "2025-03-25T07:13:47.459Z"
   },
   {
    "duration": 8,
    "start_time": "2025-03-25T07:13:47.567Z"
   },
   {
    "duration": 24,
    "start_time": "2025-03-25T07:13:47.576Z"
   },
   {
    "duration": 12,
    "start_time": "2025-03-25T07:13:47.601Z"
   },
   {
    "duration": 8,
    "start_time": "2025-03-25T07:13:47.614Z"
   },
   {
    "duration": 36,
    "start_time": "2025-03-25T07:13:47.623Z"
   },
   {
    "duration": 1410,
    "start_time": "2025-10-01T16:26:33.383Z"
   },
   {
    "duration": 14771,
    "start_time": "2025-10-01T16:26:34.795Z"
   },
   {
    "duration": 8600,
    "start_time": "2025-10-01T16:26:49.568Z"
   },
   {
    "duration": 4016,
    "start_time": "2025-10-01T16:26:58.170Z"
   },
   {
    "duration": 1970,
    "start_time": "2025-10-01T16:27:02.189Z"
   },
   {
    "duration": 3643,
    "start_time": "2025-10-01T16:27:04.162Z"
   },
   {
    "duration": 753,
    "start_time": "2025-10-01T16:27:07.807Z"
   },
   {
    "duration": 6,
    "start_time": "2025-10-01T16:27:08.562Z"
   },
   {
    "duration": 1017,
    "start_time": "2025-10-01T16:27:08.570Z"
   },
   {
    "duration": 26594,
    "start_time": "2025-10-01T16:27:09.589Z"
   },
   {
    "duration": 110,
    "start_time": "2025-10-01T16:27:36.185Z"
   },
   {
    "duration": 4,
    "start_time": "2025-10-01T16:27:36.297Z"
   },
   {
    "duration": 33,
    "start_time": "2025-10-01T16:27:36.358Z"
   },
   {
    "duration": 20,
    "start_time": "2025-10-01T16:27:36.394Z"
   },
   {
    "duration": 46,
    "start_time": "2025-10-01T16:27:36.416Z"
   },
   {
    "duration": 9,
    "start_time": "2025-10-01T16:27:36.464Z"
   },
   {
    "duration": 63488,
    "start_time": "2025-10-01T16:27:36.475Z"
   },
   {
    "duration": 24,
    "start_time": "2025-10-01T16:28:39.964Z"
   },
   {
    "duration": 4285,
    "start_time": "2025-10-01T16:28:39.990Z"
   },
   {
    "duration": 480,
    "start_time": "2025-10-01T16:28:44.277Z"
   },
   {
    "duration": 177,
    "start_time": "2025-10-01T16:28:44.759Z"
   },
   {
    "duration": 246,
    "start_time": "2025-10-01T16:28:44.938Z"
   },
   {
    "duration": 168,
    "start_time": "2025-10-01T16:29:11.432Z"
   },
   {
    "duration": 1245,
    "start_time": "2025-10-01T16:46:11.434Z"
   },
   {
    "duration": 14704,
    "start_time": "2025-10-01T16:46:12.681Z"
   },
   {
    "duration": 8977,
    "start_time": "2025-10-01T16:46:27.388Z"
   },
   {
    "duration": 4515,
    "start_time": "2025-10-01T16:46:36.366Z"
   },
   {
    "duration": 1782,
    "start_time": "2025-10-01T16:46:40.883Z"
   },
   {
    "duration": 3601,
    "start_time": "2025-10-01T16:46:42.666Z"
   },
   {
    "duration": 695,
    "start_time": "2025-10-01T16:46:46.269Z"
   },
   {
    "duration": 8,
    "start_time": "2025-10-01T16:46:46.966Z"
   },
   {
    "duration": 1115,
    "start_time": "2025-10-01T16:46:46.975Z"
   },
   {
    "duration": 27200,
    "start_time": "2025-10-01T16:46:48.092Z"
   },
   {
    "duration": 100,
    "start_time": "2025-10-01T16:47:15.357Z"
   },
   {
    "duration": 5,
    "start_time": "2025-10-01T16:47:15.458Z"
   },
   {
    "duration": 92,
    "start_time": "2025-10-01T16:47:15.464Z"
   },
   {
    "duration": 18,
    "start_time": "2025-10-01T16:47:15.559Z"
   },
   {
    "duration": 7,
    "start_time": "2025-10-01T16:47:15.578Z"
   },
   {
    "duration": 71,
    "start_time": "2025-10-01T16:47:15.587Z"
   },
   {
    "duration": 58835,
    "start_time": "2025-10-01T16:47:15.659Z"
   },
   {
    "duration": 62,
    "start_time": "2025-10-01T16:48:14.495Z"
   },
   {
    "duration": 3998,
    "start_time": "2025-10-01T16:48:14.559Z"
   },
   {
    "duration": 360,
    "start_time": "2025-10-01T16:48:18.558Z"
   },
   {
    "duration": 168,
    "start_time": "2025-10-01T16:48:18.920Z"
   },
   {
    "duration": 486,
    "start_time": "2025-10-01T16:48:19.089Z"
   },
   {
    "duration": 1253,
    "start_time": "2025-10-01T17:06:59.665Z"
   },
   {
    "duration": 15138,
    "start_time": "2025-10-01T17:07:00.920Z"
   },
   {
    "duration": 9497,
    "start_time": "2025-10-01T17:07:16.060Z"
   },
   {
    "duration": 3935,
    "start_time": "2025-10-01T17:07:25.559Z"
   },
   {
    "duration": 1777,
    "start_time": "2025-10-01T17:07:29.556Z"
   },
   {
    "duration": 3723,
    "start_time": "2025-10-01T17:07:31.334Z"
   },
   {
    "duration": 619,
    "start_time": "2025-10-01T17:07:35.059Z"
   },
   {
    "duration": 8,
    "start_time": "2025-10-01T17:07:35.681Z"
   },
   {
    "duration": 1070,
    "start_time": "2025-10-01T17:07:35.690Z"
   },
   {
    "duration": 27260,
    "start_time": "2025-10-01T17:07:36.761Z"
   },
   {
    "duration": 42,
    "start_time": "2025-10-01T17:08:04.058Z"
   },
   {
    "duration": 58,
    "start_time": "2025-10-01T17:08:04.102Z"
   },
   {
    "duration": 42,
    "start_time": "2025-10-01T17:08:04.161Z"
   },
   {
    "duration": 19,
    "start_time": "2025-10-01T17:08:04.206Z"
   },
   {
    "duration": 36,
    "start_time": "2025-10-01T17:08:04.227Z"
   },
   {
    "duration": 27,
    "start_time": "2025-10-01T17:08:04.264Z"
   },
   {
    "duration": 58832,
    "start_time": "2025-10-01T17:08:04.292Z"
   },
   {
    "duration": 33,
    "start_time": "2025-10-01T17:09:03.157Z"
   },
   {
    "duration": 4165,
    "start_time": "2025-10-01T17:09:03.192Z"
   },
   {
    "duration": 377,
    "start_time": "2025-10-01T17:09:07.358Z"
   },
   {
    "duration": 178,
    "start_time": "2025-10-01T17:09:07.736Z"
   },
   {
    "duration": 257,
    "start_time": "2025-10-01T17:09:07.916Z"
   }
  ],
  "colab": {
   "name": "PySparkSprint.ipynb",
   "provenance": []
  },
  "kernelspec": {
   "display_name": "Python 3 (ipykernel)",
   "language": "python",
   "name": "python3"
  },
  "language_info": {
   "codemirror_mode": {
    "name": "ipython",
    "version": 3
   },
   "file_extension": ".py",
   "mimetype": "text/x-python",
   "name": "python",
   "nbconvert_exporter": "python",
   "pygments_lexer": "ipython3",
   "version": "3.9.21"
  },
  "toc": {
   "base_numbering": 1,
   "nav_menu": {},
   "number_sections": true,
   "sideBar": true,
   "skip_h1_title": true,
   "title_cell": "Table of Contents",
   "title_sidebar": "Contents",
   "toc_cell": false,
   "toc_position": {
    "height": "calc(100% - 180px)",
    "left": "10px",
    "top": "150px",
    "width": "467.246px"
   },
   "toc_section_display": true,
   "toc_window_display": true
  },
  "widgets": {
   "application/vnd.jupyter.widget-state+json": {
    "state": {},
    "version_major": 2,
    "version_minor": 0
   }
  }
 },
 "nbformat": 4,
 "nbformat_minor": 5
}
